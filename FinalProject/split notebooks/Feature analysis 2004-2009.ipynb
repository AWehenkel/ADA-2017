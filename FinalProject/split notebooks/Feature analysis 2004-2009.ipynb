{
 "cells": [
  {
   "cell_type": "markdown",
   "metadata": {},
   "source": [
    "# Feature analysis\n",
    "\n"
   ]
  },
  {
   "cell_type": "code",
   "execution_count": null,
   "metadata": {},
   "outputs": [],
   "source": [
    "import pandas as pd\n",
    "import sqlite3\n",
    "from sqlite3 import Error\n",
    "import numpy as np\n",
    "from sklearn.ensemble import RandomForestRegressor\n",
    "import seaborn as sns\n",
    "import matplotlib.pyplot as plt\n",
    "\n",
    "%matplotlib inline"
   ]
  },
  {
   "cell_type": "code",
   "execution_count": null,
   "metadata": {},
   "outputs": [],
   "source": [
    "df = pd.read_csv('../final_merge.csv')"
   ]
  },
  {
   "cell_type": "markdown",
   "metadata": {},
   "source": [
    "As said before, we will concentrate on the years with the most samples, meaning 2004 to 2009, a 5 year period. The analysis / procedure will be the same as before."
   ]
  },
  {
   "cell_type": "code",
   "execution_count": null,
   "metadata": {},
   "outputs": [],
   "source": [
    "df = df[(df['year']>2003) & (df['year']<2010)]\n",
    "df.columns"
   ]
  },
  {
   "cell_type": "markdown",
   "metadata": {},
   "source": [
    "We remove the useless columns"
   ]
  },
  {
   "cell_type": "code",
   "execution_count": null,
   "metadata": {},
   "outputs": [],
   "source": [
    "df_stage1 = df.drop(['Unnamed: 0', 'artist_latitude', 'artist_location', 'artist_id', 'artist_longitude', 'song_id', 'track_id', 'artist_hotttnesss', 'mode_x', 'mode_y'], axis=1)"
   ]
  },
  {
   "cell_type": "markdown",
   "metadata": {},
   "source": [
    "We one-hot encode the genres"
   ]
  },
  {
   "cell_type": "code",
   "execution_count": null,
   "metadata": {},
   "outputs": [],
   "source": [
    "genres = set([])\n",
    "genres_cols = ['genre1_cd2c', 'genre2_cd2c', 'genre1_cd2', 'genre2_cd2', 'genre1_cd1', 'genre2_cd1']\n",
    "for col_name in genres_cols:\n",
    "    genres = genres | set(df_stage1[col_name].unique())\n",
    "print(genres)\n",
    "print(len(genres))"
   ]
  },
  {
   "cell_type": "code",
   "execution_count": null,
   "metadata": {},
   "outputs": [],
   "source": [
    "df_stage1[genres_cols] = df_stage1[genres_cols].fillna('Unknown')\n",
    "df_stage1[genres_cols] = df_stage1[genres_cols].replace('International', 'World')"
   ]
  },
  {
   "cell_type": "code",
   "execution_count": null,
   "metadata": {},
   "outputs": [],
   "source": [
    "genres = set([])\n",
    "genres_cols = ['genre1_cd2c', 'genre2_cd2c', 'genre1_cd2', 'genre2_cd2', 'genre1_cd1', 'genre2_cd1']\n",
    "for col_name in genres_cols:\n",
    "    genres = genres | set(df_stage1[col_name].unique())\n",
    "    df_stage1[col_name] = df_stage1[col_name].astype(str)\n",
    "print(genres)\n",
    "print(len(genres))"
   ]
  },
  {
   "cell_type": "code",
   "execution_count": null,
   "metadata": {},
   "outputs": [],
   "source": [
    "for genre in list(genres):\n",
    "    df_stage1[genre] = 0\n",
    "    for col_name in genres_cols:\n",
    "        df_stage1.loc[df_stage1[col_name] == genre, genre] = 1\n",
    "df_stage1.drop(columns=['Unknown'], axis=1, inplace=True)\n",
    "genres.remove('Unknown')"
   ]
  },
  {
   "cell_type": "code",
   "execution_count": null,
   "metadata": {},
   "outputs": [],
   "source": [
    "def plot_corr(df, output_file_name):\n",
    "    '''\n",
    "        Plot the correlation matrix of a dataframe\n",
    "        The plot will be triangular with negative values blue and positive values red\n",
    "        Code taken from https://seaborn.pydata.org/examples/many_pairwise_correlations.html\n",
    "        :param df: The dataframe\n",
    "        :type df: DataFrame\n",
    "    '''\n",
    "    sns.set(style=\"white\", font_scale=1.5)\n",
    "\n",
    "    # Compute the correlation matrix\n",
    "    corr = df.corr()\n",
    "\n",
    "    # Generate a mask for the upper triangle\n",
    "    mask = np.zeros_like(corr, dtype=np.bool)\n",
    "    mask[np.triu_indices_from(mask)] = True\n",
    "\n",
    "    # Set up the matplotlib figure\n",
    "    f, ax = plt.subplots(figsize=(16, 12))\n",
    "    f.suptitle(\"Correlation heatmap\")\n",
    "\n",
    "    # Generate a custom diverging colormap\n",
    "    cmap = sns.diverging_palette(220, 10, as_cmap=True)\n",
    "\n",
    "    # Draw the heatmap with the mask and correct aspect ratio\n",
    "    snsplot = sns.heatmap(corr, mask=mask, cmap=cmap, center=0,\n",
    "                square=True, linewidths=.5, cbar_kws={\"shrink\": .5})\n",
    "    \n",
    "    snsplot.figure.savefig(output_file_name)"
   ]
  },
  {
   "cell_type": "code",
   "execution_count": null,
   "metadata": {
    "scrolled": false
   },
   "outputs": [],
   "source": [
    "plot_corr(df_stage2[df_stage2.year != 0][df_stage2.columns[0:-17]], \"../datastory/figures/correlationComplete0409.png\")"
   ]
  },
  {
   "cell_type": "markdown",
   "metadata": {},
   "source": [
    "This looks pretty much the same as before."
   ]
  },
  {
   "cell_type": "code",
   "execution_count": null,
   "metadata": {},
   "outputs": [],
   "source": [
    "df_stage3 = df_stage2.drop(['album_release', 'track_popularity', 'duration_ms', 'key_y', 'loudness_y'], axis=1)\n",
    "df_stage3.rename(columns={'key_x': 'key', 'loudness_x': 'loudness'}, inplace=True)"
   ]
  },
  {
   "cell_type": "code",
   "execution_count": null,
   "metadata": {},
   "outputs": [],
   "source": [
    "plot_corr(df_stage3[df_stage3.year != 0][df_stage3.columns[0:-17]], \"../datastory/figures/correlationReduce0409.png\")"
   ]
  },
  {
   "cell_type": "code",
   "execution_count": null,
   "metadata": {},
   "outputs": [],
   "source": [
    "plot_corr(pd.concat([df_stage3[['song_hotttnesss']],df_stage3[df_stage3.columns[-17:]]], axis=1), \"../datastory/figures/correlationGenre0409.png\")"
   ]
  },
  {
   "cell_type": "code",
   "execution_count": null,
   "metadata": {
    "scrolled": true
   },
   "outputs": [],
   "source": [
    "from sklearn.externals import joblib\n",
    "COMPUTE = True\n",
    "\n",
    "if COMPUTE:\n",
    "    \n",
    "    regressor = RandomForestRegressor(n_jobs=4, n_estimators = 400, verbose=True)\n",
    "\n",
    "    df_stage4 = df_stage3.copy().dropna(subset=['song_hotttnesss'])\n",
    "\n",
    "    train_set = df_stage4.drop(['song_hotttnesss'], axis=1)\n",
    "    train_set = train_set.fillna(-1)\n",
    "\n",
    "    train_label = df_stage4.song_hotttnesss\n",
    "\n",
    "    regressor.fit(train_set, train_label)\n",
    "    \n",
    "    joblib.dump(regressor, 'regressor04_09.pkl')\n",
    "    \n",
    "else:\n",
    "    \n",
    "    regressor = joblib.load('regressor04_09.pkl') "
   ]
  },
  {
   "cell_type": "code",
   "execution_count": null,
   "metadata": {
    "scrolled": true
   },
   "outputs": [],
   "source": [
    "genre_sum = 0.0\n",
    "for a, b in sorted(zip(regressor.feature_importances_, train_set.columns), reverse=True):\n",
    "    print(a, \" : \", b)\n",
    "    if b in genres:\n",
    "        genre_sum += a\n",
    "        \n",
    "genre_sum"
   ]
  },
  {
   "cell_type": "code",
   "execution_count": null,
   "metadata": {},
   "outputs": [],
   "source": [
    "feature_importance_df = pd.DataFrame({'label': train_set.columns, 'feature_importance' : regressor.feature_importances_})\n",
    "order = np.flipud(feature_importance_df.sort_values(by='feature_importance').label)"
   ]
  },
  {
   "cell_type": "code",
   "execution_count": null,
   "metadata": {},
   "outputs": [],
   "source": [
    "sns.set(font_scale=2)\n",
    "fig, ax = plt.subplots(figsize=(20,20))\n",
    "\n",
    "snsplot = sns.barplot(x='feature_importance', y='label', data=feature_importance_df, palette=\"Blues_d\", order=order)\n",
    "\n",
    "snsplot.figure.savefig(\"../datastory/figures/RandomForest_feature_importance0409.png\")"
   ]
  },
  {
   "cell_type": "markdown",
   "metadata": {},
   "source": [
    "Now year has dropped quite some ranks, but is still sixth. As said before, the year has a huge impact due to the hotness degradation, meaning that 2009 songs have a naturally higher hotness than 2004 ones.\n",
    "\n",
    "Otherwise, the distribution stays the same."
   ]
  },
  {
   "cell_type": "code",
   "execution_count": null,
   "metadata": {},
   "outputs": [],
   "source": []
  }
 ],
 "metadata": {
  "kernelspec": {
   "display_name": "Python 3",
   "language": "python",
   "name": "python3"
  },
  "language_info": {
   "codemirror_mode": {
    "name": "ipython",
    "version": 3
   },
   "file_extension": ".py",
   "mimetype": "text/x-python",
   "name": "python",
   "nbconvert_exporter": "python",
   "pygments_lexer": "ipython3",
   "version": "3.6.3"
  }
 },
 "nbformat": 4,
 "nbformat_minor": 2
}
