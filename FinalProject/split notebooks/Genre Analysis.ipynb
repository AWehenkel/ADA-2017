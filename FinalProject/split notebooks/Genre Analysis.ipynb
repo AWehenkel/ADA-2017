{
 "cells": [
  {
   "cell_type": "code",
   "execution_count": null,
   "metadata": {},
   "outputs": [],
   "source": [
    "import pandas as pd\n",
    "import matplotlib\n",
    "import numpy as np\n",
    "import matplotlib.pyplot as plt\n",
    "%matplotlib inline  "
   ]
  },
  {
   "cell_type": "code",
   "execution_count": null,
   "metadata": {},
   "outputs": [],
   "source": [
    "df = pd.read_csv('../final_merge.csv')"
   ]
  },
  {
   "cell_type": "code",
   "execution_count": null,
   "metadata": {},
   "outputs": [],
   "source": [
    "df.shape"
   ]
  },
  {
   "cell_type": "code",
   "execution_count": null,
   "metadata": {},
   "outputs": [],
   "source": [
    "df.columns"
   ]
  },
  {
   "cell_type": "code",
   "execution_count": null,
   "metadata": {},
   "outputs": [],
   "source": [
    "#df.columns.values[0] = 'id'\n",
    "df.head()"
   ]
  },
  {
   "cell_type": "code",
   "execution_count": null,
   "metadata": {},
   "outputs": [],
   "source": [
    "df2 = df[(pd.isnull(df.genre1_cd1) == False) | (pd.isnull(df.genre1_cd2) == False) | (pd.isnull(df.genre1_cd2c) == False)].copy()"
   ]
  },
  {
   "cell_type": "code",
   "execution_count": null,
   "metadata": {},
   "outputs": [],
   "source": [
    "df2_year = df2.groupby(['year']).size().reset_index(name='counts')"
   ]
  },
  {
   "cell_type": "markdown",
   "metadata": {},
   "source": [
    "First we check the number of song per year we have in the dataset. As expected we see an increase in the number of songs over the year except for 2010, this is probably because the year 2010 was just ending when the dataset was created and the 2010 songs hadn't had the time to attain their maximum popularity."
   ]
  },
  {
   "cell_type": "code",
   "execution_count": null,
   "metadata": {},
   "outputs": [],
   "source": [
    "df2_year.iloc[1:, :].plot(x='year', y='counts', kind='line')"
   ]
  },
  {
   "cell_type": "markdown",
   "metadata": {},
   "source": [
    "As we can see there is not a lot of songs before 60's, thus we will drop this song to continues a meaningful analysis."
   ]
  },
  {
   "cell_type": "code",
   "execution_count": null,
   "metadata": {},
   "outputs": [],
   "source": [
    "df2 = df2[df2.year > 1960]"
   ]
  },
  {
   "cell_type": "code",
   "execution_count": null,
   "metadata": {},
   "outputs": [],
   "source": [
    "genres = set([])\n",
    "genres_cols = ['genre1_cd2c', 'genre2_cd2c', 'genre1_cd2', 'genre2_cd2', 'genre1_cd1', 'genre2_cd1']\n",
    "for col_name in genres_cols:\n",
    "    genres = genres | set(df2[col_name].unique())\n",
    "print(genres)\n",
    "print(len(genres))"
   ]
  },
  {
   "cell_type": "markdown",
   "metadata": {},
   "source": [
    "We have 17 different genres (nan are unkownn and international is the same as world). To do a meaningful analysis of the genre analysis over the year a minimum amount of songs of the analyzed type must be in the dataset. In the following cells we first replace the nan and replace International by World. "
   ]
  },
  {
   "cell_type": "code",
   "execution_count": null,
   "metadata": {},
   "outputs": [],
   "source": [
    "df2[genres_cols] = df2[genres_cols].fillna('Unknown')\n",
    "df2[genres_cols] = df2[genres_cols].replace('International', 'World')"
   ]
  },
  {
   "cell_type": "code",
   "execution_count": null,
   "metadata": {},
   "outputs": [],
   "source": [
    "genres = set([])\n",
    "genres_cols = ['genre1_cd2c', 'genre2_cd2c', 'genre1_cd2', 'genre2_cd2', 'genre1_cd1', 'genre2_cd1']\n",
    "for col_name in genres_cols:\n",
    "    genres = genres | set(df2[col_name].unique())\n",
    "    df2[col_name] = df2[col_name].astype(str)\n",
    "print(genres)\n",
    "print(len(genres))"
   ]
  },
  {
   "cell_type": "code",
   "execution_count": null,
   "metadata": {},
   "outputs": [],
   "source": [
    "df2[genres_cols].head()"
   ]
  },
  {
   "cell_type": "markdown",
   "metadata": {},
   "source": [
    "For the moment we have 6 columns for the genres, we would like to see if we can summarize these columns in one or two columns.\n",
    "First we perform a pivot and count the number of different values there are in each column. "
   ]
  },
  {
   "cell_type": "code",
   "execution_count": null,
   "metadata": {},
   "outputs": [],
   "source": [
    "for genre in list(genres):\n",
    "    df2[genre] = 0\n",
    "    for col_name in genres_cols:\n",
    "        df2.loc[df2[col_name] == genre, genre] = 1\n",
    "df2 = df2.drop(columns=['Unknown'])\n",
    "genres.remove('Unknown')"
   ]
  },
  {
   "cell_type": "code",
   "execution_count": null,
   "metadata": {},
   "outputs": [],
   "source": [
    "df2['nb_genre'] = np.sum(df2.iloc[:, -17:].values, axis=1)"
   ]
  },
  {
   "cell_type": "code",
   "execution_count": null,
   "metadata": {},
   "outputs": [],
   "source": [
    "df2['nb_genre'].plot(kind='hist')"
   ]
  },
  {
   "cell_type": "markdown",
   "metadata": {},
   "source": [
    "So we see that the majority of the songs have 1 or 2 different genres, some also have 3 genres and 4 genres is atypical. We can now drop the 6 columns containing the label genres."
   ]
  },
  {
   "cell_type": "code",
   "execution_count": null,
   "metadata": {},
   "outputs": [],
   "source": [
    "df2 = df2.drop(columns=genres_cols)"
   ]
  },
  {
   "cell_type": "markdown",
   "metadata": {},
   "source": [
    "Now for each genre we plot the number of sample per year."
   ]
  },
  {
   "cell_type": "code",
   "execution_count": null,
   "metadata": {},
   "outputs": [],
   "source": [
    "int(len(list(genres))/3.0 + .5)\n",
    "f, axarr = plt.subplots(int(len(list(genres))/3.0 + .5), 3)\n",
    "f.set_size_inches(15, 20)\n",
    "plt.subplots_adjust(hspace=.4)\n",
    "i = 0\n",
    "all_data = {}\n",
    "for genre in genres:\n",
    "    data_genre = df2[df2[genre] == 1].groupby(['year']).size().reset_index(name='counts')\n",
    "    data_genre.plot(x='year', y='counts', kind='line', title=genre, ax=axarr[int(i/3), i%3])\n",
    "    fig = axarr[int(i/3), i%3].get_figure()\n",
    "    extent = axarr[int(i/3), i%3].get_window_extent().transformed(fig.dpi_scale_trans.inverted())\n",
    "    data = {}\n",
    "    data['years'] = list(data_genre['year'].astype(str).values)\n",
    "    data['count'] = list(data_genre['counts'].values)\n",
    "    all_data[genre] = data\n",
    "    #fig.savefig('figures/%s_distri_year.png' % (genre), bbox_inches=extent.expanded(1.2, 1.15), dpi = 500)\n",
    "    i+=1\n",
    "f = open('counts.json','w')\n",
    "f.write(str(all_data))\n",
    "f.close()"
   ]
  },
  {
   "cell_type": "markdown",
   "metadata": {},
   "source": [
    "These plots are useful to see the data we have in our hands. \n",
    "\n",
    "Firstly we observe that most of the music we have is rock, pop, pop_rock, electronic or metal. On the opposite World, Latin, blues are not very represented. This can be explained whether because the dataset is biased but also because some genre are more popular. Indeed Latin music is sub-represented although there is a very important latin culture in the world. These observations could be made more precise by using only the total number of songs for each genre.\n",
    "\n",
    "Secondly these plots enable us to see some trends in the evolution of the music. If we suppose the dataset is not too much biased for the genre the most represented we can make some interesting observations. We can see that punk music suddenly appears in the middle of the 70's. Rock started in the 60's and grows exponentially since this moment. Indeed these plots are useful to tell something about when the genre appears and how it has evolved since this moment. "
   ]
  },
  {
   "cell_type": "markdown",
   "metadata": {},
   "source": [
    "Now we want to look how genre are connected, so let's construct a graph in which nodes are the genre and connection between genre appears when a song has both genres. The weight of the connection is given by the number of songs."
   ]
  },
  {
   "cell_type": "code",
   "execution_count": null,
   "metadata": {},
   "outputs": [],
   "source": [
    "adj_mat_genres = np.zeros([len(genres), len(genres)])\n",
    "genres = list(genres)\n",
    "for i in range(len(genres)):\n",
    "    for j in range(i, len(genres)):\n",
    "        nb_songs = df2[(df2[genres[i]] == 1) & (df2[genres[j]] == 1)].shape[0]\n",
    "        adj_mat_genres[i, j] = nb_songs\n",
    "        adj_mat_genres[j, i] = nb_songs"
   ]
  },
  {
   "cell_type": "markdown",
   "metadata": {},
   "source": [
    "adj_mat_genres"
   ]
  },
  {
   "cell_type": "code",
   "execution_count": null,
   "metadata": {},
   "outputs": [],
   "source": [
    "adj_df = pd.DataFrame(adj_mat_genres, columns=genres)"
   ]
  },
  {
   "cell_type": "code",
   "execution_count": null,
   "metadata": {},
   "outputs": [],
   "source": [
    "adj_df['genre'] = genres"
   ]
  },
  {
   "cell_type": "code",
   "execution_count": null,
   "metadata": {},
   "outputs": [],
   "source": [
    "adj_df['radius'] = (np.diag(adj_mat_genres))**.5\n",
    "adj_df['id'] = range(len(adj_df))"
   ]
  },
  {
   "cell_type": "code",
   "execution_count": null,
   "metadata": {},
   "outputs": [],
   "source": [
    "adj_df[['radius', 'id', 'genre']].T.to_dict().values()"
   ]
  },
  {
   "cell_type": "code",
   "execution_count": null,
   "metadata": {},
   "outputs": [],
   "source": [
    "import json\n",
    "a = adj_df[['radius', 'id', 'genre']].T.to_dict().values()\n",
    "list(a)"
   ]
  },
  {
   "cell_type": "code",
   "execution_count": null,
   "metadata": {},
   "outputs": [],
   "source": [
    "adj_df = adj_df.iloc[:, :-3]"
   ]
  },
  {
   "cell_type": "code",
   "execution_count": null,
   "metadata": {},
   "outputs": [],
   "source": [
    "adj = adj_df.values"
   ]
  },
  {
   "cell_type": "code",
   "execution_count": null,
   "metadata": {},
   "outputs": [],
   "source": [
    "edges = []\n",
    "for i in range(len(adj)):\n",
    "    for j in range(i+1, len(adj)):\n",
    "        edge = {'source_id': i, 'target_id': j, 'stroke_width': adj[i, j]/1000}\n",
    "        edges.append(edge)\n",
    "edges"
   ]
  },
  {
   "cell_type": "code",
   "execution_count": null,
   "metadata": {
    "scrolled": true
   },
   "outputs": [],
   "source": [
    "%%html\n",
    "<iframe src=\"http://www.cbinge.com/file/test.html\" width=1000 height = 1000/>"
   ]
  },
  {
   "cell_type": "code",
   "execution_count": null,
   "metadata": {},
   "outputs": [],
   "source": [
    "from sklearn.ensemble import RandomForestRegressor\n",
    "int(len(list(genres))/3.0 + .5)\n",
    "f, axarr = plt.subplots(int(len(list(genres))/3.0 + .5), 3)\n",
    "f.set_size_inches(15, 20)\n",
    "plt.subplots_adjust(hspace=.4)\n",
    "i = 0\n",
    "all_data = {}\n",
    "\n",
    "# Compute the avg hotness by year for all the data\n",
    "hottness_avg = df2[df2['song_hotttnesss'].notna()].groupby(['year']).mean().reset_index()\n",
    "regr = RandomForestRegressor(n_estimators=10, n_jobs=-1, max_depth= 5)\n",
    "regr.fit(hottness_avg[['year']], hottness_avg['song_hotttnesss'])\n",
    "hottness_predict = regr.predict(np.array(list(range(1960, 2011))).reshape(-1, 1))\n",
    "data = {}\n",
    "data['years'] = list(hottness_avg['year'].astype(str).values)\n",
    "data['hottness'] = list(hottness_avg['song_hotttnesss'].values)\n",
    "data['predict'] = list(hottness_predict)\n",
    "all_data['avg'] = data\n",
    "\n",
    "# Compute it for each genre\n",
    "for genre in genres:\n",
    "    regr = RandomForestRegressor(n_estimators=10, n_jobs=-1, max_depth= 5)\n",
    "    hottness = df2[(df2[genre] == 1) & df2['song_hotttnesss'].notna()].groupby(['year']).mean().reset_index()\n",
    "    hottness = hottness[hottness['song_hotttnesss'] > 0]\n",
    "    regr.fit(hottness[['year']], hottness['song_hotttnesss'])\n",
    "    hottness.plot(x='year', y='song_hotttnesss', kind='scatter', title=genre, ax=axarr[int(i/3), i%3], color='orange')\n",
    "    hottness_predict = regr.predict(np.array(list(range(1960, 2011))).reshape(-1, 1))\n",
    "    axarr[int(i/3), i%3].plot(list(range(1960, 2011)), hottness_predict)\n",
    "    data = {}\n",
    "    data['years'] = list(hottness['year'].astype(str).values)\n",
    "    data['hottness'] = list(hottness['song_hotttnesss'].values)\n",
    "    data['predict'] = list(hottness_predict)\n",
    "    all_data[genre] = data\n",
    "    i+=1\n",
    "f = open('hottness.json','w')\n",
    "f.write(str(all_data))\n",
    "f.close()"
   ]
  },
  {
   "cell_type": "markdown",
   "metadata": {},
   "source": [
    "# Milestone 3\n",
    "### Analysis of the distribution of the different features for each genre\n",
    "Look at the empirical probability function of the genre.\n",
    "### Look at the influence of the year of these distribution\n",
    "Is genre time invariant or not?\n",
    "### Visualize the interesting results obtained\n",
    "Visualization by using graph evolving with time."
   ]
  },
  {
   "cell_type": "code",
   "execution_count": null,
   "metadata": {},
   "outputs": [],
   "source": [
    "for genre in genres:\n",
    "    tmp = df2[df2[genre] == 1].reset_index()\n",
    "    text = tmp[['song_hotttnesss', 'duration', 'speechiness', 'acousticness', 'instrumentalness']].describe().to_html()\n",
    "    f = open('figures/%s.tab'%genre,'w')\n",
    "    f.write(text)\n",
    "    f.close()"
   ]
  },
  {
   "cell_type": "code",
   "execution_count": null,
   "metadata": {},
   "outputs": [],
   "source": [
    "df2.columns"
   ]
  },
  {
   "cell_type": "code",
   "execution_count": null,
   "metadata": {},
   "outputs": [],
   "source": [
    "from sklearn.ensemble import RandomForestRegressor\n",
    "\n",
    "for col in ['song_hotttnesss', 'duration', 'speechiness', 'acousticness', 'instrumentalness']:\n",
    "    all_data = {}\n",
    "\n",
    "    # Compute the avg hotness by year for all the data\n",
    "    avg = df2[df2[col].notna()].groupby(['year']).mean().reset_index()\n",
    "    regr = RandomForestRegressor(n_estimators=10, n_jobs=-1, max_depth= 5)\n",
    "    regr.fit(hottness_avg[['year']], avg[col])\n",
    "    predict = regr.predict(avg['year'].values.reshape(-1, 1))\n",
    "    data = {}\n",
    "    data['years'] = list(avg['year'].astype(str).values)\n",
    "    data[col] = list(avg[col].values)\n",
    "    data['predict'] = list(predict)\n",
    "    all_data['avg'] = data\n",
    "\n",
    "    # Compute it for each genre\n",
    "    print(\"%s: \" % col)\n",
    "    for genre in genres:\n",
    "        regr = RandomForestRegressor(n_estimators=10, n_jobs=-1, max_depth= 5)\n",
    "        datas = df2[(df2[genre] == 1) & df2[col].notna()]\n",
    "        col_data = datas.groupby(['year']).mean().reset_index()\n",
    "        col_data = col_data[col_data[col] > 0]\n",
    "        regr.fit(col_data[['year']], col_data[col])\n",
    "        predict = regr.predict(hottness_avg['year'].values.reshape(-1, 1))\n",
    "        data = {}\n",
    "        data['years'] = list(hottness['year'].astype(str).values)\n",
    "        data[col] = list(col_data[col].values)\n",
    "        data['predict'] = list(predict)\n",
    "        all_data[genre] = data\n",
    "        i+=1\n",
    "        avg += np.mean(col_data[col].values)\n",
    "        print(\"\\t %s: Nb songs = %d and Avg Value is %f\" % (genre, len(datas), np.mean(data[col])))\n",
    "    f = open('%s.json' % col,'w')\n",
    "    f.write(str(all_data))\n",
    "    f.close()"
   ]
  },
  {
   "cell_type": "code",
   "execution_count": null,
   "metadata": {},
   "outputs": [],
   "source": [
    "len(df2[df2['speechiness'].notna()])"
   ]
  },
  {
   "cell_type": "code",
   "execution_count": null,
   "metadata": {},
   "outputs": [],
   "source": []
  },
  {
   "cell_type": "code",
   "execution_count": null,
   "metadata": {},
   "outputs": [],
   "source": []
  },
  {
   "cell_type": "code",
   "execution_count": null,
   "metadata": {},
   "outputs": [],
   "source": []
  },
  {
   "cell_type": "code",
   "execution_count": null,
   "metadata": {},
   "outputs": [],
   "source": []
  },
  {
   "cell_type": "code",
   "execution_count": null,
   "metadata": {},
   "outputs": [],
   "source": []
  },
  {
   "cell_type": "code",
   "execution_count": null,
   "metadata": {},
   "outputs": [],
   "source": []
  }
 ],
 "metadata": {
  "kernelspec": {
   "display_name": "Python 3",
   "language": "python",
   "name": "python3"
  },
  "language_info": {
   "codemirror_mode": {
    "name": "ipython",
    "version": 3
   },
   "file_extension": ".py",
   "mimetype": "text/x-python",
   "name": "python",
   "nbconvert_exporter": "python",
   "pygments_lexer": "ipython3",
   "version": "3.6.3"
  }
 },
 "nbformat": 4,
 "nbformat_minor": 2
}
