{
 "cells": [
  {
   "cell_type": "markdown",
   "metadata": {},
   "source": [
    "# Data Acquisition and Cleaning\n",
    "This document presents the work done in order to obtain a usable dataset. Indeed, the Million Song Dataset (MSD) was lackluster regarding song features (danceability, energy, etc), which were all set to 0. That's why we decided to take additional steps to improve this dataset.    \n",
    "In the first part, we import data from the MSD and we decide to keep only some values of interest from this dataset. Next, we query the Spotify API in order to obtain additional information about each song. In the meantime, we also add genre classification for each song from 3 datasets built around the MSD. Finally, we generate a csv which will be our main resource of data for the rest of the project."
   ]
  },
  {
   "cell_type": "code",
   "execution_count": 1,
   "metadata": {
    "collapsed": true
   },
   "outputs": [],
   "source": [
    "import pandas as pd\n",
    "import sqlite3\n",
    "from sqlite3 import Error\n",
    "import numpy as np\n",
    "\n",
    "%load_ext autoreload\n",
    "%autoreload 2"
   ]
  },
  {
   "cell_type": "markdown",
   "metadata": {},
   "source": [
    "The following function aims at creating a connection to SQLite database."
   ]
  },
  {
   "cell_type": "code",
   "execution_count": 2,
   "metadata": {
    "collapsed": true
   },
   "outputs": [],
   "source": [
    "def create_connection(db_file):\n",
    "    \"\"\" create a database connection to the SQLite database\n",
    "        specified by the db_file\n",
    "    :param db_file: database file\n",
    "    :return: Connection object or None\n",
    "    \"\"\"\n",
    "    try:\n",
    "        conn = sqlite3.connect(db_file)\n",
    "        return conn\n",
    "    except Error as e:\n",
    "        print(e)\n",
    "\n",
    "    return None"
   ]
  },
  {
   "cell_type": "markdown",
   "metadata": {},
   "source": [
    "We have a quick look at the columns we have at our disposal."
   ]
  },
  {
   "cell_type": "code",
   "execution_count": 3,
   "metadata": {},
   "outputs": [
    {
     "name": "stdout",
     "output_type": "stream",
     "text": [
      "[(0, 'track_id', 'text', 0, None, 1), (1, 'title', 'text', 0, None, 0), (2, 'song_id', 'text', 0, None, 0), (3, 'release', 'text', 0, None, 0), (4, 'artist_id', 'text', 0, None, 0), (5, 'artist_mbid', 'text', 0, None, 0), (6, 'artist_name', 'text', 0, None, 0), (7, 'duration', 'real', 0, None, 0), (8, 'artist_familiarity', 'real', 0, None, 0), (9, 'artist_hotttnesss', 'real', 0, None, 0), (10, 'year', 'int', 0, None, 0)]\n"
     ]
    }
   ],
   "source": [
    "database = \"data/track_metadata.db\"\n",
    "conn = create_connection(database)\n",
    "cur = conn.cursor()\n",
    "cur.execute(\"PRAGMA table_info(songs)\")\n",
    "rows = cur.fetchall()\n",
    "print(rows)"
   ]
  },
  {
   "cell_type": "markdown",
   "metadata": {},
   "source": [
    "Request the dataset and put the data in a dataframe."
   ]
  },
  {
   "cell_type": "code",
   "execution_count": 4,
   "metadata": {
    "collapsed": true
   },
   "outputs": [],
   "source": [
    "cur.execute(\"SELECT track_id, song_id, artist_id, duration, artist_hotttnesss, year FROM songs ORDER BY track_id\")\n",
    "rows = cur.fetchall()\n",
    "songs = pd.DataFrame(rows, columns=['track_id', 'song_id', 'artist_id', 'duration', 'artist_hotttnesss', 'year'])"
   ]
  },
  {
   "cell_type": "markdown",
   "metadata": {},
   "source": [
    "The 3 following cells merge our data from genres classification coming from 3 datasets."
   ]
  },
  {
   "cell_type": "code",
   "execution_count": 5,
   "metadata": {
    "collapsed": true
   },
   "outputs": [],
   "source": [
    "track_genre_cd1 = pd.read_csv('data/msd_tagtraum_cd1.cls', sep='\\t', names=['track_id', 'genre1_cd1', 'genre2_cd1'])\n",
    "songs = track_genre_cd1.merge(songs, on='track_id', how='right')"
   ]
  },
  {
   "cell_type": "code",
   "execution_count": 6,
   "metadata": {
    "collapsed": true
   },
   "outputs": [],
   "source": [
    "track_genre_cd1 = pd.read_csv('data/msd_tagtraum_cd2.cls', sep='\\t', names=['track_id', 'genre1_cd2', 'genre2_cd2'])\n",
    "songs = track_genre_cd1.merge(songs, on='track_id', how='right')"
   ]
  },
  {
   "cell_type": "code",
   "execution_count": 7,
   "metadata": {
    "collapsed": true
   },
   "outputs": [],
   "source": [
    "track_genre_cd1 = pd.read_csv('data/msd_tagtraum_cd2c.cls', sep='\\t', names=['track_id', 'genre1_cd2c', 'genre2_cd2c'])\n",
    "songs = track_genre_cd1.merge(songs, on='track_id', how='right')"
   ]
  },
  {
   "cell_type": "markdown",
   "metadata": {},
   "source": [
    "We take look at the analysis of the songs from the MSD"
   ]
  },
  {
   "cell_type": "code",
   "execution_count": 8,
   "metadata": {},
   "outputs": [
    {
     "data": {
      "text/plain": [
       "Index(['analysis_sample_rate', 'audio_md5', 'danceability', 'duration',\n",
       "       'end_of_fade_in', 'energy', 'idx_bars_confidence', 'idx_bars_start',\n",
       "       'idx_beats_confidence', 'idx_beats_start', 'idx_sections_confidence',\n",
       "       'idx_sections_start', 'idx_segments_confidence',\n",
       "       'idx_segments_loudness_max', 'idx_segments_loudness_max_time',\n",
       "       'idx_segments_loudness_start', 'idx_segments_pitches',\n",
       "       'idx_segments_start', 'idx_segments_timbre', 'idx_tatums_confidence',\n",
       "       'idx_tatums_start', 'key', 'key_confidence', 'loudness', 'mode',\n",
       "       'mode_confidence', 'start_of_fade_out', 'tempo', 'time_signature',\n",
       "       'time_signature_confidence', 'track_id'],\n",
       "      dtype='object')"
      ]
     },
     "execution_count": 8,
     "metadata": {},
     "output_type": "execute_result"
    }
   ],
   "source": [
    "msd_summary_file = pd.HDFStore(\"data/msd_summary_file.h5\")\n",
    "songs_analysis = msd_summary_file.get('/analysis/songs')\n",
    "songs_analysis.columns"
   ]
  },
  {
   "cell_type": "markdown",
   "metadata": {},
   "source": [
    "And add the data we find interesting. Indeed a lot of columns in this dataset are empty and cannot be used."
   ]
  },
  {
   "cell_type": "code",
   "execution_count": 9,
   "metadata": {
    "collapsed": true
   },
   "outputs": [],
   "source": [
    "songs_analysis = songs_analysis[['track_id', 'loudness', 'mode', 'tempo', 'key']]\n",
    "songs = songs_analysis.merge(songs, on='track_id')\n",
    "del(songs_analysis)"
   ]
  },
  {
   "cell_type": "markdown",
   "metadata": {},
   "source": [
    "We do the same operation for the metadata."
   ]
  },
  {
   "cell_type": "code",
   "execution_count": 10,
   "metadata": {},
   "outputs": [
    {
     "data": {
      "text/plain": [
       "Index(['analyzer_version', 'artist_7digitalid', 'artist_familiarity',\n",
       "       'artist_hotttnesss', 'artist_id', 'artist_latitude', 'artist_location',\n",
       "       'artist_longitude', 'artist_mbid', 'artist_name', 'artist_playmeid',\n",
       "       'genre', 'idx_artist_terms', 'idx_similar_artists', 'release',\n",
       "       'release_7digitalid', 'song_hotttnesss', 'song_id', 'title',\n",
       "       'track_7digitalid'],\n",
       "      dtype='object')"
      ]
     },
     "execution_count": 10,
     "metadata": {},
     "output_type": "execute_result"
    }
   ],
   "source": [
    "songs_metadata = msd_summary_file.get('/metadata/songs')\n",
    "songs_metadata.columns"
   ]
  },
  {
   "cell_type": "code",
   "execution_count": 11,
   "metadata": {
    "collapsed": true
   },
   "outputs": [],
   "source": [
    "songs_metadata = songs_metadata[['song_hotttnesss', 'song_id', 'artist_latitude', 'artist_location', 'artist_longitude']]\n",
    "songs = songs_metadata.merge(songs, on='song_id')\n",
    "del(songs_metadata)"
   ]
  },
  {
   "cell_type": "markdown",
   "metadata": {},
   "source": [
    "And we take a look at the data we have gathered until now."
   ]
  },
  {
   "cell_type": "code",
   "execution_count": 12,
   "metadata": {
    "scrolled": true
   },
   "outputs": [
    {
     "data": {
      "text/html": [
       "<div>\n",
       "<style scoped>\n",
       "    .dataframe tbody tr th:only-of-type {\n",
       "        vertical-align: middle;\n",
       "    }\n",
       "\n",
       "    .dataframe tbody tr th {\n",
       "        vertical-align: top;\n",
       "    }\n",
       "\n",
       "    .dataframe thead th {\n",
       "        text-align: right;\n",
       "    }\n",
       "</style>\n",
       "<table border=\"1\" class=\"dataframe\">\n",
       "  <thead>\n",
       "    <tr style=\"text-align: right;\">\n",
       "      <th></th>\n",
       "      <th>song_hotttnesss</th>\n",
       "      <th>song_id</th>\n",
       "      <th>artist_latitude</th>\n",
       "      <th>artist_location</th>\n",
       "      <th>artist_longitude</th>\n",
       "      <th>track_id</th>\n",
       "      <th>loudness</th>\n",
       "      <th>mode</th>\n",
       "      <th>tempo</th>\n",
       "      <th>key</th>\n",
       "      <th>genre1_cd2c</th>\n",
       "      <th>genre2_cd2c</th>\n",
       "      <th>genre1_cd2</th>\n",
       "      <th>genre2_cd2</th>\n",
       "      <th>genre1_cd1</th>\n",
       "      <th>genre2_cd1</th>\n",
       "      <th>artist_id</th>\n",
       "      <th>duration</th>\n",
       "      <th>artist_hotttnesss</th>\n",
       "      <th>year</th>\n",
       "    </tr>\n",
       "  </thead>\n",
       "  <tbody>\n",
       "    <tr>\n",
       "      <th>0</th>\n",
       "      <td>0.542899</td>\n",
       "      <td>SOQMMHC12AB0180CB8</td>\n",
       "      <td>NaN</td>\n",
       "      <td></td>\n",
       "      <td>NaN</td>\n",
       "      <td>TRMMMYQ128F932D901</td>\n",
       "      <td>-4.829</td>\n",
       "      <td>0</td>\n",
       "      <td>87.002</td>\n",
       "      <td>10</td>\n",
       "      <td>NaN</td>\n",
       "      <td>NaN</td>\n",
       "      <td>NaN</td>\n",
       "      <td>NaN</td>\n",
       "      <td>NaN</td>\n",
       "      <td>NaN</td>\n",
       "      <td>ARYZTJS1187B98C555</td>\n",
       "      <td>252.05506</td>\n",
       "      <td>0.394032</td>\n",
       "      <td>2003</td>\n",
       "    </tr>\n",
       "    <tr>\n",
       "      <th>1</th>\n",
       "      <td>0.299877</td>\n",
       "      <td>SOVFVAK12A8C1350D9</td>\n",
       "      <td>NaN</td>\n",
       "      <td></td>\n",
       "      <td>NaN</td>\n",
       "      <td>TRMMMKD128F425225D</td>\n",
       "      <td>-10.555</td>\n",
       "      <td>1</td>\n",
       "      <td>150.778</td>\n",
       "      <td>9</td>\n",
       "      <td>NaN</td>\n",
       "      <td>NaN</td>\n",
       "      <td>NaN</td>\n",
       "      <td>NaN</td>\n",
       "      <td>NaN</td>\n",
       "      <td>NaN</td>\n",
       "      <td>ARMVN3U1187FB3A1EB</td>\n",
       "      <td>156.55138</td>\n",
       "      <td>0.356992</td>\n",
       "      <td>1995</td>\n",
       "    </tr>\n",
       "    <tr>\n",
       "      <th>2</th>\n",
       "      <td>0.617871</td>\n",
       "      <td>SOGTUKN12AB017F4F1</td>\n",
       "      <td>55.8578</td>\n",
       "      <td>Glasgow, Scotland</td>\n",
       "      <td>-4.24251</td>\n",
       "      <td>TRMMMRX128F93187D9</td>\n",
       "      <td>-2.060</td>\n",
       "      <td>1</td>\n",
       "      <td>177.768</td>\n",
       "      <td>7</td>\n",
       "      <td>NaN</td>\n",
       "      <td>NaN</td>\n",
       "      <td>Electronic</td>\n",
       "      <td>Rap</td>\n",
       "      <td>Electronic</td>\n",
       "      <td>Rap</td>\n",
       "      <td>ARGEKB01187FB50750</td>\n",
       "      <td>138.97098</td>\n",
       "      <td>0.437504</td>\n",
       "      <td>2006</td>\n",
       "    </tr>\n",
       "    <tr>\n",
       "      <th>3</th>\n",
       "      <td>NaN</td>\n",
       "      <td>SOBNYVR12A8C13558C</td>\n",
       "      <td>NaN</td>\n",
       "      <td></td>\n",
       "      <td>NaN</td>\n",
       "      <td>TRMMMCH128F425532C</td>\n",
       "      <td>-4.654</td>\n",
       "      <td>1</td>\n",
       "      <td>87.433</td>\n",
       "      <td>7</td>\n",
       "      <td>NaN</td>\n",
       "      <td>NaN</td>\n",
       "      <td>NaN</td>\n",
       "      <td>NaN</td>\n",
       "      <td>NaN</td>\n",
       "      <td>NaN</td>\n",
       "      <td>ARNWYLR1187B9B2F9C</td>\n",
       "      <td>145.05751</td>\n",
       "      <td>0.372349</td>\n",
       "      <td>2003</td>\n",
       "    </tr>\n",
       "    <tr>\n",
       "      <th>4</th>\n",
       "      <td>NaN</td>\n",
       "      <td>SOHSBXH12A8C13B0DF</td>\n",
       "      <td>NaN</td>\n",
       "      <td></td>\n",
       "      <td>NaN</td>\n",
       "      <td>TRMMMWA128F426B589</td>\n",
       "      <td>-7.806</td>\n",
       "      <td>0</td>\n",
       "      <td>140.035</td>\n",
       "      <td>5</td>\n",
       "      <td>NaN</td>\n",
       "      <td>NaN</td>\n",
       "      <td>NaN</td>\n",
       "      <td>NaN</td>\n",
       "      <td>NaN</td>\n",
       "      <td>NaN</td>\n",
       "      <td>AREQDTE1269FB37231</td>\n",
       "      <td>514.29832</td>\n",
       "      <td>0.000000</td>\n",
       "      <td>0</td>\n",
       "    </tr>\n",
       "  </tbody>\n",
       "</table>\n",
       "</div>"
      ],
      "text/plain": [
       "   song_hotttnesss             song_id  artist_latitude    artist_location  \\\n",
       "0         0.542899  SOQMMHC12AB0180CB8              NaN                      \n",
       "1         0.299877  SOVFVAK12A8C1350D9              NaN                      \n",
       "2         0.617871  SOGTUKN12AB017F4F1          55.8578  Glasgow, Scotland   \n",
       "3              NaN  SOBNYVR12A8C13558C              NaN                      \n",
       "4              NaN  SOHSBXH12A8C13B0DF              NaN                      \n",
       "\n",
       "   artist_longitude            track_id  loudness  mode    tempo  key  \\\n",
       "0               NaN  TRMMMYQ128F932D901    -4.829     0   87.002   10   \n",
       "1               NaN  TRMMMKD128F425225D   -10.555     1  150.778    9   \n",
       "2          -4.24251  TRMMMRX128F93187D9    -2.060     1  177.768    7   \n",
       "3               NaN  TRMMMCH128F425532C    -4.654     1   87.433    7   \n",
       "4               NaN  TRMMMWA128F426B589    -7.806     0  140.035    5   \n",
       "\n",
       "  genre1_cd2c  genre2_cd2c  genre1_cd2 genre2_cd2  genre1_cd1 genre2_cd1  \\\n",
       "0         NaN          NaN         NaN        NaN         NaN        NaN   \n",
       "1         NaN          NaN         NaN        NaN         NaN        NaN   \n",
       "2         NaN          NaN  Electronic        Rap  Electronic        Rap   \n",
       "3         NaN          NaN         NaN        NaN         NaN        NaN   \n",
       "4         NaN          NaN         NaN        NaN         NaN        NaN   \n",
       "\n",
       "            artist_id   duration  artist_hotttnesss  year  \n",
       "0  ARYZTJS1187B98C555  252.05506           0.394032  2003  \n",
       "1  ARMVN3U1187FB3A1EB  156.55138           0.356992  1995  \n",
       "2  ARGEKB01187FB50750  138.97098           0.437504  2006  \n",
       "3  ARNWYLR1187B9B2F9C  145.05751           0.372349  2003  \n",
       "4  AREQDTE1269FB37231  514.29832           0.000000     0  "
      ]
     },
     "execution_count": 12,
     "metadata": {},
     "output_type": "execute_result"
    }
   ],
   "source": [
    "songs.head()"
   ]
  },
  {
   "cell_type": "markdown",
   "metadata": {},
   "source": [
    "In order to gather data from the Spotify API we have some scripts in auxiliary files (stored in the folder spotify_requests_tools). Using these tools, we created two csv 'feature_songs.csv' and 'track_year_popularity.csv' which contain additional information for each song."
   ]
  },
  {
   "cell_type": "code",
   "execution_count": 13,
   "metadata": {},
   "outputs": [
    {
     "data": {
      "text/plain": [
       "Index(['song_id', 'danceability', 'energy', 'key', 'loudness', 'mode',\n",
       "       'speechiness', 'acousticness', 'instrumentalness', 'liveness',\n",
       "       'valence', 'tempo', 'duration_ms'],\n",
       "      dtype='object')"
      ]
     },
     "execution_count": 13,
     "metadata": {},
     "output_type": "execute_result"
    }
   ],
   "source": [
    "spotify_data = pd.read_csv('data/feature_songs.csv')\n",
    "spotify_data.columns"
   ]
  },
  {
   "cell_type": "code",
   "execution_count": 14,
   "metadata": {
    "collapsed": true
   },
   "outputs": [],
   "source": [
    "# Replace the unknown values(zeros) by NaN\n",
    "for column in spotify_data.columns:\n",
    "    spotify_data.loc[spotify_data[column] == 0, column] = np.nan"
   ]
  },
  {
   "cell_type": "code",
   "execution_count": 15,
   "metadata": {
    "collapsed": true
   },
   "outputs": [],
   "source": [
    "songs2 = songs.merge(spotify_data, how='left', on='song_id')"
   ]
  },
  {
   "cell_type": "markdown",
   "metadata": {},
   "source": [
    "Again taking a look at the data we have until now"
   ]
  },
  {
   "cell_type": "code",
   "execution_count": 16,
   "metadata": {},
   "outputs": [
    {
     "data": {
      "text/html": [
       "<div>\n",
       "<style scoped>\n",
       "    .dataframe tbody tr th:only-of-type {\n",
       "        vertical-align: middle;\n",
       "    }\n",
       "\n",
       "    .dataframe tbody tr th {\n",
       "        vertical-align: top;\n",
       "    }\n",
       "\n",
       "    .dataframe thead th {\n",
       "        text-align: right;\n",
       "    }\n",
       "</style>\n",
       "<table border=\"1\" class=\"dataframe\">\n",
       "  <thead>\n",
       "    <tr style=\"text-align: right;\">\n",
       "      <th></th>\n",
       "      <th>song_hotttnesss</th>\n",
       "      <th>song_id</th>\n",
       "      <th>artist_latitude</th>\n",
       "      <th>artist_location</th>\n",
       "      <th>artist_longitude</th>\n",
       "      <th>track_id</th>\n",
       "      <th>loudness_x</th>\n",
       "      <th>mode_x</th>\n",
       "      <th>tempo_x</th>\n",
       "      <th>key_x</th>\n",
       "      <th>...</th>\n",
       "      <th>key_y</th>\n",
       "      <th>loudness_y</th>\n",
       "      <th>mode_y</th>\n",
       "      <th>speechiness</th>\n",
       "      <th>acousticness</th>\n",
       "      <th>instrumentalness</th>\n",
       "      <th>liveness</th>\n",
       "      <th>valence</th>\n",
       "      <th>tempo_y</th>\n",
       "      <th>duration_ms</th>\n",
       "    </tr>\n",
       "  </thead>\n",
       "  <tbody>\n",
       "    <tr>\n",
       "      <th>0</th>\n",
       "      <td>0.542899</td>\n",
       "      <td>SOQMMHC12AB0180CB8</td>\n",
       "      <td>NaN</td>\n",
       "      <td></td>\n",
       "      <td>NaN</td>\n",
       "      <td>TRMMMYQ128F932D901</td>\n",
       "      <td>-4.829</td>\n",
       "      <td>0</td>\n",
       "      <td>87.002</td>\n",
       "      <td>10</td>\n",
       "      <td>...</td>\n",
       "      <td>NaN</td>\n",
       "      <td>NaN</td>\n",
       "      <td>NaN</td>\n",
       "      <td>NaN</td>\n",
       "      <td>NaN</td>\n",
       "      <td>NaN</td>\n",
       "      <td>NaN</td>\n",
       "      <td>NaN</td>\n",
       "      <td>NaN</td>\n",
       "      <td>NaN</td>\n",
       "    </tr>\n",
       "    <tr>\n",
       "      <th>1</th>\n",
       "      <td>0.299877</td>\n",
       "      <td>SOVFVAK12A8C1350D9</td>\n",
       "      <td>NaN</td>\n",
       "      <td></td>\n",
       "      <td>NaN</td>\n",
       "      <td>TRMMMKD128F425225D</td>\n",
       "      <td>-10.555</td>\n",
       "      <td>1</td>\n",
       "      <td>150.778</td>\n",
       "      <td>9</td>\n",
       "      <td>...</td>\n",
       "      <td>9.0</td>\n",
       "      <td>-10.303</td>\n",
       "      <td>1.0</td>\n",
       "      <td>0.0462</td>\n",
       "      <td>0.002230</td>\n",
       "      <td>0.090</td>\n",
       "      <td>0.0869</td>\n",
       "      <td>0.880</td>\n",
       "      <td>149.971</td>\n",
       "      <td>157933.0</td>\n",
       "    </tr>\n",
       "    <tr>\n",
       "      <th>2</th>\n",
       "      <td>0.617871</td>\n",
       "      <td>SOGTUKN12AB017F4F1</td>\n",
       "      <td>55.8578</td>\n",
       "      <td>Glasgow, Scotland</td>\n",
       "      <td>-4.24251</td>\n",
       "      <td>TRMMMRX128F93187D9</td>\n",
       "      <td>-2.060</td>\n",
       "      <td>1</td>\n",
       "      <td>177.768</td>\n",
       "      <td>7</td>\n",
       "      <td>...</td>\n",
       "      <td>4.0</td>\n",
       "      <td>-1.711</td>\n",
       "      <td>NaN</td>\n",
       "      <td>0.0662</td>\n",
       "      <td>0.000045</td>\n",
       "      <td>0.952</td>\n",
       "      <td>0.3430</td>\n",
       "      <td>0.621</td>\n",
       "      <td>177.745</td>\n",
       "      <td>138960.0</td>\n",
       "    </tr>\n",
       "    <tr>\n",
       "      <th>3</th>\n",
       "      <td>NaN</td>\n",
       "      <td>SOBNYVR12A8C13558C</td>\n",
       "      <td>NaN</td>\n",
       "      <td></td>\n",
       "      <td>NaN</td>\n",
       "      <td>TRMMMCH128F425532C</td>\n",
       "      <td>-4.654</td>\n",
       "      <td>1</td>\n",
       "      <td>87.433</td>\n",
       "      <td>7</td>\n",
       "      <td>...</td>\n",
       "      <td>7.0</td>\n",
       "      <td>-4.302</td>\n",
       "      <td>1.0</td>\n",
       "      <td>0.1470</td>\n",
       "      <td>0.130000</td>\n",
       "      <td>NaN</td>\n",
       "      <td>0.1150</td>\n",
       "      <td>0.962</td>\n",
       "      <td>174.013</td>\n",
       "      <td>145032.0</td>\n",
       "    </tr>\n",
       "    <tr>\n",
       "      <th>4</th>\n",
       "      <td>NaN</td>\n",
       "      <td>SOHSBXH12A8C13B0DF</td>\n",
       "      <td>NaN</td>\n",
       "      <td></td>\n",
       "      <td>NaN</td>\n",
       "      <td>TRMMMWA128F426B589</td>\n",
       "      <td>-7.806</td>\n",
       "      <td>0</td>\n",
       "      <td>140.035</td>\n",
       "      <td>5</td>\n",
       "      <td>...</td>\n",
       "      <td>NaN</td>\n",
       "      <td>NaN</td>\n",
       "      <td>NaN</td>\n",
       "      <td>NaN</td>\n",
       "      <td>NaN</td>\n",
       "      <td>NaN</td>\n",
       "      <td>NaN</td>\n",
       "      <td>NaN</td>\n",
       "      <td>NaN</td>\n",
       "      <td>NaN</td>\n",
       "    </tr>\n",
       "  </tbody>\n",
       "</table>\n",
       "<p>5 rows × 32 columns</p>\n",
       "</div>"
      ],
      "text/plain": [
       "   song_hotttnesss             song_id  artist_latitude    artist_location  \\\n",
       "0         0.542899  SOQMMHC12AB0180CB8              NaN                      \n",
       "1         0.299877  SOVFVAK12A8C1350D9              NaN                      \n",
       "2         0.617871  SOGTUKN12AB017F4F1          55.8578  Glasgow, Scotland   \n",
       "3              NaN  SOBNYVR12A8C13558C              NaN                      \n",
       "4              NaN  SOHSBXH12A8C13B0DF              NaN                      \n",
       "\n",
       "   artist_longitude            track_id  loudness_x  mode_x  tempo_x  key_x  \\\n",
       "0               NaN  TRMMMYQ128F932D901      -4.829       0   87.002     10   \n",
       "1               NaN  TRMMMKD128F425225D     -10.555       1  150.778      9   \n",
       "2          -4.24251  TRMMMRX128F93187D9      -2.060       1  177.768      7   \n",
       "3               NaN  TRMMMCH128F425532C      -4.654       1   87.433      7   \n",
       "4               NaN  TRMMMWA128F426B589      -7.806       0  140.035      5   \n",
       "\n",
       "      ...      key_y  loudness_y mode_y speechiness acousticness  \\\n",
       "0     ...        NaN         NaN    NaN         NaN          NaN   \n",
       "1     ...        9.0     -10.303    1.0      0.0462     0.002230   \n",
       "2     ...        4.0      -1.711    NaN      0.0662     0.000045   \n",
       "3     ...        7.0      -4.302    1.0      0.1470     0.130000   \n",
       "4     ...        NaN         NaN    NaN         NaN          NaN   \n",
       "\n",
       "  instrumentalness liveness  valence  tempo_y  duration_ms  \n",
       "0              NaN      NaN      NaN      NaN          NaN  \n",
       "1            0.090   0.0869    0.880  149.971     157933.0  \n",
       "2            0.952   0.3430    0.621  177.745     138960.0  \n",
       "3              NaN   0.1150    0.962  174.013     145032.0  \n",
       "4              NaN      NaN      NaN      NaN          NaN  \n",
       "\n",
       "[5 rows x 32 columns]"
      ]
     },
     "execution_count": 16,
     "metadata": {},
     "output_type": "execute_result"
    }
   ],
   "source": [
    "songs2.head()"
   ]
  },
  {
   "cell_type": "code",
   "execution_count": 17,
   "metadata": {},
   "outputs": [
    {
     "data": {
      "text/plain": [
       "song_hotttnesss                0.299877\n",
       "song_id              SOVFVAK12A8C1350D9\n",
       "artist_latitude                     NaN\n",
       "artist_location                        \n",
       "artist_longitude                    NaN\n",
       "track_id             TRMMMKD128F425225D\n",
       "loudness_x                      -10.555\n",
       "mode_x                                1\n",
       "tempo_x                         150.778\n",
       "key_x                                 9\n",
       "genre1_cd2c                         NaN\n",
       "genre2_cd2c                         NaN\n",
       "genre1_cd2                          NaN\n",
       "genre2_cd2                          NaN\n",
       "genre1_cd1                          NaN\n",
       "genre2_cd1                          NaN\n",
       "artist_id            ARMVN3U1187FB3A1EB\n",
       "duration                        156.551\n",
       "artist_hotttnesss              0.356992\n",
       "year                               1995\n",
       "danceability                      0.489\n",
       "energy                            0.583\n",
       "key_y                                 9\n",
       "loudness_y                      -10.303\n",
       "mode_y                                1\n",
       "speechiness                      0.0462\n",
       "acousticness                    0.00223\n",
       "instrumentalness                   0.09\n",
       "liveness                         0.0869\n",
       "valence                            0.88\n",
       "tempo_y                         149.971\n",
       "duration_ms                      157933\n",
       "Name: 1, dtype: object"
      ]
     },
     "execution_count": 17,
     "metadata": {},
     "output_type": "execute_result"
    }
   ],
   "source": [
    "songs2.iloc[1, :]"
   ]
  },
  {
   "cell_type": "code",
   "execution_count": 18,
   "metadata": {
    "collapsed": true
   },
   "outputs": [],
   "source": [
    "spotify_year_pop = pd.read_csv('data/track_year_popularity.csv')\n",
    "final_merge = songs2.merge(spotify_year_pop.drop_duplicates(['song_id'], keep='last'), how='left', on='song_id')"
   ]
  },
  {
   "cell_type": "markdown",
   "metadata": {},
   "source": [
    "Finally we take a look at our data and save them into a csv file."
   ]
  },
  {
   "cell_type": "code",
   "execution_count": 19,
   "metadata": {},
   "outputs": [
    {
     "data": {
      "text/plain": [
       "Index(['song_hotttnesss', 'song_id', 'artist_latitude', 'artist_location',\n",
       "       'artist_longitude', 'track_id', 'loudness_x', 'mode_x', 'tempo_x',\n",
       "       'key_x', 'genre1_cd2c', 'genre2_cd2c', 'genre1_cd2', 'genre2_cd2',\n",
       "       'genre1_cd1', 'genre2_cd1', 'artist_id', 'duration',\n",
       "       'artist_hotttnesss', 'year', 'danceability', 'energy', 'key_y',\n",
       "       'loudness_y', 'mode_y', 'speechiness', 'acousticness',\n",
       "       'instrumentalness', 'liveness', 'valence', 'tempo_y', 'duration_ms',\n",
       "       'track_popularity', 'album_release'],\n",
       "      dtype='object')"
      ]
     },
     "execution_count": 19,
     "metadata": {},
     "output_type": "execute_result"
    }
   ],
   "source": [
    "final_merge.columns"
   ]
  },
  {
   "cell_type": "code",
   "execution_count": 20,
   "metadata": {
    "collapsed": true
   },
   "outputs": [],
   "source": [
    "final_merge.to_csv('final_merge.csv')"
   ]
  },
  {
   "cell_type": "code",
   "execution_count": 21,
   "metadata": {},
   "outputs": [
    {
     "data": {
      "text/plain": [
       "(1007807, 34)"
      ]
     },
     "execution_count": 21,
     "metadata": {},
     "output_type": "execute_result"
    }
   ],
   "source": [
    "final_merge.shape"
   ]
  },
  {
   "cell_type": "markdown",
   "metadata": {},
   "source": [
    "It seems that we have gained some rows while joining the datasets. This may be due to duplicate IDs."
   ]
  },
  {
   "cell_type": "code",
   "execution_count": 22,
   "metadata": {},
   "outputs": [
    {
     "data": {
      "text/plain": [
       "song_hotttnesss                0.617871\n",
       "song_id              SOGTUKN12AB017F4F1\n",
       "artist_latitude                 55.8578\n",
       "artist_location       Glasgow, Scotland\n",
       "artist_longitude               -4.24251\n",
       "track_id             TRMMMRX128F93187D9\n",
       "loudness_x                        -2.06\n",
       "mode_x                                1\n",
       "tempo_x                         177.768\n",
       "key_x                                 7\n",
       "genre1_cd2c                         NaN\n",
       "genre2_cd2c                         NaN\n",
       "genre1_cd2                   Electronic\n",
       "genre2_cd2                          Rap\n",
       "genre1_cd1                   Electronic\n",
       "genre2_cd1                          Rap\n",
       "artist_id            ARGEKB01187FB50750\n",
       "duration                        138.971\n",
       "artist_hotttnesss              0.437504\n",
       "year                               2006\n",
       "danceability                      0.662\n",
       "energy                            0.823\n",
       "key_y                                 4\n",
       "loudness_y                       -1.711\n",
       "mode_y                              NaN\n",
       "speechiness                      0.0662\n",
       "acousticness                   4.54e-05\n",
       "instrumentalness                  0.952\n",
       "liveness                          0.343\n",
       "valence                           0.621\n",
       "tempo_y                         177.745\n",
       "duration_ms                      138960\n",
       "track_popularity                     18\n",
       "album_release                      2009\n",
       "Name: 2, dtype: object"
      ]
     },
     "execution_count": 22,
     "metadata": {},
     "output_type": "execute_result"
    }
   ],
   "source": [
    "final_merge.loc[2,:]"
   ]
  },
  {
   "cell_type": "code",
   "execution_count": null,
   "metadata": {
    "collapsed": true
   },
   "outputs": [],
   "source": []
  }
 ],
 "metadata": {
  "kernelspec": {
   "display_name": "Python 3",
   "language": "python",
   "name": "python3"
  },
  "language_info": {
   "codemirror_mode": {
    "name": "ipython",
    "version": 3
   },
   "file_extension": ".py",
   "mimetype": "text/x-python",
   "name": "python",
   "nbconvert_exporter": "python",
   "pygments_lexer": "ipython3",
   "version": "3.6.2"
  }
 },
 "nbformat": 4,
 "nbformat_minor": 2
}
