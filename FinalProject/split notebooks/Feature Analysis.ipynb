{
 "cells": [
  {
   "cell_type": "markdown",
   "metadata": {},
   "source": [
    "# Feature analysis\n",
    "\n"
   ]
  },
  {
   "cell_type": "code",
   "execution_count": 69,
   "metadata": {},
   "outputs": [],
   "source": [
    "import pandas as pd\n",
    "import sqlite3\n",
    "from sqlite3 import Error\n",
    "import numpy as np\n",
    "from sklearn.ensemble import RandomForestRegressor\n",
    "import seaborn as sns\n",
    "import matplotlib.pyplot as plt\n",
    "\n",
    "%matplotlib inline"
   ]
  },
  {
   "cell_type": "code",
   "execution_count": 70,
   "metadata": {},
   "outputs": [],
   "source": [
    "df = pd.read_csv('../final_merge.csv')"
   ]
  },
  {
   "cell_type": "markdown",
   "metadata": {},
   "source": [
    "Let's put the dataframe in a good form for the rest of the analysis.\n",
    "\n",
    "First, we remove all useless column, or the one we don't want to describe a song."
   ]
  },
  {
   "cell_type": "code",
   "execution_count": 71,
   "metadata": {},
   "outputs": [
    {
     "data": {
      "text/plain": [
       "Index(['Unnamed: 0', 'song_hotttnesss', 'song_id', 'artist_latitude',\n",
       "       'artist_location', 'artist_longitude', 'track_id', 'loudness_x',\n",
       "       'mode_x', 'tempo_x', 'key_x', 'genre1_cd2c', 'genre2_cd2c',\n",
       "       'genre1_cd2', 'genre2_cd2', 'genre1_cd1', 'genre2_cd1', 'artist_id',\n",
       "       'duration', 'artist_hotttnesss', 'year', 'danceability', 'energy',\n",
       "       'key_y', 'loudness_y', 'mode_y', 'speechiness', 'acousticness',\n",
       "       'instrumentalness', 'liveness', 'valence', 'tempo_y', 'duration_ms',\n",
       "       'track_popularity', 'album_release'],\n",
       "      dtype='object')"
      ]
     },
     "execution_count": 71,
     "metadata": {},
     "output_type": "execute_result"
    }
   ],
   "source": [
    "df.columns"
   ]
  },
  {
   "cell_type": "code",
   "execution_count": 72,
   "metadata": {},
   "outputs": [],
   "source": [
    "df_stage1 = df.drop(['Unnamed: 0', 'artist_latitude', 'artist_location', 'artist_id', 'artist_longitude', 'song_id', 'track_id', 'artist_hotttnesss', 'mode_x', 'mode_y'], axis=1)"
   ]
  },
  {
   "cell_type": "markdown",
   "metadata": {},
   "source": [
    "We will need a one hot encoded matrix for genre for future analysis. We need all the genres in a first time."
   ]
  },
  {
   "cell_type": "code",
   "execution_count": 73,
   "metadata": {},
   "outputs": [
    {
     "name": "stdout",
     "output_type": "stream",
     "text": [
      "{nan, nan, 'Rap', 'Pop_Rock', 'International', 'World', 'Blues', 'Country', 'Electronic', 'Pop', 'New Age', 'Reggae', 'Rock', 'Folk', 'RnB', 'Vocal', 'Jazz', 'Punk', 'Latin', 'Metal'}\n",
      "20\n"
     ]
    }
   ],
   "source": [
    "genres = set([])\n",
    "genres_cols = ['genre1_cd2c', 'genre2_cd2c', 'genre1_cd2', 'genre2_cd2', 'genre1_cd1', 'genre2_cd1']\n",
    "for col_name in genres_cols:\n",
    "    genres = genres | set(df_stage1[col_name].unique())\n",
    "print(genres)\n",
    "print(len(genres))"
   ]
  },
  {
   "cell_type": "markdown",
   "metadata": {},
   "source": [
    "We have 17 different genres (nan are unkownn and international is the same as world). To do a meaningful analysis of the genre analysis over the year a minimum amount of songs of the analyzed type must be in the dataset. In the following cells we first replace the nan and replace International by World. "
   ]
  },
  {
   "cell_type": "code",
   "execution_count": 74,
   "metadata": {},
   "outputs": [],
   "source": [
    "df_stage1[genres_cols] = df_stage1[genres_cols].fillna('Unknown')\n",
    "df_stage1[genres_cols] = df_stage1[genres_cols].replace('International', 'World')"
   ]
  },
  {
   "cell_type": "markdown",
   "metadata": {},
   "source": [
    "Let's just check that we have the wanting form"
   ]
  },
  {
   "cell_type": "code",
   "execution_count": 75,
   "metadata": {
    "scrolled": true
   },
   "outputs": [
    {
     "data": {
      "text/html": [
       "<div>\n",
       "<style scoped>\n",
       "    .dataframe tbody tr th:only-of-type {\n",
       "        vertical-align: middle;\n",
       "    }\n",
       "\n",
       "    .dataframe tbody tr th {\n",
       "        vertical-align: top;\n",
       "    }\n",
       "\n",
       "    .dataframe thead th {\n",
       "        text-align: right;\n",
       "    }\n",
       "</style>\n",
       "<table border=\"1\" class=\"dataframe\">\n",
       "  <thead>\n",
       "    <tr style=\"text-align: right;\">\n",
       "      <th></th>\n",
       "      <th>genre1_cd2c</th>\n",
       "      <th>genre2_cd2c</th>\n",
       "      <th>genre1_cd2</th>\n",
       "      <th>genre2_cd2</th>\n",
       "      <th>genre1_cd1</th>\n",
       "      <th>genre2_cd1</th>\n",
       "    </tr>\n",
       "  </thead>\n",
       "  <tbody>\n",
       "    <tr>\n",
       "      <th>0</th>\n",
       "      <td>Unknown</td>\n",
       "      <td>Unknown</td>\n",
       "      <td>Unknown</td>\n",
       "      <td>Unknown</td>\n",
       "      <td>Unknown</td>\n",
       "      <td>Unknown</td>\n",
       "    </tr>\n",
       "    <tr>\n",
       "      <th>1</th>\n",
       "      <td>Unknown</td>\n",
       "      <td>Unknown</td>\n",
       "      <td>Unknown</td>\n",
       "      <td>Unknown</td>\n",
       "      <td>Unknown</td>\n",
       "      <td>Unknown</td>\n",
       "    </tr>\n",
       "    <tr>\n",
       "      <th>2</th>\n",
       "      <td>Unknown</td>\n",
       "      <td>Unknown</td>\n",
       "      <td>Electronic</td>\n",
       "      <td>Rap</td>\n",
       "      <td>Electronic</td>\n",
       "      <td>Rap</td>\n",
       "    </tr>\n",
       "    <tr>\n",
       "      <th>3</th>\n",
       "      <td>Unknown</td>\n",
       "      <td>Unknown</td>\n",
       "      <td>Unknown</td>\n",
       "      <td>Unknown</td>\n",
       "      <td>Unknown</td>\n",
       "      <td>Unknown</td>\n",
       "    </tr>\n",
       "    <tr>\n",
       "      <th>4</th>\n",
       "      <td>Unknown</td>\n",
       "      <td>Unknown</td>\n",
       "      <td>Unknown</td>\n",
       "      <td>Unknown</td>\n",
       "      <td>Unknown</td>\n",
       "      <td>Unknown</td>\n",
       "    </tr>\n",
       "  </tbody>\n",
       "</table>\n",
       "</div>"
      ],
      "text/plain": [
       "  genre1_cd2c genre2_cd2c  genre1_cd2 genre2_cd2  genre1_cd1 genre2_cd1\n",
       "0     Unknown     Unknown     Unknown    Unknown     Unknown    Unknown\n",
       "1     Unknown     Unknown     Unknown    Unknown     Unknown    Unknown\n",
       "2     Unknown     Unknown  Electronic        Rap  Electronic        Rap\n",
       "3     Unknown     Unknown     Unknown    Unknown     Unknown    Unknown\n",
       "4     Unknown     Unknown     Unknown    Unknown     Unknown    Unknown"
      ]
     },
     "execution_count": 75,
     "metadata": {},
     "output_type": "execute_result"
    }
   ],
   "source": [
    "df_stage1[genres_cols].head()"
   ]
  },
  {
   "cell_type": "markdown",
   "metadata": {},
   "source": [
    "For the moment we have 6 columns for the genres, we would like to see if we can summarize these columns in one or two columns.\n",
    "First we perform a pivot and count the number of different values there are in each column. "
   ]
  },
  {
   "cell_type": "code",
   "execution_count": 76,
   "metadata": {},
   "outputs": [
    {
     "name": "stdout",
     "output_type": "stream",
     "text": [
      "{'Rap', 'Pop_Rock', 'World', 'Blues', 'Country', 'Electronic', 'Pop', 'New Age', 'Reggae', 'Rock', 'Unknown', 'Folk', 'RnB', 'Vocal', 'Jazz', 'Punk', 'Latin', 'Metal'}\n",
      "18\n"
     ]
    }
   ],
   "source": [
    "genres = set([])\n",
    "genres_cols = ['genre1_cd2c', 'genre2_cd2c', 'genre1_cd2', 'genre2_cd2', 'genre1_cd1', 'genre2_cd1']\n",
    "for col_name in genres_cols:\n",
    "    genres = genres | set(df_stage1[col_name].unique())\n",
    "    df_stage1[col_name] = df_stage1[col_name].astype(str)\n",
    "print(genres)\n",
    "print(len(genres))"
   ]
  },
  {
   "cell_type": "code",
   "execution_count": 77,
   "metadata": {},
   "outputs": [],
   "source": [
    "for genre in list(genres):\n",
    "    df_stage1[genre] = 0\n",
    "    for col_name in genres_cols:\n",
    "        df_stage1.loc[df_stage1[col_name] == genre, genre] = 1\n",
    "df_stage1.drop(columns=['Unknown'], axis=1, inplace=True)\n",
    "genres.remove('Unknown')"
   ]
  },
  {
   "cell_type": "markdown",
   "metadata": {},
   "source": [
    "It could be useful to see if a song as multiple genres."
   ]
  },
  {
   "cell_type": "code",
   "execution_count": 78,
   "metadata": {},
   "outputs": [],
   "source": [
    "df_stage1['nb_genre'] = np.sum(df_stage1.iloc[:, -17:].values, axis=1)\n",
    "df_stage2 = df_stage1.drop(columns=genres_cols).copy()"
   ]
  },
  {
   "cell_type": "markdown",
   "metadata": {},
   "source": [
    "Let's make sure we have a hot encoded matrix at the end now"
   ]
  },
  {
   "cell_type": "code",
   "execution_count": 79,
   "metadata": {},
   "outputs": [
    {
     "data": {
      "text/html": [
       "<div>\n",
       "<style scoped>\n",
       "    .dataframe tbody tr th:only-of-type {\n",
       "        vertical-align: middle;\n",
       "    }\n",
       "\n",
       "    .dataframe tbody tr th {\n",
       "        vertical-align: top;\n",
       "    }\n",
       "\n",
       "    .dataframe thead th {\n",
       "        text-align: right;\n",
       "    }\n",
       "</style>\n",
       "<table border=\"1\" class=\"dataframe\">\n",
       "  <thead>\n",
       "    <tr style=\"text-align: right;\">\n",
       "      <th></th>\n",
       "      <th>song_hotttnesss</th>\n",
       "      <th>loudness_x</th>\n",
       "      <th>tempo_x</th>\n",
       "      <th>key_x</th>\n",
       "      <th>duration</th>\n",
       "      <th>year</th>\n",
       "      <th>danceability</th>\n",
       "      <th>energy</th>\n",
       "      <th>key_y</th>\n",
       "      <th>loudness_y</th>\n",
       "      <th>...</th>\n",
       "      <th>Reggae</th>\n",
       "      <th>Rock</th>\n",
       "      <th>Folk</th>\n",
       "      <th>RnB</th>\n",
       "      <th>Vocal</th>\n",
       "      <th>Jazz</th>\n",
       "      <th>Punk</th>\n",
       "      <th>Latin</th>\n",
       "      <th>Metal</th>\n",
       "      <th>nb_genre</th>\n",
       "    </tr>\n",
       "  </thead>\n",
       "  <tbody>\n",
       "    <tr>\n",
       "      <th>0</th>\n",
       "      <td>0.542899</td>\n",
       "      <td>-4.829</td>\n",
       "      <td>87.002</td>\n",
       "      <td>10</td>\n",
       "      <td>252.05506</td>\n",
       "      <td>2003</td>\n",
       "      <td>NaN</td>\n",
       "      <td>NaN</td>\n",
       "      <td>NaN</td>\n",
       "      <td>NaN</td>\n",
       "      <td>...</td>\n",
       "      <td>0</td>\n",
       "      <td>0</td>\n",
       "      <td>0</td>\n",
       "      <td>0</td>\n",
       "      <td>0</td>\n",
       "      <td>0</td>\n",
       "      <td>0</td>\n",
       "      <td>0</td>\n",
       "      <td>0</td>\n",
       "      <td>0</td>\n",
       "    </tr>\n",
       "    <tr>\n",
       "      <th>1</th>\n",
       "      <td>0.299877</td>\n",
       "      <td>-10.555</td>\n",
       "      <td>150.778</td>\n",
       "      <td>9</td>\n",
       "      <td>156.55138</td>\n",
       "      <td>1995</td>\n",
       "      <td>0.489</td>\n",
       "      <td>0.583</td>\n",
       "      <td>9.0</td>\n",
       "      <td>-10.303</td>\n",
       "      <td>...</td>\n",
       "      <td>0</td>\n",
       "      <td>0</td>\n",
       "      <td>0</td>\n",
       "      <td>0</td>\n",
       "      <td>0</td>\n",
       "      <td>0</td>\n",
       "      <td>0</td>\n",
       "      <td>0</td>\n",
       "      <td>0</td>\n",
       "      <td>0</td>\n",
       "    </tr>\n",
       "    <tr>\n",
       "      <th>2</th>\n",
       "      <td>0.617871</td>\n",
       "      <td>-2.060</td>\n",
       "      <td>177.768</td>\n",
       "      <td>7</td>\n",
       "      <td>138.97098</td>\n",
       "      <td>2006</td>\n",
       "      <td>0.662</td>\n",
       "      <td>0.823</td>\n",
       "      <td>4.0</td>\n",
       "      <td>-1.711</td>\n",
       "      <td>...</td>\n",
       "      <td>0</td>\n",
       "      <td>0</td>\n",
       "      <td>0</td>\n",
       "      <td>0</td>\n",
       "      <td>0</td>\n",
       "      <td>0</td>\n",
       "      <td>0</td>\n",
       "      <td>0</td>\n",
       "      <td>0</td>\n",
       "      <td>2</td>\n",
       "    </tr>\n",
       "    <tr>\n",
       "      <th>3</th>\n",
       "      <td>NaN</td>\n",
       "      <td>-4.654</td>\n",
       "      <td>87.433</td>\n",
       "      <td>7</td>\n",
       "      <td>145.05751</td>\n",
       "      <td>2003</td>\n",
       "      <td>0.690</td>\n",
       "      <td>0.619</td>\n",
       "      <td>7.0</td>\n",
       "      <td>-4.302</td>\n",
       "      <td>...</td>\n",
       "      <td>0</td>\n",
       "      <td>0</td>\n",
       "      <td>0</td>\n",
       "      <td>0</td>\n",
       "      <td>0</td>\n",
       "      <td>0</td>\n",
       "      <td>0</td>\n",
       "      <td>0</td>\n",
       "      <td>0</td>\n",
       "      <td>0</td>\n",
       "    </tr>\n",
       "    <tr>\n",
       "      <th>4</th>\n",
       "      <td>NaN</td>\n",
       "      <td>-7.806</td>\n",
       "      <td>140.035</td>\n",
       "      <td>5</td>\n",
       "      <td>514.29832</td>\n",
       "      <td>0</td>\n",
       "      <td>NaN</td>\n",
       "      <td>NaN</td>\n",
       "      <td>NaN</td>\n",
       "      <td>NaN</td>\n",
       "      <td>...</td>\n",
       "      <td>0</td>\n",
       "      <td>0</td>\n",
       "      <td>0</td>\n",
       "      <td>0</td>\n",
       "      <td>0</td>\n",
       "      <td>0</td>\n",
       "      <td>0</td>\n",
       "      <td>0</td>\n",
       "      <td>0</td>\n",
       "      <td>0</td>\n",
       "    </tr>\n",
       "  </tbody>\n",
       "</table>\n",
       "<p>5 rows × 37 columns</p>\n",
       "</div>"
      ],
      "text/plain": [
       "   song_hotttnesss  loudness_x  tempo_x  key_x   duration  year  danceability  \\\n",
       "0         0.542899      -4.829   87.002     10  252.05506  2003           NaN   \n",
       "1         0.299877     -10.555  150.778      9  156.55138  1995         0.489   \n",
       "2         0.617871      -2.060  177.768      7  138.97098  2006         0.662   \n",
       "3              NaN      -4.654   87.433      7  145.05751  2003         0.690   \n",
       "4              NaN      -7.806  140.035      5  514.29832     0           NaN   \n",
       "\n",
       "   energy  key_y  loudness_y    ...     Reggae  Rock  Folk  RnB  Vocal  Jazz  \\\n",
       "0     NaN    NaN         NaN    ...          0     0     0    0      0     0   \n",
       "1   0.583    9.0     -10.303    ...          0     0     0    0      0     0   \n",
       "2   0.823    4.0      -1.711    ...          0     0     0    0      0     0   \n",
       "3   0.619    7.0      -4.302    ...          0     0     0    0      0     0   \n",
       "4     NaN    NaN         NaN    ...          0     0     0    0      0     0   \n",
       "\n",
       "   Punk  Latin  Metal  nb_genre  \n",
       "0     0      0      0         0  \n",
       "1     0      0      0         0  \n",
       "2     0      0      0         2  \n",
       "3     0      0      0         0  \n",
       "4     0      0      0         0  \n",
       "\n",
       "[5 rows x 37 columns]"
      ]
     },
     "execution_count": 79,
     "metadata": {},
     "output_type": "execute_result"
    }
   ],
   "source": [
    "df_stage2.head()"
   ]
  },
  {
   "cell_type": "markdown",
   "metadata": {},
   "source": [
    "Now that the matrix is ready, let's see if we can spot something from a simple correlation between the data, especially between song_hotttnesss and the rest of the features."
   ]
  },
  {
   "cell_type": "code",
   "execution_count": 85,
   "metadata": {},
   "outputs": [],
   "source": [
    "def plot_corr(df):\n",
    "    '''\n",
    "        Plot the correlation matrix of a dataframe\n",
    "        The plot will be triangular with negative values blue and positive values red\n",
    "        Code taken from https://seaborn.pydata.org/examples/many_pairwise_correlations.html\n",
    "        :param df: The dataframe\n",
    "        :type df: DataFrame\n",
    "    '''\n",
    "    sns.set(style=\"white\")\n",
    "\n",
    "    # Compute the correlation matrix\n",
    "    corr = df.corr()\n",
    "\n",
    "    # Generate a mask for the upper triangle\n",
    "    mask = np.zeros_like(corr, dtype=np.bool)\n",
    "    mask[np.triu_indices_from(mask)] = True\n",
    "\n",
    "    # Set up the matplotlib figure\n",
    "    f, ax = plt.subplots(figsize=(16, 12))\n",
    "    f.suptitle(\"Correlation heatmap\")\n",
    "\n",
    "    # Generate a custom diverging colormap\n",
    "    cmap = sns.diverging_palette(220, 10, as_cmap=True)\n",
    "\n",
    "    # Draw the heatmap with the mask and correct aspect ratio\n",
    "    sns.heatmap(corr, mask=mask, cmap=cmap, center=0,\n",
    "                square=True, linewidths=.5, cbar_kws={\"shrink\": .5})\n",
    "    \n",
    "    sns_plot.savefig(\"correlation_df_MSD_Spotify.png\")\n"
   ]
  },
  {
   "cell_type": "code",
   "execution_count": 81,
   "metadata": {
    "scrolled": false
   },
   "outputs": [
    {
     "data": {
      "image/png": "[encoded data removed]",
      "text/plain": [
       "<matplotlib.figure.Figure at 0x1a4531b208>"
      ]
     },
     "metadata": {},
     "output_type": "display_data"
    }
   ],
   "source": [
    "plot_corr(df_stage2)"
   ]
  },
  {
   "cell_type": "markdown",
   "metadata": {},
   "source": [
    "What do we see here ?\n",
    "\n",
    "1) the value between spotify and MSD on the duration is highly correlated \n",
    "\n",
    "2) track_popularity and song_hotttnesss is moderately correlated, thus we will keep the song_hotttnesss\n",
    "\n",
    "3) year of MSD and album release from spotify is absolutely not correlated, so let's keep the one from MSD again\n",
    "\n",
    "Let's drop the useless column again"
   ]
  },
  {
   "cell_type": "code",
   "execution_count": 82,
   "metadata": {},
   "outputs": [],
   "source": [
    "df_stage3 = df_stage2.drop(['album_release', 'track_popularity', 'duration_ms'], axis=1)"
   ]
  },
  {
   "cell_type": "markdown",
   "metadata": {},
   "source": [
    "We want know to check if we can train a regressor and export the features importance. Here we use an RandomForest like in HW4, but a regressor one this time."
   ]
  },
  {
   "cell_type": "code",
   "execution_count": 84,
   "metadata": {},
   "outputs": [
    {
     "name": "stderr",
     "output_type": "stream",
     "text": [
      "[Parallel(n_jobs=-1)]: Done  42 tasks      | elapsed:  2.1min\n",
      "[Parallel(n_jobs=-1)]: Done 192 tasks      | elapsed:  9.5min\n",
      "[Parallel(n_jobs=-1)]: Done 400 out of 400 | elapsed: 19.8min finished\n"
     ]
    },
    {
     "data": {
      "text/plain": [
       "RandomForestRegressor(bootstrap=True, criterion='mse', max_depth=None,\n",
       "           max_features='auto', max_leaf_nodes=None,\n",
       "           min_impurity_decrease=0.0, min_impurity_split=None,\n",
       "           min_samples_leaf=1, min_samples_split=2,\n",
       "           min_weight_fraction_leaf=0.0, n_estimators=400, n_jobs=-1,\n",
       "           oob_score=False, random_state=None, verbose=True,\n",
       "           warm_start=False)"
      ]
     },
     "execution_count": 84,
     "metadata": {},
     "output_type": "execute_result"
    }
   ],
   "source": [
    "regressor = RandomForestRegressor(n_jobs=-1, n_estimators = 400, verbose=True)\n",
    "\n",
    "df_stage4 = df_stage3.copy().dropna(subset=['song_hotttnesss'])\n",
    "\n",
    "train_set = df_stage4.drop(['song_hotttnesss', 'nb_genre'], axis=1)\n",
    "train_set = train_set.fillna(-1)\n",
    "\n",
    "train_label = df_stage4.song_hotttnesss\n",
    "\n",
    "regressor.fit(train_set, train_label)"
   ]
  },
  {
   "cell_type": "code",
   "execution_count": 87,
   "metadata": {},
   "outputs": [
    {
     "name": "stdout",
     "output_type": "stream",
     "text": [
      "0.216703051962  :  nb_genre\n",
      "0.140148488465  :  loudness_x\n",
      "0.134467627843  :  duration\n",
      "0.130034570277  :  tempo_x\n",
      "0.106506480566  :  year\n",
      "0.0535590166285  :  key_x\n",
      "0.0234802122867  :  valence\n",
      "0.0234604374979  :  acousticness\n",
      "0.0216052020706  :  danceability\n",
      "0.0213278687871  :  liveness\n",
      "0.0208942498928  :  speechiness\n",
      "0.0201545708853  :  loudness_y\n",
      "0.0198783514311  :  tempo_y\n",
      "0.0195674181802  :  energy\n",
      "0.0172643521918  :  instrumentalness\n",
      "0.0101237719954  :  key_y\n",
      "0.00222541369573  :  Metal\n",
      "0.00219717351222  :  Rock\n",
      "0.00195120457532  :  Pop_Rock\n",
      "0.00189214148049  :  Pop\n",
      "0.00164735037815  :  Electronic\n",
      "0.00141054751699  :  Blues\n",
      "0.00137198228871  :  RnB\n",
      "0.00125422828126  :  Country\n",
      "0.00110381650692  :  Jazz\n",
      "0.00103309050316  :  Rap\n",
      "0.0010074221376  :  Reggae\n",
      "0.000957113707679  :  Folk\n",
      "0.000937055306605  :  Latin\n",
      "0.000646835628933  :  World\n",
      "0.000510261227387  :  Punk\n",
      "0.00044029852825  :  New Age\n",
      "0.000238393764301  :  Vocal\n"
     ]
    },
    {
     "data": {
      "text/plain": [
       "0.020824329039705252"
      ]
     },
     "execution_count": 87,
     "metadata": {},
     "output_type": "execute_result"
    }
   ],
   "source": [
    "sum = 0.0\n",
    "for a, b in sorted(zip(regressor.feature_importances_, train_set.columns), reverse=True):\n",
    "    print(a, \" : \", b)\n",
    "    if b in genres:\n",
    "        sum += a\n",
    "        \n",
    "sum"
   ]
  },
  {
   "cell_type": "code",
   "execution_count": 90,
   "metadata": {},
   "outputs": [
    {
     "ename": "ValueError",
     "evalue": "num must be 1 <= num <= 0, not 1",
     "output_type": "error",
     "traceback": [
      "\u001b[0;31m---------------------------------------------------------------------------\u001b[0m",
      "\u001b[0;31mValueError\u001b[0m                                Traceback (most recent call last)",
      "\u001b[0;32m<ipython-input-90-b6d131a3b292>\u001b[0m in \u001b[0;36m<module>\u001b[0;34m()\u001b[0m\n\u001b[0;32m----> 1\u001b[0;31m \u001b[0mpd\u001b[0m\u001b[0;34m.\u001b[0m\u001b[0mDataFrame\u001b[0m\u001b[0;34m(\u001b[0m\u001b[0;34m[\u001b[0m\u001b[0mtrain_set\u001b[0m\u001b[0;34m.\u001b[0m\u001b[0mcolumns\u001b[0m\u001b[0;34m,\u001b[0m\u001b[0mregressor\u001b[0m\u001b[0;34m.\u001b[0m\u001b[0mfeature_importances_\u001b[0m\u001b[0;34m]\u001b[0m\u001b[0;34m)\u001b[0m\u001b[0;34m.\u001b[0m\u001b[0mhist\u001b[0m\u001b[0;34m(\u001b[0m\u001b[0;34m)\u001b[0m\u001b[0;34m\u001b[0m\u001b[0m\n\u001b[0m",
      "\u001b[0;32m~/anaconda3/lib/python3.6/site-packages/pandas/plotting/_core.py\u001b[0m in \u001b[0;36mhist_frame\u001b[0;34m(data, column, by, grid, xlabelsize, xrot, ylabelsize, yrot, ax, sharex, sharey, figsize, layout, bins, **kwds)\u001b[0m\n\u001b[1;32m   2174\u001b[0m     fig, axes = _subplots(naxes=naxes, ax=ax, squeeze=False,\n\u001b[1;32m   2175\u001b[0m                           \u001b[0msharex\u001b[0m\u001b[0;34m=\u001b[0m\u001b[0msharex\u001b[0m\u001b[0;34m,\u001b[0m \u001b[0msharey\u001b[0m\u001b[0;34m=\u001b[0m\u001b[0msharey\u001b[0m\u001b[0;34m,\u001b[0m \u001b[0mfigsize\u001b[0m\u001b[0;34m=\u001b[0m\u001b[0mfigsize\u001b[0m\u001b[0;34m,\u001b[0m\u001b[0;34m\u001b[0m\u001b[0m\n\u001b[0;32m-> 2176\u001b[0;31m                           layout=layout)\n\u001b[0m\u001b[1;32m   2177\u001b[0m     \u001b[0m_axes\u001b[0m \u001b[0;34m=\u001b[0m \u001b[0m_flatten\u001b[0m\u001b[0;34m(\u001b[0m\u001b[0maxes\u001b[0m\u001b[0;34m)\u001b[0m\u001b[0;34m\u001b[0m\u001b[0m\n\u001b[1;32m   2178\u001b[0m \u001b[0;34m\u001b[0m\u001b[0m\n",
      "\u001b[0;32m~/anaconda3/lib/python3.6/site-packages/pandas/plotting/_tools.py\u001b[0m in \u001b[0;36m_subplots\u001b[0;34m(naxes, sharex, sharey, squeeze, subplot_kw, ax, layout, layout_type, **fig_kw)\u001b[0m\n\u001b[1;32m    235\u001b[0m \u001b[0;34m\u001b[0m\u001b[0m\n\u001b[1;32m    236\u001b[0m     \u001b[0;31m# Create first subplot separately, so we can share it if requested\u001b[0m\u001b[0;34m\u001b[0m\u001b[0;34m\u001b[0m\u001b[0m\n\u001b[0;32m--> 237\u001b[0;31m     \u001b[0max0\u001b[0m \u001b[0;34m=\u001b[0m \u001b[0mfig\u001b[0m\u001b[0;34m.\u001b[0m\u001b[0madd_subplot\u001b[0m\u001b[0;34m(\u001b[0m\u001b[0mnrows\u001b[0m\u001b[0;34m,\u001b[0m \u001b[0mncols\u001b[0m\u001b[0;34m,\u001b[0m \u001b[0;36m1\u001b[0m\u001b[0;34m,\u001b[0m \u001b[0;34m**\u001b[0m\u001b[0msubplot_kw\u001b[0m\u001b[0;34m)\u001b[0m\u001b[0;34m\u001b[0m\u001b[0m\n\u001b[0m\u001b[1;32m    238\u001b[0m \u001b[0;34m\u001b[0m\u001b[0m\n\u001b[1;32m    239\u001b[0m     \u001b[0;32mif\u001b[0m \u001b[0msharex\u001b[0m\u001b[0;34m:\u001b[0m\u001b[0;34m\u001b[0m\u001b[0m\n",
      "\u001b[0;32m~/anaconda3/lib/python3.6/site-packages/matplotlib/figure.py\u001b[0m in \u001b[0;36madd_subplot\u001b[0;34m(self, *args, **kwargs)\u001b[0m\n\u001b[1;32m   1068\u001b[0m                     \u001b[0mself\u001b[0m\u001b[0;34m.\u001b[0m\u001b[0m_axstack\u001b[0m\u001b[0;34m.\u001b[0m\u001b[0mremove\u001b[0m\u001b[0;34m(\u001b[0m\u001b[0max\u001b[0m\u001b[0;34m)\u001b[0m\u001b[0;34m\u001b[0m\u001b[0m\n\u001b[1;32m   1069\u001b[0m \u001b[0;34m\u001b[0m\u001b[0m\n\u001b[0;32m-> 1070\u001b[0;31m             \u001b[0ma\u001b[0m \u001b[0;34m=\u001b[0m \u001b[0msubplot_class_factory\u001b[0m\u001b[0;34m(\u001b[0m\u001b[0mprojection_class\u001b[0m\u001b[0;34m)\u001b[0m\u001b[0;34m(\u001b[0m\u001b[0mself\u001b[0m\u001b[0;34m,\u001b[0m \u001b[0;34m*\u001b[0m\u001b[0margs\u001b[0m\u001b[0;34m,\u001b[0m \u001b[0;34m**\u001b[0m\u001b[0mkwargs\u001b[0m\u001b[0;34m)\u001b[0m\u001b[0;34m\u001b[0m\u001b[0m\n\u001b[0m\u001b[1;32m   1071\u001b[0m \u001b[0;34m\u001b[0m\u001b[0m\n\u001b[1;32m   1072\u001b[0m         \u001b[0mself\u001b[0m\u001b[0;34m.\u001b[0m\u001b[0m_axstack\u001b[0m\u001b[0;34m.\u001b[0m\u001b[0madd\u001b[0m\u001b[0;34m(\u001b[0m\u001b[0mkey\u001b[0m\u001b[0;34m,\u001b[0m \u001b[0ma\u001b[0m\u001b[0;34m)\u001b[0m\u001b[0;34m\u001b[0m\u001b[0m\n",
      "\u001b[0;32m~/anaconda3/lib/python3.6/site-packages/matplotlib/axes/_subplots.py\u001b[0m in \u001b[0;36m__init__\u001b[0;34m(self, fig, *args, **kwargs)\u001b[0m\n\u001b[1;32m     62\u001b[0m                     raise ValueError(\n\u001b[1;32m     63\u001b[0m                         \"num must be 1 <= num <= {maxn}, not {num}\".format(\n\u001b[0;32m---> 64\u001b[0;31m                             maxn=rows*cols, num=num))\n\u001b[0m\u001b[1;32m     65\u001b[0m                 \u001b[0mself\u001b[0m\u001b[0;34m.\u001b[0m\u001b[0m_subplotspec\u001b[0m \u001b[0;34m=\u001b[0m \u001b[0mGridSpec\u001b[0m\u001b[0;34m(\u001b[0m\u001b[0mrows\u001b[0m\u001b[0;34m,\u001b[0m \u001b[0mcols\u001b[0m\u001b[0;34m)\u001b[0m\u001b[0;34m[\u001b[0m\u001b[0mint\u001b[0m\u001b[0;34m(\u001b[0m\u001b[0mnum\u001b[0m\u001b[0;34m)\u001b[0m \u001b[0;34m-\u001b[0m \u001b[0;36m1\u001b[0m\u001b[0;34m]\u001b[0m\u001b[0;34m\u001b[0m\u001b[0m\n\u001b[1;32m     66\u001b[0m                 \u001b[0;31m# num - 1 for converting from MATLAB to python indexing\u001b[0m\u001b[0;34m\u001b[0m\u001b[0;34m\u001b[0m\u001b[0m\n",
      "\u001b[0;31mValueError\u001b[0m: num must be 1 <= num <= 0, not 1"
     ]
    },
    {
     "data": {
      "text/plain": [
       "<matplotlib.figure.Figure at 0x1a55e7ae48>"
      ]
     },
     "metadata": {},
     "output_type": "display_data"
    }
   ],
   "source": [
    "pd.DataFrame([train_set.columns,regressor.feature_importances_]).hist()"
   ]
  },
  {
   "cell_type": "code",
   "execution_count": null,
   "metadata": {},
   "outputs": [],
   "source": []
  }
 ],
 "metadata": {
  "kernelspec": {
   "display_name": "Python 3",
   "language": "python",
   "name": "python3"
  },
  "language_info": {
   "codemirror_mode": {
    "name": "ipython",
    "version": 3
   },
   "file_extension": ".py",
   "mimetype": "text/x-python",
   "name": "python",
   "nbconvert_exporter": "python",
   "pygments_lexer": "ipython3",
   "version": "3.6.3"
  }
 },
 "nbformat": 4,
 "nbformat_minor": 2
}
