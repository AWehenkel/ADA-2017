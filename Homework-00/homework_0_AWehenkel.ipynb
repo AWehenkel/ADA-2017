{
 "cells": [
  {
   "cell_type": "markdown",
   "metadata": {},
   "source": [
    "Import of the useful libraries(numpy and pandas)"
   ]
  },
  {
   "cell_type": "code",
   "execution_count": 5,
   "metadata": {
    "scrolled": true
   },
   "outputs": [
    {
     "name": "stdout",
     "output_type": "stream",
     "text": [
      "Populating the interactive namespace from numpy and matplotlib\n"
     ]
    }
   ],
   "source": [
    "%pylab inline\n",
    "import pandas as pd"
   ]
  },
  {
   "cell_type": "markdown",
   "metadata": {},
   "source": [
    "Importation of the data in a pandas dataframe."
   ]
  },
  {
   "cell_type": "code",
   "execution_count": 9,
   "metadata": {},
   "outputs": [],
   "source": [
    "data = pd.DataFrame.from_csv('interactive_data.csv')"
   ]
  },
  {
   "cell_type": "markdown",
   "metadata": {},
   "source": [
    "Remove the rows which already aggregates the data in order to work with the real raw data."
   ]
  },
  {
   "cell_type": "code",
   "execution_count": 23,
   "metadata": {},
   "outputs": [],
   "source": [
    "data = data.loc[(data['Intent'] != \"None selected\") & (data['Gender'] != \"None selected\")\n",
    "                            & (data['Age'] != \"None selected\") & (data['Race'] != \"None selected\")]"
   ]
  },
  {
   "cell_type": "markdown",
   "metadata": {},
   "source": [
    "Total number of deaths"
   ]
  },
  {
   "cell_type": "code",
   "execution_count": 25,
   "metadata": {},
   "outputs": [
    {
     "data": {
      "text/plain": [
       "33595"
      ]
     },
     "execution_count": 25,
     "metadata": {},
     "output_type": "execute_result"
    }
   ],
   "source": [
    "nb_total_deaths = sum(data['Deaths'])\n",
    "nb_total_deaths"
   ]
  },
  {
   "cell_type": "markdown",
   "metadata": {},
   "source": [
    "For each type of death printing of the proportion of men and the distribution in respect to age of the dead men. A similar technique can be used to visualize the distribution over the race of the dead men."
   ]
  },
  {
   "cell_type": "code",
   "execution_count": 38,
   "metadata": {},
   "outputs": [
    {
     "name": "stdout",
     "output_type": "stream",
     "text": [
      "Cause Homicide number of deaths 11727, relative proportion 0.349070\n",
      "\tProportion of men 0.847105\n",
      "\t\t65+: 0.021844\n",
      "\t\t5: 0.000201\n",
      "\t\t15 - 34: 0.656432\n",
      "\t\t35 - 64: 0.307832\n",
      "\t\tUnder 15: 0.013690\n",
      "Cause Suicide number of deaths 21058, relative proportion 0.626819\n",
      "\tProportion of men 0.862428\n",
      "\t\t65+: 0.256318\n",
      "\t\t5: 0.000055\n",
      "\t\t15 - 34: 0.242222\n",
      "\t\t35 - 64: 0.495072\n",
      "\t\tUnder 15: 0.006332\n",
      "Cause Unknown number of deaths 266, relative proportion 0.007918\n",
      "\tProportion of men 0.793233\n",
      "\t\t65+: 0.118483\n",
      "\t\t5: 0.000000\n",
      "\t\t15 - 34: 0.445498\n",
      "\t\t35 - 64: 0.407583\n",
      "\t\tUnder 15: 0.028436\n",
      "Cause Accident number of deaths 544, relative proportion 0.016193\n",
      "\tProportion of men 0.867647\n",
      "\t\t65+: 0.135593\n",
      "\t\t5: 0.000000\n",
      "\t\t15 - 34: 0.400424\n",
      "\t\t35 - 64: 0.364407\n",
      "\t\tUnder 15: 0.099576\n"
     ]
    }
   ],
   "source": [
    "for cause in set(data['Intent']):\n",
    "    deaths = data.loc[data['Intent'] == cause]\n",
    "    nb_deaths = sum(deaths['Deaths'])\n",
    "    print(\"Cause %s number of deaths %d, relative proportion %f\" % \n",
    "          (cause, nb_deaths, nb_deaths/nb_total_deaths)) \n",
    "    men_deaths = deaths.loc[data['Gender'] == \"Male\"]\n",
    "    print(\"\\tProportion of men %f\" % (sum(men_deaths['Deaths'])/sum(deaths['Deaths'])))\n",
    "    for age in set(men_deaths['Age']):\n",
    "        print(\"\\t\\t%s: %f\" % (age, sum(men_deaths.loc[men_deaths['Age'] == age]['Deaths'])/sum(men_deaths['Deaths'])))\n",
    "    "
   ]
  }
 ],
 "metadata": {
  "kernelspec": {
   "display_name": "Python [conda env:ada]",
   "language": "python",
   "name": "conda-env-ada-py"
  },
  "language_info": {
   "codemirror_mode": {
    "name": "ipython",
    "version": 3
   },
   "file_extension": ".py",
   "mimetype": "text/x-python",
   "name": "python",
   "nbconvert_exporter": "python",
   "pygments_lexer": "ipython3",
   "version": "3.6.2"
  }
 },
 "nbformat": 4,
 "nbformat_minor": 2
}
