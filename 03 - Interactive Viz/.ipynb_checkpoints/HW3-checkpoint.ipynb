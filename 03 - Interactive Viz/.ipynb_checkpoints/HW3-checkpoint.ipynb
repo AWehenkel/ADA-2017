{
 "cells": [
  {
   "cell_type": "code",
   "execution_count": null,
   "metadata": {
    "collapsed": true
   },
   "outputs": [],
   "source": [
    "import os\n",
    "import pandas as pd\n",
    "import json\n",
    "import folium\n",
    "import branca"
   ]
  },
  {
   "cell_type": "markdown",
   "metadata": {},
   "source": [
    "# Question 1\n",
    "\n",
    "Go to the eurostat website and try to find a dataset that includes the european unemployment rates at a recent date.\n",
    "\n",
    "Use this data to build a Choropleth map which shows the unemployment rate in Europe at a country level. Think about the colors you use, how you decided to split the intervals into data classes or which interactions you could add in order to make the visualization intuitive and expressive. Compare Switzerland's unemployment rate to that of the rest of Europe."
   ]
  },
  {
   "cell_type": "code",
   "execution_count": null,
   "metadata": {
    "collapsed": true
   },
   "outputs": [],
   "source": [
    "eu_geo_path = r'topojson/europe.topojson.json'\n",
    "geo_json_data = json.load(open(eu_geo_path))"
   ]
  },
  {
   "cell_type": "code",
   "execution_count": null,
   "metadata": {
    "collapsed": true
   },
   "outputs": [],
   "source": [
    "def style_function_eu(feature):\n",
    "    employed = unemployment_df[unemployment_df[\"geo\\\\time\"] == feature['id']]\n",
    "    if employed.empty:    \n",
    "        return {\n",
    "            'fillOpacity': 0.5,\n",
    "            'weight': 0,\n",
    "            'fillColor': '#black'\n",
    "        }\n",
    "    return {}"
   ]
  },
  {
   "cell_type": "code",
   "execution_count": null,
   "metadata": {},
   "outputs": [],
   "source": [
    "m_eu = folium.Map([50.85, 4.35], zoom_start=4)\n",
    "\n",
    "colorscale = branca.colormap.linear.PuRd.scale(0, 1)\n",
    "unemployment_df = pd.DataFrame.from_csv('data/tesem010.tsv', sep='\\t|,')\n",
    "unemployment_df.sort_index().head()\n",
    "unemployment_df = unemployment_df[unemployment_df.sex == 'T']\n",
    "unemployment_df = unemployment_df[['geo\\\\time','2016']]\n",
    "unemployment_df['2016'] = 1 - unemployment_df['2016'].astype(str).str.replace('b', '').astype(float)/100.0\n",
    "unemployment_df.head()\n",
    "unemployment_df['geo\\\\time'] = unemployment_df['geo\\\\time'].astype(str).str.replace('UK', 'GB').replace('EL', 'GR')\n",
    "\n",
    "m_eu.choropleth(\n",
    "    geo_data=geo_json_data,\n",
    "    name='choropleth',\n",
    "    data=unemployment_df,\n",
    "    columns=['geo\\\\time','2016'],\n",
    "    key_on='feature.id',\n",
    "    fill_color='YlGn',\n",
    "    fill_opacity=0.7,\n",
    "    line_opacity=0.2,\n",
    "    legend_name='Unemployment Rate (%)',\n",
    "    topojson='objects.europe'\n",
    ")\n",
    "\n",
    "folium.TopoJson(\n",
    "    geo_json_data,\n",
    "    'objects.europe',\n",
    "    style_function=style_function_eu\n",
    ").add_to(m_eu)\n",
    "\n",
    "m_eu"
   ]
  },
  {
   "cell_type": "markdown",
   "metadata": {
    "collapsed": true
   },
   "source": [
    "# Question 2\n",
    "\n",
    "Go to the amstat website to find a dataset that includes the unemployment rates in Switzerland at a recent date.\n",
    "\n",
    "Use this data to build another Choropleth map, this time showing the unemployment rate at the level of swiss cantons. Again, try to make the map as expressive as possible, and comment on the trends you observe.\n",
    "\n",
    "The Swiss Confederation defines the rates you have just plotted as the number of people looking for a job divided by the size of the active population (scaled by 100). This is surely a valid choice, but as we discussed one could argue for a different categorization.\n",
    "\n",
    "Copy the map you have just created, but this time don't count in your statistics people who already have a job and are looking for a new one. How do your observations change ? You can repeat this with different choices of categories to see how selecting different metrics can lead to different interpretations of the same data."
   ]
  },
  {
   "cell_type": "code",
   "execution_count": null,
   "metadata": {},
   "outputs": [],
   "source": [
    "ch_geo_path = r'topojson/ch-cantons.topojson.json'\n",
    "geo_json_data_ch = json.load(open(ch_geo_path))"
   ]
  },
  {
   "cell_type": "code",
   "execution_count": null,
   "metadata": {},
   "outputs": [],
   "source": [
    "unem_ch_glob_data = r'data/unem_ch_glob_sept_2017.xlsx'\n",
    "unem_ch_glob_df = pd.read_excel(unem_ch_glob_data, header=[3], skip_footer=1, index_col=None)\n",
    "unem_ch_glob_df = unem_ch_glob_df[unem_ch_glob_df.columns[1:5]]\n",
    "\n",
    "unem_ch_glob_df.index = ['ZH', 'BE', 'LU', 'UR', 'SZ', 'OW', 'NW',\n",
    "                           'GL', 'ZG', 'FR', 'SO', 'BS', 'BL',\n",
    "                           'SH', 'AR','AI', 'SG', 'GR', 'AG',\n",
    "                           'TG', 'TI', 'VD', 'VS', 'NE', 'GE', 'JU']\n",
    "unem_ch_glob_df.index.name = 'Canton'\n",
    "\n",
    "unem_ch_glob_df.columns = ['Taux_total', 'Subscribed', 'Look_for_job', 'Look_for_job_with_job']\n",
    "\n",
    "unem_ch_glob_df['Taux_without_with_job'] = unem_ch_glob_df['Taux_total'] * (unem_ch_glob_df['Subscribed'] / unem_ch_glob_df['Look_for_job'])"
   ]
  },
  {
   "cell_type": "code",
   "execution_count": null,
   "metadata": {
    "collapsed": true
   },
   "outputs": [],
   "source": [
    "def style_function_ch_glo(feature):\n",
    "    employed = unem_ch_glob_df[unem_ch_glob_df.index== feature['id']]\n",
    "    if employed.empty:    \n",
    "        return {\n",
    "            'fillOpacity': 0.5,\n",
    "            'weight': 0,\n",
    "            'fillColor': '#black'\n",
    "        }\n",
    "    return {}"
   ]
  },
  {
   "cell_type": "markdown",
   "metadata": {},
   "source": [
    "## 2.1"
   ]
  },
  {
   "cell_type": "code",
   "execution_count": null,
   "metadata": {},
   "outputs": [],
   "source": [
    "m_ch = folium.Map([46.8182, 8.2275], zoom_start=8)\n",
    "\n",
    "m_ch.choropleth(\n",
    "    geo_data=geo_json_data_ch,\n",
    "    name='choropleth',\n",
    "    data=unem_ch_glob_df['Taux_total'],\n",
    "    columns=['Canton', 'Taux_total'],\n",
    "    key_on='feature.id',\n",
    "    fill_color='YlGn',\n",
    "    fill_opacity=0.7,\n",
    "    line_opacity=0.2,\n",
    "    legend_name='Unemployment Rate (%)',\n",
    "    topojson='objects.cantons'\n",
    ")\n",
    "\n",
    "folium.TopoJson(\n",
    "    geo_json_data_ch,\n",
    "    'objects.cantons',\n",
    "    style_function=style_function_ch_glo\n",
    ").add_to(m_ch)\n",
    "\n",
    "m_ch"
   ]
  },
  {
   "cell_type": "markdown",
   "metadata": {},
   "source": [
    "## 2.2"
   ]
  },
  {
   "cell_type": "code",
   "execution_count": null,
   "metadata": {},
   "outputs": [],
   "source": [
    "m_ch = folium.Map([46.8182, 8.2275], zoom_start=8)\n",
    "\n",
    "m_ch.choropleth(\n",
    "    geo_data=geo_json_data_ch,\n",
    "    name='choropleth',\n",
    "    data=unem_ch_glob_df['Taux_without_with_job'],\n",
    "    columns=['Canton', 'Taux_total'],\n",
    "    key_on='feature.id',\n",
    "    fill_color='YlGn',\n",
    "    fill_opacity=0.7,\n",
    "    line_opacity=0.2,\n",
    "    legend_name='Unemployment Rate (%)',\n",
    "    topojson='objects.cantons'\n",
    ")\n",
    "\n",
    "folium.TopoJson(\n",
    "    geo_json_data_ch,\n",
    "    'objects.cantons',\n",
    "    style_function=style_function_ch_glo\n",
    ").add_to(m_ch)\n",
    "\n",
    "m_ch"
   ]
  },
  {
   "cell_type": "markdown",
   "metadata": {},
   "source": [
    "# Question 3\n",
    "\n",
    "Use the amstat website again to find a dataset that includes the unemployment rates in Switzerland at recent date, this time making a distinction between Swiss and foreign workers.\n",
    "\n",
    "The Economic Secretary (SECO) releases a monthly report on the state of the employment market. In the latest report (September 2017), it is noted that there is a discrepancy between the unemployment rates for foreign (5.1%) and Swiss (2.2%) workers.\n",
    "\n",
    "Show the difference in unemployment rates between the two categories in each canton on a Choropleth map (hint The easy way is to show two separate maps, but can you think of something better ?). Where are the differences most visible ? Why do you think that is ?\n",
    "\n",
    "Now let's refine the analysis by adding the differences between age groups. As you may have guessed it is nearly impossible to plot so many variables on a map. Make a bar plot, which is a better suited visualization tool for this type of multivariate data."
   ]
  },
  {
   "cell_type": "code",
   "execution_count": null,
   "metadata": {},
   "outputs": [],
   "source": [
    "unem_ch_sep_data = r'data/unem_ch_sep_nat_sept_2017.xlsx'\n",
    "unem_ch_sep_df = pd.read_excel(unem_ch_sep_data, header=[3], skip_footer=1)\n",
    "unem_ch_sep_df = unem_ch_sep_df[unem_ch_sep_df.columns[1:2]]\n",
    "\n",
    "\n",
    "unem_ch_sep_df = unem_ch_sep_df.unstack(level=1)\n",
    "unem_ch_sep_df.index = [ 'AR','AI','AG','BE','BL','BS','FR','GE','GL',\n",
    "                        'GR','JU','LU','NE','NW','OW','SH','SZ','SO',\n",
    "                        'SG','TI','TG','UR','VS','VD','ZG','ZH']\n",
    "unem_ch_sep_df.index.name = 'Canton'\n",
    "\n",
    "unem_ch_sep_df"
   ]
  },
  {
   "cell_type": "code",
   "execution_count": null,
   "metadata": {
    "collapsed": true
   },
   "outputs": [],
   "source": []
  }
 ],
 "metadata": {
  "kernelspec": {
   "display_name": "Python 3",
   "language": "python",
   "name": "python3"
  },
  "language_info": {
   "codemirror_mode": {
    "name": "ipython",
    "version": 3
   },
   "file_extension": ".py",
   "mimetype": "text/x-python",
   "name": "python",
   "nbconvert_exporter": "python",
   "pygments_lexer": "ipython3",
   "version": "3.6.2"
  }
 },
 "nbformat": 4,
 "nbformat_minor": 2
}
