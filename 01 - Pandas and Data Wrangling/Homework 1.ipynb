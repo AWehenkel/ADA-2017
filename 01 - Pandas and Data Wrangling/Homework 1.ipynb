{
 "cells": [
  {
   "cell_type": "markdown",
   "metadata": {},
   "source": [
    "# Table of Contents\n",
    " <p><div class=\"lev1\"><a href=\"#Task-1.-Compiling-Ebola-Data\"><span class=\"toc-item-num\">Task 1.&nbsp;&nbsp;</span>Compiling Ebola Data</a></div>\n",
    " <div class=\"lev1\"><a href=\"#Task-2.-RNA-Sequences\"><span class=\"toc-item-num\">Task 2.&nbsp;&nbsp;</span>RNA Sequences</a></div>\n",
    " <div class=\"lev1\"><a href=\"#Task-3.-Class-War-in-Titanic\"><span class=\"toc-item-num\">Task 3.&nbsp;&nbsp;</span>Class War in Titanic</a></div></p>"
   ]
  },
  {
   "cell_type": "code",
<<<<<<< HEAD
   "execution_count": 1,
   "metadata": {
    "collapsed": true
   },
=======
   "execution_count": 18,
   "metadata": {},
>>>>>>> fa77c2dd46757be542d28b7a2508edb9dca70fb5
   "outputs": [],
   "source": [
    "DATA_FOLDER = 'Data/' # Use the data folder provided in Tutorial 02 - Intro to Pandas."
   ]
  },
  {
   "cell_type": "markdown",
   "metadata": {},
   "source": [
    "## Task 1. Compiling Ebola Data\n",
    "\n",
    "The `DATA_FOLDER/ebola` folder contains summarized reports of Ebola cases from three countries (Guinea, Liberia and Sierra Leone) during the recent outbreak of the disease in West Africa. For each country, there are daily reports that contain various information about the outbreak in several cities in each country.\n",
    "\n",
    "Use pandas to import these data files into a single `Dataframe`.\n",
    "Using this `DataFrame`, calculate for *each country*, the *daily average* per month of *new cases* and *deaths*.\n",
    "Make sure you handle all the different expressions for *new cases* and *deaths* that are used in the reports."
   ]
  },
  {
   "cell_type": "markdown",
   "metadata": {},
   "source": [
<<<<<<< HEAD
    "### Summary of the approach ###\n",
    "\n",
    "After having taken a look carefully to the data we notice that in the 3 datasets there is not a report for each day, we also notice that each file contains cumulative values of the new cases/deaths. We will thus extrapolate the average new cases/deaths per day in one month with these cumulative values, indeed if we know the total number $x_d$ of deaths at day d and the total number of death $x_{d + n}$ at day d + n we know that there was in average $\\frac{x_{d + n} - x_d}{n}$ new deaths per day during this period. Thus by evaluating the number of death at the first day of the month and the total number of deaths at the end of the month, to evaluate this two quantities we will use a linear regression between the two report closest to the begin of the month and the same for the end of the month."
   ]
  },
  {
   "cell_type": "markdown",
   "metadata": {},
   "source": [
    "Import usefull libraries."
=======
    "Import useful libraries."
>>>>>>> fa77c2dd46757be542d28b7a2508edb9dca70fb5
   ]
  },
  {
   "cell_type": "code",
<<<<<<< HEAD
   "execution_count": 10,
   "metadata": {
    "collapsed": true
   },
=======
   "execution_count": 19,
   "metadata": {},
>>>>>>> fa77c2dd46757be542d28b7a2508edb9dca70fb5
   "outputs": [],
   "source": [
    "import pandas as pd\n",
    "import numpy as np\n",
    "from os import listdir\n",
    "from os.path import isfile, join\n",
    "from datetime import datetime\n",
    "import matplotlib.pyplot as plt\n"
   ]
  },
  {
   "cell_type": "markdown",
   "metadata": {},
   "source": [
<<<<<<< HEAD
    "Load the data in one dataframe. During this phase we reorganise the data and remove sample having unknown or 0 value for the observed data, indeed zero value won't have any influence on our value of interest which is an average value.  "
=======
    "After having taken a careful look to the data, we notice that there isn't a report for each day in the 3 datasets. We also notice that each file contains cumulative value of the new cases/deaths. We will thus extrapolate the average new values per day in one month with these cumulative values; indeed, if we know the total number $x_d$ of deaths at day d and the total number of death $x_{d + n}$ at day d + n we know that there were in average $\\frac{x_{d + n} - x_d}{n}$ new deaths per day during this period. Therefore, by evaluating the number of deaths at the first day of the month and the total number of deaths at the end of the month, to evaluate these two values we will use a linear regression between the two reports closest to the beginning of the month and the same for the end of the month (FIXME).\n",
    "\n",
    "So first let's import the data into one data frame. We will then hot one encode the different categories of values observed (FIXME). After that we will aggregate the data on country and day. We will finally drop the columns not concerned by cumulative values for deaths and new cases. After that we will check that each row of the data has a non null value for the two cumulative values; if that is the case, this means that we haven't missed any category of interest. We will finally plot the data to search for unconsistent values. Finally we will apply the developpment explained above to compute the average value for each month."
   ]
  },
  {
   "cell_type": "markdown",
   "metadata": {},
   "source": [
    "Load the data in one dataframe. During this phase we reorganise the data and remove the samples having an unknown or 0 value for the observed data. Indeed, a zero value won't have any influence on our value of interest which is an average value."
>>>>>>> fa77c2dd46757be542d28b7a2508edb9dca70fb5
   ]
  },
  {
   "cell_type": "code",
<<<<<<< HEAD
   "execution_count": 3,
=======
   "execution_count": 20,
   "metadata": {},
   "outputs": [
    {
     "name": "stdout",
     "output_type": "stream",
     "text": [
      "Loading data from guinea\n",
      "Loading data from liberia\n",
      "Loading data from sl\n",
      "24\n",
      "[['Description', 'Totals', 'Conakry', 'Gueckedou', 'Macenta', 'Dabola', 'Kissidougou', 'Dinguiraye', 'Telimele', 'Boffa', 'Kouroussa', 'Dubreka', 'Siguiri', 'Pita', 'Nzerekore'], ['Description', 'Totals', 'Conakry', 'Gueckedou', 'Macenta', 'Dabola', 'Kissidougou', 'Dinguiraye', 'Telimele', 'Boffa', 'Kouroussa', 'Siguiri', 'Pita', 'Mzerekore', 'Yomou', 'Dubreka', 'Forecariah', 'Kerouane', 'Coyah', 'Dalaba', 'Beyla', 'Kindia', 'Lola'], ['Description', 'Totals', 'Conakry', 'Gueckedou', 'Macenta', 'Dabola', 'Kissidougou', 'Dinguiraye', 'Telimele', 'Boffa', 'Kouroussa', 'Siguiri', 'Pita', 'Nzerekore', 'Yomou', 'Dubreka', 'Forecariah', 'Kerouane', 'Coyah', 'Dalaba', 'Beyla', 'Kindia', 'Lola'], ['Description', 'Totals', 'Conakry', 'Gueckedou', 'Macenta', 'Dabola', 'Kissidougou', 'Dinguiraye', 'Telimele', 'Boffa', 'Kouroussa', 'Siguiri', 'Pita', 'Nzerekore', 'Yomou', 'Dubreka', 'Forecariah', 'Kerouane', 'Coyah', 'Dalaba'], ['Variable', 'National', 'Bomi County', 'Bong County', 'Grand Kru', 'Lofa County', 'Margibi County', 'Maryland County', 'Montserrado County', 'Nimba County', 'River Gee County', 'RiverCess County', 'Sinoe County'], ['Variable', 'National', 'Bomi County', 'Bong County', 'Gbarpolu County', 'Grand Bassa', 'Grand Cape Mount', 'Grand Gedeh', 'Lofa County', 'Margibi County', 'Maryland County', 'Montserrado County', 'Nimba County'], ['Variable', 'National', 'Bomi County', 'Bong County', 'Gbarpolu County', 'Grand Bassa', 'Grand Cape Mount', 'Grand Gedeh', 'Lofa County', 'Margibi County', 'Maryland County', 'Montserrado County', 'Nimba County', 'RiverCess County'], ['Variable', 'National', 'Bomi County', 'Bong County', 'Gbarpolu County', 'Grand Bassa', 'Grand Cape Mount', 'Grand Gedeh', 'Grand Kru', 'Lofa County', 'Margibi County', 'Maryland County', 'Montserrado County', 'Nimba County', 'RiverCess County'], ['Variable', 'National', 'Bomi County', 'Bong County', 'Grand Bassa', 'Grand Cape Mount', 'Grand Gedeh', 'Lofa County', 'Margibi County', 'Montserrado County', 'Nimba County', 'River Gee County', 'RiverCess County', 'Sinoe County'], ['Variable', 'National', 'Bomi County', 'Bong County', 'Grand Bassa', 'Grand Cape Mount', 'Grand Gedeh', 'Lofa County', 'Margibi County', 'Montserrado County', 'Nimba County', 'RiverCess County'], ['Variable', 'National', 'Bomi County', 'Bong County', 'Grand Bassa', 'Grand Cape Mount', 'Grand Gedeh', 'Lofa County', 'Margibi County', 'Montserrado County', 'Nimba County', 'RiverCess County', 'Sinoe County'], ['Variable', 'National', 'Bomi County', 'Bong County', 'Gbarpolu County', 'Grand Bassa', 'Grand Cape Mount', 'Grand Gedeh', 'Lofa County', 'Margibi County', 'Montserrado County', 'Nimba County', 'River Gee County', 'RiverCess County', 'Sinoe County'], ['Variable', 'National', 'Bomi County', 'Bong County', 'Gbarpolu County', 'Grand Bassa', 'Grand Cape Mount', 'Grand Gedeh', 'Lofa County', 'Margibi County', 'Maryland County', 'Montserrado County', 'Nimba County', 'River Gee County', 'RiverCess County', 'Sinoe County'], ['Variable', 'National', 'Bomi County', 'Bong County', 'Gbarpolu County', 'Grand Bassa', 'Grand Cape Mount', 'Grand Gedeh', 'Grand Kru', 'Lofa County', 'Margibi County', 'Maryland County', 'Montserrado County', 'Nimba County', 'River Gee County', 'RiverCess County', 'Sinoe County'], ['Variable', 'National', 'Bomi County', 'Bong County', 'Gbarpolu County', 'Grand Bassa', 'Grand Cape Mount', 'Grand Gedeh', 'Grand Kru', 'Lofa County', 'Margibi County', 'Maryland County', 'Montserrado County', 'Nimba County', 'River Gee County', 'RiverCess County', 'Sinoe County', 'Unnamed: 18'], ['variable', 'Kailahun', 'Kenema', 'Kono', 'Kambia', 'Koinadugu', 'Bombali', 'Tonkolili', 'Port Loko', 'Pujehun', 'Bo', 'Moyamba', 'Bonthe', 'Western area urban', 'Western area rural', 'National'], ['variable', 'Kailahun', 'Kenema', 'Kono', 'Kambia', 'Koinadugu', 'Bombali', 'Tonkolili', 'Port Loko', 'Pujehun', 'Bo', 'Moyamba', 'Bonthe', 'Western area urban', 'Western area rural', 'National', 'Kenema (IFRC)'], ['variable', 'Kailahun', 'Kenema', 'Kono', 'Kambia', 'Koinadugu', 'Bombali', 'Tonkolili', 'Port Loko', 'Pujehun', 'Bo', 'Moyamba', 'Bonthe', 'Western area urban', 'Western area rural', 'National', 'Kenema (IFRC)', '34 Military Hospital', 'Police training School'], ['variable', 'Kailahun', 'Kenema', 'Kono', 'Kambia', 'Koinadugu', 'Bombali', 'Tonkolili', 'Port Loko', 'Pujehun', 'Bo', 'Moyamba', 'Bonthe', 'Western area urban', 'Western area rural', 'National', 'Kenema (IFRC)', '34 Military Hospital', 'Police traning School'], ['variable', 'Kailahun', 'Kenema', 'Kono', 'Kambia', 'Koinadugu', 'Bombali', 'Tonkolili', 'Port Loko', 'Pujehun', 'Bo', 'Moyamba', 'Bonthe', 'Western area urban', 'Western area rural', 'National', 'Kenema (IFRC)', '34 Military Hospital', 'Police training School', 'Bo EMC'], ['variable', 'Kailahun', 'Kenema', 'Kono', 'Kambia', 'Koinadugu', 'Bombali', 'Tonkolili', 'Port Loko', 'Pujehun', 'Bo', 'Moyamba', 'Bonthe', 'Western area urban', 'Western area rural', 'National', 'Western area'], ['variable', 'Kailahun', 'Kenema', 'Kono', 'Kambia', 'Koinadugu', 'Bombali', 'Tonkolili', 'Port Loko', 'Pujehun', 'Bo', 'Moyamba', 'Bonthe', 'Western area urban', 'Western area rural', 'National', 'Western area', 'Kenema (KGH)', 'Kenema (IFRC)', 'Hastings-F/Town'], ['variable', 'Kailahun', 'Kenema', 'Kono', 'Kambia', 'Koinadugu', 'Bombali', 'Tonkolili', 'Port Loko', 'Pujehun', 'Bo', 'Moyamba', 'Bonthe', 'Western area urban', 'Western area rural', 'National', 'Western area combined'], ['variable', 'Kailahun', 'Kenema', 'Kono', 'Kambia', 'Koinadugu', 'Bombali', 'Tonkolili', 'Port Loko', 'Pujehun', 'Bo', 'Moyamba', 'Bonthe', 'Western area urban', 'Western area rural', 'National', 'Western area combined', 'Unnamed: 18']]\n"
     ]
    }
   ],
   "source": [
    "folders = ['guinea', 'liberia', 'sl']\n",
    "folder_end = '_data/'\n",
    "folder_begin = 'ebola/'\n",
    "\n",
    "type_of_file = []\n",
    "name_of_file = []\n",
    "\n",
    "ebola_data = pd.DataFrame(columns=['country', 'town', 'date', 'description', 'number'])\n",
    "for folder in folders:\n",
    "    folder_path = DATA_FOLDER + folder_begin + folder + folder_end\n",
    "    print(\"Loading data from %s\" % folder)\n",
    "    for data_file in listdir(folder_path):\n",
    "        if isfile(join(folder_path, data_file)):\n",
    "            metas = data_file.replace('.', '-').split('-')\n",
    "            meta_date = datetime(int(metas[0]), int(metas[1]), int(metas[2]))\n",
    "            datas = pd.DataFrame.from_csv(folder_path + data_file)\n",
    "            towns = datas.columns[2:]\n",
    "            date = datas.index.name\n",
    "            description = datas.columns[0]\n",
    "            if not(list(datas.columns) in type_of_file):\n",
    "                type_of_file.append(list(datas.columns))\n",
    "                name_of_file.append(join(folder_path, data_file))\n",
    "            for town in towns:\n",
    "                town_data = datas[datas[town] != 0].reset_index().copy()\n",
    "                town_data['country'] = folder\n",
    "                town_data['town'] = town\n",
    "                town_data = town_data[['country', 'town', date, description, town]]\n",
    "                town_data.columns = ['country', 'town', 'date', 'description', 'number']\n",
    "                town_data = town_data[(town_data.number.isnull() == False) & (town_data.number != 0)]\n",
    "                ebola_data = pd.concat([ebola_data, town_data], axis=0)\n",
    "  \n",
    "print(len(type_of_file))\n",
    "print(type_of_file)\n",
    "ebola_data_hot_encoded = pd.get_dummies(ebola_data, columns=['description'])\n",
    "for description in ebola_data_hot_encoded.columns[4:]:\n",
    "    ebola_data_hot_encoded.loc[(ebola_data_hot_encoded[description] == 1), description] = ebola_data_hot_encoded[ebola_data_hot_encoded[description] == 1].number\n"
   ]
  },
  {
   "cell_type": "code",
   "execution_count": 21,
>>>>>>> fa77c2dd46757be542d28b7a2508edb9dca70fb5
   "metadata": {},
   "outputs": [
    {
     "name": "stdout",
     "output_type": "stream",
     "text": [
<<<<<<< HEAD
      "Loading data from guinea\n",
      "Loading data from liberia\n",
      "Loading data from sl\n"
=======
      "Loading data from guinea\n"
     ]
    },
    {
     "ename": "AttributeError",
     "evalue": "type object 'datetime.datetime' has no attribute 'datetime'",
     "output_type": "error",
     "traceback": [
      "\u001b[1;31m---------------------------------------------------------------------------\u001b[0m",
      "\u001b[1;31mAttributeError\u001b[0m                            Traceback (most recent call last)",
      "\u001b[1;32m<ipython-input-21-1d52764a5bc9>\u001b[0m in \u001b[0;36m<module>\u001b[1;34m()\u001b[0m\n\u001b[0;32m     14\u001b[0m         \u001b[1;32mif\u001b[0m \u001b[0misfile\u001b[0m\u001b[1;33m(\u001b[0m\u001b[0mjoin\u001b[0m\u001b[1;33m(\u001b[0m\u001b[0mfolder_path\u001b[0m\u001b[1;33m,\u001b[0m \u001b[0mdata_file\u001b[0m\u001b[1;33m)\u001b[0m\u001b[1;33m)\u001b[0m\u001b[1;33m:\u001b[0m\u001b[1;33m\u001b[0m\u001b[0m\n\u001b[0;32m     15\u001b[0m             \u001b[0mmetas\u001b[0m \u001b[1;33m=\u001b[0m \u001b[0mdata_file\u001b[0m\u001b[1;33m.\u001b[0m\u001b[0mreplace\u001b[0m\u001b[1;33m(\u001b[0m\u001b[1;34m'.'\u001b[0m\u001b[1;33m,\u001b[0m \u001b[1;34m'-'\u001b[0m\u001b[1;33m)\u001b[0m\u001b[1;33m.\u001b[0m\u001b[0msplit\u001b[0m\u001b[1;33m(\u001b[0m\u001b[1;34m'-'\u001b[0m\u001b[1;33m)\u001b[0m\u001b[1;33m\u001b[0m\u001b[0m\n\u001b[1;32m---> 16\u001b[1;33m             \u001b[0mmeta_date\u001b[0m \u001b[1;33m=\u001b[0m \u001b[0mdatetime\u001b[0m\u001b[1;33m.\u001b[0m\u001b[0mdatetime\u001b[0m\u001b[1;33m(\u001b[0m\u001b[0mint\u001b[0m\u001b[1;33m(\u001b[0m\u001b[0mmetas\u001b[0m\u001b[1;33m[\u001b[0m\u001b[1;36m0\u001b[0m\u001b[1;33m]\u001b[0m\u001b[1;33m)\u001b[0m\u001b[1;33m,\u001b[0m \u001b[0mint\u001b[0m\u001b[1;33m(\u001b[0m\u001b[0mmetas\u001b[0m\u001b[1;33m[\u001b[0m\u001b[1;36m1\u001b[0m\u001b[1;33m]\u001b[0m\u001b[1;33m)\u001b[0m\u001b[1;33m,\u001b[0m \u001b[0mint\u001b[0m\u001b[1;33m(\u001b[0m\u001b[0mmetas\u001b[0m\u001b[1;33m[\u001b[0m\u001b[1;36m2\u001b[0m\u001b[1;33m]\u001b[0m\u001b[1;33m)\u001b[0m\u001b[1;33m)\u001b[0m\u001b[1;33m\u001b[0m\u001b[0m\n\u001b[0m\u001b[0;32m     17\u001b[0m             \u001b[0mdatas\u001b[0m \u001b[1;33m=\u001b[0m \u001b[0mpd\u001b[0m\u001b[1;33m.\u001b[0m\u001b[0mDataFrame\u001b[0m\u001b[1;33m.\u001b[0m\u001b[0mfrom_csv\u001b[0m\u001b[1;33m(\u001b[0m\u001b[0mfolder_path\u001b[0m \u001b[1;33m+\u001b[0m \u001b[0mdata_file\u001b[0m\u001b[1;33m)\u001b[0m\u001b[1;33m\u001b[0m\u001b[0m\n\u001b[0;32m     18\u001b[0m             \u001b[0mdatas\u001b[0m\u001b[1;33m.\u001b[0m\u001b[0mcolumns\u001b[0m \u001b[1;33m=\u001b[0m \u001b[1;33m[\u001b[0m\u001b[0mcol\u001b[0m\u001b[1;33m.\u001b[0m\u001b[0mlower\u001b[0m\u001b[1;33m(\u001b[0m\u001b[1;33m)\u001b[0m \u001b[1;32mfor\u001b[0m \u001b[0mcol\u001b[0m \u001b[1;32min\u001b[0m \u001b[0mdatas\u001b[0m\u001b[1;33m.\u001b[0m\u001b[0mcolumns\u001b[0m\u001b[1;33m]\u001b[0m\u001b[1;33m\u001b[0m\u001b[0m\n",
      "\u001b[1;31mAttributeError\u001b[0m: type object 'datetime.datetime' has no attribute 'datetime'"
>>>>>>> fa77c2dd46757be542d28b7a2508edb9dca70fb5
     ]
    }
   ],
   "source": [
    "folders = ['guinea', 'liberia', 'sl']\n",
    "folder_end = '_data/'\n",
    "folder_begin = 'ebola/'\n",
    "\n",
    "type_of_file = []\n",
    "name_of_file = []\n",
    "counter = 0\n",
    "ebola_data = pd.DataFrame(columns=['country', 'date', 'description', 'number'])\n",
    "for folder in folders:\n",
    "    folder_path = DATA_FOLDER + folder_begin + folder + folder_end\n",
    "    print(\"Loading data from %s\" % folder)\n",
    "    for data_file in listdir(folder_path):\n",
    "        counter = counter + 1\n",
    "        if isfile(join(folder_path, data_file)):\n",
    "            datas = pd.DataFrame.from_csv(folder_path + data_file)\n",
    "            datas.columns = [col.lower() for col in datas.columns]\n",
    "            \n",
    "            towns = list(datas.columns[1:])\n",
    "            date = datas.index.name\n",
    "            description = datas.columns[0]\n",
    "            total_col_name = 'totals' if 'totals' in datas.columns else 'national'\n",
    "            towns.remove(total_col_name)\n",
    "            \n",
    "            datas = datas.reset_index().copy()\n",
    "            datas['country'] = folder\n",
    "            \n",
    "            #Reorganise data in a uniform way\n",
    "            datas = datas[['country', date, description, total_col_name]]\n",
    "            datas.columns = ['country', 'date', 'description', 'number']\n",
    "            \n",
    "            #Transform values in integer.\n",
    "            datas = datas.fillna(0)\n",
    "            datas = datas[~datas['number'].astype(str).str.contains('%')]\n",
    "            datas['number'] = datas['number'].astype(str).str.replace(',', '')\n",
    "            datas['number'] = datas['number'].astype(float).astype(int)\n",
    "            \n",
    "            ebola_data = pd.concat([ebola_data, datas], axis=0)\n",
    "            \n",
    "print('Loading completed.')"
   ]
  },
  {
   "cell_type": "markdown",
   "metadata": {},
   "source": [
    "Transforming categories and number of observed in separate columns each containing the category name and the number observed for this category. And aggregation on the groups (country, date), we use max function as we are interested only in cummulative values."
   ]
  },
  {
   "cell_type": "code",
   "execution_count": 4,
   "metadata": {},
   "outputs": [],
   "source": [
    "ebola_data_hot_encoded = pd.get_dummies(ebola_data, columns=['description'])\n",
    "\n",
    "for description in ebola_data_hot_encoded.columns[3:]:\n",
    "    ebola_data_hot_encoded.loc[(ebola_data_hot_encoded[description] == 1), description] = \\\n",
    "        ebola_data_hot_encoded[ebola_data_hot_encoded[description] == 1].number\n",
    "\n",
    "ebola_data_hot_encoded = ebola_data_hot_encoded.groupby(by=['country', 'date']).agg(np.max)\n",
    "ebola_data_hot_encoded.columns = [col.lower().replace('\\n', '') for col in ebola_data_hot_encoded.columns]\n"
   ]
  },
  {
   "cell_type": "markdown",
   "metadata": {},
   "source": [
<<<<<<< HEAD
    "We now select only the categories which interest us(new cases and deaths) and create two new columns containing the cumulative number of new cases and deaths for each country and date. A detailed explication of how the columns have been selected is given in the sub-section \"Evaluation of the data set\"."
=======
    "Computing the average values for the type of file used by Guinea. Indeed, for Guinea we are missing a lot of data and are therefore not able to use the daily report to compute the average number of new deaths/cases. Hence, instead of using the daily value, we use the cumulative value to compute an estimated value of the average number of new deaths/cases per day for each month."
>>>>>>> fa77c2dd46757be542d28b7a2508edb9dca70fb5
   ]
  },
  {
   "cell_type": "code",
<<<<<<< HEAD
   "execution_count": 5,
   "metadata": {
    "collapsed": true
   },
   "outputs": [],
   "source": [
    "cumulative_deaths = ['description_total death/s in confirmed,  probable, suspected cases',  \n",
    "                     'description_total death/s in confirmed, probable, suspected cases',\n",
    "                    'description_total deaths (confirmed + probables + suspects)','cum_death_tmp']\n",
    "\n",
    "death_to_agg = ['description_death_suspected', 'description_death_probable', 'description_death_confirmed']\n",
    "ebola_data_hot_encoded['cum_death_tmp'] = np.sum(ebola_data_hot_encoded[death_to_agg].values, axis=1)\n",
    "\n",
    "cumulative_cases = ['description_cumulative confirmed, probable and suspected cases', \n",
    "                    'description_cumulative (confirmed + probable + suspects)', 'cum_cases_tmp1', 'cum_cases_tmp2']\n",
    "\n",
    "cases_to_agg = ['description_total suspected cases', 'description_total probable cases', 'description_total confirmed cases']\n",
    "ebola_data_hot_encoded['cum_cases_tmp1'] = np.sum(ebola_data_hot_encoded[cases_to_agg].values, axis=1)\n",
    "\n",
    "cases_to_agg = ['description_cum_confirmed', 'description_cum_probable', 'description_cum_suspected']\n",
    "ebola_data_hot_encoded['cum_cases_tmp2'] = np.sum(ebola_data_hot_encoded[cases_to_agg].values, axis=1)\n",
    "\n",
    "ebola_data_hot_encoded.columns = [col.lower().replace('\\n', '') for col in ebola_data_hot_encoded.columns]\n",
    "ebola_data_hot_encoded['cum_cases'] = np.max(ebola_data_hot_encoded[cumulative_cases].values, axis=1)\n",
    "\n",
    "ebola_data_hot_encoded['cum_deaths'] = np.max(ebola_data_hot_encoded[cumulative_deaths].values, axis=1)\n"
   ]
  },
  {
   "cell_type": "markdown",
=======
   "execution_count": null,
>>>>>>> fa77c2dd46757be542d28b7a2508edb9dca70fb5
   "metadata": {},
   "source": [
    "Then we remove the samples with values equal to zero."
   ]
  },
  {
   "cell_type": "code",
   "execution_count": 6,
   "metadata": {
    "collapsed": true
   },
   "outputs": [],
   "source": [
    "ebola_data_hot_encoded = ebola_data_hot_encoded[(ebola_data_hot_encoded['cum_deaths'] != 0) & \n",
    "                                                (ebola_data_hot_encoded['cum_cases'] != 0)]"
   ]
  },
  {
   "cell_type": "markdown",
   "metadata": {},
   "source": [
    "We plot the cumulative deaths and cases obtained for each country to observe the results obtained."
   ]
  },
  {
   "cell_type": "code",
   "execution_count": 14,
   "metadata": {},
   "outputs": [
    {
     "data": {
      "text/plain": [
       "<matplotlib.text.Text at 0x1169ca2b0>"
      ]
     },
     "execution_count": 14,
     "metadata": {},
     "output_type": "execute_result"
    },
    {
     "data": {
      "image/png": "iVBORw0KGgoAAAANSUhEUgAABsoAAAI6CAYAAACO3R3bAAAABHNCSVQICAgIfAhkiAAAAAlwSFlz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\nSZIkaSj9fzHoXn6Wf+C4AAAAAElFTkSuQmCC\n",
      "text/plain": [
       "<matplotlib.figure.Figure at 0x116932c50>"
      ]
     },
     "metadata": {},
     "output_type": "display_data"
    }
   ],
   "source": [
    "%matplotlib inline\n",
    "import matplotlib.pyplot as plt\n",
    "\n",
    "final_ebola_data = ebola_data_hot_encoded[['cum_deaths', 'cum_cases']].reset_index()\n",
    "\n",
    "fig, axes = plt.subplots(nrows=1, ncols=2, figsize=(30, 10))\n",
    "\n",
    "tmp_df = final_ebola_data.groupby('country')\n",
    "\n",
    "tmp_df.plot(style='o', x='date', y='cum_deaths', ax=axes[0], legend=True, title='Total number of deaths over time')\n",
    "axes[0].legend(tmp_df.country.unique())\n",
    "axes[0].set_ylabel('Number of deaths')\n",
    "\n",
    "tmp_df.plot(style='o', x='date', y='cum_cases', ax=axes[1], legend=True, title='Total number of cases over time')\n",
    "axes[1].legend(tmp_df.country.unique())\n",
    "axes[1].set_ylabel('Number of cases')\n",
    "\n",
    "#fig.show()"
   ]
  },
  {
   "cell_type": "markdown",
   "metadata": {},
   "source": [
    "The results above make us able to remark some aberrant values(end of August for Guinea and end of October for Liberia) in the deaths cumulative values, these values are later removed from the samples. Although it seems a brutal approach as we are not able to discuss with the people who created the dataset we are not able to decide perfectly of which cumulative values is more reliable than another. Moreover for each of these aberrant value we manually check if it's not a code error. We also check that the total amount of samples kept after all the cleaning operations is satisfying."
   ]
  },
  {
   "cell_type": "code",
<<<<<<< HEAD
   "execution_count": 15,
   "metadata": {},
   "outputs": [
    {
     "data": {
      "text/html": [
       "<div>\n",
       "<style>\n",
       "    .dataframe thead tr:only-child th {\n",
       "        text-align: right;\n",
       "    }\n",
       "\n",
       "    .dataframe thead th {\n",
       "        text-align: left;\n",
       "    }\n",
       "\n",
       "    .dataframe tbody tr th {\n",
       "        vertical-align: top;\n",
       "    }\n",
       "</style>\n",
       "<table border=\"1\" class=\"dataframe\">\n",
       "  <thead>\n",
       "    <tr>\n",
       "      <th></th>\n",
       "      <th colspan=\"8\" halign=\"left\">cum_cases</th>\n",
       "      <th colspan=\"8\" halign=\"left\">cum_deaths</th>\n",
       "    </tr>\n",
       "    <tr>\n",
       "      <th></th>\n",
       "      <th>count</th>\n",
       "      <th>mean</th>\n",
       "      <th>std</th>\n",
       "      <th>min</th>\n",
       "      <th>25%</th>\n",
       "      <th>50%</th>\n",
       "      <th>75%</th>\n",
       "      <th>max</th>\n",
       "      <th>count</th>\n",
       "      <th>mean</th>\n",
       "      <th>std</th>\n",
       "      <th>min</th>\n",
       "      <th>25%</th>\n",
       "      <th>50%</th>\n",
       "      <th>75%</th>\n",
       "      <th>max</th>\n",
       "    </tr>\n",
       "    <tr>\n",
       "      <th>country</th>\n",
       "      <th></th>\n",
       "      <th></th>\n",
       "      <th></th>\n",
       "      <th></th>\n",
       "      <th></th>\n",
       "      <th></th>\n",
       "      <th></th>\n",
       "      <th></th>\n",
       "      <th></th>\n",
       "      <th></th>\n",
       "      <th></th>\n",
       "      <th></th>\n",
       "      <th></th>\n",
       "      <th></th>\n",
       "      <th></th>\n",
       "      <th></th>\n",
       "    </tr>\n",
       "  </thead>\n",
       "  <tbody>\n",
       "    <tr>\n",
       "      <th>guinea</th>\n",
       "      <td>19.0</td>\n",
       "      <td>913.210526</td>\n",
       "      <td>181.067077</td>\n",
       "      <td>495.0</td>\n",
       "      <td>806.5</td>\n",
       "      <td>936.0</td>\n",
       "      <td>1035.0</td>\n",
       "      <td>1199.0</td>\n",
       "      <td>19.0</td>\n",
       "      <td>578.052632</td>\n",
       "      <td>96.413734</td>\n",
       "      <td>363.0</td>\n",
       "      <td>511.5</td>\n",
       "      <td>595.0</td>\n",
       "      <td>639.0</td>\n",
       "      <td>739.0</td>\n",
       "    </tr>\n",
       "    <tr>\n",
       "      <th>liberia</th>\n",
       "      <td>79.0</td>\n",
       "      <td>3331.936709</td>\n",
       "      <td>2653.499326</td>\n",
       "      <td>22.0</td>\n",
       "      <td>844.0</td>\n",
       "      <td>3017.0</td>\n",
       "      <td>4675.0</td>\n",
       "      <td>7797.0</td>\n",
       "      <td>79.0</td>\n",
       "      <td>1633.088608</td>\n",
       "      <td>1148.796429</td>\n",
       "      <td>16.0</td>\n",
       "      <td>468.0</td>\n",
       "      <td>1567.0</td>\n",
       "      <td>2701.5</td>\n",
       "      <td>3290.0</td>\n",
       "    </tr>\n",
       "    <tr>\n",
       "      <th>sl</th>\n",
       "      <td>89.0</td>\n",
       "      <td>3260.550562</td>\n",
       "      <td>2053.308267</td>\n",
       "      <td>800.0</td>\n",
       "      <td>1478.0</td>\n",
       "      <td>2937.0</td>\n",
       "      <td>4611.0</td>\n",
       "      <td>7798.0</td>\n",
       "      <td>89.0</td>\n",
       "      <td>980.112360</td>\n",
       "      <td>535.273516</td>\n",
       "      <td>303.0</td>\n",
       "      <td>484.0</td>\n",
       "      <td>885.0</td>\n",
       "      <td>1435.0</td>\n",
       "      <td>2074.0</td>\n",
       "    </tr>\n",
       "  </tbody>\n",
       "</table>\n",
       "</div>"
      ],
      "text/plain": [
       "        cum_cases                                                           \\\n",
       "            count         mean          std    min     25%     50%     75%   \n",
       "country                                                                      \n",
       "guinea       19.0   913.210526   181.067077  495.0   806.5   936.0  1035.0   \n",
       "liberia      79.0  3331.936709  2653.499326   22.0   844.0  3017.0  4675.0   \n",
       "sl           89.0  3260.550562  2053.308267  800.0  1478.0  2937.0  4611.0   \n",
       "\n",
       "                cum_deaths                                                  \\\n",
       "            max      count         mean          std    min    25%     50%   \n",
       "country                                                                      \n",
       "guinea   1199.0       19.0   578.052632    96.413734  363.0  511.5   595.0   \n",
       "liberia  7797.0       79.0  1633.088608  1148.796429   16.0  468.0  1567.0   \n",
       "sl       7798.0       89.0   980.112360   535.273516  303.0  484.0   885.0   \n",
       "\n",
       "                         \n",
       "            75%     max  \n",
       "country                  \n",
       "guinea    639.0   739.0  \n",
       "liberia  2701.5  3290.0  \n",
       "sl       1435.0  2074.0  "
      ]
     },
     "execution_count": 15,
     "metadata": {},
     "output_type": "execute_result"
    },
    {
     "data": {
      "image/png": "iVBORw0KGgoAAAANSUhEUgAABsoAAAI6CAYAAACO3R3bAAAABHNCSVQICAgIfAhkiAAAAAlwSFlz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\nSUVORK5CYII=\n",
      "text/plain": [
       "<matplotlib.figure.Figure at 0x116932d30>"
      ]
     },
     "metadata": {},
     "output_type": "display_data"
    }
   ],
   "source": [
    "final_ebola_data2 = final_ebola_data[((final_ebola_data.country != 'guinea') | (final_ebola_data.cum_deaths < 800)) & (final_ebola_data.cum_deaths < 4000)]\n",
    "\n",
    "id_to_remove = []\n",
    "for country in final_ebola_data2.country:\n",
    "    min_deaths_value = 0\n",
    "    min_cases_value = 0\n",
    "    for index, row in final_ebola_data2[final_ebola_data2.country == country].sort_values('date').iterrows():\n",
    "        if row['cum_deaths'] > min_deaths_value:\n",
    "            min_deaths_value = row['cum_deaths']\n",
    "        else:\n",
    "            id_to_remove.append(index)\n",
    "            \n",
    "        if row['cum_cases'] > min_cases_value:\n",
    "            min_cases_value = row['cum_cases']\n",
    "        else:\n",
    "            id_to_remove.append(index)\n",
    "\n",
    "final_ebola_data2 = final_ebola_data2.drop(id_to_remove)\n",
    "fig, axes = plt.subplots(nrows=1, ncols=2, figsize=(30, 10))\n",
    "\n",
    "tmp_df = final_ebola_data2.groupby('country')\n",
    "\n",
    "tmp_df.plot(style='o', x='date', y='cum_deaths', ax=axes[0], legend=True, title='Total number of deaths over time')\n",
    "axes[0].legend(tmp_df.country.unique())\n",
    "axes[0].set_ylabel('Number of deaths')\n",
    "\n",
    "tmp_df.plot(style='o', x='date', y='cum_cases', ax=axes[1], legend=True, title='Total number of cases over time')\n",
    "axes[1].legend(tmp_df.country.unique())\n",
    "axes[1].set_ylabel('Number of cases')\n",
    "\n",
    "tmp_df.describe()"
   ]
  },
  {
   "cell_type": "markdown",
   "metadata": {},
   "source": [
    "Now we are able to compute the average number of new cases and of new deaths per month for each country. In order to do that, for each month we take the two samples respectively minimizing the time between the beginning/end of the month and the date of the sample. We then apply the formula written at the beginning of the document. We could probably improve our estimation by interpoling the points and taking the predicted value of the total number of deaths/cases at the beginning and at the end of the month, however the purpose of the homework was to learn to import and clean data and not to infer general behavior based on samples."
   ]
  },
  {
   "cell_type": "code",
   "execution_count": 47,
   "metadata": {},
   "outputs": [
    {
     "name": "stdout",
     "output_type": "stream",
     "text": [
      "guinea\n",
      "\n",
      "\tFor the month of August average number of deaths is 4.666667 and of cases is 9.407407.\n",
      "\n",
      "\tFor the month of September average number of deaths is 7.500000 and of cases is 14.000000.\n",
      "liberia\n",
      "\n",
      "\tFor the month of June average number of deaths is 3.000000 and of cases is 5.200000.\n",
      "\n",
      "\tFor the month of July average number of deaths is 6.125000 and of cases is 11.593750.\n",
      "\n",
      "\tFor the month of August average number of deaths is 24.900000 and of cases is 43.066667.\n",
      "\n",
      "\tFor the month of September average number of deaths is 36.344828 and of cases is 71.137931.\n",
      "\n",
      "\tFor the month of October average number of deaths is 34.400000 and of cases is 44.100000.\n",
      "\n",
      "\tFor the month of November average number of deaths is 9.675000 and of cases is 72.025000.\n",
      "sl\n",
      "\n",
      "\tFor the month of August average number of deaths is 7.333333 and of cases is 21.666667.\n",
      "\n",
      "\tFor the month of September average number of deaths is 5.310345 and of cases is 41.931034.\n",
      "\n",
      "\tFor the month of October average number of deaths is 27.000000 and of cases is 69.967742.\n",
      "\n",
      "\tFor the month of November average number of deaths is 15.000000 and of cases is 86.535714.\n"
     ]
    }
   ],
=======
   "execution_count": null,
   "metadata": {},
   "outputs": [],
>>>>>>> fa77c2dd46757be542d28b7a2508edb9dca70fb5
   "source": [
    "import calendar\n",
    "from calendar import monthrange\n",
    "import datetime\n",
    "\n",
    "f_ebola = final_ebola_data2\n",
    "\n",
    "months = range(final_ebola_data2.date.min().month, final_ebola_data2.date.max().month)\n",
    "\n",
    "for month in months:\n",
    "    f_ebola['avg_deaths_%d' % month] = -1\n",
    "    f_ebola['avg_cases_%d' % month] = -1\n",
    "    \n",
    "for country in f_ebola.country.unique():\n",
    "    c_df = f_ebola[f_ebola.country == country]\n",
    "    months = range(c_df.date.min().month, c_df.date.max().month)\n",
    "    print(country)\n",
    "    for month in months:\n",
    "\n",
    "        min_day = c_df.date[np.argmin(abs(c_df.date - datetime.date(year = 2014, month = month, day = 1)))]\n",
    "        max_day = c_df.date[np.argmin(abs(c_df.date - datetime.date(year = 2014, month = month, day = monthrange(2014, month)[1])))]\n",
    "\n",
    "        min_val = c_df[c_df.date == min_day]\n",
    "        max_val = c_df[c_df.date == max_day]\n",
    "        \n",
    "        avg_deaths = (max_val.cum_deaths.values[0] - min_val.cum_deaths.values[0])/(max_day - min_day).days\n",
    "        avg_cases = (max_val.cum_cases.values[0] - min_val.cum_cases.values[0])/(max_day - min_day).days\n",
    "        \n",
    "        f_ebola.loc[f_ebola.country == country, ['avg_deaths_%d' % month, 'avg_cases_%d' % month]] = \\\n",
    "            [avg_deaths, avg_cases]\n",
    "        print('\\tFor the month of %s average number of deaths is %f and of cases is %f.' % \\\n",
    "              (calendar.month_name[month], avg_deaths, avg_cases))\n"
   ]
  },
  {
   "cell_type": "markdown",
   "metadata": {},
   "source": [
    "### Evaluation of the data set ###"
   ]
  },
  {
   "cell_type": "code",
   "execution_count": null,
   "metadata": {
    "collapsed": true
   },
   "outputs": [],
   "source": [
    "folders = ['guinea', 'liberia', 'sl']\n",
    "folder_end = '_data/'\n",
    "folder_begin = 'ebola/'\n",
    "\n",
    "type_of_file = []\n",
    "name_of_file = []\n",
    "\n",
    "ebola_data = pd.DataFrame(columns=['country', 'town', 'date', 'description', 'number'])\n",
    "for folder in folders:\n",
    "    folder_path = DATA_FOLDER + folder_begin + folder + folder_end\n",
    "    print(\"Loading data from %s\" % folder)\n",
    "    for data_file in listdir(folder_path):\n",
    "        if isfile(join(folder_path, data_file)):\n",
    "            metas = data_file.replace('.', '-').split('-')\n",
    "            meta_date = datetime(int(metas[0]), int(metas[1]), int(metas[2]))\n",
    "            datas = pd.DataFrame.from_csv(folder_path + data_file)\n",
    "            towns = datas.columns[2:]\n",
    "            date = datas.index.name\n",
    "            description = datas.columns[0]\n",
    "            #register the different type of file it exists.\n",
    "            if not(list(datas.columns) in type_of_file):\n",
    "                type_of_file.append(list(datas.columns))\n",
    "                name_of_file.append(join(folder_path, data_file))\n",
    "            for town in towns:\n",
    "                town_data = datas[datas[town] != 0].reset_index().copy()\n",
    "                town_data['country'] = folder\n",
    "                town_data['town'] = town\n",
    "                town_data = town_data[['country', 'town', date, description, town]]\n",
    "                town_data.columns = ['country', 'town', 'date', 'description', 'number']\n",
    "                town_data = town_data[(town_data.number.isnull() == False) & (town_data.number != 0)]\n",
    "                ebola_data = pd.concat([ebola_data, town_data], axis=0)\n",
    "  \n",
    "print(len(type_of_file))\n",
    "ebola_data_hot_encoded = pd.get_dummies(ebola_data, columns=['description'])\n",
    "for description in ebola_data_hot_encoded.columns[4:]:\n",
    "    ebola_data_hot_encoded.loc[(ebola_data_hot_encoded[description] == 1), description] = ebola_data_hot_encoded[ebola_data_hot_encoded[description] == 1].number\n"
   ]
  },
  {
   "cell_type": "code",
   "execution_count": null,
   "metadata": {},
   "outputs": [],
   "source": [
    "\n",
    "print(counter)\n",
    "print(len(type_of_file))\n",
    "\n"
   ]
  },
  {
   "cell_type": "markdown",
   "metadata": {},
   "source": [
    "Computing the average values for the type of file used by Guinea. Indeed for the Guinea we miss a lot of data we are thus not able to use the daily report to compute the average number of new deaths/cases instead of the daily value we thus use the cumulative value to compute an estimated value of the average number of new deaths/cases per day for each month"
   ]
  },
  {
   "cell_type": "code",
   "execution_count": null,
   "metadata": {
    "collapsed": true
   },
   "outputs": [],
   "source": []
  },
  {
   "cell_type": "code",
   "execution_count": null,
   "metadata": {},
   "outputs": [],
   "source": [
    "import datetime\n",
    "\n",
    "data_ebola = ebola_data_hot_encoded.copy()\n",
    "data_guinea = data_ebola.iloc[data_ebola.index.get_level_values('country') == 'guinea']\n",
    "for col in data_guinea.columns:\n",
    "    #print(col)\n",
    "    if 'Cumulative' in col:\n",
    "        print(col)\n",
    "data_guinea.reset_index(level=1, inplace=True)\n",
    "#data_guinea.reset_index()\n",
    "#print(data_guinea.head())\n",
    "min_day = 35\n",
    "min_value = 0\n",
    "max_day = 0\n",
    "max_value = 0\n",
    "month = 8\n",
    "for val in data_guinea[['date', 'description_Cumulative (confirmed + probable + suspects)']].values:\n",
    "    date = val[0]\n",
    "    if month == date.month:\n",
    "        if min_day > date.day:\n",
    "            min_day = date.day\n",
    "            min_value = val[1]\n",
    "        if max_day < date.day:\n",
    "            max_day = date.day\n",
    "            max_value = val[1]\n",
    "    else:\n",
    "        print('Average value of new case per day for month %d is %f' % (month, float(max_value - min_value)/float(max_day - min_day)))\n",
    "        month = date.month\n",
    "        min_day = date.day\n",
    "        min_value = val[1]\n",
    "        max_day = 0\n",
    "        max_value = 0\n",
    "#print(data_guinea['description_Total deaths (confirmed + probables + suspects)'])"
   ]
  },
  {
   "cell_type": "markdown",
   "metadata": {},
   "source": [
    "Now we're trying to extract only the columns which are relevant to compute the average number of new cases and of new deaths. To do that, we search for the words 'new' and 'cases' to conclude that it is related to the number of new cases and for the words 'new' and 'deaths' to conclude that it is related to the number of new deaths. We also keep track of the other columns containing the word 'new' which could be relevant to compute new cases. We then look at the different column names which are extracted. \n",
    "\n",
    "We see here that there are some ambiguous columns which could be problematic. First we will look at a file containing the column 'description_total new cases registered so far' to see what this exactly means; indeed, if we use this column we should be careful that it is probably a cumulative value. This value could be used to compute the average number per year but if we can drop it out and replace it by daily count of new cases we will do it so that the type of data is more uniform. \n",
    "\n",
    "The second interesting column is 'description_new cases of confirmed among health workers'. We will also take a look at a file containing this value in order to see if the value is not already taken into account in another column. \n",
    "The same comment can be done for the columns 'description_newly reported cases in hcw', 'description_newly reported deaths in hcw', 'description_newly reported deaths in hcw'.\n",
    "\n",
    "The column 'description_new_noncase' should also probably be removed.\n",
    "\n",
    "Finally in the columns containing only the word 'new' we see some which could correspond to new cases: description_new_confirmed\n",
    "description_new_positive\n",
    "description_new_probable\n",
    "description_new_suspected\n",
    "For each of these columns we will look at the corresponding file to see if the column must be added in the list of new deaths/cases columns.\n",
    "\n",
    "\n",
    "In the data we also notice some percentage value: These are there to tell which percentage of the population has been seen (sampled / screened FIXME). We assume this value can be neglected for our analysis, as this is a survey on the evolution of Ebola we can suppose that almost all the deaths and new cases of ebola are registered in the file even if the whole population has not been seen."
   ]
  },
  {
   "cell_type": "code",
   "execution_count": null,
   "metadata": {},
   "outputs": [],
   "source": [
    "ebola_data_hot_encoded.columns = [col.lower().replace('\\n', '') for col in ebola_data_hot_encoded.columns]\n",
    "\n",
    "cumulative_deaths = ['description_total death/s in confirmed,  probable, suspected cases',  \n",
    "                     'description_total death/s in confirmed, probable, suspected cases',\n",
    "                    'description_total deaths (confirmed + probables + suspects)','cum_death_tmp']\n",
    "\n",
    "death_to_agg = ['description_death_suspected', 'description_death_probable', 'description_death_confirmed']\n",
    "ebola_data_hot_encoded['cum_death_tmp'] = np.sum(ebola_data_hot_encoded[death_to_agg].values, axis=1)\n",
    "\n",
    "cumulative_cases = ['description_cumulative confirmed, probable and suspected cases', \n",
    "                    'description_cumulative (confirmed + probable + suspects)', 'cum_cases_tmp1', 'cum_cases_tmp2']\n",
    "\n",
    "cases_to_agg = ['description_total suspected cases', 'description_total probable cases', 'description_total confirmed cases']\n",
    "ebola_data_hot_encoded['cum_cases_tmp1'] = np.sum(ebola_data_hot_encoded[cases_to_agg].values, axis=1)\n",
    "\n",
    "cases_to_agg = ['description_cum_confirmed', 'description_cum_probable', 'description_cum_suspected']\n",
    "ebola_data_hot_encoded['cum_cases_tmp2'] = np.sum(ebola_data_hot_encoded[cases_to_agg].values, axis=1)\n",
    "\n",
    "ebola_data_hot_encoded.columns = [col.lower().replace('\\n', '') for col in ebola_data_hot_encoded.columns]\n",
    "ebola_data_hot_encoded['cum_cases'] = np.max(ebola_data_hot_encoded[cumulative_cases].values, axis=1)\n",
    "print(len(ebola_data_hot_encoded[ebola_data_hot_encoded['cum_cases'] == 0]))\n",
    "print(ebola_data_hot_encoded[ebola_data_hot_encoded['cum_cases'] == 0]['cum_cases'])\n",
    "ebola_data_hot_encoded['cum_deaths'] = np.max(ebola_data_hot_encoded[cumulative_deaths].values, axis=1)\n",
    "print(len(ebola_data_hot_encoded[ebola_data_hot_encoded['cum_deaths'] == 0]))\n",
    "print(ebola_data_hot_encoded[ebola_data_hot_encoded['cum_deaths'] == 0]['cum_deaths'])\n"
   ]
  },
  {
   "cell_type": "markdown",
   "metadata": {},
   "source": [
    "We still have problems in some values for Sierra Leon and Liberia, however as we only use extreme points to estimate the averages per day we can simply drop these data without any impact on our final result."
   ]
  },
  {
   "cell_type": "code",
   "execution_count": null,
<<<<<<< HEAD
   "metadata": {
    "collapsed": true
   },
=======
   "metadata": {},
>>>>>>> fa77c2dd46757be542d28b7a2508edb9dca70fb5
   "outputs": [],
   "source": [
    "ebola_data_hot_encoded = ebola_data_hot_encoded[(ebola_data_hot_encoded['cum_deaths'] != 0) & \n",
    "                                                (ebola_data_hot_encoded['cum_cases'] != 0)]"
   ]
  },
  {
   "cell_type": "markdown",
   "metadata": {},
   "source": [
    "Now we plot the evaluation of the cumulative values over the time in the 3 countries."
   ]
  },
  {
   "cell_type": "code",
   "execution_count": null,
   "metadata": {},
   "outputs": [],
   "source": [
    "import matplotlib\n",
    "import matplotlib.pyplot as plt\n",
    "\n",
    "for folder in folders:\n",
    "    print(folder)\n",
    "    data = ebola_data_hot_encoded.iloc[ebola_data_hot_encoded.index.get_level_values('country') == folder]\n",
    "\n",
    "    dates = matplotlib.dates.date2num(list(data.index.get_level_values('date')))\n",
    "    plt.plot_date(dates, data['cum_deaths'])\n",
    "    plt.show()\n",
    "    plt.plot_date(dates, data['cum_cases'])\n",
    "    plt.show()\n"
   ]
  },
  {
   "cell_type": "code",
   "execution_count": null,
   "metadata": {},
   "outputs": [],
   "source": [
    "#print(ebola_data.head())\n",
    "#print(ebola_data_hot_encoded.head())\n",
    "ebola_data_hot_encoded.columns = [col.lower().replace('\\n', '') for col in ebola_data_hot_encoded.columns]\n",
    "new_cases_col = []\n",
    "new_deaths_col = []\n",
    "irrelevant_col = []\n",
    "relevant_col = []\n",
    "for col in ebola_data_hot_encoded.columns:\n",
    "    if ('new' in col) or ('death' in col) or ('case' in col):\n",
    "        relevant_col.append(col)\n",
    "        if 'death' in col:\n",
    "            new_deaths_col.append(col)\n",
    "        elif 'case' in col:\n",
    "            new_cases_col.append(col)\n",
    "    else:\n",
    "        irrelevant_col.append(col)\n",
    "\n",
    "print('cases:')\n",
    "[print('\\t%s' % col) for col in new_cases_col]\n",
    "print('deaths:')\n",
    "[print('\\t%s' % col) for col in new_deaths_col]\n",
    "print('Relevant:')\n",
    "[print('\\t%s' % col) for col in relevant_col]\n",
    "print('Other:')\n",
    "[print('\\t%s' % col) for col in irrelevant_col]\n",
    "''\n",
    "cumulative_deaths = ['description_total death/s in confirmed,  probable, suspected cases',  \n",
    "                     'description_total death/s in confirmed,  probable, suspected cases',\n",
    "                     'description_total death/s in confirmed, probable, suspected cases',\n",
    "                    'description_total deaths (confirmed + probables + suspects)', 'description_etc_cum_deaths']\n",
    "cumulative_cases = ['description_cumulative confirmed, probable and suspected cases', \n",
    "                    'description_cumulative confirmed, probable and suspected cases',\n",
    "                    'description_cumulative (confirmed + probable + suspects)', \n",
    "                    'description_cumulative (confirmed + probable + suspected)', 'description_total suspected cases', \n",
    "                   'description_total probable cases', 'description_total confirmed cases']"
   ]
  },
  {
   "cell_type": "markdown",
   "metadata": {},
   "source": [
    "Now we look at file containing these numbers.\n",
    "We notice that the column 'description_total new cases registered so far' is just the sum of the columns new cases of suspects/probables/confirmed but is not a cumulative value over time. We could therefore use this column instead of the 3 columns new cases of suspects/probables/confirmed.\n",
    "\n",
    "For the values of 'description_newly reported cases/deaths in hcw', we see that they seem to be always much smaller than the values of new cases/deaths and we thus suppose that we can neglect them whether they are already contained in the count of the new cases/deaths or not. However, we will check at the end that it is true that these values can be neglected, if not we won't be able to give a precise answer for the Liberia and in a real case we should ask the dataset creator to explain the exact meaning of the 'newly reported cases/deaths in hcw' values.\n",
    "\n",
    "Finally we notice that the columns 'description_new_confirmed', 'description_new_probable' and 'description_new_suspected' are significant to count the number of new cases in the Sierra Leon files. We also notice that the column '', 'description_new_death', 'description_new_probable' and 'description_new_suspected' (FIXME). During this phase we also notice that the value of 'description_etc_new_deaths' was very often equal to 0. However, since it was given in the FAQ that the other value of death was cumulative, we will as a first step use this value and not the other one. We will further check that the cumulative value give the same answer.\n",
    "\n",
    "We then construct our final new_deaths_col and new_cases_col vectors."
   ]
  },
  {
   "cell_type": "code",
   "execution_count": null,
   "metadata": {
    "collapsed": true
   },
   "outputs": [],
   "source": [
    "column_to_look_at = ['description_total new cases registered so far', 'description_newly reported cases in hcw', \n",
    "                     'description_newly reported deaths in hcw',\n",
    "                    'description_new_confirmed', 'description_new_positive', 'description_new_probable',\n",
    "                     'description_new_suspected']\n",
    "for col in column_to_look_at:\n",
    "    print(col)\n",
    "    print(ebola_data_hot_encoded[ebola_data_hot_encoded[col] != 0][ebola_data_hot_encoded.columns[:2]].head())\n",
    "    \n",
    "new_cases_col.remove('description_new_noncase')\n",
    "for col in column_to_look_at[:3]:\n",
    "    if 'case' in col:\n",
    "        new_cases_col.remove(col)\n",
    "    else:\n",
    "        new_deaths_col.remove(col)\n",
    "print(new_cases_col)\n",
    "new_cases_col.extend(['description_new_confirmed', 'description_new_probable', 'description_new_suspected'])"
   ]
  },
  {
   "cell_type": "markdown",
   "metadata": {},
   "source": [
    "Now we will aggregate the values of new cases and of new deaths and will also remove the columns not relevant for deaths and cases."
   ]
  },
  {
   "cell_type": "code",
   "execution_count": null,
   "metadata": {
    "collapsed": true
   },
   "outputs": [],
   "source": [
    "ebola_data_hot_encoded = ebola_data_hot_encoded[relevant_col]\n",
    "t = ebola_data_hot_encoded.copy()\n",
    "t['test'] = 1\n",
    "t['new_cases'] = np.sum(t[new_cases_col].values, axis=1)\n",
    "t['new_deaths'] = np.sum(t[new_deaths_col].values, axis=1)\n",
    "t = t[['new_cases', 'new_deaths']]\n",
    "print(t.head())\n",
    "#print(ebola_data_hot_encoded.head())"
   ]
  },
  {
   "cell_type": "markdown",
   "metadata": {},
   "source": [
    "Looking at the data obtained.\n",
    "Peut etre une bonne idée de mettre les descriptions en forme de columns et puis les aggregate. Une bonne idée serait aussi de à la base regarder le nombre de fichier différents on a(différents dans le sens que les colonnes sont différentes et peut etre aussi que les catégories sont diff) (FIXME)"
   ]
  },
  {
   "cell_type": "code",
   "execution_count": null,
   "metadata": {
    "collapsed": true
   },
   "outputs": [],
   "source": [
    "print(ebola_data_hot_encoded.head())\n",
    "for country in ebola_data.country.unique():\n",
    "    country_descriptions = ebola_data[ebola_data.country == country].description.unique()\n",
    "    towns = ebola_data[ebola_data.country == country].town.unique()\n",
    "    print('%s: \\n%s\\n%s' % (country, str(country_descriptions), str(towns)))\n",
    "    for town in towns:\n",
    "        town_description_miss = set(country_descriptions) - set(ebola_data[(ebola_data.country == country) \n",
    "                                               & (ebola_data.town == town)].description.unique())\n",
    "        if len(town_description_miss) != 0:\n",
    "            print('%s: %s\\n' % (town, str(town_description_miss)))\n",
    "            "
   ]
  },
  {
   "cell_type": "markdown",
   "metadata": {},
   "source": [
    "We can see some weird values which we will inspect. If they appear to be untrustable and don't have an impact too big on our value of interest we will remove them from the dataframe. Weird towns are: 'Unnamed: 18' in Liberia and ('Western area urban'\n",
    " 'Western area rural' 'National' 'Kenema (IFRC)' '34 Military Hospital'\n",
    " 'Police training School' 'Bo EMC' 'Western area' 'Kenema (KGH)'\n",
    " 'Hastings-F/Town' 'Western area combined'). We therefore look at the National value, if its the sum of the (FIXME)\n"
   ]
  },
  {
   "cell_type": "code",
   "execution_count": null,
   "metadata": {
    "collapsed": true
   },
   "outputs": [],
   "source": [
    "# First consider the 'Unnamed: 18' town\n",
    "print(ebola_data[(ebola_data.country == 'liberia') & (ebola_data.town == 'Unnamed: 18')])"
   ]
  },
  {
   "cell_type": "markdown",
   "metadata": {},
   "source": [
    "Only one value is not a NaN, so this \"town\" does not seem very trustworthy. Moreover, the only value is probably negligeable over the statistics of the whole country(we will check that). So let's remove this town and evaluate the next weird value."
   ]
  },
  {
   "cell_type": "code",
   "execution_count": null,
   "metadata": {
    "collapsed": true
   },
   "outputs": [],
   "source": [
    "print(ebola_data_hot_encoded.columns)\n",
    "ebola_data_hot_encoded.columns = [col.lower() for col in ebola_data_hot_encoded.columns]"
   ]
  },
  {
   "cell_type": "code",
   "execution_count": null,
   "metadata": {
    "collapsed": true
   },
   "outputs": [],
   "source": [
    "a = [(('death' in col) & ('new' in col)) for col in ebola_data_hot_encoded.columns]\n",
    "print(a)\n",
    "ebola_data_hot_encoded.columns[a]"
   ]
  },
  {
   "cell_type": "markdown",
   "metadata": {},
   "source": [
    "## Task 2. RNA Sequences\n",
    "\n",
    "In the `DATA_FOLDER/microbiome` subdirectory, there are 9 spreadsheets of microbiome data that was acquired from high-throughput RNA sequencing procedures, along with a 10<sup>th</sup> file that describes the content of each. \n",
    "\n",
    "Use pandas to import the first 9 spreadsheets into a single `DataFrame`.\n",
    "Then, add the metadata information from the 10<sup>th</sup> spreadsheet as columns in the combined `DataFrame`.\n",
    "Make sure that the final `DataFrame` has a unique index and all the `NaN` values have been replaced by the tag `unknown`."
   ]
  },
  {
   "cell_type": "code",
   "execution_count": null,
   "metadata": {},
   "outputs": [],
   "source": [
    "# Write your answer here\n",
    "datas = pd.DataFrame()\n",
    "\n",
    "for i in range(1, 10):\n",
    "    file_name = '%s/microbiome/MID%d.xls' % (DATA_FOLDER, i)\n",
    "    data = pd.read_excel(open(file_name,'rb'), header=None)\n",
    "    data.columns = ['Subject', 'Value']\n",
    "    data['BARCODE'] = 'MID%d' % i\n",
    "    datas = pd.concat([datas, data], axis=0)\n",
    "\n",
    "data = pd.read_excel(open('%s/microbiome/metadata.xls' % (DATA_FOLDER),'rb'))\n",
    "datas = datas.merge(data, how='left', on='BARCODE')\n",
    "datas = datas.fillna('unknown')\n",
    "datas.set_index(inplace=True, keys=['Subject', 'BARCODE'])\n",
    "\n",
    "print(datas.index.is_unique)\n",
    "print(datas.sample(frac=1).head())\n"
   ]
  },
  {
   "cell_type": "markdown",
   "metadata": {},
   "source": [
    "## Task 3. Class War in Titanic\n",
    "\n",
    "Use pandas to import the data file `Data/titanic.xls`. It contains data on all the passengers that travelled on the Titanic."
   ]
  },
  {
   "cell_type": "code",
   "execution_count": 22,
   "metadata": {},
   "outputs": [],
   "source": [
    "%matplotlib inline\n",
    "import pandas as pd\n",
    "import numpy as np\n",
    "import matplotlib.pyplot as plt\n",
    "from IPython.core.display import HTML"
   ]
  },
  {
   "cell_type": "code",
   "execution_count": 23,
   "metadata": {},
   "outputs": [
    {
     "data": {
      "text/html": [
       "<hr><h2>Data frame:titanic3</h2>1309 observations and 14 variables, maximum # NAs:1188<hr>\n",
       "<TABLE BORDER>\n",
       "<tr><td>Name</td><td>Labels</td><td>Units</td><td>Levels</td><td>Storage</td><td>NAs</td></tr>\n",
       "<tr><td>pclass</td><td></td><td></td><td><a href=\"#pclass\"><div align=right>  3</div></a></td><td>integer</td><td><div align=right>   0</div></td></tr>\n",
       "<tr><td>survived</td><td>Survived</td><td></td><td><div align=right></div></td><td>double</td><td><div align=right>   0</div></td></tr>\n",
       "<tr><td>name</td><td>Name</td><td></td><td><div align=right></div></td><td>character</td><td><div align=right>   0</div></td></tr>\n",
       "<tr><td>sex</td><td></td><td></td><td><a href=\"#sex\"><div align=right>  2</div></a></td><td>integer</td><td><div align=right>   0</div></td></tr>\n",
       "<tr><td>age</td><td>Age</td><td>Year</td><td><div align=right></div></td><td>double</td><td><div align=right> 263</div></td></tr>\n",
       "<tr><td>sibsp</td><td>Number of Siblings/Spouses Aboard</td><td></td><td><div align=right></div></td><td>double</td><td><div align=right>   0</div></td></tr>\n",
       "<tr><td>parch</td><td>Number of Parents/Children Aboard</td><td></td><td><div align=right></div></td><td>double</td><td><div align=right>   0</div></td></tr>\n",
       "<tr><td>ticket</td><td>Ticket Number</td><td></td><td><div align=right></div></td><td>character</td><td><div align=right>   0</div></td></tr>\n",
       "<tr><td>fare</td><td>Passenger Fare</td><td>British Pound (\\243)</td><td><div align=right></div></td><td>double</td><td><div align=right>   1</div></td></tr>\n",
       "<tr><td>cabin</td><td></td><td></td><td><a href=\"#cabin\"><div align=right>187</div></a></td><td>integer</td><td><div align=right>   0</div></td></tr>\n",
       "<tr><td>embarked</td><td></td><td></td><td><a href=\"#embarked\"><div align=right>  3</div></a></td><td>integer</td><td><div align=right>   2</div></td></tr>\n",
       "<tr><td>boat</td><td></td><td></td><td><a href=\"#boat\"><div align=right> 28</div></a></td><td>integer</td><td><div align=right>   0</div></td></tr>\n",
       "<tr><td>body</td><td>Body Identification Number</td><td></td><td><div align=right></div></td><td>double</td><td><div align=right>1188</div></td></tr>\n",
       "<tr><td>home.dest</td><td>Home/Destination</td><td></td><td><div align=right></div></td><td>character</td><td><div align=right>   0</div></td></tr>\n",
       "</TABLE>\n",
       "<hr>\n",
       "<TABLE BORDER>\n",
       "<tr><td>Variable</td><td>Levels</td></tr>\n",
       "<tr><td><a name=\"pclass\">pclass</a></td><td>1st</td></tr>\n",
       "<tr><td></td><td>2nd</td></tr>\n",
       "<tr><td></td><td>3rd</td></tr>\n",
       "<tr><td><a name=\"sex\">sex</a></td><td>female</td></tr>\n",
       "<tr><td></td><td>male</td></tr>\n",
       "<tr><td><a name=\"cabin\">cabin</a></td><td></td></tr>\n",
       "<tr><td></td><td>A10</td></tr>\n",
       "<tr><td></td><td>A11</td></tr>\n",
       "<tr><td></td><td>A14</td></tr>\n",
       "<tr><td></td><td>A16</td></tr>\n",
       "<tr><td></td><td>A18</td></tr>\n",
       "<tr><td></td><td>A19</td></tr>\n",
       "<tr><td></td><td>A20</td></tr>\n",
       "<tr><td></td><td>A21</td></tr>\n",
       "<tr><td></td><td>A23</td></tr>\n",
       "<tr><td></td><td>A24</td></tr>\n",
       "<tr><td></td><td>A26</td></tr>\n",
       "<tr><td></td><td>A29</td></tr>\n",
       "<tr><td></td><td>A31</td></tr>\n",
       "<tr><td></td><td>A32</td></tr>\n",
       "<tr><td></td><td>A34</td></tr>\n",
       "<tr><td></td><td>A36</td></tr>\n",
       "<tr><td></td><td>A5</td></tr>\n",
       "<tr><td></td><td>A6</td></tr>\n",
       "<tr><td></td><td>A7</td></tr>\n",
       "<tr><td></td><td>A9</td></tr>\n",
       "<tr><td></td><td>B10</td></tr>\n",
       "<tr><td></td><td>B101</td></tr>\n",
       "<tr><td></td><td>B102</td></tr>\n",
       "<tr><td></td><td>B11</td></tr>\n",
       "<tr><td></td><td>B18</td></tr>\n",
       "<tr><td></td><td>B19</td></tr>\n",
       "<tr><td></td><td>B20</td></tr>\n",
       "<tr><td></td><td>B22</td></tr>\n",
       "<tr><td></td><td>B24</td></tr>\n",
       "<tr><td></td><td>B26</td></tr>\n",
       "<tr><td></td><td>B28</td></tr>\n",
       "<tr><td></td><td>B3</td></tr>\n",
       "<tr><td></td><td>B30</td></tr>\n",
       "<tr><td></td><td>B35</td></tr>\n",
       "<tr><td></td><td>B36</td></tr>\n",
       "<tr><td></td><td>B37</td></tr>\n",
       "<tr><td></td><td>B38</td></tr>\n",
       "<tr><td></td><td>B39</td></tr>\n",
       "<tr><td></td><td>B4</td></tr>\n",
       "<tr><td></td><td>B41</td></tr>\n",
       "<tr><td></td><td>B42</td></tr>\n",
       "<tr><td></td><td>B45</td></tr>\n",
       "<tr><td></td><td>B49</td></tr>\n",
       "<tr><td></td><td>B5</td></tr>\n",
       "<tr><td></td><td>B50</td></tr>\n",
       "<tr><td></td><td>B51 B53 B55</td></tr>\n",
       "<tr><td></td><td>B52 B54 B56</td></tr>\n",
       "<tr><td></td><td>B57 B59 B63 B66</td></tr>\n",
       "<tr><td></td><td>B58 B60</td></tr>\n",
       "<tr><td></td><td>B61</td></tr>\n",
       "<tr><td></td><td>B69</td></tr>\n",
       "<tr><td></td><td>B71</td></tr>\n",
       "<tr><td></td><td>B73</td></tr>\n",
       "<tr><td></td><td>B77</td></tr>\n",
       "<tr><td></td><td>B78</td></tr>\n",
       "<tr><td></td><td>B79</td></tr>\n",
       "<tr><td></td><td>B80</td></tr>\n",
       "<tr><td></td><td>B82 B84</td></tr>\n",
       "<tr><td></td><td>B86</td></tr>\n",
       "<tr><td></td><td>B94</td></tr>\n",
       "<tr><td></td><td>B96 B98</td></tr>\n",
       "<tr><td></td><td>C101</td></tr>\n",
       "<tr><td></td><td>C103</td></tr>\n",
       "<tr><td></td><td>C104</td></tr>\n",
       "<tr><td></td><td>C105</td></tr>\n",
       "<tr><td></td><td>C106</td></tr>\n",
       "<tr><td></td><td>C110</td></tr>\n",
       "<tr><td></td><td>C111</td></tr>\n",
       "<tr><td></td><td>C116</td></tr>\n",
       "<tr><td></td><td>C118</td></tr>\n",
       "<tr><td></td><td>C123</td></tr>\n",
       "<tr><td></td><td>C124</td></tr>\n",
       "<tr><td></td><td>C125</td></tr>\n",
       "<tr><td></td><td>C126</td></tr>\n",
       "<tr><td></td><td>C128</td></tr>\n",
       "<tr><td></td><td>C130</td></tr>\n",
       "<tr><td></td><td>C132</td></tr>\n",
       "<tr><td></td><td>C148</td></tr>\n",
       "<tr><td></td><td>C2</td></tr>\n",
       "<tr><td></td><td>C22 C26</td></tr>\n",
       "<tr><td></td><td>C23 C25 C27</td></tr>\n",
       "<tr><td></td><td>C28</td></tr>\n",
       "<tr><td></td><td>C30</td></tr>\n",
       "<tr><td></td><td>C31</td></tr>\n",
       "<tr><td></td><td>C32</td></tr>\n",
       "<tr><td></td><td>C39</td></tr>\n",
       "<tr><td></td><td>C45</td></tr>\n",
       "<tr><td></td><td>C46</td></tr>\n",
       "<tr><td></td><td>C47</td></tr>\n",
       "<tr><td></td><td>C49</td></tr>\n",
       "<tr><td></td><td>C50</td></tr>\n",
       "<tr><td></td><td>C51</td></tr>\n",
       "<tr><td></td><td>C52</td></tr>\n",
       "<tr><td></td><td>C53</td></tr>\n",
       "<tr><td></td><td>C54</td></tr>\n",
       "<tr><td></td><td>C55 C57</td></tr>\n",
       "<tr><td></td><td>C6</td></tr>\n",
       "<tr><td></td><td>C62 C64</td></tr>\n",
       "<tr><td></td><td>C65</td></tr>\n",
       "<tr><td></td><td>C68</td></tr>\n",
       "<tr><td></td><td>C7</td></tr>\n",
       "<tr><td></td><td>C70</td></tr>\n",
       "<tr><td></td><td>C78</td></tr>\n",
       "<tr><td></td><td>C80</td></tr>\n",
       "<tr><td></td><td>C82</td></tr>\n",
       "<tr><td></td><td>C83</td></tr>\n",
       "<tr><td></td><td>C85</td></tr>\n",
       "<tr><td></td><td>C86</td></tr>\n",
       "<tr><td></td><td>C87</td></tr>\n",
       "<tr><td></td><td>C89</td></tr>\n",
       "<tr><td></td><td>C90</td></tr>\n",
       "<tr><td></td><td>C91</td></tr>\n",
       "<tr><td></td><td>C92</td></tr>\n",
       "<tr><td></td><td>C93</td></tr>\n",
       "<tr><td></td><td>C95</td></tr>\n",
       "<tr><td></td><td>C97</td></tr>\n",
       "<tr><td></td><td>C99</td></tr>\n",
       "<tr><td></td><td>D</td></tr>\n",
       "<tr><td></td><td>D10 D12</td></tr>\n",
       "<tr><td></td><td>D11</td></tr>\n",
       "<tr><td></td><td>D15</td></tr>\n",
       "<tr><td></td><td>D17</td></tr>\n",
       "<tr><td></td><td>D19</td></tr>\n",
       "<tr><td></td><td>D20</td></tr>\n",
       "<tr><td></td><td>D21</td></tr>\n",
       "<tr><td></td><td>D22</td></tr>\n",
       "<tr><td></td><td>D26</td></tr>\n",
       "<tr><td></td><td>D28</td></tr>\n",
       "<tr><td></td><td>D30</td></tr>\n",
       "<tr><td></td><td>D33</td></tr>\n",
       "<tr><td></td><td>D34</td></tr>\n",
       "<tr><td></td><td>D35</td></tr>\n",
       "<tr><td></td><td>D36</td></tr>\n",
       "<tr><td></td><td>D37</td></tr>\n",
       "<tr><td></td><td>D38</td></tr>\n",
       "<tr><td></td><td>D40</td></tr>\n",
       "<tr><td></td><td>D43</td></tr>\n",
       "<tr><td></td><td>D45</td></tr>\n",
       "<tr><td></td><td>D46</td></tr>\n",
       "<tr><td></td><td>D47</td></tr>\n",
       "<tr><td></td><td>D48</td></tr>\n",
       "<tr><td></td><td>D49</td></tr>\n",
       "<tr><td></td><td>D50</td></tr>\n",
       "<tr><td></td><td>D56</td></tr>\n",
       "<tr><td></td><td>D6</td></tr>\n",
       "<tr><td></td><td>D7</td></tr>\n",
       "<tr><td></td><td>D9</td></tr>\n",
       "<tr><td></td><td>E10</td></tr>\n",
       "<tr><td></td><td>E101</td></tr>\n",
       "<tr><td></td><td>E12</td></tr>\n",
       "<tr><td></td><td>E121</td></tr>\n",
       "<tr><td></td><td>E17</td></tr>\n",
       "<tr><td></td><td>E24</td></tr>\n",
       "<tr><td></td><td>E25</td></tr>\n",
       "<tr><td></td><td>E31</td></tr>\n",
       "<tr><td></td><td>E33</td></tr>\n",
       "<tr><td></td><td>E34</td></tr>\n",
       "<tr><td></td><td>E36</td></tr>\n",
       "<tr><td></td><td>E38</td></tr>\n",
       "<tr><td></td><td>E39 E41</td></tr>\n",
       "<tr><td></td><td>E40</td></tr>\n",
       "<tr><td></td><td>E44</td></tr>\n",
       "<tr><td></td><td>E45</td></tr>\n",
       "<tr><td></td><td>E46</td></tr>\n",
       "<tr><td></td><td>E49</td></tr>\n",
       "<tr><td></td><td>E50</td></tr>\n",
       "<tr><td></td><td>E52</td></tr>\n",
       "<tr><td></td><td>E58</td></tr>\n",
       "<tr><td></td><td>E60</td></tr>\n",
       "<tr><td></td><td>E63</td></tr>\n",
       "<tr><td></td><td>E67</td></tr>\n",
       "<tr><td></td><td>E68</td></tr>\n",
       "<tr><td></td><td>E77</td></tr>\n",
       "<tr><td></td><td>E8</td></tr>\n",
       "<tr><td></td><td>F</td></tr>\n",
       "<tr><td></td><td>F E46</td></tr>\n",
       "<tr><td></td><td>F E57</td></tr>\n",
       "<tr><td></td><td>F E69</td></tr>\n",
       "<tr><td></td><td>F G63</td></tr>\n",
       "<tr><td></td><td>F G73</td></tr>\n",
       "<tr><td></td><td>F2</td></tr>\n",
       "<tr><td></td><td>F33</td></tr>\n",
       "<tr><td></td><td>F38</td></tr>\n",
       "<tr><td></td><td>F4</td></tr>\n",
       "<tr><td></td><td>G6</td></tr>\n",
       "<tr><td></td><td>T</td></tr>\n",
       "<tr><td><a name=\"embarked\">embarked</a></td><td>Cherbourg</td></tr>\n",
       "<tr><td></td><td>Queenstown</td></tr>\n",
       "<tr><td></td><td>Southampton</td></tr>\n",
       "<tr><td><a name=\"boat\">boat</a></td><td></td></tr>\n",
       "<tr><td></td><td>1</td></tr>\n",
       "<tr><td></td><td>10</td></tr>\n",
       "<tr><td></td><td>11</td></tr>\n",
       "<tr><td></td><td>12</td></tr>\n",
       "<tr><td></td><td>13</td></tr>\n",
       "<tr><td></td><td>13 15</td></tr>\n",
       "<tr><td></td><td>13 15 B</td></tr>\n",
       "<tr><td></td><td>14</td></tr>\n",
       "<tr><td></td><td>15</td></tr>\n",
       "<tr><td></td><td>15 16</td></tr>\n",
       "<tr><td></td><td>16</td></tr>\n",
       "<tr><td></td><td>2</td></tr>\n",
       "<tr><td></td><td>3</td></tr>\n",
       "<tr><td></td><td>4</td></tr>\n",
       "<tr><td></td><td>5</td></tr>\n",
       "<tr><td></td><td>5 7</td></tr>\n",
       "<tr><td></td><td>5 9</td></tr>\n",
       "<tr><td></td><td>6</td></tr>\n",
       "<tr><td></td><td>7</td></tr>\n",
       "<tr><td></td><td>8</td></tr>\n",
       "<tr><td></td><td>8 10</td></tr>\n",
       "<tr><td></td><td>9</td></tr>\n",
       "<tr><td></td><td>A</td></tr>\n",
       "<tr><td></td><td>B</td></tr>\n",
       "<tr><td></td><td>C</td></tr>\n",
       "<tr><td></td><td>C D</td></tr>\n",
       "<tr><td></td><td>D</td></tr>\n",
       "</TABLE>\n",
       "<hr>\n"
      ],
      "text/plain": [
       "<IPython.core.display.HTML object>"
      ]
     },
     "execution_count": 23,
     "metadata": {},
     "output_type": "execute_result"
    }
   ],
   "source": [
    "HTML(filename=DATA_FOLDER+'/titanic.html')"
   ]
  },
  {
   "cell_type": "markdown",
   "metadata": {},
   "source": [
    "For each of the following questions state clearly your assumptions and discuss your findings:\n",
    "1. Describe the *type* and the *value range* of each attribute. Indicate and transform the attributes that can be `Categorical`. \n",
    "2. Plot histograms for the *travel class*, *embarkation port*, *sex* and *age* attributes. For the latter one, use *discrete decade intervals*. \n",
    "3. Calculate the proportion of passengers by *cabin floor*. Present your results in a *pie chart*.\n",
    "4. For each *travel class*, calculate the proportion of the passengers that survived. Present your results in *pie charts*.\n",
    "5. Calculate the proportion of the passengers that survived by *travel class* and *sex*. Present your results in *a single histogram*.\n",
    "6. Create 2 equally populated *age categories* and calculate survival proportions by *age category*, *travel class* and *sex*. Present your results in a `DataFrame` with unique index."
   ]
  },
  {
   "cell_type": "code",
   "execution_count": 74,
   "metadata": {},
   "outputs": [],
   "source": [
    "dataf = pd.read_excel('Data/titanic.xls')\n"
   ]
  },
  {
   "cell_type": "markdown",
   "metadata": {},
   "source": [
    "## Question 1\n",
    "\n",
    "The types of each column can easily be obtained using \"dataf.dtypes\" as shown in next cell.\n",
    "We then use the min and max functions on the Series to get the values range. This implies having to make a copy of the DataFrame, as we need to drop the NaN and to convert \"object\" columns to \"string\" columns (otherwise, the functions raise an exception)."
   ]
  },
  {
   "cell_type": "code",
   "execution_count": 75,
   "metadata": {
    "scrolled": true
   },
   "outputs": [
    {
     "name": "stdout",
     "output_type": "stream",
     "text": [
      "Column Name     Column Type     Column Min                          Column Max                         \n",
      "pclass          int64           1                                   3                                  \n",
      "survived        int64           0                                   1                                  \n",
      "name            object          Abbing, Mr. Anthony                 van Melkebeke, Mr. Philemon        \n",
      "sex             object          female                              male                               \n",
      "age             float64         0.1667                              80.0                               \n",
      "sibsp           int64           0                                   8                                  \n",
      "parch           int64           0                                   9                                  \n",
      "ticket          object          110152                              WE/P 5735                          \n",
      "fare            float64         0.0                                 512.3292                           \n",
      "cabin           object          A10                                 T                                  \n",
      "embarked        object          C                                   S                                  \n",
      "boat            object          1                                   D                                  \n",
      "body            float64         1.0                                 328.0                              \n",
      "home.dest       object          ?Havana, Cuba                       Zurich, Switzerland                \n"
     ]
    }
   ],
   "source": [
    "dataf_cp = dataf.copy()\n",
    "\n",
    "print('%-15s %-15s %-35s %-35s' % ('Column Name', 'Column Type', 'Column Min', 'Column Max'))\n",
    "for col in dataf_cp.columns:\n",
    "    tmp = dataf_cp[col].dropna()\n",
    "    if dataf_cp[col].dtypes == 'object':\n",
    "        tmp = tmp.astype(str)\n",
    "    print('%-15s %-15s %-35s %-35s' % (col, str(dataf_cp[col].dtypes), str(tmp.min()), str(tmp.max())))\n"
   ]
  },
  {
   "cell_type": "markdown",
   "metadata": {},
   "source": [
    "We can change in categorical every column that has a limited number of distinct values (i.e. columns that could be implemented with a dictionary), like: pclass, survived, sex, sibsp, parch, embarked, boat and home.dest."
   ]
  },
  {
   "cell_type": "code",
<<<<<<< HEAD
   "execution_count": null,
=======
   "execution_count": 76,
>>>>>>> fa77c2dd46757be542d28b7a2508edb9dca70fb5
   "metadata": {},
   "outputs": [],
   "source": [
    "to_categorical = ['pclass','survived', 'sex', 'sibsp', 'parch', 'embarked', 'boat', 'home.dest']\n",
    "for c in to_categorical:\n",
    "    dataf[c] = dataf[c].astype('category')\n"
   ]
  },
  {
   "cell_type": "markdown",
   "metadata": {},
   "source": [
    "## Question 2\n",
    "\n",
    "We use the 'bar' kind of plot, as it is better suited than the 'hist' type for frequencies (as we use value_counts()).\n",
    "We also use sort_index to have the values in the right order (where it is relevant, for pclass for example)."
   ]
  },
  {
   "cell_type": "code",
   "execution_count": 77,
   "metadata": {},
   "outputs": [
    {
     "data": {
      "text/plain": [
       "<matplotlib.axes._subplots.AxesSubplot at 0x1f95e94aa58>"
      ]
     },
     "execution_count": 77,
     "metadata": {},
     "output_type": "execute_result"
    },
    {
     "data": {
      "image/png": "iVBORw0KGgoAAAANSUhEUgAAAXoAAAD4CAYAAADiry33AAAABHNCSVQICAgIfAhkiAAAAAlwSFlz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\n",
      "text/plain": [
       "<matplotlib.figure.Figure at 0x1f95e94a1d0>"
      ]
     },
     "metadata": {},
     "output_type": "display_data"
    }
   ],
   "source": [
    "dataf.pclass.value_counts().sort_index().plot(kind='bar')"
   ]
  },
  {
   "cell_type": "code",
   "execution_count": 78,
   "metadata": {},
   "outputs": [
    {
     "data": {
      "text/plain": [
       "<matplotlib.axes._subplots.AxesSubplot at 0x1f95e9a1ef0>"
      ]
     },
     "execution_count": 78,
     "metadata": {},
     "output_type": "execute_result"
    },
    {
     "data": {
      "image/png": "iVBORw0KGgoAAAANSUhEUgAAAXoAAAD6CAYAAACvZ4z8AAAABHNCSVQICAgIfAhkiAAAAAlwSFlz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\nTkSuQmCC\n",
      "text/plain": [
       "<matplotlib.figure.Figure at 0x1f95ceea940>"
      ]
     },
     "metadata": {},
     "output_type": "display_data"
    }
   ],
   "source": [
    "dataf.embarked.value_counts().plot(kind='bar')"
   ]
  },
  {
   "cell_type": "code",
   "execution_count": 79,
   "metadata": {},
   "outputs": [
    {
     "data": {
      "text/plain": [
       "<matplotlib.axes._subplots.AxesSubplot at 0x1f95e92b4a8>"
      ]
     },
     "execution_count": 79,
     "metadata": {},
     "output_type": "execute_result"
    },
    {
     "data": {
      "image/png": "iVBORw0KGgoAAAANSUhEUgAAAXoAAAEUCAYAAAAlXv26AAAABHNCSVQICAgIfAhkiAAAAAlwSFlz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\nDHQAAAAASUVORK5CYII=\n",
      "text/plain": [
       "<matplotlib.figure.Figure at 0x1f95d013978>"
      ]
     },
     "metadata": {},
     "output_type": "display_data"
    }
   ],
   "source": [
    "dataf.sex.value_counts().plot(kind='bar')"
   ]
  },
  {
   "cell_type": "code",
   "execution_count": 80,
   "metadata": {},
   "outputs": [
    {
     "data": {
      "text/plain": [
       "<matplotlib.axes._subplots.AxesSubplot at 0x1f95d043048>"
      ]
     },
     "execution_count": 80,
     "metadata": {},
     "output_type": "execute_result"
    },
    {
     "data": {
      "image/png": "iVBORw0KGgoAAAANSUhEUgAAAXoAAAEZCAYAAACZwO5kAAAABHNCSVQICAgIfAhkiAAAAAlwSFlz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\n",
      "text/plain": [
       "<matplotlib.figure.Figure at 0x1f95ea5e0b8>"
      ]
     },
     "metadata": {},
     "output_type": "display_data"
    }
   ],
   "source": [
    "pd.cut(dataf.age, [x for x in range(0, int(dataf.age.max()) + 1, 10)]).value_counts().sort_index().plot(kind='bar')"
   ]
  },
  {
   "cell_type": "markdown",
   "metadata": {},
   "source": [
    "## Question 3"
   ]
  },
  {
   "cell_type": "markdown",
   "metadata": {},
   "source": [
    "As the datas are not clear for the cabin column, we arbitrarily picked the first letter of the first cabin that appears in the cell for the floor. For example, for a cabin with cell \"C22 D26\", we assign the cabin at floor C."
   ]
  },
  {
   "cell_type": "code",
   "execution_count": 81,
   "metadata": {},
   "outputs": [
    {
     "data": {
      "text/plain": [
       "<matplotlib.axes._subplots.AxesSubplot at 0x1f95ea6cdd8>"
      ]
     },
     "execution_count": 81,
     "metadata": {},
     "output_type": "execute_result"
    },
    {
     "data": {
      "image/png": "iVBORw0KGgoAAAANSUhEUgAAAk0AAAI1CAYAAADLi870AAAABHNCSVQICAgIfAhkiAAAAAlwSFlz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\nAABJRU5ErkJggg==\n",
      "text/plain": [
       "<matplotlib.figure.Figure at 0x1f95ea57ac8>"
      ]
     },
     "metadata": {},
     "output_type": "display_data"
    }
   ],
   "source": [
    "floor = dataf.cabin.copy().dropna().apply(lambda x : x[0]).astype('category').rename('floor distribution')\n",
    "floor.value_counts().sort_index().plot(kind='pie', autopct='%1.1f%%', figsize=(10,10))"
   ]
  },
  {
   "cell_type": "markdown",
   "metadata": {},
   "source": [
    "## Question 4\n",
    "We simply use a groupBy on pclass, unstack 'survived', transpose and plot"
   ]
  },
  {
   "cell_type": "code",
   "execution_count": 82,
   "metadata": {},
   "outputs": [
    {
     "data": {
      "image/png": "iVBORw0KGgoAAAANSUhEUgAABAwAAAFbCAYAAABRUByeAAAABHNCSVQICAgIfAhkiAAAAAlwSFlz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\nIiIiIiIi3ahhICIiIiIiIiLd/H8FoR7oJ6iqKQAAAABJRU5ErkJggg==\n",
      "text/plain": [
       "<matplotlib.figure.Figure at 0x1f95ec03da0>"
      ]
     },
     "metadata": {},
     "output_type": "display_data"
    }
   ],
   "source": [
    "\n",
    "fig, axes = plt.subplots(nrows=1, ncols=len(dataf.pclass.unique()))\n",
    "\n",
    "for cl in dataf.pclass.unique():\n",
    "    tmp = dataf[dataf.pclass == cl]\n",
    "    tmp.survived.rename('travel class ' + str(cl) + \" - number of passengers : \" + str(tmp.shape[0])).value_counts().sort_index().plot(kind='pie', \n",
    "                        ax=axes[cl-1], figsize=(18,6), autopct='%1.1f%%', labels=['died', 'survived'])\n",
    "    "
   ]
  },
  {
   "cell_type": "code",
   "execution_count": 93,
   "metadata": {},
   "outputs": [
    {
     "data": {
      "image/png": "iVBORw0KGgoAAAANSUhEUgAABAwAAAFbCAYAAABRUByeAAAABHNCSVQICAgIfAhkiAAAAAlwSFlz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\nrkJggg==\n",
      "text/plain": [
       "<matplotlib.figure.Figure at 0x1f9601a3d68>"
      ]
     },
     "metadata": {},
     "output_type": "display_data"
    }
   ],
   "source": [
    "tmp = dataf.groupby(dataf.pclass).survived\n",
    "ax=tmp.value_counts().unstack('survived').transpose().plot(kind='pie', subplots=True, figsize=(18,6), autopct='%1.1f%%', labels=[\"Died\",\"Survived\"])"
   ]
  },
  {
   "cell_type": "markdown",
   "metadata": {},
   "source": [
    "## Question 5\n",
    "We still use the groupBy function on pclass and sex this time, unstack 'survived' and plot using a barplot."
   ]
  },
  {
   "cell_type": "code",
   "execution_count": 84,
   "metadata": {},
   "outputs": [
    {
     "data": {
      "text/plain": [
       "<matplotlib.axes._subplots.AxesSubplot at 0x1f95f057cc0>"
      ]
     },
     "execution_count": 84,
     "metadata": {},
     "output_type": "execute_result"
    },
    {
     "data": {
      "image/png": "iVBORw0KGgoAAAANSUhEUgAAAXoAAAGwCAYAAACn065CAAAABHNCSVQICAgIfAhkiAAAAAlwSFlz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\nAAAASUVORK5CYII=\n",
      "text/plain": [
       "<matplotlib.figure.Figure at 0x1f95efb1a90>"
      ]
     },
     "metadata": {},
     "output_type": "display_data"
    }
   ],
   "source": [
    "dataf_res = pd.Series()\n",
    "\n",
    "tab_survived = ['died', 'survived']\n",
    "\n",
    "for cl in dataf.pclass.unique():\n",
    "    for s in dataf.sex.unique():\n",
    "        tmp = dataf[(dataf.pclass == cl) & (dataf.sex == s)].survived.value_counts().sort_index()\n",
    "        dataf_res.set_value('travel class: ' + str(cl) + ' - sex: ' + str(s) + ' - ' + tab_survived[tmp.index[0]], tmp.values[0])\n",
    "        dataf_res.set_value('travel class: ' + str(cl) + ' - sex: ' + str(s) + ' - ' + tab_survived[tmp.index[1]], tmp.values[1])\n",
    "\n",
    "dataf_res.plot(kind='bar')"
   ]
  },
  {
   "cell_type": "code",
   "execution_count": 86,
   "metadata": {},
   "outputs": [
    {
     "data": {
      "text/plain": [
       "<matplotlib.legend.Legend at 0x1f958166860>"
      ]
     },
     "execution_count": 86,
     "metadata": {},
     "output_type": "execute_result"
    },
    {
     "data": {
      "image/png": "iVBORw0KGgoAAAANSUhEUgAAAXoAAAE3CAYAAACkZooiAAAABHNCSVQICAgIfAhkiAAAAAlwSFlz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\n",
      "text/plain": [
       "<matplotlib.figure.Figure at 0x1f95eb0ea90>"
      ]
     },
     "metadata": {},
     "output_type": "display_data"
    }
   ],
   "source": [
    "tmp=dataf.groupby([dataf.pclass, dataf.sex]).survived\n",
    "ax=tmp.value_counts().unstack('survived').plot(kind='bar', legend=False)\n",
    "\n",
    "patches, labels = ax.get_legend_handles_labels()\n",
    "\n",
    "ax.legend(patches, ['Died','Survived'], loc='best')"
   ]
  },
  {
   "cell_type": "markdown",
   "metadata": {},
   "source": [
    "## Question 6\n",
    "We group by age, class and sex after having cut the age at the median. We then simply unstack 'survived' to create a DataFrame with three hierarchical indices and two columns."
   ]
  },
  {
   "cell_type": "code",
   "execution_count": 94,
   "metadata": {},
   "outputs": [
    {
     "data": {
      "text/html": [
       "<div>\n",
       "<style>\n",
       "    .dataframe thead tr:only-child th {\n",
       "        text-align: right;\n",
       "    }\n",
       "\n",
       "    .dataframe thead th {\n",
       "        text-align: left;\n",
       "    }\n",
       "\n",
       "    .dataframe tbody tr th {\n",
       "        vertical-align: top;\n",
       "    }\n",
       "</style>\n",
       "<table border=\"1\" class=\"dataframe\">\n",
       "  <thead>\n",
       "    <tr style=\"text-align: right;\">\n",
       "      <th></th>\n",
       "      <th></th>\n",
       "      <th></th>\n",
       "      <th>dead</th>\n",
       "      <th>survived</th>\n",
       "    </tr>\n",
       "    <tr>\n",
       "      <th>grouped_age</th>\n",
       "      <th>pclass</th>\n",
       "      <th>sex</th>\n",
       "      <th></th>\n",
       "      <th></th>\n",
       "    </tr>\n",
       "  </thead>\n",
       "  <tbody>\n",
       "    <tr>\n",
       "      <th rowspan=\"6\" valign=\"top\">(0.166, 28.0]</th>\n",
       "      <th rowspan=\"2\" valign=\"top\">1</th>\n",
       "      <th>female</th>\n",
       "      <td>2</td>\n",
       "      <td>39</td>\n",
       "    </tr>\n",
       "    <tr>\n",
       "      <th>male</th>\n",
       "      <td>15</td>\n",
       "      <td>17</td>\n",
       "    </tr>\n",
       "    <tr>\n",
       "      <th rowspan=\"2\" valign=\"top\">2</th>\n",
       "      <th>female</th>\n",
       "      <td>5</td>\n",
       "      <td>51</td>\n",
       "    </tr>\n",
       "    <tr>\n",
       "      <th>male</th>\n",
       "      <td>58</td>\n",
       "      <td>16</td>\n",
       "    </tr>\n",
       "    <tr>\n",
       "      <th rowspan=\"2\" valign=\"top\">3</th>\n",
       "      <th>female</th>\n",
       "      <td>53</td>\n",
       "      <td>56</td>\n",
       "    </tr>\n",
       "    <tr>\n",
       "      <th>male</th>\n",
       "      <td>183</td>\n",
       "      <td>41</td>\n",
       "    </tr>\n",
       "    <tr>\n",
       "      <th rowspan=\"6\" valign=\"top\">(28.0, 80.0]</th>\n",
       "      <th rowspan=\"2\" valign=\"top\">1</th>\n",
       "      <th>female</th>\n",
       "      <td>3</td>\n",
       "      <td>89</td>\n",
       "    </tr>\n",
       "    <tr>\n",
       "      <th>male</th>\n",
       "      <td>83</td>\n",
       "      <td>36</td>\n",
       "    </tr>\n",
       "    <tr>\n",
       "      <th rowspan=\"2\" valign=\"top\">2</th>\n",
       "      <th>female</th>\n",
       "      <td>6</td>\n",
       "      <td>41</td>\n",
       "    </tr>\n",
       "    <tr>\n",
       "      <th>male</th>\n",
       "      <td>77</td>\n",
       "      <td>7</td>\n",
       "    </tr>\n",
       "    <tr>\n",
       "      <th rowspan=\"2\" valign=\"top\">3</th>\n",
       "      <th>female</th>\n",
       "      <td>27</td>\n",
       "      <td>16</td>\n",
       "    </tr>\n",
       "    <tr>\n",
       "      <th>male</th>\n",
       "      <td>107</td>\n",
       "      <td>18</td>\n",
       "    </tr>\n",
       "  </tbody>\n",
       "</table>\n",
       "</div>"
      ],
      "text/plain": [
       "                             dead  survived\n",
       "grouped_age   pclass sex                   \n",
       "(0.166, 28.0] 1      female     2        39\n",
       "                     male      15        17\n",
       "              2      female     5        51\n",
       "                     male      58        16\n",
       "              3      female    53        56\n",
       "                     male     183        41\n",
       "(28.0, 80.0]  1      female     3        89\n",
       "                     male      83        36\n",
       "              2      female     6        41\n",
       "                     male      77         7\n",
       "              3      female    27        16\n",
       "                     male     107        18"
      ]
     },
     "execution_count": 94,
     "metadata": {},
     "output_type": "execute_result"
    }
   ],
   "source": [
    "dataf6 = dataf.copy()\n",
    "dataf6.age=pd.qcut(dataf6.age, 2).dropna()\n",
    "\n",
    "dataf6.rename(columns={'age':'grouped_age'}, inplace=True)\n",
    "\n",
    "grouped_index = dataf6.groupby([dataf6.grouped_age, dataf6.pclass, dataf6.sex])\n",
    "final_data_frame = grouped_index.survived.value_counts().unstack('survived')\n",
    "\n",
    "final_data_frame.columns = ['dead','survived']\n",
    "final_data_frame\n"
   ]
  },
  {
<<<<<<< HEAD
   "cell_type": "markdown",
   "metadata": {
    "collapsed": true
   },
   "source": [
    "##### "
   ]
=======
   "cell_type": "code",
   "execution_count": null,
   "metadata": {},
   "outputs": [],
   "source": []
>>>>>>> fa77c2dd46757be542d28b7a2508edb9dca70fb5
  }
 ],
 "metadata": {
  "kernelspec": {
   "display_name": "Python [default]",
   "language": "python",
   "name": "python3"
  },
  "language_info": {
   "codemirror_mode": {
    "name": "ipython",
    "version": 3
   },
   "file_extension": ".py",
   "mimetype": "text/x-python",
   "name": "python",
   "nbconvert_exporter": "python",
   "pygments_lexer": "ipython3",
   "version": "3.6.2"
  }
 },
 "nbformat": 4,
 "nbformat_minor": 2
}
