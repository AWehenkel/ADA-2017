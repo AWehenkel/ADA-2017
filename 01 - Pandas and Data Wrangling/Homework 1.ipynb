{
 "cells": [
  {
   "cell_type": "markdown",
   "metadata": {},
   "source": [
    "# Table of Contents\n",
    " <p><div class=\"lev1\"><a href=\"#Task-1.-Compiling-Ebola-Data\"><span class=\"toc-item-num\">Task 1.&nbsp;&nbsp;</span>Compiling Ebola Data</a></div>\n",
    " <div class=\"lev1\"><a href=\"#Task-2.-RNA-Sequences\"><span class=\"toc-item-num\">Task 2.&nbsp;&nbsp;</span>RNA Sequences</a></div>\n",
    " <div class=\"lev1\"><a href=\"#Task-3.-Class-War-in-Titanic\"><span class=\"toc-item-num\">Task 3.&nbsp;&nbsp;</span>Class War in Titanic</a></div></p>"
   ]
  },
  {
   "cell_type": "code",
   "execution_count": 4,
   "metadata": {
    "collapsed": true
   },
   "outputs": [],
   "source": [
    "DATA_FOLDER = 'Data/' # Use the data folder provided in Tutorial 02 - Intro to Pandas."
   ]
  },
  {
   "cell_type": "markdown",
   "metadata": {},
   "source": [
    "## Task 1. Compiling Ebola Data\n",
    "\n",
    "The `DATA_FOLDER/ebola` folder contains summarized reports of Ebola cases from three countries (Guinea, Liberia and Sierra Leone) during the recent outbreak of the disease in West Africa. For each country, there are daily reports that contain various information about the outbreak in several cities in each country.\n",
    "\n",
    "Use pandas to import these data files into a single `Dataframe`.\n",
    "Using this `DataFrame`, calculate for *each country*, the *daily average* per year of *new cases* and *deaths*.\n",
    "Make sure you handle all the different expressions for *new cases* and *deaths* that are used in the reports."
   ]
  },
  {
   "cell_type": "markdown",
   "metadata": {},
   "source": [
    "Import usefull libraries."
   ]
  },
  {
   "cell_type": "code",
   "execution_count": 2,
   "metadata": {
    "collapsed": true
   },
   "outputs": [],
   "source": [
    "import pandas as pd\n",
    "import numpy as np\n",
    "from os import listdir\n",
    "from os.path import isfile, join\n",
    "from datetime import datetime"
   ]
  },
  {
   "cell_type": "markdown",
   "metadata": {},
   "source": [
    "Load the data in one dataframe."
   ]
  },
  {
   "cell_type": "code",
   "execution_count": 5,
   "metadata": {},
   "outputs": [
    {
     "name": "stdout",
     "output_type": "stream",
     "text": [
      "Loading data from guinea\n",
      "Loading data from liberia\n",
      "Loading data from sl\n",
      "country\n",
      "['guinea' 'liberia' 'sl']\n",
      "town\n",
      "['Conakry' 'Gueckedou' 'Macenta' 'Dabola' 'Kissidougou' 'Dinguiraye'\n",
      " 'Telimele' 'Boffa' 'Kouroussa' 'Dubreka' 'Siguiri' 'Pita' 'Nzerekore'\n",
      " 'Mzerekore' 'Yomou' 'Forecariah' 'Kerouane' 'Coyah' 'Dalaba' 'Beyla'\n",
      " 'Kindia' 'Lola' 'Bomi County' 'Bong County' 'Grand Kru' 'Lofa County'\n",
      " 'Margibi County' 'Maryland County' 'Montserrado County' 'Nimba County'\n",
      " 'River Gee County' 'RiverCess County' 'Sinoe County' 'Grand Gedeh'\n",
      " 'Gbarpolu County' 'Grand Bassa' 'Grand Cape Mount' 'Unnamed: 18' 'Kenema'\n",
      " 'Kono' 'Kambia' 'Koinadugu' 'Bombali' 'Tonkolili' 'Port Loko' 'Pujehun'\n",
      " 'Bo' 'Moyamba' 'Bonthe' 'Western area urban' 'Western area rural'\n",
      " 'National' 'Kenema (IFRC)' '34 Military Hospital' 'Police training School'\n",
      " 'Police traning School' 'Bo EMC' 'Western area' 'Kenema (KGH)'\n",
      " 'Hastings-F/Town' 'Western area combined']\n",
      "date\n",
      "['2014-08-04T00:00:00.000000000' '2014-08-26T00:00:00.000000000'\n",
      " '2014-08-27T00:00:00.000000000' '2014-08-30T00:00:00.000000000'\n",
      " '2014-08-31T00:00:00.000000000' '2014-09-02T00:00:00.000000000'\n",
      " '2014-09-04T00:00:00.000000000' '2014-09-07T00:00:00.000000000'\n",
      " '2014-09-08T00:00:00.000000000' '2014-09-09T00:00:00.000000000'\n",
      " '2014-09-11T00:00:00.000000000' '2014-09-14T00:00:00.000000000'\n",
      " '2014-09-16T00:00:00.000000000' '2014-09-17T00:00:00.000000000'\n",
      " '2014-09-09T00:00:00.000000000' '2014-08-30T00:00:00.000000000'\n",
      " '2014-08-31T00:00:00.000000000' '2014-09-24T00:00:00.000000000'\n",
      " '2014-09-19T00:00:00.000000000' '2014-09-21T00:00:00.000000000'\n",
      " '2014-08-27T00:00:00.000000000' '2014-09-07T00:00:00.000000000'\n",
      " '2014-08-28T00:00:00.000000000' '2014-10-20T00:00:00.000000000'\n",
      " '2014-07-17T00:00:00.000000000' '2014-11-14T00:00:00.000000000'\n",
      " '2014-10-16T00:00:00.000000000' '2014-09-20T00:00:00.000000000'\n",
      " '2014-10-10T00:00:00.000000000' '2014-08-18T00:00:00.000000000'\n",
      " '2014-12-07T00:00:00.000000000' '2014-09-25T00:00:00.000000000'\n",
      " '2014-09-28T00:00:00.000000000' '2014-09-12T00:00:00.000000000'\n",
      " '2014-10-25T00:00:00.000000000' '2014-11-21T00:00:00.000000000'\n",
      " '2014-09-27T00:00:00.000000000' '2014-07-24T00:00:00.000000000'\n",
      " '2014-10-18T00:00:00.000000000' '2014-11-02T00:00:00.000000000'\n",
      " '2014-11-30T00:00:00.000000000' '2014-10-07T00:00:00.000000000'\n",
      " '2014-10-28T00:00:00.000000000' '2014-10-09T00:00:00.000000000'\n",
      " '2014-09-06T00:00:00.000000000' '2014-07-01T00:00:00.000000000'\n",
      " '2014-10-29T00:00:00.000000000' '2014-11-26T00:00:00.000000000'\n",
      " '2014-08-17T00:00:00.000000000' '2014-10-31T00:00:00.000000000'\n",
      " '2014-12-04T00:00:00.000000000' '2014-10-30T00:00:00.000000000'\n",
      " '2014-12-09T00:00:00.000000000' '2014-06-16T00:00:00.000000000'\n",
      " '2014-11-23T00:00:00.000000000' '2014-10-04T00:00:00.000000000'\n",
      " '2014-10-08T00:00:00.000000000' '2014-06-17T00:00:00.000000000'\n",
      " '2014-09-05T00:00:00.000000000' '2014-11-24T00:00:00.000000000'\n",
      " '2014-08-12T00:00:00.000000000' '2014-10-22T00:00:00.000000000'\n",
      " '2014-09-15T00:00:00.000000000' '2014-06-28T00:00:00.000000000'\n",
      " '2014-09-10T00:00:00.000000000' '2014-06-24T00:00:00.000000000'\n",
      " '2014-10-12T00:00:00.000000000' '2014-12-08T00:00:00.000000000'\n",
      " '2014-08-25T00:00:00.000000000' '2014-12-03T00:00:00.000000000'\n",
      " '2014-11-29T00:00:00.000000000' '2014-07-26T00:00:00.000000000'\n",
      " '2014-10-21T00:00:00.000000000' '2014-07-03T00:00:00.000000000'\n",
      " '2014-10-03T00:00:00.000000000' '2014-07-02T00:00:00.000000000'\n",
      " '2014-12-05T00:00:00.000000000' '2014-09-13T00:00:00.000000000'\n",
      " '2014-11-20T00:00:00.000000000' '2014-07-08T00:00:00.000000000'\n",
      " '2014-10-23T00:00:00.000000000' '2014-10-05T00:00:00.000000000'\n",
      " '2014-10-17T00:00:00.000000000' '2014-07-20T00:00:00.000000000'\n",
      " '2014-07-07T00:00:00.000000000' '2014-12-06T00:00:00.000000000'\n",
      " '2014-07-10T00:00:00.000000000' '2014-06-22T00:00:00.000000000'\n",
      " '2014-10-19T00:00:00.000000000' '2014-10-11T00:00:00.000000000'\n",
      " '2014-12-01T00:00:00.000000000' '2014-08-20T00:00:00.000000000'\n",
      " '2014-09-01T00:00:00.000000000' '2014-11-08T00:00:00.000000000'\n",
      " '2014-12-02T00:00:00.000000000' '2014-07-13T00:00:00.000000000'\n",
      " '2014-11-15T00:00:00.000000000' '2014-11-19T00:00:00.000000000'\n",
      " '2014-11-20T00:00:00.000000000' '2014-11-21T00:00:00.000000000'\n",
      " '2014-11-23T00:00:00.000000000' '2014-11-24T00:00:00.000000000'\n",
      " '2014-11-26T00:00:00.000000000' '2014-11-27T00:00:00.000000000'\n",
      " '2014-11-28T00:00:00.000000000' '2014-11-29T00:00:00.000000000'\n",
      " '2014-11-30T00:00:00.000000000' '2014-12-01T00:00:00.000000000'\n",
      " '2014-12-02T00:00:00.000000000' '2014-12-03T00:00:00.000000000'\n",
      " '2014-12-04T00:00:00.000000000' '2014-12-05T00:00:00.000000000'\n",
      " '2014-12-06T00:00:00.000000000' '2014-12-07T00:00:00.000000000'\n",
      " '2014-12-08T00:00:00.000000000' '2014-12-09T00:00:00.000000000'\n",
      " '2014-08-13T00:00:00.000000000' '2014-08-14T00:00:00.000000000'\n",
      " '2014-08-16T00:00:00.000000000' '2014-08-19T00:00:00.000000000'\n",
      " '2014-08-21T00:00:00.000000000' '2014-08-22T00:00:00.000000000'\n",
      " '2014-08-23T00:00:00.000000000' '2014-08-24T00:00:00.000000000'\n",
      " '2014-08-29T00:00:00.000000000' '2014-09-18T00:00:00.000000000'\n",
      " '2014-09-29T00:00:00.000000000' '2014-10-06T00:00:00.000000000'\n",
      " '2014-10-14T00:00:00.000000000' '2014-10-15T00:00:00.000000000'\n",
      " '2014-10-26T00:00:00.000000000' '2014-10-27T00:00:00.000000000'\n",
      " '2014-11-01T00:00:00.000000000' '2014-11-06T00:00:00.000000000'\n",
      " '2014-11-07T00:00:00.000000000' '2014-11-10T00:00:00.000000000'\n",
      " '2014-11-12T00:00:00.000000000' '2014-11-13T00:00:00.000000000'\n",
      " '2014-11-16T00:00:00.000000000' '2014-11-17T00:00:00.000000000'\n",
      " '2014-11-18T00:00:00.000000000' '2014-11-22T00:00:00.000000000'\n",
      " '2014-12-13T00:00:00.000000000']\n",
      "description\n",
      "['New cases of suspects' 'New cases of confirmed'\n",
      " 'Total new cases registered so far' 'Total cases of suspects'\n",
      " 'Total cases of probables' 'Total cases of confirmed'\n",
      " 'Cumulative (confirmed + probable + suspects)'\n",
      " 'Total suspected non-class cases' 'New deaths registered'\n",
      " 'Total deaths of suspects' 'Total deaths of probables'\n",
      " 'Total deaths of confirmed'\n",
      " 'Total deaths (confirmed + probables + suspects)'\n",
      " 'Fatality rate for confirmed and probables'\n",
      " 'New cases of confirmed among health workers'\n",
      " 'Total case of confirmed among health workers'\n",
      " 'New deaths registered among health workers'\n",
      " 'Total deaths registered among health workers' 'New admits to CTE so far'\n",
      " 'Total number of hospitalized cases in CTE'\n",
      " 'Total number of exits from CTE' 'Total number of admissions to CTE'\n",
      " 'New contacts registered so far'\n",
      " 'Total contacts registered from start date'\n",
      " 'Number of contacts to follow today' 'Number of contacts followed today'\n",
      " 'Number of contacts out of the track 21 days'\n",
      " 'Number of contacts lost to follow up' 'Number of samples collected today'\n",
      " 'Number of samples under test' 'Total samples tested'\n",
      " 'Total PEC center today' 'Total PEC center today (confirmed)'\n",
      " 'Total PEC center today (suspects)'\n",
      " 'Total of deaths in confirmed cases in CTE'\n",
      " 'Total of cured in confirmed cases in CTE'\n",
      " 'Number of male confirmed cases' 'Number of female confirmed cases'\n",
      " 'Number of male probables cases' 'Number of female probables cases'\n",
      " 'Number of male suspects cases' 'Number of female suspects cases'\n",
      " 'Total number of male cases' 'Total number of female cases'\n",
      " 'Number of confirmed cases among health workers'\n",
      " 'Number of deaths of confirmed cases among health workers'\n",
      " 'Number of probables cases among health workers'\n",
      " 'Number of deaths of probables cases among health workers'\n",
      " 'Number of contacts out of track' 'Number of contacts followed yesterday'\n",
      " 'Number of patients tested' 'Number of samples collected'\n",
      " 'New deaths registered today' 'New deaths registered today (confirmed)'\n",
      " 'Number of suspects cases among health workers' 'Specimens collected'\n",
      " 'Specimens pending for testing' 'Total specimens tested'\n",
      " 'Newly reported deaths' 'Total death/s in confirmed cases'\n",
      " 'Total death/s in probable cases' 'Total death/s in suspected cases'\n",
      " 'Total death/s in confirmed, probable, suspected cases'\n",
      " 'Case Fatality Rate (CFR) - Confirmed & Probable Cases'\n",
      " 'Newly reported contacts' 'Total contacts listed'\n",
      " 'Currently under follow-up' 'Contacts seen'\n",
      " 'Contacts who completed 21 day follow-up' 'Contacts lost to follow-up'\n",
      " 'New admissions' 'Total no. currently in Treatment Units'\n",
      " 'Total discharges' 'Cumulative admission/isolation'\n",
      " 'Newly Reported Cases in HCW' 'Cumulative cases among HCW'\n",
      " 'Newly Reported deaths in HCW' 'Cumulative deaths among HCW'\n",
      " 'New Case/s (Suspected)' 'New Case/s (Probable)' 'New case/s (confirmed)'\n",
      " 'Total suspected cases' 'Total probable cases' 'Total confirmed cases'\n",
      " 'Total Number of Confirmed Cases of Sierra Leonean Nationality'\n",
      " 'Total Number of Confirmed Cases of Guinean Nationality'\n",
      " 'Total death/s in confirmed, \\n probable, suspected cases'\n",
      " 'Case Fatality Rate (CFR) - \\n Confirmed & Probable Cases'\n",
      " 'Total no. currently in Treatment \\n Units'\n",
      " 'Total Number of Confirmed Cases \\n of Sierra Leonean Nationality'\n",
      " 'Total Number of Confirmed Cases \\n of Guinean Nationality'\n",
      " 'Cumulative confirmed, probable and suspected cases'\n",
      " 'Contacts who completed 21 day \\n follow-up'\n",
      " 'Cumulative (confirmed + probable + suspected)' 'Total Case/s (Suspected)'\n",
      " 'Total Case/s (Probable)' 'Total case/s (confirmed)' 'Cumulative CFR'\n",
      " 'Total death/s in confirmed,  probable, suspected cases' 'population'\n",
      " 'new_noncase' 'new_suspected' 'new_probable' 'new_confirmed' 'cum_noncase'\n",
      " 'cum_suspected' 'cum_probable' 'cum_confirmed' 'death_suspected'\n",
      " 'death_probable' 'death_confirmed' 'cfr' 'etc_new_admission'\n",
      " 'etc_currently_admitted' 'etc_cum_admission' 'etc_new_deaths'\n",
      " 'etc_cum_deaths' 'etc_new_discharges' 'etc_cum_discharges' 'cum_contacts'\n",
      " 'cum_completed_contacts' 'contacts_followed' 'new_contacts'\n",
      " 'contacts_healthy' 'contacts_ill' 'contacts_not_seen'\n",
      " 'new_completed_contacts' 'percent_seen' 'total_lab_samples'\n",
      " 'repeat_samples' 'new_samples' 'new_positive' 'new_negative' 'pending'\n",
      " 'positive_corpse' 'negative_corpse']\n",
      "number\n",
      "[5.0 1.0 6.0 ..., 1526.0 1556.0 6638.0]\n"
     ]
    }
   ],
   "source": [
    "folders = ['guinea', 'liberia', 'sl']\n",
    "folder_end = '_data/'\n",
    "folder_begin = 'ebola/'\n",
    "\n",
    "ebola_data = pd.DataFrame(columns=['country', 'town', 'date', 'description', 'number'])\n",
    "for folder in folders:\n",
    "    folder_path = DATA_FOLDER + folder_begin + folder + folder_end\n",
    "    print(\"Loading data from %s\" % folder)\n",
    "    for data_file in listdir(folder_path):\n",
    "        if isfile(join(folder_path, data_file)):\n",
    "            metas = data_file.replace('.', '-').split('-')\n",
    "            meta_date = datetime(int(metas[0]), int(metas[1]), int(metas[2]))\n",
    "            datas = pd.DataFrame.from_csv(folder_path + data_file)\n",
    "            towns = datas.columns[2:]\n",
    "            date = datas.index.name\n",
    "            description = datas.columns[0]\n",
    "            for town in towns:\n",
    "                town_data = datas[datas[town] != 0].reset_index().copy()\n",
    "                town_data['country'] = folder\n",
    "                town_data['town'] = town\n",
    "                town_data = town_data[['country', 'town', date, description, town]]\n",
    "                town_data.columns = ['country', 'town', 'date', 'description', 'number']\n",
    "                ebola_data = pd.concat([ebola_data, town_data], axis=0)\n",
    "            \n",
    "for column in ebola_data.columns:\n",
    "    print(column)\n",
    "    print(ebola_data[column].unique())\n",
    "#print(ebola_data.sample(frac=1).head())"
   ]
  },
  {
   "cell_type": "markdown",
   "metadata": {},
   "source": [
    "## Task 2. RNA Sequences\n",
    "\n",
    "In the `DATA_FOLDER/microbiome` subdirectory, there are 9 spreadsheets of microbiome data that was acquired from high-throughput RNA sequencing procedures, along with a 10<sup>th</sup> file that describes the content of each. \n",
    "\n",
    "Use pandas to import the first 9 spreadsheets into a single `DataFrame`.\n",
    "Then, add the metadata information from the 10<sup>th</sup> spreadsheet as columns in the combined `DataFrame`.\n",
    "Make sure that the final `DataFrame` has a unique index and all the `NaN` values have been replaced by the tag `unknown`."
   ]
  },
  {
   "cell_type": "code",
   "execution_count": 140,
   "metadata": {},
   "outputs": [
    {
     "name": "stdout",
     "output_type": "stream",
     "text": [
      "                                                   0  1 BARCODE\n",
      "0  Archaea \"Crenarchaeota\" Thermoprotei Desulfuro...  7    MID1\n",
      "1  Archaea \"Crenarchaeota\" Thermoprotei Desulfuro...  2    MID1\n",
      "2  Archaea \"Crenarchaeota\" Thermoprotei Sulfoloba...  3    MID1\n",
      "3  Archaea \"Crenarchaeota\" Thermoprotei Thermopro...  3    MID1\n",
      "4  Archaea \"Euryarchaeota\" \"Methanomicrobia\" Meth...  7    MID1\n",
      "3.0916129032258066\n",
      "                                                      0   1  \\\n",
      "28    Bacteria \"Actinobacteria\" Actinobacteria Actin...  17   \n",
      "83    Bacteria \"Bacteroidetes\" Flavobacteria \"Flavob...   7   \n",
      "457   Bacteria \"Fusobacteria\" \"Fusobacteria\" \"Fusoba...   2   \n",
      "687   Bacteria \"Bacteroidetes\" Flavobacteria \"Flavob...   6   \n",
      "2273  Bacteria \"Firmicutes\" \"Clostridia\" Halanaerobi...   1   \n",
      "\n",
      "                   GROUP   SAMPLE  \n",
      "28    EXTRACTION CONTROL  unknown  \n",
      "83    EXTRACTION CONTROL  unknown  \n",
      "457                NEC 1   tissue  \n",
      "687            Control 1   tissue  \n",
      "2273           Control 2    stool  \n"
     ]
    }
   ],
   "source": [
    "# Write your answer here\n",
    "datas = pd.DataFrame()\n",
    "\n",
    "for i in range(1, 10):\n",
    "    file_name = '%s/microbiome/MID%d.xls' % (DATA_FOLDER, i)\n",
    "    data = pd.read_excel(open(file_name,'rb'), header=None)\n",
    "    data['BARCODE'] = 'MID%d' % i\n",
    "    datas = pd.concat([datas, data], axis=0)\n",
    "\n",
    "data = pd.read_excel(open('%s/microbiome/metadata.xls' % (DATA_FOLDER),'rb'))\n",
    "datas = datas.merge(data, how='left', on='BARCODE')\n",
    "datas = datas.fillna('unknown')\n",
    "del datas['BARCODE']\n",
    "print(datas.sample(frac=1).head())\n"
   ]
  },
  {
   "cell_type": "markdown",
   "metadata": {},
   "source": [
    "## Task 3. Class War in Titanic\n",
    "\n",
    "Use pandas to import the data file `Data/titanic.xls`. It contains data on all the passengers that travelled on the Titanic."
   ]
  },
  {
   "cell_type": "code",
   "execution_count": 93,
   "metadata": {
    "collapsed": true
   },
   "outputs": [],
   "source": [
    "%matplotlib inline\n",
    "import pandas as pd\n",
    "import numpy as np\n",
    "import matplotlib.pyplot as plt\n",
    "from IPython.core.display import HTML"
   ]
  },
  {
   "cell_type": "code",
   "execution_count": 94,
   "metadata": {},
   "outputs": [
    {
     "data": {
      "text/html": [
       "<hr><h2>Data frame:titanic3</h2>1309 observations and 14 variables, maximum # NAs:1188<hr>\n",
       "<TABLE BORDER>\n",
       "<tr><td>Name</td><td>Labels</td><td>Units</td><td>Levels</td><td>Storage</td><td>NAs</td></tr>\n",
       "<tr><td>pclass</td><td></td><td></td><td><a href=\"#pclass\"><div align=right>  3</div></a></td><td>integer</td><td><div align=right>   0</div></td></tr>\n",
       "<tr><td>survived</td><td>Survived</td><td></td><td><div align=right></div></td><td>double</td><td><div align=right>   0</div></td></tr>\n",
       "<tr><td>name</td><td>Name</td><td></td><td><div align=right></div></td><td>character</td><td><div align=right>   0</div></td></tr>\n",
       "<tr><td>sex</td><td></td><td></td><td><a href=\"#sex\"><div align=right>  2</div></a></td><td>integer</td><td><div align=right>   0</div></td></tr>\n",
       "<tr><td>age</td><td>Age</td><td>Year</td><td><div align=right></div></td><td>double</td><td><div align=right> 263</div></td></tr>\n",
       "<tr><td>sibsp</td><td>Number of Siblings/Spouses Aboard</td><td></td><td><div align=right></div></td><td>double</td><td><div align=right>   0</div></td></tr>\n",
       "<tr><td>parch</td><td>Number of Parents/Children Aboard</td><td></td><td><div align=right></div></td><td>double</td><td><div align=right>   0</div></td></tr>\n",
       "<tr><td>ticket</td><td>Ticket Number</td><td></td><td><div align=right></div></td><td>character</td><td><div align=right>   0</div></td></tr>\n",
       "<tr><td>fare</td><td>Passenger Fare</td><td>British Pound (\\243)</td><td><div align=right></div></td><td>double</td><td><div align=right>   1</div></td></tr>\n",
       "<tr><td>cabin</td><td></td><td></td><td><a href=\"#cabin\"><div align=right>187</div></a></td><td>integer</td><td><div align=right>   0</div></td></tr>\n",
       "<tr><td>embarked</td><td></td><td></td><td><a href=\"#embarked\"><div align=right>  3</div></a></td><td>integer</td><td><div align=right>   2</div></td></tr>\n",
       "<tr><td>boat</td><td></td><td></td><td><a href=\"#boat\"><div align=right> 28</div></a></td><td>integer</td><td><div align=right>   0</div></td></tr>\n",
       "<tr><td>body</td><td>Body Identification Number</td><td></td><td><div align=right></div></td><td>double</td><td><div align=right>1188</div></td></tr>\n",
       "<tr><td>home.dest</td><td>Home/Destination</td><td></td><td><div align=right></div></td><td>character</td><td><div align=right>   0</div></td></tr>\n",
       "</TABLE>\n",
       "<hr>\n",
       "<TABLE BORDER>\n",
       "<tr><td>Variable</td><td>Levels</td></tr>\n",
       "<tr><td><a name=\"pclass\">pclass</a></td><td>1st</td></tr>\n",
       "<tr><td></td><td>2nd</td></tr>\n",
       "<tr><td></td><td>3rd</td></tr>\n",
       "<tr><td><a name=\"sex\">sex</a></td><td>female</td></tr>\n",
       "<tr><td></td><td>male</td></tr>\n",
       "<tr><td><a name=\"cabin\">cabin</a></td><td></td></tr>\n",
       "<tr><td></td><td>A10</td></tr>\n",
       "<tr><td></td><td>A11</td></tr>\n",
       "<tr><td></td><td>A14</td></tr>\n",
       "<tr><td></td><td>A16</td></tr>\n",
       "<tr><td></td><td>A18</td></tr>\n",
       "<tr><td></td><td>A19</td></tr>\n",
       "<tr><td></td><td>A20</td></tr>\n",
       "<tr><td></td><td>A21</td></tr>\n",
       "<tr><td></td><td>A23</td></tr>\n",
       "<tr><td></td><td>A24</td></tr>\n",
       "<tr><td></td><td>A26</td></tr>\n",
       "<tr><td></td><td>A29</td></tr>\n",
       "<tr><td></td><td>A31</td></tr>\n",
       "<tr><td></td><td>A32</td></tr>\n",
       "<tr><td></td><td>A34</td></tr>\n",
       "<tr><td></td><td>A36</td></tr>\n",
       "<tr><td></td><td>A5</td></tr>\n",
       "<tr><td></td><td>A6</td></tr>\n",
       "<tr><td></td><td>A7</td></tr>\n",
       "<tr><td></td><td>A9</td></tr>\n",
       "<tr><td></td><td>B10</td></tr>\n",
       "<tr><td></td><td>B101</td></tr>\n",
       "<tr><td></td><td>B102</td></tr>\n",
       "<tr><td></td><td>B11</td></tr>\n",
       "<tr><td></td><td>B18</td></tr>\n",
       "<tr><td></td><td>B19</td></tr>\n",
       "<tr><td></td><td>B20</td></tr>\n",
       "<tr><td></td><td>B22</td></tr>\n",
       "<tr><td></td><td>B24</td></tr>\n",
       "<tr><td></td><td>B26</td></tr>\n",
       "<tr><td></td><td>B28</td></tr>\n",
       "<tr><td></td><td>B3</td></tr>\n",
       "<tr><td></td><td>B30</td></tr>\n",
       "<tr><td></td><td>B35</td></tr>\n",
       "<tr><td></td><td>B36</td></tr>\n",
       "<tr><td></td><td>B37</td></tr>\n",
       "<tr><td></td><td>B38</td></tr>\n",
       "<tr><td></td><td>B39</td></tr>\n",
       "<tr><td></td><td>B4</td></tr>\n",
       "<tr><td></td><td>B41</td></tr>\n",
       "<tr><td></td><td>B42</td></tr>\n",
       "<tr><td></td><td>B45</td></tr>\n",
       "<tr><td></td><td>B49</td></tr>\n",
       "<tr><td></td><td>B5</td></tr>\n",
       "<tr><td></td><td>B50</td></tr>\n",
       "<tr><td></td><td>B51 B53 B55</td></tr>\n",
       "<tr><td></td><td>B52 B54 B56</td></tr>\n",
       "<tr><td></td><td>B57 B59 B63 B66</td></tr>\n",
       "<tr><td></td><td>B58 B60</td></tr>\n",
       "<tr><td></td><td>B61</td></tr>\n",
       "<tr><td></td><td>B69</td></tr>\n",
       "<tr><td></td><td>B71</td></tr>\n",
       "<tr><td></td><td>B73</td></tr>\n",
       "<tr><td></td><td>B77</td></tr>\n",
       "<tr><td></td><td>B78</td></tr>\n",
       "<tr><td></td><td>B79</td></tr>\n",
       "<tr><td></td><td>B80</td></tr>\n",
       "<tr><td></td><td>B82 B84</td></tr>\n",
       "<tr><td></td><td>B86</td></tr>\n",
       "<tr><td></td><td>B94</td></tr>\n",
       "<tr><td></td><td>B96 B98</td></tr>\n",
       "<tr><td></td><td>C101</td></tr>\n",
       "<tr><td></td><td>C103</td></tr>\n",
       "<tr><td></td><td>C104</td></tr>\n",
       "<tr><td></td><td>C105</td></tr>\n",
       "<tr><td></td><td>C106</td></tr>\n",
       "<tr><td></td><td>C110</td></tr>\n",
       "<tr><td></td><td>C111</td></tr>\n",
       "<tr><td></td><td>C116</td></tr>\n",
       "<tr><td></td><td>C118</td></tr>\n",
       "<tr><td></td><td>C123</td></tr>\n",
       "<tr><td></td><td>C124</td></tr>\n",
       "<tr><td></td><td>C125</td></tr>\n",
       "<tr><td></td><td>C126</td></tr>\n",
       "<tr><td></td><td>C128</td></tr>\n",
       "<tr><td></td><td>C130</td></tr>\n",
       "<tr><td></td><td>C132</td></tr>\n",
       "<tr><td></td><td>C148</td></tr>\n",
       "<tr><td></td><td>C2</td></tr>\n",
       "<tr><td></td><td>C22 C26</td></tr>\n",
       "<tr><td></td><td>C23 C25 C27</td></tr>\n",
       "<tr><td></td><td>C28</td></tr>\n",
       "<tr><td></td><td>C30</td></tr>\n",
       "<tr><td></td><td>C31</td></tr>\n",
       "<tr><td></td><td>C32</td></tr>\n",
       "<tr><td></td><td>C39</td></tr>\n",
       "<tr><td></td><td>C45</td></tr>\n",
       "<tr><td></td><td>C46</td></tr>\n",
       "<tr><td></td><td>C47</td></tr>\n",
       "<tr><td></td><td>C49</td></tr>\n",
       "<tr><td></td><td>C50</td></tr>\n",
       "<tr><td></td><td>C51</td></tr>\n",
       "<tr><td></td><td>C52</td></tr>\n",
       "<tr><td></td><td>C53</td></tr>\n",
       "<tr><td></td><td>C54</td></tr>\n",
       "<tr><td></td><td>C55 C57</td></tr>\n",
       "<tr><td></td><td>C6</td></tr>\n",
       "<tr><td></td><td>C62 C64</td></tr>\n",
       "<tr><td></td><td>C65</td></tr>\n",
       "<tr><td></td><td>C68</td></tr>\n",
       "<tr><td></td><td>C7</td></tr>\n",
       "<tr><td></td><td>C70</td></tr>\n",
       "<tr><td></td><td>C78</td></tr>\n",
       "<tr><td></td><td>C80</td></tr>\n",
       "<tr><td></td><td>C82</td></tr>\n",
       "<tr><td></td><td>C83</td></tr>\n",
       "<tr><td></td><td>C85</td></tr>\n",
       "<tr><td></td><td>C86</td></tr>\n",
       "<tr><td></td><td>C87</td></tr>\n",
       "<tr><td></td><td>C89</td></tr>\n",
       "<tr><td></td><td>C90</td></tr>\n",
       "<tr><td></td><td>C91</td></tr>\n",
       "<tr><td></td><td>C92</td></tr>\n",
       "<tr><td></td><td>C93</td></tr>\n",
       "<tr><td></td><td>C95</td></tr>\n",
       "<tr><td></td><td>C97</td></tr>\n",
       "<tr><td></td><td>C99</td></tr>\n",
       "<tr><td></td><td>D</td></tr>\n",
       "<tr><td></td><td>D10 D12</td></tr>\n",
       "<tr><td></td><td>D11</td></tr>\n",
       "<tr><td></td><td>D15</td></tr>\n",
       "<tr><td></td><td>D17</td></tr>\n",
       "<tr><td></td><td>D19</td></tr>\n",
       "<tr><td></td><td>D20</td></tr>\n",
       "<tr><td></td><td>D21</td></tr>\n",
       "<tr><td></td><td>D22</td></tr>\n",
       "<tr><td></td><td>D26</td></tr>\n",
       "<tr><td></td><td>D28</td></tr>\n",
       "<tr><td></td><td>D30</td></tr>\n",
       "<tr><td></td><td>D33</td></tr>\n",
       "<tr><td></td><td>D34</td></tr>\n",
       "<tr><td></td><td>D35</td></tr>\n",
       "<tr><td></td><td>D36</td></tr>\n",
       "<tr><td></td><td>D37</td></tr>\n",
       "<tr><td></td><td>D38</td></tr>\n",
       "<tr><td></td><td>D40</td></tr>\n",
       "<tr><td></td><td>D43</td></tr>\n",
       "<tr><td></td><td>D45</td></tr>\n",
       "<tr><td></td><td>D46</td></tr>\n",
       "<tr><td></td><td>D47</td></tr>\n",
       "<tr><td></td><td>D48</td></tr>\n",
       "<tr><td></td><td>D49</td></tr>\n",
       "<tr><td></td><td>D50</td></tr>\n",
       "<tr><td></td><td>D56</td></tr>\n",
       "<tr><td></td><td>D6</td></tr>\n",
       "<tr><td></td><td>D7</td></tr>\n",
       "<tr><td></td><td>D9</td></tr>\n",
       "<tr><td></td><td>E10</td></tr>\n",
       "<tr><td></td><td>E101</td></tr>\n",
       "<tr><td></td><td>E12</td></tr>\n",
       "<tr><td></td><td>E121</td></tr>\n",
       "<tr><td></td><td>E17</td></tr>\n",
       "<tr><td></td><td>E24</td></tr>\n",
       "<tr><td></td><td>E25</td></tr>\n",
       "<tr><td></td><td>E31</td></tr>\n",
       "<tr><td></td><td>E33</td></tr>\n",
       "<tr><td></td><td>E34</td></tr>\n",
       "<tr><td></td><td>E36</td></tr>\n",
       "<tr><td></td><td>E38</td></tr>\n",
       "<tr><td></td><td>E39 E41</td></tr>\n",
       "<tr><td></td><td>E40</td></tr>\n",
       "<tr><td></td><td>E44</td></tr>\n",
       "<tr><td></td><td>E45</td></tr>\n",
       "<tr><td></td><td>E46</td></tr>\n",
       "<tr><td></td><td>E49</td></tr>\n",
       "<tr><td></td><td>E50</td></tr>\n",
       "<tr><td></td><td>E52</td></tr>\n",
       "<tr><td></td><td>E58</td></tr>\n",
       "<tr><td></td><td>E60</td></tr>\n",
       "<tr><td></td><td>E63</td></tr>\n",
       "<tr><td></td><td>E67</td></tr>\n",
       "<tr><td></td><td>E68</td></tr>\n",
       "<tr><td></td><td>E77</td></tr>\n",
       "<tr><td></td><td>E8</td></tr>\n",
       "<tr><td></td><td>F</td></tr>\n",
       "<tr><td></td><td>F E46</td></tr>\n",
       "<tr><td></td><td>F E57</td></tr>\n",
       "<tr><td></td><td>F E69</td></tr>\n",
       "<tr><td></td><td>F G63</td></tr>\n",
       "<tr><td></td><td>F G73</td></tr>\n",
       "<tr><td></td><td>F2</td></tr>\n",
       "<tr><td></td><td>F33</td></tr>\n",
       "<tr><td></td><td>F38</td></tr>\n",
       "<tr><td></td><td>F4</td></tr>\n",
       "<tr><td></td><td>G6</td></tr>\n",
       "<tr><td></td><td>T</td></tr>\n",
       "<tr><td><a name=\"embarked\">embarked</a></td><td>Cherbourg</td></tr>\n",
       "<tr><td></td><td>Queenstown</td></tr>\n",
       "<tr><td></td><td>Southampton</td></tr>\n",
       "<tr><td><a name=\"boat\">boat</a></td><td></td></tr>\n",
       "<tr><td></td><td>1</td></tr>\n",
       "<tr><td></td><td>10</td></tr>\n",
       "<tr><td></td><td>11</td></tr>\n",
       "<tr><td></td><td>12</td></tr>\n",
       "<tr><td></td><td>13</td></tr>\n",
       "<tr><td></td><td>13 15</td></tr>\n",
       "<tr><td></td><td>13 15 B</td></tr>\n",
       "<tr><td></td><td>14</td></tr>\n",
       "<tr><td></td><td>15</td></tr>\n",
       "<tr><td></td><td>15 16</td></tr>\n",
       "<tr><td></td><td>16</td></tr>\n",
       "<tr><td></td><td>2</td></tr>\n",
       "<tr><td></td><td>3</td></tr>\n",
       "<tr><td></td><td>4</td></tr>\n",
       "<tr><td></td><td>5</td></tr>\n",
       "<tr><td></td><td>5 7</td></tr>\n",
       "<tr><td></td><td>5 9</td></tr>\n",
       "<tr><td></td><td>6</td></tr>\n",
       "<tr><td></td><td>7</td></tr>\n",
       "<tr><td></td><td>8</td></tr>\n",
       "<tr><td></td><td>8 10</td></tr>\n",
       "<tr><td></td><td>9</td></tr>\n",
       "<tr><td></td><td>A</td></tr>\n",
       "<tr><td></td><td>B</td></tr>\n",
       "<tr><td></td><td>C</td></tr>\n",
       "<tr><td></td><td>C D</td></tr>\n",
       "<tr><td></td><td>D</td></tr>\n",
       "</TABLE>\n",
       "<hr>\n"
      ],
      "text/plain": [
       "<IPython.core.display.HTML object>"
      ]
     },
     "execution_count": 94,
     "metadata": {},
     "output_type": "execute_result"
    }
   ],
   "source": [
    "HTML(filename=DATA_FOLDER+'/titanic.html')"
   ]
  },
  {
   "cell_type": "markdown",
   "metadata": {},
   "source": [
    "For each of the following questions state clearly your assumptions and discuss your findings:\n",
    "1. Describe the *type* and the *value range* of each attribute. Indicate and transform the attributes that can be `Categorical`. \n",
    "2. Plot histograms for the *travel class*, *embarkation port*, *sex* and *age* attributes. For the latter one, use *discrete decade intervals*. \n",
    "3. Calculate the proportion of passengers by *cabin floor*. Present your results in a *pie chart*.\n",
    "4. For each *travel class*, calculate the proportion of the passengers that survived. Present your results in *pie charts*.\n",
    "5. Calculate the proportion of the passengers that survived by *travel class* and *sex*. Present your results in *a single histogram*.\n",
    "6. Create 2 equally populated *age categories* and calculate survival proportions by *age category*, *travel class* and *sex*. Present your results in a `DataFrame` with unique index."
   ]
  },
  {
   "cell_type": "code",
   "execution_count": 138,
   "metadata": {},
   "outputs": [],
   "source": [
    "dataf = pd.read_excel('Data/titanic.xls')\n"
   ]
  },
  {
   "cell_type": "markdown",
   "metadata": {},
   "source": [
    "## Question 1\n",
    "\n",
    "The current types of each column can easly be obtained using \"mb1.dtypes\" as shown in next cell.\n"
   ]
  },
  {
   "cell_type": "code",
   "execution_count": 140,
   "metadata": {
    "scrolled": true
   },
   "outputs": [
    {
     "name": "stdout",
     "output_type": "stream",
     "text": [
      "Column Name     Column Type     Column Min                          Column Max                         \n",
      "pclass          int64           1                                   3                                  \n",
      "survived        int64           0                                   1                                  \n",
      "name            object          Abbing, Mr. Anthony                 van Melkebeke, Mr. Philemon        \n",
      "sex             object          female                              male                               \n",
      "age             float64         0.1667                              80.0                               \n",
      "sibsp           int64           0                                   8                                  \n",
      "parch           int64           0                                   9                                  \n",
      "ticket          object          110152                              WE/P 5735                          \n",
      "fare            float64         0.0                                 512.3292                           \n",
      "cabin           object          A10                                 T                                  \n",
      "embarked        object          C                                   S                                  \n",
      "boat            object          1                                   D                                  \n",
      "body            float64         1.0                                 328.0                              \n",
      "home.dest       object          ?Havana, Cuba                       Zurich, Switzerland                \n"
     ]
    }
   ],
   "source": [
    "dataf_cp = dataf.copy()\n",
    "\n",
    "print('%-15s %-15s %-35s %-35s' % ('Column Name', 'Column Type', 'Column Min', 'Column Max'))\n",
    "for col in dataf_cp.columns:\n",
    "    tmp = dataf_cp[col].dropna()\n",
    "    if dataf_cp[col].dtypes == 'object':\n",
    "        tmp = tmp.astype(str)\n",
    "    print('%-15s %-15s %-35s %-35s' % (col, str(dataf_cp[col].dtypes), str(tmp.min()), str(tmp.max())))\n"
   ]
  },
  {
   "cell_type": "markdown",
   "metadata": {},
   "source": [
    "We can change in categorical every columns that has a limited number of distinct value, like: pclass, survived, sex, sibsp, parch, embarked, boat and home.dest."
   ]
  },
  {
   "cell_type": "code",
   "execution_count": 143,
   "metadata": {},
   "outputs": [],
   "source": [
    "to_categorical = ['pclass','survived', 'sex', 'sibsp', 'parch', 'embarked', 'boat', 'home.dest']\n",
    "for c in to_categorical:\n",
    "    dataf[c] = dataf[c].astype('category')"
   ]
  },
  {
   "cell_type": "markdown",
   "metadata": {},
   "source": [
    "## Question 2"
   ]
  },
  {
   "cell_type": "code",
   "execution_count": 142,
   "metadata": {},
   "outputs": [
    {
     "data": {
      "text/plain": [
       "<matplotlib.axes._subplots.AxesSubplot at 0x7ff288ceeda0>"
      ]
     },
     "execution_count": 142,
     "metadata": {},
     "output_type": "execute_result"
    },
    {
     "data": {
      "image/png": "[encoded data removed]",
      "text/plain": [
       "<matplotlib.figure.Figure at 0x7ff288d07b70>"
      ]
     },
     "metadata": {},
     "output_type": "display_data"
    }
   ],
   "source": [
    "dataf.pclass.value_counts().sort_index().plot(kind='bar')"
   ]
  },
  {
   "cell_type": "code",
   "execution_count": 112,
   "metadata": {},
   "outputs": [
    {
     "data": {
      "text/plain": [
       "<matplotlib.axes._subplots.AxesSubplot at 0x7ff289ce4668>"
      ]
     },
     "execution_count": 112,
     "metadata": {},
     "output_type": "execute_result"
    },
    {
     "data": {
      "image/png": "[encoded data removed]",
      "text/plain": [
       "<matplotlib.figure.Figure at 0x7ff289e29550>"
      ]
     },
     "metadata": {},
     "output_type": "display_data"
    }
   ],
   "source": [
    "dataf.embarked.value_counts().plot(kind='bar')"
   ]
  },
  {
   "cell_type": "code",
   "execution_count": 115,
   "metadata": {},
   "outputs": [
    {
     "data": {
      "text/plain": [
       "<matplotlib.axes._subplots.AxesSubplot at 0x7ff289b04390>"
      ]
     },
     "execution_count": 115,
     "metadata": {},
     "output_type": "execute_result"
    },
    {
     "data": {
      "image/png": "[encoded data removed]",
      "text/plain": [
       "<matplotlib.figure.Figure at 0x7ff289a8ea58>"
      ]
     },
     "metadata": {},
     "output_type": "display_data"
    }
   ],
   "source": [
    "dataf.sex.value_counts().plot(kind='bar')"
   ]
  },
  {
   "cell_type": "code",
   "execution_count": 357,
   "metadata": {},
   "outputs": [
    {
     "data": {
      "text/plain": [
       "<matplotlib.axes._subplots.AxesSubplot at 0x7ff2880a62e8>"
      ]
     },
     "execution_count": 357,
     "metadata": {},
     "output_type": "execute_result"
    },
    {
     "data": {
      "image/png": "[encoded data removed]",
      "text/plain": [
       "<matplotlib.figure.Figure at 0x7ff2860ad080>"
      ]
     },
     "metadata": {},
     "output_type": "display_data"
    }
   ],
   "source": [
    "pd.cut(dataf.age, [x for x in range(0, int(dataf.age.max()) + 1, 10)]).value_counts().sort_index().plot(kind='bar')"
   ]
  },
  {
   "cell_type": "markdown",
   "metadata": {},
   "source": [
    "## Question 3"
   ]
  },
  {
   "cell_type": "markdown",
   "metadata": {},
   "source": [
    "As the datas are note clear for the cabin column, we arbitrarily picked the first letter of the first cabin that appears in the cell for the floor. For cabin with cell \"C22 D26\", we assign the cabin at floor C."
   ]
  },
  {
   "cell_type": "code",
   "execution_count": 169,
   "metadata": {},
   "outputs": [
    {
     "data": {
      "text/plain": [
       "<matplotlib.axes._subplots.AxesSubplot at 0x7ff28890ea90>"
      ]
     },
     "execution_count": 169,
     "metadata": {},
     "output_type": "execute_result"
    },
    {
     "data": {
      "image/png": "[encoded data removed]",
      "text/plain": [
       "<matplotlib.figure.Figure at 0x7ff28893ff98>"
      ]
     },
     "metadata": {},
     "output_type": "display_data"
    }
   ],
   "source": [
    "floor = dataf.cabin.copy().dropna().apply(lambda x : x[0]).astype('category').rename('floor distribution')\n",
    "data_cabin.value_counts().sort_index().plot(kind='pie', autopct='%1.1f%%', figsize=(10,10))"
   ]
  },
  {
   "cell_type": "markdown",
   "metadata": {},
   "source": [
    "## Question 4"
   ]
  },
  {
   "cell_type": "code",
   "execution_count": 354,
   "metadata": {},
   "outputs": [
    {
     "data": {
      "image/png": "[encoded data removed]",
      "text/plain": [
       "<matplotlib.figure.Figure at 0x7ff287debf60>"
      ]
     },
     "metadata": {},
     "output_type": "display_data"
    }
   ],
   "source": [
    "\n",
    "fig, axes = plt.subplots(nrows=1, ncols=len(dataf.pclass.unique()))\n",
    "\n",
    "for cl in dataf.pclass.unique():\n",
    "    tmp = dataf[dataf.pclass == cl]\n",
    "    tmp.survived.rename('travel class ' + str(cl) + \" - number of passengers : \" + str(tmp.shape[0])).value_counts().sort_index().plot(kind='pie', \n",
    "                        ax=axes[cl-1], figsize=(18,6), autopct='%1.1f%%', labels=['died', 'survived'])\n",
    "    "
   ]
  },
  {
   "cell_type": "markdown",
   "metadata": {},
   "source": [
    "## Question 5"
   ]
  },
  {
   "cell_type": "code",
   "execution_count": 222,
   "metadata": {},
   "outputs": [
    {
     "data": {
      "text/plain": [
       "<matplotlib.axes._subplots.AxesSubplot at 0x7ff287f2e0b8>"
      ]
     },
     "execution_count": 222,
     "metadata": {},
     "output_type": "execute_result"
    },
    {
     "data": {
      "image/png": "[encoded data removed]",
      "text/plain": [
       "<matplotlib.figure.Figure at 0x7ff287ceb5f8>"
      ]
     },
     "metadata": {},
     "output_type": "display_data"
    }
   ],
   "source": [
    "dataf_res = pd.Series()\n",
    "\n",
    "tab_survived = ['died', 'survived']\n",
    "\n",
    "for cl in dataf.pclass.unique():\n",
    "    for s in dataf.sex.unique():\n",
    "        tmp = dataf[(dataf.pclass == cl) & (dataf.sex == s)].survived.value_counts().sort_index()\n",
    "        dataf_res.set_value('travel class: ' + str(cl) + ' - sex: ' + str(s) + ' - ' + tab_survived[tmp.index[0]], tmp.values[0])\n",
    "        dataf_res.set_value('travel class: ' + str(cl) + ' - sex: ' + str(s) + ' - ' + tab_survived[tmp.index[1]], tmp.values[1])\n",
    "\n",
    "dataf_res.plot(kind='bar')"
   ]
  },
  {
   "cell_type": "markdown",
   "metadata": {},
   "source": [
    "## Question 6"
   ]
  },
  {
   "cell_type": "code",
   "execution_count": 325,
   "metadata": {},
   "outputs": [
    {
     "data": {
      "text/html": [
       "<div>\n",
       "<style>\n",
       "    .dataframe thead tr:only-child th {\n",
       "        text-align: right;\n",
       "    }\n",
       "\n",
       "    .dataframe thead th {\n",
       "        text-align: left;\n",
       "    }\n",
       "\n",
       "    .dataframe tbody tr th {\n",
       "        vertical-align: top;\n",
       "    }\n",
       "</style>\n",
       "<table border=\"1\" class=\"dataframe\">\n",
       "  <thead>\n",
       "    <tr style=\"text-align: right;\">\n",
       "      <th></th>\n",
       "      <th></th>\n",
       "      <th></th>\n",
       "      <th>dead</th>\n",
       "      <th>survived</th>\n",
       "    </tr>\n",
       "    <tr>\n",
       "      <th>grouped_age</th>\n",
       "      <th>pclass</th>\n",
       "      <th>sex</th>\n",
       "      <th></th>\n",
       "      <th></th>\n",
       "    </tr>\n",
       "  </thead>\n",
       "  <tbody>\n",
       "    <tr>\n",
       "      <th rowspan=\"6\" valign=\"top\">(0.166, 28.0]</th>\n",
       "      <th rowspan=\"2\" valign=\"top\">1</th>\n",
       "      <th>female</th>\n",
       "      <td>2</td>\n",
       "      <td>39</td>\n",
       "    </tr>\n",
       "    <tr>\n",
       "      <th>male</th>\n",
       "      <td>15</td>\n",
       "      <td>17</td>\n",
       "    </tr>\n",
       "    <tr>\n",
       "      <th rowspan=\"2\" valign=\"top\">2</th>\n",
       "      <th>female</th>\n",
       "      <td>5</td>\n",
       "      <td>51</td>\n",
       "    </tr>\n",
       "    <tr>\n",
       "      <th>male</th>\n",
       "      <td>58</td>\n",
       "      <td>16</td>\n",
       "    </tr>\n",
       "    <tr>\n",
       "      <th rowspan=\"2\" valign=\"top\">3</th>\n",
       "      <th>female</th>\n",
       "      <td>53</td>\n",
       "      <td>56</td>\n",
       "    </tr>\n",
       "    <tr>\n",
       "      <th>male</th>\n",
       "      <td>183</td>\n",
       "      <td>41</td>\n",
       "    </tr>\n",
       "    <tr>\n",
       "      <th rowspan=\"6\" valign=\"top\">(28.0, 80.0]</th>\n",
       "      <th rowspan=\"2\" valign=\"top\">1</th>\n",
       "      <th>female</th>\n",
       "      <td>3</td>\n",
       "      <td>89</td>\n",
       "    </tr>\n",
       "    <tr>\n",
       "      <th>male</th>\n",
       "      <td>83</td>\n",
       "      <td>36</td>\n",
       "    </tr>\n",
       "    <tr>\n",
       "      <th rowspan=\"2\" valign=\"top\">2</th>\n",
       "      <th>female</th>\n",
       "      <td>6</td>\n",
       "      <td>41</td>\n",
       "    </tr>\n",
       "    <tr>\n",
       "      <th>male</th>\n",
       "      <td>77</td>\n",
       "      <td>7</td>\n",
       "    </tr>\n",
       "    <tr>\n",
       "      <th rowspan=\"2\" valign=\"top\">3</th>\n",
       "      <th>female</th>\n",
       "      <td>27</td>\n",
       "      <td>16</td>\n",
       "    </tr>\n",
       "    <tr>\n",
       "      <th>male</th>\n",
       "      <td>107</td>\n",
       "      <td>18</td>\n",
       "    </tr>\n",
       "  </tbody>\n",
       "</table>\n",
       "</div>"
      ],
      "text/plain": [
       "                             dead  survived\n",
       "grouped_age   pclass sex                   \n",
       "(0.166, 28.0] 1      female     2        39\n",
       "                     male      15        17\n",
       "              2      female     5        51\n",
       "                     male      58        16\n",
       "              3      female    53        56\n",
       "                     male     183        41\n",
       "(28.0, 80.0]  1      female     3        89\n",
       "                     male      83        36\n",
       "              2      female     6        41\n",
       "                     male      77         7\n",
       "              3      female    27        16\n",
       "                     male     107        18"
      ]
     },
     "execution_count": 325,
     "metadata": {},
     "output_type": "execute_result"
    }
   ],
   "source": [
    "dataf6 = dataf.copy()\n",
    "dataf6.age=pd.qcut(dataf6.age, 2).dropna()\n",
    "\n",
    "dataf6.rename(columns={'age':'grouped_age'}, inplace=True)\n",
    "\n",
    "grouped_index = dataf6.groupby([dataf6.grouped_age, dataf6.pclass, dataf6.sex])\n",
    "final_data_frame = grouped_index.survived.value_counts().unstack('survived')\n",
    "\n",
    "final_data_frame.columns = ['dead','survived']\n",
    "final_data_frame\n"
   ]
  },
  {
   "cell_type": "code",
   "execution_count": null,
   "metadata": {
    "collapsed": true
   },
   "outputs": [],
   "source": []
  }
 ],
 "metadata": {
  "kernelspec": {
   "display_name": "Python 3",
   "language": "python",
   "name": "python3"
  },
  "language_info": {
   "codemirror_mode": {
    "name": "ipython",
    "version": 3
   },
   "file_extension": ".py",
   "mimetype": "text/x-python",
   "name": "python",
   "nbconvert_exporter": "python",
   "pygments_lexer": "ipython3",
   "version": "3.6.1"
  }
 },
 "nbformat": 4,
 "nbformat_minor": 2
}
