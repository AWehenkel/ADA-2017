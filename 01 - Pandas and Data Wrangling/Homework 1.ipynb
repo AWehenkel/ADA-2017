{
 "cells": [
  {
   "cell_type": "markdown",
   "metadata": {},
   "source": [
    "# Table of Contents\n",
    " <p><div class=\"lev1\"><a href=\"#Task-1.-Compiling-Ebola-Data\"><span class=\"toc-item-num\">Task 1.&nbsp;&nbsp;</span>Compiling Ebola Data</a></div>\n",
    " <div class=\"lev1\"><a href=\"#Task-2.-RNA-Sequences\"><span class=\"toc-item-num\">Task 2.&nbsp;&nbsp;</span>RNA Sequences</a></div>\n",
    " <div class=\"lev1\"><a href=\"#Task-3.-Class-War-in-Titanic\"><span class=\"toc-item-num\">Task 3.&nbsp;&nbsp;</span>Class War in Titanic</a></div></p>"
   ]
  },
  {
   "cell_type": "code",
   "execution_count": 1,
   "metadata": {
    "collapsed": true
   },
   "outputs": [],
   "source": [
    "DATA_FOLDER = 'Data/' # Use the data folder provided in Tutorial 02 - Intro to Pandas."
   ]
  },
  {
   "cell_type": "markdown",
   "metadata": {},
   "source": [
    "## Task 1. Compiling Ebola Data\n",
    "\n",
    "The `DATA_FOLDER/ebola` folder contains summarized reports of Ebola cases from three countries (Guinea, Liberia and Sierra Leone) during the recent outbreak of the disease in West Africa. For each country, there are daily reports that contain various information about the outbreak in several cities in each country.\n",
    "\n",
    "Use pandas to import these data files into a single `Dataframe`.\n",
    "Using this `DataFrame`, calculate for *each country*, the *daily average* per month of *new cases* and *deaths*.\n",
    "Make sure you handle all the different expressions for *new cases* and *deaths* that are used in the reports."
   ]
  },
  {
   "cell_type": "markdown",
   "metadata": {},
   "source": [
    "### Summary of the approach ###\n",
    "\n",
    "After having taken a careful look to the data, we notice that there isn't a report for each day in the 3 datasets. We also notice that each file contains cumulative value of the new cases/deaths. We will thus extrapolate the average new values per day in one month with these cumulative values; indeed, if we know the total number $x_d$ of deaths at day d and the total number of death $x_{d + n}$ at day d + n we know that there were in average $\\frac{x_{d + n} - x_d}{n}$ new deaths per day during this period. We will therefore take the data the nearest of the first and the last day of the month to compute the average values. We also could have used interpolation to estimate the exact number at first and last day of the month."
   ]
  },
  {
   "cell_type": "markdown",
   "metadata": {},
   "source": [
    "Import useful libraries."
   ]
  },
  {
   "cell_type": "code",
   "execution_count": 2,
   "metadata": {
    "collapsed": true
   },
   "outputs": [],
   "source": [
    "import pandas as pd\n",
    "import numpy as np\n",
    "from os import listdir\n",
    "from os.path import isfile, join\n",
    "from datetime import datetime\n",
    "import matplotlib.pyplot as plt\n",
    "import calendar\n",
    "from calendar import monthrange\n",
    "import datetime\n"
   ]
  },
  {
   "cell_type": "markdown",
   "metadata": {},
   "source": [
    "Load the data into one dataframe. During this phase we reorganise the data and remove the samples having an unknown or 0 value for the observed data, as the cumulative values don't start at 0 for any country. We only take care of the national value as they're sufficient to estimate the country average."
   ]
  },
  {
   "cell_type": "code",
   "execution_count": 3,
   "metadata": {},
   "outputs": [
    {
     "name": "stdout",
     "output_type": "stream",
     "text": [
      "Loading data from guinea\n",
      "Loading data from liberia\n",
      "Loading data from sl\n",
      "Loading completed.\n"
     ]
    }
   ],
   "source": [
    "folders = ['guinea', 'liberia', 'sl']\n",
    "folder_end = '_data/'\n",
    "folder_begin = 'ebola/'\n",
    "\n",
    "type_of_file = []\n",
    "name_of_file = []\n",
    "counter = 0\n",
    "ebola_data = pd.DataFrame(columns=['country', 'date', 'description', 'number'])\n",
    "for folder in folders:\n",
    "    folder_path = DATA_FOLDER + folder_begin + folder + folder_end\n",
    "    print(\"Loading data from %s\" % folder)\n",
    "    for data_file in listdir(folder_path):\n",
    "        counter = counter + 1\n",
    "        if isfile(join(folder_path, data_file)):\n",
    "            datas = pd.DataFrame.from_csv(folder_path + data_file)\n",
    "            datas.columns = [col.lower() for col in datas.columns]\n",
    "            \n",
    "            towns = list(datas.columns[1:])\n",
    "            date = datas.index.name\n",
    "            description = datas.columns[0]\n",
    "            total_col_name = 'totals' if 'totals' in datas.columns else 'national'\n",
    "            towns.remove(total_col_name)\n",
    "            \n",
    "            datas = datas.reset_index().copy()\n",
    "            datas['country'] = folder\n",
    "            \n",
    "            #Reorganise data in a uniform way\n",
    "            datas = datas[['country', date, description, total_col_name]]\n",
    "            datas.columns = ['country', 'date', 'description', 'number']\n",
    "            \n",
    "            #Transform values in integer.\n",
    "            datas = datas.fillna(0)\n",
    "            datas = datas[~datas['number'].astype(str).str.contains('%')]\n",
    "            datas['number'] = datas['number'].astype(str).str.replace(',', '')\n",
    "            datas['number'] = datas['number'].astype(float).astype(int)\n",
    "            \n",
    "            ebola_data = pd.concat([ebola_data, datas], axis=0)\n",
    "            \n",
    "print('Loading completed.')"
   ]
  },
  {
   "cell_type": "markdown",
   "metadata": {},
   "source": [
    "We transform the categories and numbers observed in separate columns, each of them containing the category name and the number observed for this category. We then aggregate using max on the groups (country, date) as we are only interested in the cumulative values."
   ]
  },
  {
   "cell_type": "code",
   "execution_count": 4,
   "metadata": {
    "collapsed": true
   },
   "outputs": [],
   "source": [
    "ebola_data_hot_encoded = pd.get_dummies(ebola_data, columns=['description'])\n",
    "\n",
    "for description in ebola_data_hot_encoded.columns[3:]:\n",
    "    ebola_data_hot_encoded.loc[(ebola_data_hot_encoded[description] == 1), description] = \\\n",
    "        ebola_data_hot_encoded[ebola_data_hot_encoded[description] == 1].number\n",
    "\n",
    "ebola_data_hot_encoded = ebola_data_hot_encoded.groupby(by=['country', 'date']).agg(np.max)\n",
    "ebola_data_hot_encoded.columns = [col.lower().replace('\\n', '') for col in ebola_data_hot_encoded.columns]\n"
   ]
  },
  {
   "cell_type": "markdown",
   "metadata": {},
   "source": [
    "We now select only the categories which interest us (new cases and deaths) and create two new columns containing the cumulative number of new cases and deaths for each country and date. We choose to consider every case and death (confirmed, probable and suspected). For certain spreadsheets we need to sum over 3 columns to obtain the total number."
   ]
  },
  {
   "cell_type": "code",
   "execution_count": 5,
   "metadata": {
    "collapsed": true
   },
   "outputs": [],
   "source": [
    "cumulative_deaths = ['description_total death/s in confirmed,  probable, suspected cases',  \n",
    "                     'description_total death/s in confirmed, probable, suspected cases',\n",
    "                    'description_total deaths (confirmed + probables + suspects)','cum_death_tmp']\n",
    "\n",
    "death_to_agg = ['description_death_suspected', 'description_death_probable', 'description_death_confirmed']\n",
    "ebola_data_hot_encoded['cum_death_tmp'] = np.sum(ebola_data_hot_encoded[death_to_agg].values, axis=1)\n",
    "\n",
    "cumulative_cases = ['description_cumulative confirmed, probable and suspected cases', \n",
    "                    'description_cumulative (confirmed + probable + suspects)', 'cum_cases_tmp1', 'cum_cases_tmp2']\n",
    "\n",
    "cases_to_agg = ['description_total suspected cases', 'description_total probable cases', 'description_total confirmed cases']\n",
    "ebola_data_hot_encoded['cum_cases_tmp1'] = np.sum(ebola_data_hot_encoded[cases_to_agg].values, axis=1)\n",
    "\n",
    "cases_to_agg = ['description_cum_confirmed', 'description_cum_probable', 'description_cum_suspected']\n",
    "ebola_data_hot_encoded['cum_cases_tmp2'] = np.sum(ebola_data_hot_encoded[cases_to_agg].values, axis=1)\n",
    "\n",
    "ebola_data_hot_encoded.columns = [col.lower().replace('\\n', '') for col in ebola_data_hot_encoded.columns]\n",
    "ebola_data_hot_encoded['cum_cases'] = np.max(ebola_data_hot_encoded[cumulative_cases].values, axis=1)\n",
    "\n",
    "ebola_data_hot_encoded['cum_deaths'] = np.max(ebola_data_hot_encoded[cumulative_deaths].values, axis=1)\n"
   ]
  },
  {
   "cell_type": "markdown",
   "metadata": {},
   "source": [
    "Then we remove the samples with values equal to zero."
   ]
  },
  {
   "cell_type": "code",
   "execution_count": 6,
   "metadata": {
    "collapsed": true
   },
   "outputs": [],
   "source": [
    "ebola_data_hot_encoded = ebola_data_hot_encoded[(ebola_data_hot_encoded['cum_deaths'] != 0) & \n",
    "                                                (ebola_data_hot_encoded['cum_cases'] != 0)]"
   ]
  },
  {
   "cell_type": "markdown",
   "metadata": {},
   "source": [
    "We plot the cumulative deaths and cases obtained for each country to observe the results."
   ]
  },
  {
   "cell_type": "code",
   "execution_count": 7,
   "metadata": {},
   "outputs": [
    {
     "data": {
      "text/plain": [
       "<matplotlib.text.Text at 0x10b4b8d30>"
      ]
     },
     "execution_count": 7,
     "metadata": {},
     "output_type": "execute_result"
    },
    {
     "data": {
      "image/png": "[encoded data removed]",
      "text/plain": [
       "<matplotlib.figure.Figure at 0x107d51630>"
      ]
     },
     "metadata": {},
     "output_type": "display_data"
    }
   ],
   "source": [
    "%matplotlib inline\n",
    "import matplotlib.pyplot as plt\n",
    "\n",
    "final_ebola_data = ebola_data_hot_encoded[['cum_deaths', 'cum_cases']].reset_index()\n",
    "\n",
    "fig, axes = plt.subplots(nrows=1, ncols=2, figsize=(30, 10))\n",
    "\n",
    "tmp_df = final_ebola_data.groupby('country')\n",
    "\n",
    "tmp_df.plot(style='o', x='date', y='cum_deaths', ax=axes[0], legend=True, title='Total number of deaths over time')\n",
    "axes[0].legend(tmp_df.country.unique())\n",
    "axes[0].set_ylabel('Number of deaths')\n",
    "\n",
    "tmp_df.plot(style='o', x='date', y='cum_cases', ax=axes[1], legend=True, title='Total number of cases over time')\n",
    "axes[1].legend(tmp_df.country.unique())\n",
    "axes[1].set_ylabel('Number of cases')\n",
    "\n",
    "#fig.show()"
   ]
  },
  {
   "cell_type": "markdown",
   "metadata": {},
   "source": [
    "The results above make us notice some aberrant values (end of August for Guinea and end of October for Liberia) in the deaths cumulative values: these values will be removed later from the samples. Although it may look like a brutal approach, we are not able to discuss with the people who created the dataset which means that we are not able to decide perfectly which cumulative value is more reliable than the other. However, for each of these aberrant values we manually check if it's not a code error. We also check that the total amount of samples kept after all the cleaning operations is satisfying."
   ]
  },
  {
   "cell_type": "code",
   "execution_count": 8,
   "metadata": {},
   "outputs": [
    {
     "data": {
      "text/html": [
       "<div>\n",
       "<style>\n",
       "    .dataframe thead tr:only-child th {\n",
       "        text-align: right;\n",
       "    }\n",
       "\n",
       "    .dataframe thead th {\n",
       "        text-align: left;\n",
       "    }\n",
       "\n",
       "    .dataframe tbody tr th {\n",
       "        vertical-align: top;\n",
       "    }\n",
       "</style>\n",
       "<table border=\"1\" class=\"dataframe\">\n",
       "  <thead>\n",
       "    <tr>\n",
       "      <th></th>\n",
       "      <th colspan=\"8\" halign=\"left\">cum_cases</th>\n",
       "      <th colspan=\"8\" halign=\"left\">cum_deaths</th>\n",
       "    </tr>\n",
       "    <tr>\n",
       "      <th></th>\n",
       "      <th>count</th>\n",
       "      <th>mean</th>\n",
       "      <th>std</th>\n",
       "      <th>min</th>\n",
       "      <th>25%</th>\n",
       "      <th>50%</th>\n",
       "      <th>75%</th>\n",
       "      <th>max</th>\n",
       "      <th>count</th>\n",
       "      <th>mean</th>\n",
       "      <th>std</th>\n",
       "      <th>min</th>\n",
       "      <th>25%</th>\n",
       "      <th>50%</th>\n",
       "      <th>75%</th>\n",
       "      <th>max</th>\n",
       "    </tr>\n",
       "    <tr>\n",
       "      <th>country</th>\n",
       "      <th></th>\n",
       "      <th></th>\n",
       "      <th></th>\n",
       "      <th></th>\n",
       "      <th></th>\n",
       "      <th></th>\n",
       "      <th></th>\n",
       "      <th></th>\n",
       "      <th></th>\n",
       "      <th></th>\n",
       "      <th></th>\n",
       "      <th></th>\n",
       "      <th></th>\n",
       "      <th></th>\n",
       "      <th></th>\n",
       "      <th></th>\n",
       "    </tr>\n",
       "  </thead>\n",
       "  <tbody>\n",
       "    <tr>\n",
       "      <th>guinea</th>\n",
       "      <td>19.0</td>\n",
       "      <td>913.210526</td>\n",
       "      <td>181.067077</td>\n",
       "      <td>495.0</td>\n",
       "      <td>806.5</td>\n",
       "      <td>936.0</td>\n",
       "      <td>1035.0</td>\n",
       "      <td>1199.0</td>\n",
       "      <td>19.0</td>\n",
       "      <td>578.052632</td>\n",
       "      <td>96.413734</td>\n",
       "      <td>363.0</td>\n",
       "      <td>511.5</td>\n",
       "      <td>595.0</td>\n",
       "      <td>639.0</td>\n",
       "      <td>739.0</td>\n",
       "    </tr>\n",
       "    <tr>\n",
       "      <th>liberia</th>\n",
       "      <td>79.0</td>\n",
       "      <td>3331.936709</td>\n",
       "      <td>2653.499326</td>\n",
       "      <td>22.0</td>\n",
       "      <td>844.0</td>\n",
       "      <td>3017.0</td>\n",
       "      <td>4675.0</td>\n",
       "      <td>7797.0</td>\n",
       "      <td>79.0</td>\n",
       "      <td>1633.088608</td>\n",
       "      <td>1148.796429</td>\n",
       "      <td>16.0</td>\n",
       "      <td>468.0</td>\n",
       "      <td>1567.0</td>\n",
       "      <td>2701.5</td>\n",
       "      <td>3290.0</td>\n",
       "    </tr>\n",
       "    <tr>\n",
       "      <th>sl</th>\n",
       "      <td>89.0</td>\n",
       "      <td>3260.550562</td>\n",
       "      <td>2053.308267</td>\n",
       "      <td>800.0</td>\n",
       "      <td>1478.0</td>\n",
       "      <td>2937.0</td>\n",
       "      <td>4611.0</td>\n",
       "      <td>7798.0</td>\n",
       "      <td>89.0</td>\n",
       "      <td>980.112360</td>\n",
       "      <td>535.273516</td>\n",
       "      <td>303.0</td>\n",
       "      <td>484.0</td>\n",
       "      <td>885.0</td>\n",
       "      <td>1435.0</td>\n",
       "      <td>2074.0</td>\n",
       "    </tr>\n",
       "  </tbody>\n",
       "</table>\n",
       "</div>"
      ],
      "text/plain": [
       "        cum_cases                                                           \\\n",
       "            count         mean          std    min     25%     50%     75%   \n",
       "country                                                                      \n",
       "guinea       19.0   913.210526   181.067077  495.0   806.5   936.0  1035.0   \n",
       "liberia      79.0  3331.936709  2653.499326   22.0   844.0  3017.0  4675.0   \n",
       "sl           89.0  3260.550562  2053.308267  800.0  1478.0  2937.0  4611.0   \n",
       "\n",
       "                cum_deaths                                                  \\\n",
       "            max      count         mean          std    min    25%     50%   \n",
       "country                                                                      \n",
       "guinea   1199.0       19.0   578.052632    96.413734  363.0  511.5   595.0   \n",
       "liberia  7797.0       79.0  1633.088608  1148.796429   16.0  468.0  1567.0   \n",
       "sl       7798.0       89.0   980.112360   535.273516  303.0  484.0   885.0   \n",
       "\n",
       "                         \n",
       "            75%     max  \n",
       "country                  \n",
       "guinea    639.0   739.0  \n",
       "liberia  2701.5  3290.0  \n",
       "sl       1435.0  2074.0  "
      ]
     },
     "execution_count": 8,
     "metadata": {},
     "output_type": "execute_result"
    },
    {
     "data": {
      "image/png": "[encoded data removed]",
      "text/plain": [
       "<matplotlib.figure.Figure at 0x10b4cd0f0>"
      ]
     },
     "metadata": {},
     "output_type": "display_data"
    }
   ],
   "source": [
    "final_ebola_data2 = final_ebola_data[((final_ebola_data.country != 'guinea') | (final_ebola_data.cum_deaths < 800)) & (final_ebola_data.cum_deaths < 4000)]\n",
    "\n",
    "id_to_remove = []\n",
    "for country in final_ebola_data2.country:\n",
    "    min_deaths_value = 0\n",
    "    min_cases_value = 0\n",
    "    for index, row in final_ebola_data2[final_ebola_data2.country == country].sort_values('date').iterrows():\n",
    "        if row['cum_deaths'] > min_deaths_value:\n",
    "            min_deaths_value = row['cum_deaths']\n",
    "        else:\n",
    "            id_to_remove.append(index)\n",
    "            \n",
    "        if row['cum_cases'] > min_cases_value:\n",
    "            min_cases_value = row['cum_cases']\n",
    "        else:\n",
    "            id_to_remove.append(index)\n",
    "\n",
    "final_ebola_data2 = final_ebola_data2.drop(id_to_remove)\n",
    "fig, axes = plt.subplots(nrows=1, ncols=2, figsize=(30, 10))\n",
    "\n",
    "tmp_df = final_ebola_data2.groupby('country')\n",
    "\n",
    "tmp_df.plot(style='o', x='date', y='cum_deaths', ax=axes[0], legend=True, title='Total number of deaths over time')\n",
    "axes[0].legend(tmp_df.country.unique())\n",
    "axes[0].set_ylabel('Number of deaths')\n",
    "\n",
    "tmp_df.plot(style='o', x='date', y='cum_cases', ax=axes[1], legend=True, title='Total number of cases over time')\n",
    "axes[1].legend(tmp_df.country.unique())\n",
    "axes[1].set_ylabel('Number of cases')\n",
    "\n",
    "tmp_df.describe()"
   ]
  },
  {
   "cell_type": "markdown",
   "metadata": {},
   "source": [
    "Now we are able to compute the average number of new cases and of new deaths per month for each country. In order to do that, for each month we take the two samples respectively minimizing the time between the beginning/end of the month and the date of the sample. We then apply the formula written at the beginning of the document. We could probably improve our estimation by interpoling the points and taking the predicted value of the total number of deaths/cases at the beginning and at the end of the month, however the purpose of the homework was to learn to import and clean data and not to infer general behavior based on samples."
   ]
  },
  {
   "cell_type": "code",
   "execution_count": 9,
   "metadata": {},
   "outputs": [
    {
     "name": "stdout",
     "output_type": "stream",
     "text": [
      "guinea\n",
      "\tFor the month of August average number of deaths is 4.666667 and of cases is 9.407407.\n",
      "\tFor the month of September average number of deaths is 7.500000 and of cases is 14.000000.\n",
      "liberia\n",
      "\tFor the month of June average number of deaths is 3.000000 and of cases is 5.200000.\n",
      "\tFor the month of July average number of deaths is 6.125000 and of cases is 11.593750.\n",
      "\tFor the month of August average number of deaths is 24.900000 and of cases is 43.066667.\n",
      "\tFor the month of September average number of deaths is 36.344828 and of cases is 71.137931.\n",
      "\tFor the month of October average number of deaths is 34.400000 and of cases is 44.100000.\n",
      "\tFor the month of November average number of deaths is 9.675000 and of cases is 72.025000.\n",
      "sl\n",
      "\tFor the month of August average number of deaths is 7.333333 and of cases is 21.666667.\n",
      "\tFor the month of September average number of deaths is 5.310345 and of cases is 41.931034.\n",
      "\tFor the month of October average number of deaths is 27.000000 and of cases is 69.967742.\n",
      "\tFor the month of November average number of deaths is 15.000000 and of cases is 86.535714.\n"
     ]
    }
   ],
   "source": [
    "f_ebola = final_ebola_data2\n",
    "\n",
    "months = range(final_ebola_data2.date.min().month, final_ebola_data2.date.max().month)\n",
    "\n",
    "for month in months:\n",
    "    f_ebola['avg_deaths_%d' % month] = -1\n",
    "    f_ebola['avg_cases_%d' % month] = -1\n",
    "    \n",
    "for country in f_ebola.country.unique():\n",
    "    c_df = f_ebola[f_ebola.country == country]\n",
    "    months = range(c_df.date.min().month, c_df.date.max().month)\n",
    "    print(country)\n",
    "    for month in months:\n",
    "\n",
    "        min_day = c_df.date[np.argmin(abs(c_df.date - datetime.date(year = 2014, month = month, day = 1)))]\n",
    "        max_day = c_df.date[np.argmin(abs(c_df.date - datetime.date(year = 2014, month = month, day = monthrange(2014, month)[1])))]\n",
    "\n",
    "        min_val = c_df[c_df.date == min_day]\n",
    "        max_val = c_df[c_df.date == max_day]\n",
    "        \n",
    "        avg_deaths = (max_val.cum_deaths.values[0] - min_val.cum_deaths.values[0])/(max_day - min_day).days\n",
    "        avg_cases = (max_val.cum_cases.values[0] - min_val.cum_cases.values[0])/(max_day - min_day).days\n",
    "        \n",
    "        f_ebola.loc[f_ebola.country == country, ['avg_deaths_%d' % month, 'avg_cases_%d' % month]] = \\\n",
    "            [avg_deaths, avg_cases]\n",
    "        print('\\tFor the month of %s average number of deaths is %f and of cases is %f.' % \\\n",
    "              (calendar.month_name[month], avg_deaths, avg_cases))\n"
   ]
  },
  {
   "cell_type": "markdown",
   "metadata": {},
   "source": [
    "### Evaluation of the data set ###\n",
    "\n",
    "To reach the final code above we needed to evaluate carefully the dataset; here is some sample of code used in this purpose. This code is not really a part of the answer but shows the intermediate steps used."
   ]
  },
  {
   "cell_type": "markdown",
   "metadata": {},
   "source": [
    "In this import we also register the number and example of different files which are in the dataset. It is useful to be able to take a look at the data."
   ]
  },
  {
   "cell_type": "code",
   "execution_count": 10,
   "metadata": {},
   "outputs": [
    {
     "name": "stdout",
     "output_type": "stream",
     "text": [
      "Loading data from guinea\n",
      "Loading data from liberia\n",
      "Loading data from sl\n"
     ]
    }
   ],
   "source": [
    "folders = ['guinea', 'liberia', 'sl']\n",
    "folder_end = '_data/'\n",
    "folder_begin = 'ebola/'\n",
    "\n",
    "type_of_file = []\n",
    "name_of_file = []\n",
    "\n",
    "ebola_data_test = pd.DataFrame(columns=['country', 'town', 'date', 'description', 'number'])\n",
    "for folder in folders:\n",
    "    folder_path = DATA_FOLDER + folder_begin + folder + folder_end\n",
    "    print(\"Loading data from %s\" % folder)\n",
    "    for data_file in listdir(folder_path):\n",
    "        if isfile(join(folder_path, data_file)):\n",
    "            metas = data_file.replace('.', '-').split('-')\n",
    "            meta_date = datetime.datetime(int(metas[0]), int(metas[1]), int(metas[2]))\n",
    "            datas = pd.DataFrame.from_csv(folder_path + data_file)\n",
    "            towns = datas.columns[2:]\n",
    "            date = datas.index.name\n",
    "            description = datas.columns[0]\n",
    "            #register the different type of file it exists.\n",
    "            if not(list(datas.columns) in type_of_file):\n",
    "                type_of_file.append(list(datas.columns))\n",
    "                name_of_file.append(join(folder_path, data_file))\n",
    "            for town in towns:\n",
    "                town_data = datas[datas[town] != 0].reset_index().copy()\n",
    "                town_data['country'] = folder\n",
    "                town_data['town'] = town\n",
    "                town_data = town_data[['country', 'town', date, description, town]]\n",
    "                town_data.columns = ['country', 'town', 'date', 'description', 'number']\n",
    "                town_data = town_data[(town_data.number.isnull() == False) & (town_data.number != 0)]\n",
    "                ebola_data_test = pd.concat([ebola_data_test, town_data], axis=0)\n"
   ]
  },
  {
   "cell_type": "code",
   "execution_count": 11,
   "metadata": {},
   "outputs": [
    {
     "name": "stdout",
     "output_type": "stream",
     "text": [
      "225\n",
      "24\n"
     ]
    }
   ],
   "source": [
    "print(counter)\n",
    "print(len(type_of_file))"
   ]
  },
  {
   "cell_type": "markdown",
   "metadata": {},
   "source": [
    "## Task 2. RNA Sequences\n",
    "\n",
    "In the `DATA_FOLDER/microbiome` subdirectory, there are 9 spreadsheets of microbiome data that was acquired from high-throughput RNA sequencing procedures, along with a 10<sup>th</sup> file that describes the content of each. \n",
    "\n",
    "Use pandas to import the first 9 spreadsheets into a single `DataFrame`.\n",
    "Then, add the metadata information from the 10<sup>th</sup> spreadsheet as columns in the combined `DataFrame`.\n",
    "Make sure that the final `DataFrame` has a unique index and all the `NaN` values have been replaced by the tag `unknown`."
   ]
  },
  {
   "cell_type": "markdown",
   "metadata": {},
   "source": [
    "The process is pretty self-explanatory. We create a new DataFrame, load every file in it, then read the last file, merge it on `BARCODE` and replace `NaN` with `unknown`"
   ]
  },
  {
   "cell_type": "code",
   "execution_count": 12,
   "metadata": {},
   "outputs": [
    {
     "name": "stdout",
     "output_type": "stream",
     "text": [
      "True\n",
      "                                                            Value      GROUP  \\\n",
      "Subject                                            BARCODE                     \n",
      "Bacteria \"Firmicutes\" \"Bacilli\" \"Lactobacillale... MID6         3      NEC 1   \n",
      "Bacteria \"Proteobacteria\" Deltaproteobacteria M... MID2         3      NEC 1   \n",
      "Bacteria \"Firmicutes\" \"Clostridia\" Clostridiale... MID6         1      NEC 1   \n",
      "Bacteria \"Firmicutes\" \"Bacilli\" Bacillales \"Sta... MID9       735  Control 2   \n",
      "Bacteria \"Chrysiogenetes\" Chrysiogenetes Chrysi... MID6         2      NEC 1   \n",
      "\n",
      "                                                            SAMPLE  \n",
      "Subject                                            BARCODE          \n",
      "Bacteria \"Firmicutes\" \"Bacilli\" \"Lactobacillale... MID6      stool  \n",
      "Bacteria \"Proteobacteria\" Deltaproteobacteria M... MID2     tissue  \n",
      "Bacteria \"Firmicutes\" \"Clostridia\" Clostridiale... MID6      stool  \n",
      "Bacteria \"Firmicutes\" \"Bacilli\" Bacillales \"Sta... MID9      stool  \n",
      "Bacteria \"Chrysiogenetes\" Chrysiogenetes Chrysi... MID6      stool  \n"
     ]
    }
   ],
   "source": [
    "datas = pd.DataFrame()\n",
    "\n",
    "for i in range(1, 10):\n",
    "    file_name = '%s/microbiome/MID%d.xls' % (DATA_FOLDER, i)\n",
    "    data = pd.read_excel(open(file_name,'rb'), header=None)\n",
    "    data.columns = ['Subject', 'Value']\n",
    "    data['BARCODE'] = 'MID%d' % i\n",
    "    datas = pd.concat([datas, data], axis=0)\n",
    "\n",
    "data = pd.read_excel(open('%s/microbiome/metadata.xls' % (DATA_FOLDER),'rb'))\n",
    "datas = datas.merge(data, how='left', on='BARCODE')\n",
    "datas = datas.fillna('unknown')\n",
    "datas.set_index(inplace=True, keys=['Subject', 'BARCODE'])\n",
    "\n",
    "print(datas.index.is_unique)\n",
    "print(datas.sample(frac=1).head())\n"
   ]
  },
  {
   "cell_type": "markdown",
   "metadata": {},
   "source": [
    "## Task 3. Class War in Titanic\n",
    "\n",
    "Use pandas to import the data file `Data/titanic.xls`. It contains data on all the passengers that travelled on the Titanic."
   ]
  },
  {
   "cell_type": "code",
   "execution_count": 13,
   "metadata": {
    "collapsed": true
   },
   "outputs": [],
   "source": [
    "%matplotlib inline\n",
    "import pandas as pd\n",
    "import numpy as np\n",
    "import matplotlib.pyplot as plt\n",
    "from IPython.core.display import HTML"
   ]
  },
  {
   "cell_type": "code",
   "execution_count": 14,
   "metadata": {},
   "outputs": [
    {
     "data": {
      "text/html": [
       "<hr><h2>Data frame:titanic3</h2>1309 observations and 14 variables, maximum # NAs:1188<hr>\n",
       "<TABLE BORDER>\n",
       "<tr><td>Name</td><td>Labels</td><td>Units</td><td>Levels</td><td>Storage</td><td>NAs</td></tr>\n",
       "<tr><td>pclass</td><td></td><td></td><td><a href=\"#pclass\"><div align=right>  3</div></a></td><td>integer</td><td><div align=right>   0</div></td></tr>\n",
       "<tr><td>survived</td><td>Survived</td><td></td><td><div align=right></div></td><td>double</td><td><div align=right>   0</div></td></tr>\n",
       "<tr><td>name</td><td>Name</td><td></td><td><div align=right></div></td><td>character</td><td><div align=right>   0</div></td></tr>\n",
       "<tr><td>sex</td><td></td><td></td><td><a href=\"#sex\"><div align=right>  2</div></a></td><td>integer</td><td><div align=right>   0</div></td></tr>\n",
       "<tr><td>age</td><td>Age</td><td>Year</td><td><div align=right></div></td><td>double</td><td><div align=right> 263</div></td></tr>\n",
       "<tr><td>sibsp</td><td>Number of Siblings/Spouses Aboard</td><td></td><td><div align=right></div></td><td>double</td><td><div align=right>   0</div></td></tr>\n",
       "<tr><td>parch</td><td>Number of Parents/Children Aboard</td><td></td><td><div align=right></div></td><td>double</td><td><div align=right>   0</div></td></tr>\n",
       "<tr><td>ticket</td><td>Ticket Number</td><td></td><td><div align=right></div></td><td>character</td><td><div align=right>   0</div></td></tr>\n",
       "<tr><td>fare</td><td>Passenger Fare</td><td>British Pound (\\243)</td><td><div align=right></div></td><td>double</td><td><div align=right>   1</div></td></tr>\n",
       "<tr><td>cabin</td><td></td><td></td><td><a href=\"#cabin\"><div align=right>187</div></a></td><td>integer</td><td><div align=right>   0</div></td></tr>\n",
       "<tr><td>embarked</td><td></td><td></td><td><a href=\"#embarked\"><div align=right>  3</div></a></td><td>integer</td><td><div align=right>   2</div></td></tr>\n",
       "<tr><td>boat</td><td></td><td></td><td><a href=\"#boat\"><div align=right> 28</div></a></td><td>integer</td><td><div align=right>   0</div></td></tr>\n",
       "<tr><td>body</td><td>Body Identification Number</td><td></td><td><div align=right></div></td><td>double</td><td><div align=right>1188</div></td></tr>\n",
       "<tr><td>home.dest</td><td>Home/Destination</td><td></td><td><div align=right></div></td><td>character</td><td><div align=right>   0</div></td></tr>\n",
       "</TABLE>\n",
       "<hr>\n",
       "<TABLE BORDER>\n",
       "<tr><td>Variable</td><td>Levels</td></tr>\n",
       "<tr><td><a name=\"pclass\">pclass</a></td><td>1st</td></tr>\n",
       "<tr><td></td><td>2nd</td></tr>\n",
       "<tr><td></td><td>3rd</td></tr>\n",
       "<tr><td><a name=\"sex\">sex</a></td><td>female</td></tr>\n",
       "<tr><td></td><td>male</td></tr>\n",
       "<tr><td><a name=\"cabin\">cabin</a></td><td></td></tr>\n",
       "<tr><td></td><td>A10</td></tr>\n",
       "<tr><td></td><td>A11</td></tr>\n",
       "<tr><td></td><td>A14</td></tr>\n",
       "<tr><td></td><td>A16</td></tr>\n",
       "<tr><td></td><td>A18</td></tr>\n",
       "<tr><td></td><td>A19</td></tr>\n",
       "<tr><td></td><td>A20</td></tr>\n",
       "<tr><td></td><td>A21</td></tr>\n",
       "<tr><td></td><td>A23</td></tr>\n",
       "<tr><td></td><td>A24</td></tr>\n",
       "<tr><td></td><td>A26</td></tr>\n",
       "<tr><td></td><td>A29</td></tr>\n",
       "<tr><td></td><td>A31</td></tr>\n",
       "<tr><td></td><td>A32</td></tr>\n",
       "<tr><td></td><td>A34</td></tr>\n",
       "<tr><td></td><td>A36</td></tr>\n",
       "<tr><td></td><td>A5</td></tr>\n",
       "<tr><td></td><td>A6</td></tr>\n",
       "<tr><td></td><td>A7</td></tr>\n",
       "<tr><td></td><td>A9</td></tr>\n",
       "<tr><td></td><td>B10</td></tr>\n",
       "<tr><td></td><td>B101</td></tr>\n",
       "<tr><td></td><td>B102</td></tr>\n",
       "<tr><td></td><td>B11</td></tr>\n",
       "<tr><td></td><td>B18</td></tr>\n",
       "<tr><td></td><td>B19</td></tr>\n",
       "<tr><td></td><td>B20</td></tr>\n",
       "<tr><td></td><td>B22</td></tr>\n",
       "<tr><td></td><td>B24</td></tr>\n",
       "<tr><td></td><td>B26</td></tr>\n",
       "<tr><td></td><td>B28</td></tr>\n",
       "<tr><td></td><td>B3</td></tr>\n",
       "<tr><td></td><td>B30</td></tr>\n",
       "<tr><td></td><td>B35</td></tr>\n",
       "<tr><td></td><td>B36</td></tr>\n",
       "<tr><td></td><td>B37</td></tr>\n",
       "<tr><td></td><td>B38</td></tr>\n",
       "<tr><td></td><td>B39</td></tr>\n",
       "<tr><td></td><td>B4</td></tr>\n",
       "<tr><td></td><td>B41</td></tr>\n",
       "<tr><td></td><td>B42</td></tr>\n",
       "<tr><td></td><td>B45</td></tr>\n",
       "<tr><td></td><td>B49</td></tr>\n",
       "<tr><td></td><td>B5</td></tr>\n",
       "<tr><td></td><td>B50</td></tr>\n",
       "<tr><td></td><td>B51 B53 B55</td></tr>\n",
       "<tr><td></td><td>B52 B54 B56</td></tr>\n",
       "<tr><td></td><td>B57 B59 B63 B66</td></tr>\n",
       "<tr><td></td><td>B58 B60</td></tr>\n",
       "<tr><td></td><td>B61</td></tr>\n",
       "<tr><td></td><td>B69</td></tr>\n",
       "<tr><td></td><td>B71</td></tr>\n",
       "<tr><td></td><td>B73</td></tr>\n",
       "<tr><td></td><td>B77</td></tr>\n",
       "<tr><td></td><td>B78</td></tr>\n",
       "<tr><td></td><td>B79</td></tr>\n",
       "<tr><td></td><td>B80</td></tr>\n",
       "<tr><td></td><td>B82 B84</td></tr>\n",
       "<tr><td></td><td>B86</td></tr>\n",
       "<tr><td></td><td>B94</td></tr>\n",
       "<tr><td></td><td>B96 B98</td></tr>\n",
       "<tr><td></td><td>C101</td></tr>\n",
       "<tr><td></td><td>C103</td></tr>\n",
       "<tr><td></td><td>C104</td></tr>\n",
       "<tr><td></td><td>C105</td></tr>\n",
       "<tr><td></td><td>C106</td></tr>\n",
       "<tr><td></td><td>C110</td></tr>\n",
       "<tr><td></td><td>C111</td></tr>\n",
       "<tr><td></td><td>C116</td></tr>\n",
       "<tr><td></td><td>C118</td></tr>\n",
       "<tr><td></td><td>C123</td></tr>\n",
       "<tr><td></td><td>C124</td></tr>\n",
       "<tr><td></td><td>C125</td></tr>\n",
       "<tr><td></td><td>C126</td></tr>\n",
       "<tr><td></td><td>C128</td></tr>\n",
       "<tr><td></td><td>C130</td></tr>\n",
       "<tr><td></td><td>C132</td></tr>\n",
       "<tr><td></td><td>C148</td></tr>\n",
       "<tr><td></td><td>C2</td></tr>\n",
       "<tr><td></td><td>C22 C26</td></tr>\n",
       "<tr><td></td><td>C23 C25 C27</td></tr>\n",
       "<tr><td></td><td>C28</td></tr>\n",
       "<tr><td></td><td>C30</td></tr>\n",
       "<tr><td></td><td>C31</td></tr>\n",
       "<tr><td></td><td>C32</td></tr>\n",
       "<tr><td></td><td>C39</td></tr>\n",
       "<tr><td></td><td>C45</td></tr>\n",
       "<tr><td></td><td>C46</td></tr>\n",
       "<tr><td></td><td>C47</td></tr>\n",
       "<tr><td></td><td>C49</td></tr>\n",
       "<tr><td></td><td>C50</td></tr>\n",
       "<tr><td></td><td>C51</td></tr>\n",
       "<tr><td></td><td>C52</td></tr>\n",
       "<tr><td></td><td>C53</td></tr>\n",
       "<tr><td></td><td>C54</td></tr>\n",
       "<tr><td></td><td>C55 C57</td></tr>\n",
       "<tr><td></td><td>C6</td></tr>\n",
       "<tr><td></td><td>C62 C64</td></tr>\n",
       "<tr><td></td><td>C65</td></tr>\n",
       "<tr><td></td><td>C68</td></tr>\n",
       "<tr><td></td><td>C7</td></tr>\n",
       "<tr><td></td><td>C70</td></tr>\n",
       "<tr><td></td><td>C78</td></tr>\n",
       "<tr><td></td><td>C80</td></tr>\n",
       "<tr><td></td><td>C82</td></tr>\n",
       "<tr><td></td><td>C83</td></tr>\n",
       "<tr><td></td><td>C85</td></tr>\n",
       "<tr><td></td><td>C86</td></tr>\n",
       "<tr><td></td><td>C87</td></tr>\n",
       "<tr><td></td><td>C89</td></tr>\n",
       "<tr><td></td><td>C90</td></tr>\n",
       "<tr><td></td><td>C91</td></tr>\n",
       "<tr><td></td><td>C92</td></tr>\n",
       "<tr><td></td><td>C93</td></tr>\n",
       "<tr><td></td><td>C95</td></tr>\n",
       "<tr><td></td><td>C97</td></tr>\n",
       "<tr><td></td><td>C99</td></tr>\n",
       "<tr><td></td><td>D</td></tr>\n",
       "<tr><td></td><td>D10 D12</td></tr>\n",
       "<tr><td></td><td>D11</td></tr>\n",
       "<tr><td></td><td>D15</td></tr>\n",
       "<tr><td></td><td>D17</td></tr>\n",
       "<tr><td></td><td>D19</td></tr>\n",
       "<tr><td></td><td>D20</td></tr>\n",
       "<tr><td></td><td>D21</td></tr>\n",
       "<tr><td></td><td>D22</td></tr>\n",
       "<tr><td></td><td>D26</td></tr>\n",
       "<tr><td></td><td>D28</td></tr>\n",
       "<tr><td></td><td>D30</td></tr>\n",
       "<tr><td></td><td>D33</td></tr>\n",
       "<tr><td></td><td>D34</td></tr>\n",
       "<tr><td></td><td>D35</td></tr>\n",
       "<tr><td></td><td>D36</td></tr>\n",
       "<tr><td></td><td>D37</td></tr>\n",
       "<tr><td></td><td>D38</td></tr>\n",
       "<tr><td></td><td>D40</td></tr>\n",
       "<tr><td></td><td>D43</td></tr>\n",
       "<tr><td></td><td>D45</td></tr>\n",
       "<tr><td></td><td>D46</td></tr>\n",
       "<tr><td></td><td>D47</td></tr>\n",
       "<tr><td></td><td>D48</td></tr>\n",
       "<tr><td></td><td>D49</td></tr>\n",
       "<tr><td></td><td>D50</td></tr>\n",
       "<tr><td></td><td>D56</td></tr>\n",
       "<tr><td></td><td>D6</td></tr>\n",
       "<tr><td></td><td>D7</td></tr>\n",
       "<tr><td></td><td>D9</td></tr>\n",
       "<tr><td></td><td>E10</td></tr>\n",
       "<tr><td></td><td>E101</td></tr>\n",
       "<tr><td></td><td>E12</td></tr>\n",
       "<tr><td></td><td>E121</td></tr>\n",
       "<tr><td></td><td>E17</td></tr>\n",
       "<tr><td></td><td>E24</td></tr>\n",
       "<tr><td></td><td>E25</td></tr>\n",
       "<tr><td></td><td>E31</td></tr>\n",
       "<tr><td></td><td>E33</td></tr>\n",
       "<tr><td></td><td>E34</td></tr>\n",
       "<tr><td></td><td>E36</td></tr>\n",
       "<tr><td></td><td>E38</td></tr>\n",
       "<tr><td></td><td>E39 E41</td></tr>\n",
       "<tr><td></td><td>E40</td></tr>\n",
       "<tr><td></td><td>E44</td></tr>\n",
       "<tr><td></td><td>E45</td></tr>\n",
       "<tr><td></td><td>E46</td></tr>\n",
       "<tr><td></td><td>E49</td></tr>\n",
       "<tr><td></td><td>E50</td></tr>\n",
       "<tr><td></td><td>E52</td></tr>\n",
       "<tr><td></td><td>E58</td></tr>\n",
       "<tr><td></td><td>E60</td></tr>\n",
       "<tr><td></td><td>E63</td></tr>\n",
       "<tr><td></td><td>E67</td></tr>\n",
       "<tr><td></td><td>E68</td></tr>\n",
       "<tr><td></td><td>E77</td></tr>\n",
       "<tr><td></td><td>E8</td></tr>\n",
       "<tr><td></td><td>F</td></tr>\n",
       "<tr><td></td><td>F E46</td></tr>\n",
       "<tr><td></td><td>F E57</td></tr>\n",
       "<tr><td></td><td>F E69</td></tr>\n",
       "<tr><td></td><td>F G63</td></tr>\n",
       "<tr><td></td><td>F G73</td></tr>\n",
       "<tr><td></td><td>F2</td></tr>\n",
       "<tr><td></td><td>F33</td></tr>\n",
       "<tr><td></td><td>F38</td></tr>\n",
       "<tr><td></td><td>F4</td></tr>\n",
       "<tr><td></td><td>G6</td></tr>\n",
       "<tr><td></td><td>T</td></tr>\n",
       "<tr><td><a name=\"embarked\">embarked</a></td><td>Cherbourg</td></tr>\n",
       "<tr><td></td><td>Queenstown</td></tr>\n",
       "<tr><td></td><td>Southampton</td></tr>\n",
       "<tr><td><a name=\"boat\">boat</a></td><td></td></tr>\n",
       "<tr><td></td><td>1</td></tr>\n",
       "<tr><td></td><td>10</td></tr>\n",
       "<tr><td></td><td>11</td></tr>\n",
       "<tr><td></td><td>12</td></tr>\n",
       "<tr><td></td><td>13</td></tr>\n",
       "<tr><td></td><td>13 15</td></tr>\n",
       "<tr><td></td><td>13 15 B</td></tr>\n",
       "<tr><td></td><td>14</td></tr>\n",
       "<tr><td></td><td>15</td></tr>\n",
       "<tr><td></td><td>15 16</td></tr>\n",
       "<tr><td></td><td>16</td></tr>\n",
       "<tr><td></td><td>2</td></tr>\n",
       "<tr><td></td><td>3</td></tr>\n",
       "<tr><td></td><td>4</td></tr>\n",
       "<tr><td></td><td>5</td></tr>\n",
       "<tr><td></td><td>5 7</td></tr>\n",
       "<tr><td></td><td>5 9</td></tr>\n",
       "<tr><td></td><td>6</td></tr>\n",
       "<tr><td></td><td>7</td></tr>\n",
       "<tr><td></td><td>8</td></tr>\n",
       "<tr><td></td><td>8 10</td></tr>\n",
       "<tr><td></td><td>9</td></tr>\n",
       "<tr><td></td><td>A</td></tr>\n",
       "<tr><td></td><td>B</td></tr>\n",
       "<tr><td></td><td>C</td></tr>\n",
       "<tr><td></td><td>C D</td></tr>\n",
       "<tr><td></td><td>D</td></tr>\n",
       "</TABLE>\n",
       "<hr>\n"
      ],
      "text/plain": [
       "<IPython.core.display.HTML object>"
      ]
     },
     "execution_count": 14,
     "metadata": {},
     "output_type": "execute_result"
    }
   ],
   "source": [
    "HTML(filename=DATA_FOLDER+'/titanic.html')"
   ]
  },
  {
   "cell_type": "markdown",
   "metadata": {},
   "source": [
    "For each of the following questions state clearly your assumptions and discuss your findings:\n",
    "1. Describe the *type* and the *value range* of each attribute. Indicate and transform the attributes that can be `Categorical`. \n",
    "2. Plot histograms for the *travel class*, *embarkation port*, *sex* and *age* attributes. For the latter one, use *discrete decade intervals*. \n",
    "3. Calculate the proportion of passengers by *cabin floor*. Present your results in a *pie chart*.\n",
    "4. For each *travel class*, calculate the proportion of the passengers that survived. Present your results in *pie charts*.\n",
    "5. Calculate the proportion of the passengers that survived by *travel class* and *sex*. Present your results in *a single histogram*.\n",
    "6. Create 2 equally populated *age categories* and calculate survival proportions by *age category*, *travel class* and *sex*. Present your results in a `DataFrame` with unique index."
   ]
  },
  {
   "cell_type": "code",
   "execution_count": 15,
   "metadata": {
    "collapsed": true
   },
   "outputs": [],
   "source": [
    "dataf = pd.read_excel('Data/titanic.xls')\n"
   ]
  },
  {
   "cell_type": "markdown",
   "metadata": {},
   "source": [
    "## Question 1\n",
    "\n",
    "The types of each column can easily be obtained using \"dataf.dtypes\" as shown in next cell.\n",
    "We then use the min and max functions on the Series to get the values range. This implies having to make a copy of the DataFrame, as we need to drop the NaN and to convert \"object\" columns to \"string\" columns (otherwise, the functions raise an exception)."
   ]
  },
  {
   "cell_type": "code",
   "execution_count": 16,
   "metadata": {
    "scrolled": true
   },
   "outputs": [
    {
     "name": "stdout",
     "output_type": "stream",
     "text": [
      "Column Name     Column Type     Column Min                          Column Max                         \n",
      "pclass          int64           1                                   3                                  \n",
      "survived        int64           0                                   1                                  \n",
      "name            object          Abbing, Mr. Anthony                 van Melkebeke, Mr. Philemon        \n",
      "sex             object          female                              male                               \n",
      "age             float64         0.1667                              80.0                               \n",
      "sibsp           int64           0                                   8                                  \n",
      "parch           int64           0                                   9                                  \n",
      "ticket          object          110152                              WE/P 5735                          \n",
      "fare            float64         0.0                                 512.3292                           \n",
      "cabin           object          A10                                 T                                  \n",
      "embarked        object          C                                   S                                  \n",
      "boat            object          1                                   D                                  \n",
      "body            float64         1.0                                 328.0                              \n",
      "home.dest       object          ?Havana, Cuba                       Zurich, Switzerland                \n"
     ]
    }
   ],
   "source": [
    "dataf_cp = dataf.copy()\n",
    "\n",
    "print('%-15s %-15s %-35s %-35s' % ('Column Name', 'Column Type', 'Column Min', 'Column Max'))\n",
    "for col in dataf_cp.columns:\n",
    "    tmp = dataf_cp[col].dropna()\n",
    "    if dataf_cp[col].dtypes == 'object':\n",
    "        tmp = tmp.astype(str)\n",
    "    print('%-15s %-15s %-35s %-35s' % (col, str(dataf_cp[col].dtypes), str(tmp.min()), str(tmp.max())))\n"
   ]
  },
  {
   "cell_type": "markdown",
   "metadata": {},
   "source": [
    "We can change in categorical every column that has a limited number of distinct values (i.e. columns that could be implemented with a dictionary), like: pclass, survived, sex, sibsp, parch, embarked, boat and home.dest."
   ]
  },
  {
   "cell_type": "code",
   "execution_count": 17,
   "metadata": {
    "collapsed": true
   },
   "outputs": [],
   "source": [
    "to_categorical = ['pclass','survived', 'sex', 'sibsp', 'parch', 'embarked', 'boat', 'home.dest']\n",
    "for c in to_categorical:\n",
    "    dataf[c] = dataf[c].astype('category')\n"
   ]
  },
  {
   "cell_type": "markdown",
   "metadata": {},
   "source": [
    "## Question 2\n",
    "\n",
    "We use the 'bar' kind of plot, as it is better suited than the 'hist' type for frequencies (as we use value_counts()).\n",
    "We also use sort_index to have the values in the right order (where it is relevant, for pclass for example)."
   ]
  },
  {
   "cell_type": "code",
   "execution_count": 18,
   "metadata": {},
   "outputs": [
    {
     "data": {
      "text/plain": [
       "<matplotlib.axes._subplots.AxesSubplot at 0x10ba30400>"
      ]
     },
     "execution_count": 18,
     "metadata": {},
     "output_type": "execute_result"
    },
    {
     "data": {
      "image/png": "[encoded data removed]",
      "text/plain": [
       "<matplotlib.figure.Figure at 0x10e319208>"
      ]
     },
     "metadata": {},
     "output_type": "display_data"
    }
   ],
   "source": [
    "dataf.pclass.value_counts().sort_index().plot(kind='bar')"
   ]
  },
  {
   "cell_type": "code",
   "execution_count": 19,
   "metadata": {},
   "outputs": [
    {
     "data": {
      "text/plain": [
       "<matplotlib.axes._subplots.AxesSubplot at 0x10e7e5c88>"
      ]
     },
     "execution_count": 19,
     "metadata": {},
     "output_type": "execute_result"
    },
    {
     "data": {
      "image/png": "[encoded data removed]",
      "text/plain": [
       "<matplotlib.figure.Figure at 0x10e009da0>"
      ]
     },
     "metadata": {},
     "output_type": "display_data"
    }
   ],
   "source": [
    "dataf.embarked.value_counts().plot(kind='bar')"
   ]
  },
  {
   "cell_type": "code",
   "execution_count": 20,
   "metadata": {},
   "outputs": [
    {
     "data": {
      "text/plain": [
       "<matplotlib.axes._subplots.AxesSubplot at 0x10e808828>"
      ]
     },
     "execution_count": 20,
     "metadata": {},
     "output_type": "execute_result"
    },
    {
     "data": {
      "image/png": "[encoded data removed]",
      "text/plain": [
       "<matplotlib.figure.Figure at 0x10e857e80>"
      ]
     },
     "metadata": {},
     "output_type": "display_data"
    }
   ],
   "source": [
    "dataf.sex.value_counts().plot(kind='bar')"
   ]
  },
  {
   "cell_type": "code",
   "execution_count": 21,
   "metadata": {},
   "outputs": [
    {
     "data": {
      "text/plain": [
       "<matplotlib.axes._subplots.AxesSubplot at 0x10e845748>"
      ]
     },
     "execution_count": 21,
     "metadata": {},
     "output_type": "execute_result"
    },
    {
     "data": {
      "image/png": "[encoded data removed]",
      "text/plain": [
       "<matplotlib.figure.Figure at 0x10e5423c8>"
      ]
     },
     "metadata": {},
     "output_type": "display_data"
    }
   ],
   "source": [
    "pd.cut(dataf.age, [x for x in range(0, int(dataf.age.max()) + 1, 10)]).value_counts().sort_index().plot(kind='bar')"
   ]
  },
  {
   "cell_type": "markdown",
   "metadata": {},
   "source": [
    "## Question 3"
   ]
  },
  {
   "cell_type": "markdown",
   "metadata": {},
   "source": [
    "As the datas are not clear for the cabin column, we arbitrarily picked the first letter of the first cabin that appears in the cell for the floor. For example, for a cabin with cell \"C22 D26\", we assign the cabin at floor C."
   ]
  },
  {
   "cell_type": "code",
   "execution_count": 22,
   "metadata": {},
   "outputs": [
    {
     "data": {
      "text/plain": [
       "<matplotlib.axes._subplots.AxesSubplot at 0x10e868320>"
      ]
     },
     "execution_count": 22,
     "metadata": {},
     "output_type": "execute_result"
    },
    {
     "data": {
      "image/png": "[encoded data removed]",
      "text/plain": [
       "<matplotlib.figure.Figure at 0x10e677400>"
      ]
     },
     "metadata": {},
     "output_type": "display_data"
    }
   ],
   "source": [
    "floor = dataf.cabin.copy().dropna().apply(lambda x : x[0]).astype('category').rename('floor distribution')\n",
    "floor.value_counts().sort_index().plot(kind='pie', autopct='%1.1f%%', figsize=(10,10))"
   ]
  },
  {
   "cell_type": "markdown",
   "metadata": {},
   "source": [
    "## Question 4\n",
    "We simply use a groupBy on pclass, unstack 'survived', transpose and plot"
   ]
  },
  {
   "cell_type": "code",
   "execution_count": 24,
   "metadata": {},
   "outputs": [
    {
     "data": {
      "image/png": "[encoded data removed]",
      "text/plain": [
       "<matplotlib.figure.Figure at 0x10e65eeb8>"
      ]
     },
     "metadata": {},
     "output_type": "display_data"
    }
   ],
   "source": [
    "tmp = dataf.groupby(dataf.pclass).survived\n",
    "ax=tmp.value_counts().unstack('survived').transpose().plot(kind='pie', subplots=True, figsize=(18,6), autopct='%1.1f%%', labels=[\"Died\",\"Survived\"])"
   ]
  },
  {
   "cell_type": "markdown",
   "metadata": {},
   "source": [
    "## Question 5\n",
    "We still use the groupBy function on pclass and sex this time, unstack 'survived' and plot using a barplot."
   ]
  },
  {
   "cell_type": "code",
   "execution_count": 26,
   "metadata": {},
   "outputs": [
    {
     "data": {
      "text/plain": [
       "<matplotlib.legend.Legend at 0x10e67f940>"
      ]
     },
     "execution_count": 26,
     "metadata": {},
     "output_type": "execute_result"
    },
    {
     "data": {
      "image/png": "[encoded data removed]",
      "text/plain": [
       "<matplotlib.figure.Figure at 0x107d518d0>"
      ]
     },
     "metadata": {},
     "output_type": "display_data"
    }
   ],
   "source": [
    "tmp=dataf.groupby([dataf.pclass, dataf.sex]).survived\n",
    "ax=tmp.value_counts().unstack('survived').plot(kind='bar', legend=False)\n",
    "\n",
    "patches, labels = ax.get_legend_handles_labels()\n",
    "\n",
    "ax.legend(patches, ['Died','Survived'], loc='best')"
   ]
  },
  {
   "cell_type": "markdown",
   "metadata": {},
   "source": [
    "## Question 6\n",
    "We group by age, class and sex after having cut the age at the median. We then simply unstack 'survived' to create a DataFrame with three hierarchical indices and two columns."
   ]
  },
  {
   "cell_type": "code",
   "execution_count": 27,
   "metadata": {},
   "outputs": [
    {
     "data": {
      "text/html": [
       "<div>\n",
       "<style>\n",
       "    .dataframe thead tr:only-child th {\n",
       "        text-align: right;\n",
       "    }\n",
       "\n",
       "    .dataframe thead th {\n",
       "        text-align: left;\n",
       "    }\n",
       "\n",
       "    .dataframe tbody tr th {\n",
       "        vertical-align: top;\n",
       "    }\n",
       "</style>\n",
       "<table border=\"1\" class=\"dataframe\">\n",
       "  <thead>\n",
       "    <tr style=\"text-align: right;\">\n",
       "      <th></th>\n",
       "      <th></th>\n",
       "      <th></th>\n",
       "      <th>dead</th>\n",
       "      <th>survived</th>\n",
       "    </tr>\n",
       "    <tr>\n",
       "      <th>grouped_age</th>\n",
       "      <th>pclass</th>\n",
       "      <th>sex</th>\n",
       "      <th></th>\n",
       "      <th></th>\n",
       "    </tr>\n",
       "  </thead>\n",
       "  <tbody>\n",
       "    <tr>\n",
       "      <th rowspan=\"6\" valign=\"top\">(0.166, 28.0]</th>\n",
       "      <th rowspan=\"2\" valign=\"top\">1</th>\n",
       "      <th>female</th>\n",
       "      <td>2</td>\n",
       "      <td>39</td>\n",
       "    </tr>\n",
       "    <tr>\n",
       "      <th>male</th>\n",
       "      <td>15</td>\n",
       "      <td>17</td>\n",
       "    </tr>\n",
       "    <tr>\n",
       "      <th rowspan=\"2\" valign=\"top\">2</th>\n",
       "      <th>female</th>\n",
       "      <td>5</td>\n",
       "      <td>51</td>\n",
       "    </tr>\n",
       "    <tr>\n",
       "      <th>male</th>\n",
       "      <td>58</td>\n",
       "      <td>16</td>\n",
       "    </tr>\n",
       "    <tr>\n",
       "      <th rowspan=\"2\" valign=\"top\">3</th>\n",
       "      <th>female</th>\n",
       "      <td>53</td>\n",
       "      <td>56</td>\n",
       "    </tr>\n",
       "    <tr>\n",
       "      <th>male</th>\n",
       "      <td>183</td>\n",
       "      <td>41</td>\n",
       "    </tr>\n",
       "    <tr>\n",
       "      <th rowspan=\"6\" valign=\"top\">(28.0, 80.0]</th>\n",
       "      <th rowspan=\"2\" valign=\"top\">1</th>\n",
       "      <th>female</th>\n",
       "      <td>3</td>\n",
       "      <td>89</td>\n",
       "    </tr>\n",
       "    <tr>\n",
       "      <th>male</th>\n",
       "      <td>83</td>\n",
       "      <td>36</td>\n",
       "    </tr>\n",
       "    <tr>\n",
       "      <th rowspan=\"2\" valign=\"top\">2</th>\n",
       "      <th>female</th>\n",
       "      <td>6</td>\n",
       "      <td>41</td>\n",
       "    </tr>\n",
       "    <tr>\n",
       "      <th>male</th>\n",
       "      <td>77</td>\n",
       "      <td>7</td>\n",
       "    </tr>\n",
       "    <tr>\n",
       "      <th rowspan=\"2\" valign=\"top\">3</th>\n",
       "      <th>female</th>\n",
       "      <td>27</td>\n",
       "      <td>16</td>\n",
       "    </tr>\n",
       "    <tr>\n",
       "      <th>male</th>\n",
       "      <td>107</td>\n",
       "      <td>18</td>\n",
       "    </tr>\n",
       "  </tbody>\n",
       "</table>\n",
       "</div>"
      ],
      "text/plain": [
       "                             dead  survived\n",
       "grouped_age   pclass sex                   \n",
       "(0.166, 28.0] 1      female     2        39\n",
       "                     male      15        17\n",
       "              2      female     5        51\n",
       "                     male      58        16\n",
       "              3      female    53        56\n",
       "                     male     183        41\n",
       "(28.0, 80.0]  1      female     3        89\n",
       "                     male      83        36\n",
       "              2      female     6        41\n",
       "                     male      77         7\n",
       "              3      female    27        16\n",
       "                     male     107        18"
      ]
     },
     "execution_count": 27,
     "metadata": {},
     "output_type": "execute_result"
    }
   ],
   "source": [
    "dataf6 = dataf.copy()\n",
    "dataf6.age=pd.qcut(dataf6.age, 2).dropna()\n",
    "\n",
    "dataf6.rename(columns={'age':'grouped_age'}, inplace=True)\n",
    "\n",
    "grouped_index = dataf6.groupby([dataf6.grouped_age, dataf6.pclass, dataf6.sex])\n",
    "final_data_frame = grouped_index.survived.value_counts().unstack('survived')\n",
    "\n",
    "final_data_frame.columns = ['dead','survived']\n",
    "final_data_frame\n"
   ]
  }
 ],
 "metadata": {
  "kernelspec": {
   "display_name": "Python 3",
   "language": "python",
   "name": "python3"
  },
  "language_info": {
   "codemirror_mode": {
    "name": "ipython",
    "version": 3
   },
   "file_extension": ".py",
   "mimetype": "text/x-python",
   "name": "python",
   "nbconvert_exporter": "python",
   "pygments_lexer": "ipython3",
   "version": "3.6.2"
  }
 },
 "nbformat": 4,
 "nbformat_minor": 2
}
