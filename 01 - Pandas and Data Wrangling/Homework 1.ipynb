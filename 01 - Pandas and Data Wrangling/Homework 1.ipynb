{
 "cells": [
  {
   "cell_type": "markdown",
   "metadata": {},
   "source": [
    "# Table of Contents\n",
    " <p><div class=\"lev1\"><a href=\"#Task-1.-Compiling-Ebola-Data\"><span class=\"toc-item-num\">Task 1.&nbsp;&nbsp;</span>Compiling Ebola Data</a></div>\n",
    " <div class=\"lev1\"><a href=\"#Task-2.-RNA-Sequences\"><span class=\"toc-item-num\">Task 2.&nbsp;&nbsp;</span>RNA Sequences</a></div>\n",
    " <div class=\"lev1\"><a href=\"#Task-3.-Class-War-in-Titanic\"><span class=\"toc-item-num\">Task 3.&nbsp;&nbsp;</span>Class War in Titanic</a></div></p>"
   ]
  },
  {
   "cell_type": "code",
   "execution_count": 2,
   "metadata": {
    "collapsed": true
   },
   "outputs": [],
   "source": [
    "DATA_FOLDER = 'Data/' # Use the data folder provided in Tutorial 02 - Intro to Pandas."
   ]
  },
  {
   "cell_type": "markdown",
   "metadata": {},
   "source": [
    "## Task 1. Compiling Ebola Data\n",
    "\n",
    "The `DATA_FOLDER/ebola` folder contains summarized reports of Ebola cases from three countries (Guinea, Liberia and Sierra Leone) during the recent outbreak of the disease in West Africa. For each country, there are daily reports that contain various information about the outbreak in several cities in each country.\n",
    "\n",
    "Use pandas to import these data files into a single `Dataframe`.\n",
    "Using this `DataFrame`, calculate for *each country*, the *daily average* per month of *new cases* and *deaths*.\n",
    "Make sure you handle all the different expressions for *new cases* and *deaths* that are used in the reports."
   ]
  },
  {
   "cell_type": "markdown",
   "metadata": {},
   "source": [
    "Import usefull libraries."
   ]
  },
  {
   "cell_type": "code",
   "execution_count": 3,
   "metadata": {},
   "outputs": [],
   "source": [
    "import pandas as pd\n",
    "import numpy as np\n",
    "from os import listdir\n",
    "from os.path import isfile, join\n",
    "from datetime import datetime\n"
   ]
  },
  {
   "cell_type": "markdown",
   "metadata": {},
   "source": [
    "After having take a look carefully to the data we notice that in the 3 datasets there is not a report for each day, we also notice that each file contains cumulative value of the new cases/deaths. We will thus extrapolate the average new per day in one month with these cumulative values, indeed if we know the total number $x_d$ of deaths at day d and the total number of death $x_{d + n}$ at day d + n we know that there was in average $\\frac{x_{d + n} - x_d}{n}$ new deaths per day during this period. Thus by evaluating the number of death at the first day of the month and the total number of deaths at the end of the month, to evaluate this two quantities we will use a linear regression between the two report closest to the begin of the month and the same for the end of the month.\n",
    "\n",
    "So first let's import the data into one data frame. We will then hot one encode the different categories of value observed. After that we will aggregate the data on country and day. We will finally drop the column not concerned by cumulative values for deaths and new cases. After that we will check that each row of the data as a non null value for the two cumulative values. If that is ok it would mean that we have not missed any categories of interest. We will finally plot the data to search after unconsistent value. Finally we will apply the developpment explain above to compute the average value for each month."
   ]
  },
  {
   "cell_type": "markdown",
   "metadata": {},
   "source": [
    "Load the data in one dataframe. During this phase we reorganise the data and remove sample having unknown or 0 value for the observed data, indeed zero value won't have any influence on our value of interest which is an average value."
   ]
  },
  {
   "cell_type": "code",
   "execution_count": null,
   "metadata": {},
   "outputs": [],
   "source": [
    "folders = ['guinea', 'liberia', 'sl']\n",
    "folder_end = '_data/'\n",
    "folder_begin = 'ebola/'\n",
    "\n",
    "type_of_file = []\n",
    "name_of_file = []\n",
    "\n",
    "ebola_data = pd.DataFrame(columns=['country', 'town', 'date', 'description', 'number'])\n",
    "for folder in folders:\n",
    "    folder_path = DATA_FOLDER + folder_begin + folder + folder_end\n",
    "    print(\"Loading data from %s\" % folder)\n",
    "    for data_file in listdir(folder_path):\n",
    "        if isfile(join(folder_path, data_file)):\n",
    "            metas = data_file.replace('.', '-').split('-')\n",
    "            meta_date = datetime(int(metas[0]), int(metas[1]), int(metas[2]))\n",
    "            datas = pd.DataFrame.from_csv(folder_path + data_file)\n",
    "            towns = datas.columns[2:]\n",
    "            date = datas.index.name\n",
    "            description = datas.columns[0]\n",
    "            if not(list(datas.columns) in type_of_file):\n",
    "                type_of_file.append(list(datas.columns))\n",
    "                name_of_file.append(join(folder_path, data_file))\n",
    "            for town in towns:\n",
    "                town_data = datas[datas[town] != 0].reset_index().copy()\n",
    "                town_data['country'] = folder\n",
    "                town_data['town'] = town\n",
    "                town_data = town_data[['country', 'town', date, description, town]]\n",
    "                town_data.columns = ['country', 'town', 'date', 'description', 'number']\n",
    "                town_data = town_data[(town_data.number.isnull() == False) & (town_data.number != 0)]\n",
    "                ebola_data = pd.concat([ebola_data, town_data], axis=0)\n",
    "  \n",
    "print(len(type_of_file))\n",
    "print(type_of_file)\n",
    "ebola_data_hot_encoded = pd.get_dummies(ebola_data, columns=['description'])\n",
    "for description in ebola_data_hot_encoded.columns[4:]:\n",
    "    ebola_data_hot_encoded.loc[(ebola_data_hot_encoded[description] == 1), description] = ebola_data_hot_encoded[ebola_data_hot_encoded[description] == 1].number\n"
   ]
  },
  {
   "cell_type": "code",
   "execution_count": 114,
   "metadata": {},
   "outputs": [
    {
     "name": "stdout",
     "output_type": "stream",
     "text": [
      "Loading data from guinea\n",
      "Loading data from liberia\n",
      "Loading data from sl\n",
      "225\n",
      "24\n"
     ]
    }
   ],
   "source": [
    "folders = ['guinea', 'liberia', 'sl']\n",
    "folder_end = '_data/'\n",
    "folder_begin = 'ebola/'\n",
    "\n",
    "type_of_file = []\n",
    "name_of_file = []\n",
    "counter = 0\n",
    "ebola_data = pd.DataFrame(columns=['country', 'date', 'description', 'number'])\n",
    "for folder in folders:\n",
    "    folder_path = DATA_FOLDER + folder_begin + folder + folder_end\n",
    "    print(\"Loading data from %s\" % folder)\n",
    "    for data_file in listdir(folder_path):\n",
    "        counter = counter + 1\n",
    "        if isfile(join(folder_path, data_file)):\n",
    "            metas = data_file.replace('.', '-').split('-')\n",
    "            meta_date = datetime.datetime(int(metas[0]), int(metas[1]), int(metas[2]))\n",
    "            datas = pd.DataFrame.from_csv(folder_path + data_file)\n",
    "            datas.columns = [col.lower() for col in datas.columns]\n",
    "            towns = list(datas.columns[1:])\n",
    "            date = datas.index.name\n",
    "            description = datas.columns[0]\n",
    "            if not(list(datas.columns) in type_of_file):\n",
    "                type_of_file.append(list(datas.columns))\n",
    "                name_of_file.append(join(folder_path, data_file))\n",
    "            \n",
    "            total_col_name = 'totals' if 'totals' in datas.columns else 'national'\n",
    "            towns.remove(total_col_name)\n",
    "            datas.fillna(0)\n",
    "            datas = datas.reset_index().copy()\n",
    "            datas['country'] = folder\n",
    "            datas = datas[~datas[total_col_name].astype(str).str.contains('%')]\n",
    "            old_data = datas.copy()\n",
    "            datas = datas[['country', date, description, total_col_name]]\n",
    "            datas.columns = ['country', 'date', 'description', 'number']\n",
    "            #datas = datas.dropna()\n",
    "            datas = datas.fillna(0)\n",
    "            datas = datas[~datas['number'].astype(str).str.contains('%')]\n",
    "            datas['number'] = datas['number'].astype(str).str.replace(',', '')\n",
    "            datas['number'] = datas['number'].astype(float).astype(int)\n",
    "            \n",
    "            #datas.loc[datas['number'] == 0, 'number'] = np.sum(old_data[datas['number'] == 0][towns], axis=1)\n",
    "\n",
    "            ebola_data = pd.concat([ebola_data, datas], axis=0)\n",
    "print(counter)\n",
    "print(len(type_of_file))\n",
    "ebola_data_hot_encoded = pd.get_dummies(ebola_data, columns=['description'])\n",
    "for description in ebola_data_hot_encoded.columns[3:]:\n",
    "    ebola_data_hot_encoded.loc[(ebola_data_hot_encoded[description] == 1), description] = ebola_data_hot_encoded[ebola_data_hot_encoded[description] == 1].number\n"
   ]
  },
  {
   "cell_type": "markdown",
   "metadata": {},
   "source": [
    "Computing the average values for the type of file used by Guinea. Indeed for the Guinea we miss a lot of data we are thus not able to use the daily report to compute the average number of new deaths/cases instead of the daily value we thus use the cumulative value to compute an estimated value of the average number of new deaths/cases per day for each month"
   ]
  },
  {
   "cell_type": "code",
   "execution_count": 115,
   "metadata": {},
   "outputs": [],
   "source": [
    "ebola_data_hot_encoded = ebola_data_hot_encoded.groupby(by=['country', 'date']).agg(np.max)\n"
   ]
  },
  {
   "cell_type": "code",
   "execution_count": 21,
   "metadata": {},
   "outputs": [
    {
     "name": "stdout",
     "output_type": "stream",
     "text": [
      "description_Cumulative (confirmed + probable + suspected)\n",
      "description_Cumulative (confirmed + probable + suspects)\n",
      "description_Cumulative CFR\n",
      "description_Cumulative admission/isolation\n",
      "description_Cumulative cases among HCW\n",
      "description_Cumulative confirmed, probable and suspected cases\n",
      "description_Cumulative deaths among HCW\n",
      "Average value of new case per day for month 8 is 9.407407\n",
      "Average value of new case per day for month 9 is 13.535714\n"
     ]
    }
   ],
   "source": [
    "import datetime\n",
    "\n",
    "data_ebola = ebola_data_hot_encoded.copy()\n",
    "data_guinea = data_ebola.iloc[data_ebola.index.get_level_values('country') == 'guinea']\n",
    "for col in data_guinea.columns:\n",
    "    #print(col)\n",
    "    if 'Cumulative' in col:\n",
    "        print(col)\n",
    "data_guinea.reset_index(level=1, inplace=True)\n",
    "#data_guinea.reset_index()\n",
    "#print(data_guinea.head())\n",
    "min_day = 35\n",
    "min_value = 0\n",
    "max_day = 0\n",
    "max_value = 0\n",
    "month = 8\n",
    "for val in data_guinea[['date', 'description_Cumulative (confirmed + probable + suspects)']].values:\n",
    "    date = val[0]\n",
    "    if month == date.month:\n",
    "        if min_day > date.day:\n",
    "            min_day = date.day\n",
    "            min_value = val[1]\n",
    "        if max_day < date.day:\n",
    "            max_day = date.day\n",
    "            max_value = val[1]\n",
    "    else:\n",
    "        print('Average value of new case per day for month %d is %f' % (month, float(max_value - min_value)/float(max_day - min_day)))\n",
    "        month = date.month\n",
    "        min_day = date.day\n",
    "        min_value = val[1]\n",
    "        max_day = 0\n",
    "        max_value = 0\n",
    "#print(data_guinea['description_Total deaths (confirmed + probables + suspects)'])"
   ]
  },
  {
   "cell_type": "markdown",
   "metadata": {},
   "source": [
    "Now we're trying to extract only the columns which are relevant to compute the average number of new case and of new death. To do that we search for the words 'new' and 'cases' to conclude that it is related to the number of new cases and to the words 'new' and 'deaths' to conclude that it is related to the number of new deaths. We also keep track of the other column containing the word 'new' which could be relevant to compute new cases. We then look at the different column name which are extracted. \n",
    "\n",
    "We see here that there is some ambiguous column which could be problematic. First we should look at a file containing the column 'description_total new cases registered so far' to see what exactly it means, indeed if we use this column we should take care that it is probably a cumulative value. This value could be used to compute the average number per year but if we can drop it out and replace it by daily count of new cases we will do it so that the type of data is more uniform. \n",
    "\n",
    "The second interesting column is 'description_new cases of confirmed among health workers' we will also take a loot at a file containing this value in order to see if this value is not already taken into account in another column. \n",
    "The same comment maybe done for the columns 'description_newly reported cases in hcw', 'description_newly reported deaths in hcw', 'description_newly reported deaths in hcw'.\n",
    "\n",
    "The column 'description_new_noncase' should probably also be removed.\n",
    "\n",
    "Finally in the column containing only the word 'new' we see some which could correspond to new cases: description_new_confirmed\n",
    "description_new_positive\n",
    "description_new_probable\n",
    "description_new_suspected\n",
    "For each of these column we will then look at a corresponding file to see if the column must be added in the list of new deaths/cases columns.\n",
    "\n",
    "\n",
    "In the data we also notice some percentage value, these are their to tell which percentage of the population has been seen. We assume this value can be neglected for our analysis, indeed as this is a survey on the evolution of Ebola we can suppose that almost all the death and new case of ebola are registered in the file even if the whole population has not been seen."
   ]
  },
  {
   "cell_type": "code",
   "execution_count": 118,
   "metadata": {},
   "outputs": [
    {
     "name": "stdout",
     "output_type": "stream",
     "text": [
      "6\n",
      "country  date      \n",
      "sl       2014-08-26    0\n",
      "         2014-08-29    0\n",
      "         2014-09-05    0\n",
      "         2014-09-12    0\n",
      "         2014-11-14    0\n",
      "         2014-11-19    0\n",
      "Name: cum_cases, dtype: int64\n",
      "10\n",
      "country  date      \n",
      "liberia  2014-09-20    0\n",
      "         2014-10-11    0\n",
      "         2014-11-08    0\n",
      "sl       2014-08-26    0\n",
      "         2014-08-29    0\n",
      "         2014-09-05    0\n",
      "         2014-09-12    0\n",
      "         2014-11-14    0\n",
      "         2014-11-19    0\n",
      "         2014-12-13    0\n",
      "Name: cum_deaths, dtype: int64\n"
     ]
    }
   ],
   "source": [
    "ebola_data_hot_encoded.columns = [col.lower().replace('\\n', '') for col in ebola_data_hot_encoded.columns]\n",
    "\n",
    "cumulative_deaths = ['description_total death/s in confirmed,  probable, suspected cases',  \n",
    "                     'description_total death/s in confirmed, probable, suspected cases',\n",
    "                    'description_total deaths (confirmed + probables + suspects)','cum_death_tmp']\n",
    "\n",
    "death_to_agg = ['description_death_suspected', 'description_death_probable', 'description_death_confirmed']\n",
    "ebola_data_hot_encoded['cum_death_tmp'] = np.sum(ebola_data_hot_encoded[death_to_agg].values, axis=1)\n",
    "\n",
    "cumulative_cases = ['description_cumulative confirmed, probable and suspected cases', \n",
    "                    'description_cumulative (confirmed + probable + suspects)', 'cum_cases_tmp1', 'cum_cases_tmp2']\n",
    "\n",
    "death_to_agg = ['description_total suspected cases', 'description_total probable cases', 'description_total confirmed cases']\n",
    "ebola_data_hot_encoded['cum_cases_tmp1'] = np.sum(ebola_data_hot_encoded[death_to_agg].values, axis=1)\n",
    "\n",
    "death_to_agg = ['description_cum_confirmed', 'description_cum_probable', 'description_cum_suspected']\n",
    "ebola_data_hot_encoded['cum_cases_tmp2'] = np.sum(ebola_data_hot_encoded[death_to_agg].values, axis=1)\n",
    "\n",
    "ebola_data_hot_encoded.columns = [col.lower().replace('\\n', '') for col in ebola_data_hot_encoded.columns]\n",
    "ebola_data_hot_encoded['cum_cases'] = np.max(ebola_data_hot_encoded[cumulative_cases].values, axis=1)\n",
    "print(len(ebola_data_hot_encoded[ebola_data_hot_encoded['cum_cases'] == 0]))\n",
    "print(ebola_data_hot_encoded[ebola_data_hot_encoded['cum_cases'] == 0]['cum_cases'])\n",
    "ebola_data_hot_encoded['cum_deaths'] = np.max(ebola_data_hot_encoded[cumulative_deaths].values, axis=1)\n",
    "print(len(ebola_data_hot_encoded[ebola_data_hot_encoded['cum_deaths'] == 0]))\n",
    "print(ebola_data_hot_encoded[ebola_data_hot_encoded['cum_deaths'] == 0]['cum_deaths'])\n"
   ]
  },
  {
   "cell_type": "markdown",
   "metadata": {},
   "source": [
    "We still have problem in some value for Siera Leon and Liberia however as we only use extreme points to estimate the averages per day we can simply drop these data without any impact on our final result."
   ]
  },
  {
   "cell_type": "code",
   "execution_count": 129,
   "metadata": {
    "collapsed": true
   },
   "outputs": [],
   "source": [
    "ebola_data_hot_encoded = ebola_data_hot_encoded[(ebola_data_hot_encoded['cum_deaths'] != 0) & \n",
    "                                                (ebola_data_hot_encoded['cum_cases'] != 0)]"
   ]
  },
  {
   "cell_type": "markdown",
   "metadata": {},
   "source": [
    "Now we plot the evoluation of the cumulative values over the time in the 3 countries."
   ]
  },
  {
   "cell_type": "code",
   "execution_count": 130,
   "metadata": {},
   "outputs": [
    {
     "name": "stdout",
     "output_type": "stream",
     "text": [
      "guinea\n"
     ]
    },
    {
     "data": {
      "image/png": "[encoded data removed]",
      "text/plain": [
       "<matplotlib.figure.Figure at 0x10c458978>"
      ]
     },
     "metadata": {},
     "output_type": "display_data"
    },
    {
     "data": {
      "image/png": "[encoded data removed]",
      "text/plain": [
       "<matplotlib.figure.Figure at 0x1109f5710>"
      ]
     },
     "metadata": {},
     "output_type": "display_data"
    },
    {
     "name": "stdout",
     "output_type": "stream",
     "text": [
      "liberia\n"
     ]
    },
    {
     "data": {
      "image/png": "[encoded data removed]",
      "text/plain": [
       "<matplotlib.figure.Figure at 0x10fb02e80>"
      ]
     },
     "metadata": {},
     "output_type": "display_data"
    },
    {
     "data": {
      "image/png": "[encoded data removed]",
      "text/plain": [
       "<matplotlib.figure.Figure at 0x10ad18240>"
      ]
     },
     "metadata": {},
     "output_type": "display_data"
    },
    {
     "name": "stdout",
     "output_type": "stream",
     "text": [
      "sl\n"
     ]
    },
    {
     "data": {
      "image/png": "[encoded data removed]",
      "text/plain": [
       "<matplotlib.figure.Figure at 0x10fb029e8>"
      ]
     },
     "metadata": {},
     "output_type": "display_data"
    },
    {
     "data": {
      "image/png": "[encoded data removed]",
      "text/plain": [
       "<matplotlib.figure.Figure at 0x1109e5f60>"
      ]
     },
     "metadata": {},
     "output_type": "display_data"
    }
   ],
   "source": [
    "import matplotlib\n",
    "import matplotlib.pyplot as plt\n",
    "\n",
    "for folder in folders:\n",
    "    print(folder)\n",
    "    data = ebola_data_hot_encoded.iloc[ebola_data_hot_encoded.index.get_level_values('country') == folder]\n",
    "\n",
    "    dates = matplotlib.dates.date2num(list(data.index.get_level_values('date')))\n",
    "    plt.plot_date(dates, data['cum_deaths'])\n",
    "    plt.show()\n",
    "    plt.plot_date(dates, data['cum_cases'])\n",
    "    plt.show()\n"
   ]
  },
  {
   "cell_type": "code",
   "execution_count": 22,
   "metadata": {},
   "outputs": [
    {
     "name": "stdout",
     "output_type": "stream",
     "text": [
      "cases:\n",
      "\tdescription_case fatality rate (cfr) -  confirmed & probable cases\n",
      "\tdescription_case fatality rate (cfr) - confirmed & probable cases\n",
      "\tdescription_cumulative cases among hcw\n",
      "\tdescription_cumulative confirmed, probable and suspected cases\n",
      "\tdescription_new case/s (probable)\n",
      "\tdescription_new case/s (suspected)\n",
      "\tdescription_new case/s (confirmed)\n",
      "\tdescription_new cases of confirmed\n",
      "\tdescription_new cases of confirmed among health workers\n",
      "\tdescription_new cases of probables\n",
      "\tdescription_new cases of suspects\n",
      "\tdescription_newly reported cases in hcw\n",
      "\tdescription_number of confirmed cases among health workers\n",
      "\tdescription_number of female confirmed cases\n",
      "\tdescription_number of female probables cases\n",
      "\tdescription_number of female suspects cases\n",
      "\tdescription_number of male confirmed cases\n",
      "\tdescription_number of male probables cases\n",
      "\tdescription_number of male suspects cases\n",
      "\tdescription_number of probables cases among health workers\n",
      "\tdescription_number of suspects cases among health workers\n",
      "\tdescription_total case/s (probable)\n",
      "\tdescription_total case/s (suspected)\n",
      "\tdescription_total number of confirmed cases  of guinean nationality\n",
      "\tdescription_total number of confirmed cases  of sierra leonean nationality\n",
      "\tdescription_total number of confirmed cases of guinean nationality\n",
      "\tdescription_total number of confirmed cases of sierra leonean nationality\n",
      "\tdescription_total case of confirmed among health workers\n",
      "\tdescription_total case/s (confirmed)\n",
      "\tdescription_total cases of confirmed\n",
      "\tdescription_total cases of probables\n",
      "\tdescription_total cases of suspects\n",
      "\tdescription_total confirmed cases\n",
      "\tdescription_total new cases registered so far\n",
      "\tdescription_total number of female cases\n",
      "\tdescription_total number of hospitalized cases in cte\n",
      "\tdescription_total number of male cases\n",
      "\tdescription_total of cured in confirmed cases in cte\n",
      "\tdescription_total probable cases\n",
      "\tdescription_total suspected cases\n",
      "\tdescription_total suspected non-class cases\n",
      "\tdescription_cum_noncase\n",
      "\tdescription_new_noncase\n",
      "deaths:\n",
      "\tdescription_cumulative deaths among hcw\n",
      "\tdescription_new deaths registered\n",
      "\tdescription_new deaths registered among health workers\n",
      "\tdescription_new deaths registered today\n",
      "\tdescription_new deaths registered today (confirmed)\n",
      "\tdescription_new deaths registered today (probables)\n",
      "\tdescription_new deaths registered today (suspects)\n",
      "\tdescription_newly reported deaths in hcw\n",
      "\tdescription_newly reported deaths\n",
      "\tdescription_number of death of confirmed cases among health workers\n",
      "\tdescription_number of deaths of confirmed cases among health workers\n",
      "\tdescription_number of deaths of probables cases among health workers\n",
      "\tdescription_total death/s in confirmed cases\n",
      "\tdescription_total death/s in confirmed,  probable, suspected cases\n",
      "\tdescription_total death/s in confirmed,  probable, suspected cases\n",
      "\tdescription_total death/s in confirmed, probable, suspected cases\n",
      "\tdescription_total death/s in probable cases\n",
      "\tdescription_total death/s in suspected cases\n",
      "\tdescription_total deaths (confirmed + probables + suspects)\n",
      "\tdescription_total deaths of confirmed\n",
      "\tdescription_total deaths of probables\n",
      "\tdescription_total deaths of suspects\n",
      "\tdescription_total deaths registered among health workers\n",
      "\tdescription_total of deaths in confirmed cases in cte\n",
      "\tdescription_death_confirmed\n",
      "\tdescription_death_probable\n",
      "\tdescription_death_suspected\n",
      "\tdescription_etc_cum_deaths\n",
      "\tdescription_etc_new_deaths\n",
      "Relevant:\n",
      "\tdescription_case fatality rate (cfr) -  confirmed & probable cases\n",
      "\tdescription_case fatality rate (cfr) - confirmed & probable cases\n",
      "\tdescription_cumulative cases among hcw\n",
      "\tdescription_cumulative confirmed, probable and suspected cases\n",
      "\tdescription_cumulative deaths among hcw\n",
      "\tdescription_new case/s (probable)\n",
      "\tdescription_new case/s (suspected)\n",
      "\tdescription_new admissions\n",
      "\tdescription_new admits to cte so far\n",
      "\tdescription_new case/s (confirmed)\n",
      "\tdescription_new cases of confirmed\n",
      "\tdescription_new cases of confirmed among health workers\n",
      "\tdescription_new cases of probables\n",
      "\tdescription_new cases of suspects\n",
      "\tdescription_new contacts registered so far\n",
      "\tdescription_new deaths registered\n",
      "\tdescription_new deaths registered among health workers\n",
      "\tdescription_new deaths registered today\n",
      "\tdescription_new deaths registered today (confirmed)\n",
      "\tdescription_new deaths registered today (probables)\n",
      "\tdescription_new deaths registered today (suspects)\n",
      "\tdescription_newly reported cases in hcw\n",
      "\tdescription_newly reported deaths in hcw\n",
      "\tdescription_newly reported contacts\n",
      "\tdescription_newly reported deaths\n",
      "\tdescription_number of confirmed cases among health workers\n",
      "\tdescription_number of death of confirmed cases among health workers\n",
      "\tdescription_number of deaths of confirmed cases among health workers\n",
      "\tdescription_number of deaths of probables cases among health workers\n",
      "\tdescription_number of female confirmed cases\n",
      "\tdescription_number of female probables cases\n",
      "\tdescription_number of female suspects cases\n",
      "\tdescription_number of male confirmed cases\n",
      "\tdescription_number of male probables cases\n",
      "\tdescription_number of male suspects cases\n",
      "\tdescription_number of probables cases among health workers\n",
      "\tdescription_number of suspects cases among health workers\n",
      "\tdescription_total case/s (probable)\n",
      "\tdescription_total case/s (suspected)\n",
      "\tdescription_total number of confirmed cases  of guinean nationality\n",
      "\tdescription_total number of confirmed cases  of sierra leonean nationality\n",
      "\tdescription_total number of confirmed cases of guinean nationality\n",
      "\tdescription_total number of confirmed cases of sierra leonean nationality\n",
      "\tdescription_total case of confirmed among health workers\n",
      "\tdescription_total case/s (confirmed)\n",
      "\tdescription_total cases of confirmed\n",
      "\tdescription_total cases of probables\n",
      "\tdescription_total cases of suspects\n",
      "\tdescription_total confirmed cases\n",
      "\tdescription_total death/s in confirmed cases\n",
      "\tdescription_total death/s in confirmed,  probable, suspected cases\n",
      "\tdescription_total death/s in confirmed,  probable, suspected cases\n",
      "\tdescription_total death/s in confirmed, probable, suspected cases\n",
      "\tdescription_total death/s in probable cases\n",
      "\tdescription_total death/s in suspected cases\n",
      "\tdescription_total deaths (confirmed + probables + suspects)\n",
      "\tdescription_total deaths of confirmed\n",
      "\tdescription_total deaths of probables\n",
      "\tdescription_total deaths of suspects\n",
      "\tdescription_total deaths registered among health workers\n",
      "\tdescription_total new cases registered so far\n",
      "\tdescription_total number of female cases\n",
      "\tdescription_total number of hospitalized cases in cte\n",
      "\tdescription_total number of male cases\n",
      "\tdescription_total of cured in confirmed cases in cte\n",
      "\tdescription_total of deaths in confirmed cases in cte\n",
      "\tdescription_total probable cases\n",
      "\tdescription_total suspected cases\n",
      "\tdescription_total suspected non-class cases\n",
      "\tdescription_cum_noncase\n",
      "\tdescription_death_confirmed\n",
      "\tdescription_death_probable\n",
      "\tdescription_death_suspected\n",
      "\tdescription_etc_cum_deaths\n",
      "\tdescription_etc_new_admission\n",
      "\tdescription_etc_new_deaths\n",
      "\tdescription_etc_new_discharges\n",
      "\tdescription_new_confirmed\n",
      "\tdescription_new_negative\n",
      "\tdescription_new_noncase\n",
      "\tdescription_new_positive\n",
      "\tdescription_new_samples\n",
      "\tdescription_new_suspected\n",
      "Other:\n",
      "\tdescription_contacts lost to follow-up\n",
      "\tdescription_contacts seen\n",
      "\tdescription_contacts who completed 21 day  follow-up\n",
      "\tdescription_contacts who completed 21 day follow-up\n",
      "\tdescription_cumulative (confirmed + probable + suspected)\n",
      "\tdescription_cumulative (confirmed + probable + suspects)\n",
      "\tdescription_cumulative cfr\n",
      "\tdescription_cumulative admission/isolation\n",
      "\tdescription_currently under follow-up\n",
      "\tdescription_number of contacts followed today\n",
      "\tdescription_number of contacts followed yesterday\n",
      "\tdescription_number of contacts lost to follow up\n",
      "\tdescription_number of contacts out of the track 21 days\n",
      "\tdescription_number of contacts out of track\n",
      "\tdescription_number of contacts to follow today\n",
      "\tdescription_number of patients tested\n",
      "\tdescription_number of samples collected\n",
      "\tdescription_number of samples collected today\n",
      "\tdescription_number of samples under test\n",
      "\tdescription_specimens collected\n",
      "\tdescription_specimens pending for testing\n",
      "\tdescription_total pec center today\n",
      "\tdescription_total pec center today (confirmed)\n",
      "\tdescription_total pec center today (probables)\n",
      "\tdescription_total pec center today (suspects)\n",
      "\tdescription_total contacts listed\n",
      "\tdescription_total contacts registered from start date\n",
      "\tdescription_total discharges\n",
      "\tdescription_total no. currently in treatment  units\n",
      "\tdescription_total no. currently in treatment units\n",
      "\tdescription_total number of admissions to cte\n",
      "\tdescription_total number of exits from cte\n",
      "\tdescription_total samples tested\n",
      "\tdescription_total specimens tested\n",
      "\tdescription_cum_confirmed\n",
      "\tdescription_cum_probable\n",
      "\tdescription_cum_suspected\n",
      "\tdescription_etc_cum_admission\n",
      "\tdescription_etc_cum_discharges\n",
      "\tdescription_etc_currently_admitted\n",
      "\tdescription_negative_corpse\n",
      "\tdescription_pending\n",
      "\tdescription_population\n",
      "\tdescription_positive_corpse\n",
      "\tdescription_repeat_samples\n",
      "\tdescription_total_lab_samples\n"
     ]
    }
   ],
   "source": [
    "#print(ebola_data.head())\n",
    "#print(ebola_data_hot_encoded.head())\n",
    "ebola_data_hot_encoded.columns = [col.lower().replace('\\n', '') for col in ebola_data_hot_encoded.columns]\n",
    "new_cases_col = []\n",
    "new_deaths_col = []\n",
    "irrelevant_col = []\n",
    "relevant_col = []\n",
    "for col in ebola_data_hot_encoded.columns:\n",
    "    if ('new' in col) or ('death' in col) or ('case' in col):\n",
    "        relevant_col.append(col)\n",
    "        if 'death' in col:\n",
    "            new_deaths_col.append(col)\n",
    "        elif 'case' in col:\n",
    "            new_cases_col.append(col)\n",
    "    else:\n",
    "        irrelevant_col.append(col)\n",
    "\n",
    "print('cases:')\n",
    "[print('\\t%s' % col) for col in new_cases_col]\n",
    "print('deaths:')\n",
    "[print('\\t%s' % col) for col in new_deaths_col]\n",
    "print('Relevant:')\n",
    "[print('\\t%s' % col) for col in relevant_col]\n",
    "print('Other:')\n",
    "[print('\\t%s' % col) for col in irrelevant_col]\n",
    "''\n",
    "cumulative_deaths = ['description_total death/s in confirmed,  probable, suspected cases',  \n",
    "                     'description_total death/s in confirmed,  probable, suspected cases',\n",
    "                     'description_total death/s in confirmed, probable, suspected cases',\n",
    "                    'description_total deaths (confirmed + probables + suspects)', 'description_etc_cum_deaths']\n",
    "cumulative_cases = ['description_cumulative confirmed, probable and suspected cases', \n",
    "                    'description_cumulative confirmed, probable and suspected cases',\n",
    "                    'description_cumulative (confirmed + probable + suspects)', \n",
    "                    'description_cumulative (confirmed + probable + suspected)', 'description_total suspected cases', \n",
    "                   'description_total probable cases', 'description_total confirmed cases']"
   ]
  },
  {
   "cell_type": "markdown",
   "metadata": {},
   "source": [
    "Now we look at file containing these numbers.\n",
    "We notice that the column 'description_total new cases registered so far' is just the sum of the columns new cases of suspects/probables/confirmed but is not a cummulative value over the time. We could thus  use this column instead of the 3 columns new cases of suspects/probables/confirmed.\n",
    "\n",
    "For the values of  'description_newly reported cases/deaths in hcw' we see that they seem to be always much smaller than the values of new cases/deaths and we suppose thus that we can neglect them wheiter they are already contained in the countage of the new cases/deaths or not. However we will check at the end that it is true that these values can be neglected, if not we won't be able to give a precises answer for the liberia and in a real case we should asked to the dataset creator to lighten the exact meaning of the 'newly reported cases/deaths in hcw' values.\n",
    "\n",
    "Finally we notice that the columns  'description_new_confirmed', 'description_new_probable',\n",
    "'description_new_suspected' are significant to count the number of new cases in the Siera Leon files. We also notice that the column '', 'description_new_death', 'description_new_probable',\n",
    "'description_new_suspected'. During this phase we also noticed that the value of description_etc_new_deaths was very often equal to 0. However as it was given in the FAQ that the other value of death was cummulative thus in a first step we will use this value and not the other one. We will further check that the cummulative value give the same answer.\n",
    "\n",
    "We then construct our final new_deaths_col and new_cases_col vectors."
   ]
  },
  {
   "cell_type": "code",
   "execution_count": null,
   "metadata": {},
   "outputs": [],
   "source": [
    "column_to_look_at = ['description_total new cases registered so far', 'description_newly reported cases in hcw', \n",
    "                     'description_newly reported deaths in hcw',\n",
    "                    'description_new_confirmed', 'description_new_positive', 'description_new_probable',\n",
    "                     'description_new_suspected']\n",
    "for col in column_to_look_at:\n",
    "    print(col)\n",
    "    print(ebola_data_hot_encoded[ebola_data_hot_encoded[col] != 0][ebola_data_hot_encoded.columns[:2]].head())\n",
    "    \n",
    "new_cases_col.remove('description_new_noncase')\n",
    "for col in column_to_look_at[:3]:\n",
    "    if 'case' in col:\n",
    "        new_cases_col.remove(col)\n",
    "    else:\n",
    "        new_deaths_col.remove(col)\n",
    "print(new_cases_col)\n",
    "new_cases_col.extend(['description_new_confirmed', 'description_new_probable', 'description_new_suspected'])"
   ]
  },
  {
   "cell_type": "markdown",
   "metadata": {},
   "source": [
    "Now we will aggregate the valueof new cases and of new deaths, we will also remove the columns not relevant for deaths and cases."
   ]
  },
  {
   "cell_type": "code",
   "execution_count": null,
   "metadata": {},
   "outputs": [],
   "source": [
    "ebola_data_hot_encoded = ebola_data_hot_encoded[relevant_col]\n",
    "t = ebola_data_hot_encoded.copy()\n",
    "t['test'] = 1\n",
    "t['new_cases'] = np.sum(t[new_cases_col].values, axis=1)\n",
    "t['new_deaths'] = np.sum(t[new_deaths_col].values, axis=1)\n",
    "t = t[['new_cases', 'new_deaths']]\n",
    "print(t.head())\n",
    "#print(ebola_data_hot_encoded.head())"
   ]
  },
  {
   "cell_type": "markdown",
   "metadata": {},
   "source": [
    "Looking at the data obtained.\n",
    "Peut etre une bonne idée de mettre les descriptions en forme de columns et puis les aggregate. Une bonne idée serait aussi de à la base regarder le nombre de fichier différents on a(différents dans le sens que les colonnes sont différentes et peut etre aussi que les catégories sont diff)"
   ]
  },
  {
   "cell_type": "code",
   "execution_count": null,
   "metadata": {},
   "outputs": [],
   "source": [
    "print(ebola_data_hot_encoded.head())\n",
    "for country in ebola_data.country.unique():\n",
    "    country_descriptions = ebola_data[ebola_data.country == country].description.unique()\n",
    "    towns = ebola_data[ebola_data.country == country].town.unique()\n",
    "    print('%s: \\n%s\\n%s' % (country, str(country_descriptions), str(towns)))\n",
    "    for town in towns:\n",
    "        town_description_miss = set(country_descriptions) - set(ebola_data[(ebola_data.country == country) \n",
    "                                               & (ebola_data.town == town)].description.unique())\n",
    "        if len(town_description_miss) != 0:\n",
    "            print('%s: %s\\n' % (town, str(town_description_miss)))\n",
    "            "
   ]
  },
  {
   "cell_type": "markdown",
   "metadata": {},
   "source": [
    "We can see some weird values which we will inspect. If they appears not trustable and they don't have a too big impact on our value of interest we will then remove them from the dataframe. Weird town are: 'Unnamed: 18' in Liberia and ('Western area urban'\n",
    " 'Western area rural' 'National' 'Kenema (IFRC)' '34 Military Hospital'\n",
    " 'Police training School' 'Bo EMC' 'Western area' 'Kenema (KGH)'\n",
    " 'Hastings-F/Town' 'Western area combined') We thus look at the National value, if its the sum of the "
   ]
  },
  {
   "cell_type": "code",
   "execution_count": null,
   "metadata": {},
   "outputs": [],
   "source": [
    "# First consider the 'Unnamed: 18' town\n",
    "print(ebola_data[(ebola_data.country == 'liberia') & (ebola_data.town == 'Unnamed: 18')])"
   ]
  },
  {
   "cell_type": "markdown",
   "metadata": {},
   "source": [
    "Only one value is not a NaN so this \"town\" does not seem very trustable. Moreover the only value is probably negligeable over the statistics of the whole country(we will check that). So let's remove this town and evaluate the next weird value."
   ]
  },
  {
   "cell_type": "code",
   "execution_count": null,
   "metadata": {},
   "outputs": [],
   "source": [
    "print(ebola_data_hot_encoded.columns)\n",
    "ebola_data_hot_encoded.columns = [col.lower() for col in ebola_data_hot_encoded.columns]"
   ]
  },
  {
   "cell_type": "code",
   "execution_count": null,
   "metadata": {},
   "outputs": [],
   "source": [
    "a = [(('death' in col) & ('new' in col)) for col in ebola_data_hot_encoded.columns]\n",
    "print(a)\n",
    "ebola_data_hot_encoded.columns[a]"
   ]
  },
  {
   "cell_type": "markdown",
   "metadata": {},
   "source": [
    "## Task 2. RNA Sequences\n",
    "\n",
    "In the `DATA_FOLDER/microbiome` subdirectory, there are 9 spreadsheets of microbiome data that was acquired from high-throughput RNA sequencing procedures, along with a 10<sup>th</sup> file that describes the content of each. \n",
    "\n",
    "Use pandas to import the first 9 spreadsheets into a single `DataFrame`.\n",
    "Then, add the metadata information from the 10<sup>th</sup> spreadsheet as columns in the combined `DataFrame`.\n",
    "Make sure that the final `DataFrame` has a unique index and all the `NaN` values have been replaced by the tag `unknown`."
   ]
  },
  {
   "cell_type": "code",
   "execution_count": null,
   "metadata": {},
   "outputs": [],
   "source": [
    "# Write your answer here\n",
    "datas = pd.DataFrame()\n",
    "\n",
    "for i in range(1, 10):\n",
    "    file_name = '%s/microbiome/MID%d.xls' % (DATA_FOLDER, i)\n",
    "    data = pd.read_excel(open(file_name,'rb'), header=None)\n",
    "    data.columns = ['Subject', 'Value']\n",
    "    data['BARCODE'] = 'MID%d' % i\n",
    "    datas = pd.concat([datas, data], axis=0)\n",
    "\n",
    "data = pd.read_excel(open('%s/microbiome/metadata.xls' % (DATA_FOLDER),'rb'))\n",
    "datas = datas.merge(data, how='left', on='BARCODE')\n",
    "datas = datas.fillna('unknown')\n",
    "datas.set_index(inplace=True, keys=['Subject', 'BARCODE'])\n",
    "\n",
    "print(datas.sample(frac=1).head())\n"
   ]
  },
  {
   "cell_type": "markdown",
   "metadata": {},
   "source": [
    "## Task 3. Class War in Titanic\n",
    "\n",
    "Use pandas to import the data file `Data/titanic.xls`. It contains data on all the passengers that travelled on the Titanic."
   ]
  },
  {
   "cell_type": "code",
   "execution_count": null,
   "metadata": {
    "collapsed": true
   },
   "outputs": [],
   "source": [
    "%matplotlib inline\n",
    "import pandas as pd\n",
    "import numpy as np\n",
    "import matplotlib.pyplot as plt\n",
    "from IPython.core.display import HTML"
   ]
  },
  {
   "cell_type": "code",
   "execution_count": null,
   "metadata": {},
   "outputs": [],
   "source": [
    "HTML(filename=DATA_FOLDER+'/titanic.html')"
   ]
  },
  {
   "cell_type": "markdown",
   "metadata": {},
   "source": [
    "For each of the following questions state clearly your assumptions and discuss your findings:\n",
    "1. Describe the *type* and the *value range* of each attribute. Indicate and transform the attributes that can be `Categorical`. \n",
    "2. Plot histograms for the *travel class*, *embarkation port*, *sex* and *age* attributes. For the latter one, use *discrete decade intervals*. \n",
    "3. Calculate the proportion of passengers by *cabin floor*. Present your results in a *pie chart*.\n",
    "4. For each *travel class*, calculate the proportion of the passengers that survived. Present your results in *pie charts*.\n",
    "5. Calculate the proportion of the passengers that survived by *travel class* and *sex*. Present your results in *a single histogram*.\n",
    "6. Create 2 equally populated *age categories* and calculate survival proportions by *age category*, *travel class* and *sex*. Present your results in a `DataFrame` with unique index."
   ]
  },
  {
   "cell_type": "code",
   "execution_count": null,
   "metadata": {
    "collapsed": true
   },
   "outputs": [],
   "source": [
    "dataf = pd.read_excel('Data/titanic.xls')\n"
   ]
  },
  {
   "cell_type": "markdown",
   "metadata": {},
   "source": [
    "## Question 1\n",
    "\n",
    "The current types of each column can easly be obtained using \"mb1.dtypes\" as shown in next cell.\n"
   ]
  },
  {
   "cell_type": "code",
   "execution_count": null,
   "metadata": {
    "scrolled": true
   },
   "outputs": [],
   "source": [
    "dataf_cp = dataf.copy()\n",
    "\n",
    "print('%-15s %-15s %-35s %-35s' % ('Column Name', 'Column Type', 'Column Min', 'Column Max'))\n",
    "for col in dataf_cp.columns:\n",
    "    tmp = dataf_cp[col].dropna()\n",
    "    if dataf_cp[col].dtypes == 'object':\n",
    "        tmp = tmp.astype(str)\n",
    "    print('%-15s %-15s %-35s %-35s' % (col, str(dataf_cp[col].dtypes), str(tmp.min()), str(tmp.max())))\n"
   ]
  },
  {
   "cell_type": "markdown",
   "metadata": {},
   "source": [
    "We can change in categorical every columns that has a limited number of distinct value, like: pclass, survived, sex, sibsp, parch, embarked, boat and home.dest."
   ]
  },
  {
   "cell_type": "code",
   "execution_count": null,
   "metadata": {
    "collapsed": true
   },
   "outputs": [],
   "source": [
    "to_categorical = ['pclass','survived', 'sex', 'sibsp', 'parch', 'embarked', 'boat', 'home.dest']\n",
    "for c in to_categorical:\n",
    "    dataf[c] = dataf[c].astype('category')"
   ]
  },
  {
   "cell_type": "markdown",
   "metadata": {},
   "source": [
    "## Question 2"
   ]
  },
  {
   "cell_type": "code",
   "execution_count": null,
   "metadata": {},
   "outputs": [],
   "source": [
    "dataf.pclass.value_counts().sort_index().plot(kind='bar')"
   ]
  },
  {
   "cell_type": "code",
   "execution_count": null,
   "metadata": {},
   "outputs": [],
   "source": [
    "dataf.embarked.value_counts().plot(kind='bar')"
   ]
  },
  {
   "cell_type": "code",
   "execution_count": null,
   "metadata": {},
   "outputs": [],
   "source": [
    "dataf.sex.value_counts().plot(kind='bar')"
   ]
  },
  {
   "cell_type": "code",
   "execution_count": null,
   "metadata": {},
   "outputs": [],
   "source": [
    "pd.cut(dataf.age, [x for x in range(0, int(dataf.age.max()) + 1, 10)]).value_counts().sort_index().plot(kind='bar')"
   ]
  },
  {
   "cell_type": "markdown",
   "metadata": {},
   "source": [
    "## Question 3"
   ]
  },
  {
   "cell_type": "markdown",
   "metadata": {},
   "source": [
    "As the datas are note clear for the cabin column, we arbitrarily picked the first letter of the first cabin that appears in the cell for the floor. For cabin with cell \"C22 D26\", we assign the cabin at floor C."
   ]
  },
  {
   "cell_type": "code",
   "execution_count": null,
   "metadata": {},
   "outputs": [],
   "source": [
    "floor = dataf.cabin.copy().dropna().apply(lambda x : x[0]).astype('category').rename('floor distribution')\n",
    "data_cabin.value_counts().sort_index().plot(kind='pie', autopct='%1.1f%%', figsize=(10,10))"
   ]
  },
  {
   "cell_type": "markdown",
   "metadata": {},
   "source": [
    "## Question 4"
   ]
  },
  {
   "cell_type": "code",
   "execution_count": null,
   "metadata": {},
   "outputs": [],
   "source": [
    "\n",
    "fig, axes = plt.subplots(nrows=1, ncols=len(dataf.pclass.unique()))\n",
    "\n",
    "for cl in dataf.pclass.unique():\n",
    "    tmp = dataf[dataf.pclass == cl]\n",
    "    tmp.survived.rename('travel class ' + str(cl) + \" - number of passengers : \" + str(tmp.shape[0])).value_counts().sort_index().plot(kind='pie', \n",
    "                        ax=axes[cl-1], figsize=(18,6), autopct='%1.1f%%', labels=['died', 'survived'])\n",
    "    "
   ]
  },
  {
   "cell_type": "markdown",
   "metadata": {},
   "source": [
    "## Question 5"
   ]
  },
  {
   "cell_type": "code",
   "execution_count": null,
   "metadata": {},
   "outputs": [],
   "source": [
    "dataf_res = pd.Series()\n",
    "\n",
    "tab_survived = ['died', 'survived']\n",
    "\n",
    "for cl in dataf.pclass.unique():\n",
    "    for s in dataf.sex.unique():\n",
    "        tmp = dataf[(dataf.pclass == cl) & (dataf.sex == s)].survived.value_counts().sort_index()\n",
    "        dataf_res.set_value('travel class: ' + str(cl) + ' - sex: ' + str(s) + ' - ' + tab_survived[tmp.index[0]], tmp.values[0])\n",
    "        dataf_res.set_value('travel class: ' + str(cl) + ' - sex: ' + str(s) + ' - ' + tab_survived[tmp.index[1]], tmp.values[1])\n",
    "\n",
    "dataf_res.plot(kind='bar')"
   ]
  },
  {
   "cell_type": "markdown",
   "metadata": {},
   "source": [
    "## Question 6"
   ]
  },
  {
   "cell_type": "code",
   "execution_count": null,
   "metadata": {},
   "outputs": [],
   "source": [
    "dataf6 = dataf.copy()\n",
    "dataf6.age=pd.qcut(dataf6.age, 2).dropna()\n",
    "\n",
    "dataf6.rename(columns={'age':'grouped_age'}, inplace=True)\n",
    "\n",
    "grouped_index = dataf6.groupby([dataf6.grouped_age, dataf6.pclass, dataf6.sex])\n",
    "final_data_frame = grouped_index.survived.value_counts().unstack('survived')\n",
    "\n",
    "final_data_frame.columns = ['dead','survived']\n",
    "final_data_frame\n"
   ]
  },
  {
   "cell_type": "code",
   "execution_count": null,
   "metadata": {
    "collapsed": true
   },
   "outputs": [],
   "source": []
  }
 ],
 "metadata": {
  "kernelspec": {
   "display_name": "Python 3",
   "language": "python",
   "name": "python3"
  },
  "language_info": {
   "codemirror_mode": {
    "name": "ipython",
    "version": 3
   },
   "file_extension": ".py",
   "mimetype": "text/x-python",
   "name": "python",
   "nbconvert_exporter": "python",
   "pygments_lexer": "ipython3",
   "version": "3.6.1"
  }
 },
 "nbformat": 4,
 "nbformat_minor": 2
}
