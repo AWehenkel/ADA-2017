{
 "cells": [
  {
   "cell_type": "markdown",
   "metadata": {},
   "source": [
    "# Table of Contents\n",
    " <p><div class=\"lev1\"><a href=\"#Task-1.-Compiling-Ebola-Data\"><span class=\"toc-item-num\">Task 1.&nbsp;&nbsp;</span>Compiling Ebola Data</a></div>\n",
    " <div class=\"lev1\"><a href=\"#Task-2.-RNA-Sequences\"><span class=\"toc-item-num\">Task 2.&nbsp;&nbsp;</span>RNA Sequences</a></div>\n",
    " <div class=\"lev1\"><a href=\"#Task-3.-Class-War-in-Titanic\"><span class=\"toc-item-num\">Task 3.&nbsp;&nbsp;</span>Class War in Titanic</a></div></p>"
   ]
  },
  {
   "cell_type": "code",
   "execution_count": 18,
   "metadata": {},
   "outputs": [],
   "source": [
    "DATA_FOLDER = 'Data/' # Use the data folder provided in Tutorial 02 - Intro to Pandas."
   ]
  },
  {
   "cell_type": "markdown",
   "metadata": {},
   "source": [
    "## Task 1. Compiling Ebola Data\n",
    "\n",
    "The `DATA_FOLDER/ebola` folder contains summarized reports of Ebola cases from three countries (Guinea, Liberia and Sierra Leone) during the recent outbreak of the disease in West Africa. For each country, there are daily reports that contain various information about the outbreak in several cities in each country.\n",
    "\n",
    "Use pandas to import these data files into a single `Dataframe`.\n",
    "Using this `DataFrame`, calculate for *each country*, the *daily average* per month of *new cases* and *deaths*.\n",
    "Make sure you handle all the different expressions for *new cases* and *deaths* that are used in the reports."
   ]
  },
  {
   "cell_type": "markdown",
   "metadata": {},
   "source": [
    "Import useful libraries."
   ]
  },
  {
   "cell_type": "code",
   "execution_count": 19,
   "metadata": {},
   "outputs": [],
   "source": [
    "import pandas as pd\n",
    "import numpy as np\n",
    "from os import listdir\n",
    "from os.path import isfile, join\n",
    "from datetime import datetime\n"
   ]
  },
  {
   "cell_type": "markdown",
   "metadata": {},
   "source": [
    "After having taken a careful look to the data, we notice that there isn't a report for each day in the 3 datasets. We also notice that each file contains cumulative value of the new cases/deaths. We will thus extrapolate the average new values per day in one month with these cumulative values; indeed, if we know the total number $x_d$ of deaths at day d and the total number of death $x_{d + n}$ at day d + n we know that there were in average $\\frac{x_{d + n} - x_d}{n}$ new deaths per day during this period. Therefore, by evaluating the number of deaths at the first day of the month and the total number of deaths at the end of the month, to evaluate these two values we will use a linear regression between the two reports closest to the beginning of the month and the same for the end of the month (FIXME).\n",
    "\n",
    "So first let's import the data into one data frame. We will then hot one encode the different categories of values observed (FIXME). After that we will aggregate the data on country and day. We will finally drop the columns not concerned by cumulative values for deaths and new cases. After that we will check that each row of the data has a non null value for the two cumulative values; if that is the case, this means that we haven't missed any category of interest. We will finally plot the data to search for unconsistent values. Finally we will apply the developpment explained above to compute the average value for each month."
   ]
  },
  {
   "cell_type": "markdown",
   "metadata": {},
   "source": [
    "Load the data in one dataframe. During this phase we reorganise the data and remove the samples having an unknown or 0 value for the observed data. Indeed, a zero value won't have any influence on our value of interest which is an average value."
   ]
  },
  {
   "cell_type": "code",
   "execution_count": 20,
   "metadata": {},
   "outputs": [
    {
     "name": "stdout",
     "output_type": "stream",
     "text": [
      "Loading data from guinea\n",
      "Loading data from liberia\n",
      "Loading data from sl\n",
      "24\n",
      "[['Description', 'Totals', 'Conakry', 'Gueckedou', 'Macenta', 'Dabola', 'Kissidougou', 'Dinguiraye', 'Telimele', 'Boffa', 'Kouroussa', 'Dubreka', 'Siguiri', 'Pita', 'Nzerekore'], ['Description', 'Totals', 'Conakry', 'Gueckedou', 'Macenta', 'Dabola', 'Kissidougou', 'Dinguiraye', 'Telimele', 'Boffa', 'Kouroussa', 'Siguiri', 'Pita', 'Mzerekore', 'Yomou', 'Dubreka', 'Forecariah', 'Kerouane', 'Coyah', 'Dalaba', 'Beyla', 'Kindia', 'Lola'], ['Description', 'Totals', 'Conakry', 'Gueckedou', 'Macenta', 'Dabola', 'Kissidougou', 'Dinguiraye', 'Telimele', 'Boffa', 'Kouroussa', 'Siguiri', 'Pita', 'Nzerekore', 'Yomou', 'Dubreka', 'Forecariah', 'Kerouane', 'Coyah', 'Dalaba', 'Beyla', 'Kindia', 'Lola'], ['Description', 'Totals', 'Conakry', 'Gueckedou', 'Macenta', 'Dabola', 'Kissidougou', 'Dinguiraye', 'Telimele', 'Boffa', 'Kouroussa', 'Siguiri', 'Pita', 'Nzerekore', 'Yomou', 'Dubreka', 'Forecariah', 'Kerouane', 'Coyah', 'Dalaba'], ['Variable', 'National', 'Bomi County', 'Bong County', 'Grand Kru', 'Lofa County', 'Margibi County', 'Maryland County', 'Montserrado County', 'Nimba County', 'River Gee County', 'RiverCess County', 'Sinoe County'], ['Variable', 'National', 'Bomi County', 'Bong County', 'Gbarpolu County', 'Grand Bassa', 'Grand Cape Mount', 'Grand Gedeh', 'Lofa County', 'Margibi County', 'Maryland County', 'Montserrado County', 'Nimba County'], ['Variable', 'National', 'Bomi County', 'Bong County', 'Gbarpolu County', 'Grand Bassa', 'Grand Cape Mount', 'Grand Gedeh', 'Lofa County', 'Margibi County', 'Maryland County', 'Montserrado County', 'Nimba County', 'RiverCess County'], ['Variable', 'National', 'Bomi County', 'Bong County', 'Gbarpolu County', 'Grand Bassa', 'Grand Cape Mount', 'Grand Gedeh', 'Grand Kru', 'Lofa County', 'Margibi County', 'Maryland County', 'Montserrado County', 'Nimba County', 'RiverCess County'], ['Variable', 'National', 'Bomi County', 'Bong County', 'Grand Bassa', 'Grand Cape Mount', 'Grand Gedeh', 'Lofa County', 'Margibi County', 'Montserrado County', 'Nimba County', 'River Gee County', 'RiverCess County', 'Sinoe County'], ['Variable', 'National', 'Bomi County', 'Bong County', 'Grand Bassa', 'Grand Cape Mount', 'Grand Gedeh', 'Lofa County', 'Margibi County', 'Montserrado County', 'Nimba County', 'RiverCess County'], ['Variable', 'National', 'Bomi County', 'Bong County', 'Grand Bassa', 'Grand Cape Mount', 'Grand Gedeh', 'Lofa County', 'Margibi County', 'Montserrado County', 'Nimba County', 'RiverCess County', 'Sinoe County'], ['Variable', 'National', 'Bomi County', 'Bong County', 'Gbarpolu County', 'Grand Bassa', 'Grand Cape Mount', 'Grand Gedeh', 'Lofa County', 'Margibi County', 'Montserrado County', 'Nimba County', 'River Gee County', 'RiverCess County', 'Sinoe County'], ['Variable', 'National', 'Bomi County', 'Bong County', 'Gbarpolu County', 'Grand Bassa', 'Grand Cape Mount', 'Grand Gedeh', 'Lofa County', 'Margibi County', 'Maryland County', 'Montserrado County', 'Nimba County', 'River Gee County', 'RiverCess County', 'Sinoe County'], ['Variable', 'National', 'Bomi County', 'Bong County', 'Gbarpolu County', 'Grand Bassa', 'Grand Cape Mount', 'Grand Gedeh', 'Grand Kru', 'Lofa County', 'Margibi County', 'Maryland County', 'Montserrado County', 'Nimba County', 'River Gee County', 'RiverCess County', 'Sinoe County'], ['Variable', 'National', 'Bomi County', 'Bong County', 'Gbarpolu County', 'Grand Bassa', 'Grand Cape Mount', 'Grand Gedeh', 'Grand Kru', 'Lofa County', 'Margibi County', 'Maryland County', 'Montserrado County', 'Nimba County', 'River Gee County', 'RiverCess County', 'Sinoe County', 'Unnamed: 18'], ['variable', 'Kailahun', 'Kenema', 'Kono', 'Kambia', 'Koinadugu', 'Bombali', 'Tonkolili', 'Port Loko', 'Pujehun', 'Bo', 'Moyamba', 'Bonthe', 'Western area urban', 'Western area rural', 'National'], ['variable', 'Kailahun', 'Kenema', 'Kono', 'Kambia', 'Koinadugu', 'Bombali', 'Tonkolili', 'Port Loko', 'Pujehun', 'Bo', 'Moyamba', 'Bonthe', 'Western area urban', 'Western area rural', 'National', 'Kenema (IFRC)'], ['variable', 'Kailahun', 'Kenema', 'Kono', 'Kambia', 'Koinadugu', 'Bombali', 'Tonkolili', 'Port Loko', 'Pujehun', 'Bo', 'Moyamba', 'Bonthe', 'Western area urban', 'Western area rural', 'National', 'Kenema (IFRC)', '34 Military Hospital', 'Police training School'], ['variable', 'Kailahun', 'Kenema', 'Kono', 'Kambia', 'Koinadugu', 'Bombali', 'Tonkolili', 'Port Loko', 'Pujehun', 'Bo', 'Moyamba', 'Bonthe', 'Western area urban', 'Western area rural', 'National', 'Kenema (IFRC)', '34 Military Hospital', 'Police traning School'], ['variable', 'Kailahun', 'Kenema', 'Kono', 'Kambia', 'Koinadugu', 'Bombali', 'Tonkolili', 'Port Loko', 'Pujehun', 'Bo', 'Moyamba', 'Bonthe', 'Western area urban', 'Western area rural', 'National', 'Kenema (IFRC)', '34 Military Hospital', 'Police training School', 'Bo EMC'], ['variable', 'Kailahun', 'Kenema', 'Kono', 'Kambia', 'Koinadugu', 'Bombali', 'Tonkolili', 'Port Loko', 'Pujehun', 'Bo', 'Moyamba', 'Bonthe', 'Western area urban', 'Western area rural', 'National', 'Western area'], ['variable', 'Kailahun', 'Kenema', 'Kono', 'Kambia', 'Koinadugu', 'Bombali', 'Tonkolili', 'Port Loko', 'Pujehun', 'Bo', 'Moyamba', 'Bonthe', 'Western area urban', 'Western area rural', 'National', 'Western area', 'Kenema (KGH)', 'Kenema (IFRC)', 'Hastings-F/Town'], ['variable', 'Kailahun', 'Kenema', 'Kono', 'Kambia', 'Koinadugu', 'Bombali', 'Tonkolili', 'Port Loko', 'Pujehun', 'Bo', 'Moyamba', 'Bonthe', 'Western area urban', 'Western area rural', 'National', 'Western area combined'], ['variable', 'Kailahun', 'Kenema', 'Kono', 'Kambia', 'Koinadugu', 'Bombali', 'Tonkolili', 'Port Loko', 'Pujehun', 'Bo', 'Moyamba', 'Bonthe', 'Western area urban', 'Western area rural', 'National', 'Western area combined', 'Unnamed: 18']]\n"
     ]
    }
   ],
   "source": [
    "folders = ['guinea', 'liberia', 'sl']\n",
    "folder_end = '_data/'\n",
    "folder_begin = 'ebola/'\n",
    "\n",
    "type_of_file = []\n",
    "name_of_file = []\n",
    "\n",
    "ebola_data = pd.DataFrame(columns=['country', 'town', 'date', 'description', 'number'])\n",
    "for folder in folders:\n",
    "    folder_path = DATA_FOLDER + folder_begin + folder + folder_end\n",
    "    print(\"Loading data from %s\" % folder)\n",
    "    for data_file in listdir(folder_path):\n",
    "        if isfile(join(folder_path, data_file)):\n",
    "            metas = data_file.replace('.', '-').split('-')\n",
    "            meta_date = datetime(int(metas[0]), int(metas[1]), int(metas[2]))\n",
    "            datas = pd.DataFrame.from_csv(folder_path + data_file)\n",
    "            towns = datas.columns[2:]\n",
    "            date = datas.index.name\n",
    "            description = datas.columns[0]\n",
    "            if not(list(datas.columns) in type_of_file):\n",
    "                type_of_file.append(list(datas.columns))\n",
    "                name_of_file.append(join(folder_path, data_file))\n",
    "            for town in towns:\n",
    "                town_data = datas[datas[town] != 0].reset_index().copy()\n",
    "                town_data['country'] = folder\n",
    "                town_data['town'] = town\n",
    "                town_data = town_data[['country', 'town', date, description, town]]\n",
    "                town_data.columns = ['country', 'town', 'date', 'description', 'number']\n",
    "                town_data = town_data[(town_data.number.isnull() == False) & (town_data.number != 0)]\n",
    "                ebola_data = pd.concat([ebola_data, town_data], axis=0)\n",
    "  \n",
    "print(len(type_of_file))\n",
    "print(type_of_file)\n",
    "ebola_data_hot_encoded = pd.get_dummies(ebola_data, columns=['description'])\n",
    "for description in ebola_data_hot_encoded.columns[4:]:\n",
    "    ebola_data_hot_encoded.loc[(ebola_data_hot_encoded[description] == 1), description] = ebola_data_hot_encoded[ebola_data_hot_encoded[description] == 1].number\n"
   ]
  },
  {
   "cell_type": "code",
   "execution_count": 21,
   "metadata": {},
   "outputs": [
    {
     "name": "stdout",
     "output_type": "stream",
     "text": [
      "Loading data from guinea\n"
     ]
    },
    {
     "ename": "AttributeError",
     "evalue": "type object 'datetime.datetime' has no attribute 'datetime'",
     "output_type": "error",
     "traceback": [
      "\u001b[1;31m---------------------------------------------------------------------------\u001b[0m",
      "\u001b[1;31mAttributeError\u001b[0m                            Traceback (most recent call last)",
      "\u001b[1;32m<ipython-input-21-1d52764a5bc9>\u001b[0m in \u001b[0;36m<module>\u001b[1;34m()\u001b[0m\n\u001b[0;32m     14\u001b[0m         \u001b[1;32mif\u001b[0m \u001b[0misfile\u001b[0m\u001b[1;33m(\u001b[0m\u001b[0mjoin\u001b[0m\u001b[1;33m(\u001b[0m\u001b[0mfolder_path\u001b[0m\u001b[1;33m,\u001b[0m \u001b[0mdata_file\u001b[0m\u001b[1;33m)\u001b[0m\u001b[1;33m)\u001b[0m\u001b[1;33m:\u001b[0m\u001b[1;33m\u001b[0m\u001b[0m\n\u001b[0;32m     15\u001b[0m             \u001b[0mmetas\u001b[0m \u001b[1;33m=\u001b[0m \u001b[0mdata_file\u001b[0m\u001b[1;33m.\u001b[0m\u001b[0mreplace\u001b[0m\u001b[1;33m(\u001b[0m\u001b[1;34m'.'\u001b[0m\u001b[1;33m,\u001b[0m \u001b[1;34m'-'\u001b[0m\u001b[1;33m)\u001b[0m\u001b[1;33m.\u001b[0m\u001b[0msplit\u001b[0m\u001b[1;33m(\u001b[0m\u001b[1;34m'-'\u001b[0m\u001b[1;33m)\u001b[0m\u001b[1;33m\u001b[0m\u001b[0m\n\u001b[1;32m---> 16\u001b[1;33m             \u001b[0mmeta_date\u001b[0m \u001b[1;33m=\u001b[0m \u001b[0mdatetime\u001b[0m\u001b[1;33m.\u001b[0m\u001b[0mdatetime\u001b[0m\u001b[1;33m(\u001b[0m\u001b[0mint\u001b[0m\u001b[1;33m(\u001b[0m\u001b[0mmetas\u001b[0m\u001b[1;33m[\u001b[0m\u001b[1;36m0\u001b[0m\u001b[1;33m]\u001b[0m\u001b[1;33m)\u001b[0m\u001b[1;33m,\u001b[0m \u001b[0mint\u001b[0m\u001b[1;33m(\u001b[0m\u001b[0mmetas\u001b[0m\u001b[1;33m[\u001b[0m\u001b[1;36m1\u001b[0m\u001b[1;33m]\u001b[0m\u001b[1;33m)\u001b[0m\u001b[1;33m,\u001b[0m \u001b[0mint\u001b[0m\u001b[1;33m(\u001b[0m\u001b[0mmetas\u001b[0m\u001b[1;33m[\u001b[0m\u001b[1;36m2\u001b[0m\u001b[1;33m]\u001b[0m\u001b[1;33m)\u001b[0m\u001b[1;33m)\u001b[0m\u001b[1;33m\u001b[0m\u001b[0m\n\u001b[0m\u001b[0;32m     17\u001b[0m             \u001b[0mdatas\u001b[0m \u001b[1;33m=\u001b[0m \u001b[0mpd\u001b[0m\u001b[1;33m.\u001b[0m\u001b[0mDataFrame\u001b[0m\u001b[1;33m.\u001b[0m\u001b[0mfrom_csv\u001b[0m\u001b[1;33m(\u001b[0m\u001b[0mfolder_path\u001b[0m \u001b[1;33m+\u001b[0m \u001b[0mdata_file\u001b[0m\u001b[1;33m)\u001b[0m\u001b[1;33m\u001b[0m\u001b[0m\n\u001b[0;32m     18\u001b[0m             \u001b[0mdatas\u001b[0m\u001b[1;33m.\u001b[0m\u001b[0mcolumns\u001b[0m \u001b[1;33m=\u001b[0m \u001b[1;33m[\u001b[0m\u001b[0mcol\u001b[0m\u001b[1;33m.\u001b[0m\u001b[0mlower\u001b[0m\u001b[1;33m(\u001b[0m\u001b[1;33m)\u001b[0m \u001b[1;32mfor\u001b[0m \u001b[0mcol\u001b[0m \u001b[1;32min\u001b[0m \u001b[0mdatas\u001b[0m\u001b[1;33m.\u001b[0m\u001b[0mcolumns\u001b[0m\u001b[1;33m]\u001b[0m\u001b[1;33m\u001b[0m\u001b[0m\n",
      "\u001b[1;31mAttributeError\u001b[0m: type object 'datetime.datetime' has no attribute 'datetime'"
     ]
    }
   ],
   "source": [
    "folders = ['guinea', 'liberia', 'sl']\n",
    "folder_end = '_data/'\n",
    "folder_begin = 'ebola/'\n",
    "\n",
    "type_of_file = []\n",
    "name_of_file = []\n",
    "counter = 0\n",
    "ebola_data = pd.DataFrame(columns=['country', 'date', 'description', 'number'])\n",
    "for folder in folders:\n",
    "    folder_path = DATA_FOLDER + folder_begin + folder + folder_end\n",
    "    print(\"Loading data from %s\" % folder)\n",
    "    for data_file in listdir(folder_path):\n",
    "        counter = counter + 1\n",
    "        if isfile(join(folder_path, data_file)):\n",
    "            metas = data_file.replace('.', '-').split('-')\n",
    "            meta_date = datetime.datetime(int(metas[0]), int(metas[1]), int(metas[2]))\n",
    "            datas = pd.DataFrame.from_csv(folder_path + data_file)\n",
    "            datas.columns = [col.lower() for col in datas.columns]\n",
    "            towns = list(datas.columns[1:])\n",
    "            date = datas.index.name\n",
    "            description = datas.columns[0]\n",
    "            if not(list(datas.columns) in type_of_file):\n",
    "                type_of_file.append(list(datas.columns))\n",
    "                name_of_file.append(join(folder_path, data_file))\n",
    "            \n",
    "            total_col_name = 'totals' if 'totals' in datas.columns else 'national'\n",
    "            towns.remove(total_col_name)\n",
    "            datas.fillna(0)\n",
    "            datas = datas.reset_index().copy()\n",
    "            datas['country'] = folder\n",
    "            datas = datas[~datas[total_col_name].astype(str).str.contains('%')]\n",
    "            old_data = datas.copy()\n",
    "            datas = datas[['country', date, description, total_col_name]]\n",
    "            datas.columns = ['country', 'date', 'description', 'number']\n",
    "            #datas = datas.dropna()\n",
    "            datas = datas.fillna(0)\n",
    "            datas = datas[~datas['number'].astype(str).str.contains('%')]\n",
    "            datas['number'] = datas['number'].astype(str).str.replace(',', '')\n",
    "            datas['number'] = datas['number'].astype(float).astype(int)\n",
    "            \n",
    "            #datas.loc[datas['number'] == 0, 'number'] = np.sum(old_data[datas['number'] == 0][towns], axis=1)\n",
    "\n",
    "            ebola_data = pd.concat([ebola_data, datas], axis=0)\n",
    "print(counter)\n",
    "print(len(type_of_file))\n",
    "ebola_data_hot_encoded = pd.get_dummies(ebola_data, columns=['description'])\n",
    "for description in ebola_data_hot_encoded.columns[3:]:\n",
    "    ebola_data_hot_encoded.loc[(ebola_data_hot_encoded[description] == 1), description] = ebola_data_hot_encoded[ebola_data_hot_encoded[description] == 1].number\n"
   ]
  },
  {
   "cell_type": "markdown",
   "metadata": {},
   "source": [
    "Computing the average values for the type of file used by Guinea. Indeed, for Guinea we are missing a lot of data and are therefore not able to use the daily report to compute the average number of new deaths/cases. Hence, instead of using the daily value, we use the cumulative value to compute an estimated value of the average number of new deaths/cases per day for each month."
   ]
  },
  {
   "cell_type": "code",
   "execution_count": null,
   "metadata": {},
   "outputs": [],
   "source": [
    "ebola_data_hot_encoded = ebola_data_hot_encoded.groupby(by=['country', 'date']).agg(np.max)\n"
   ]
  },
  {
   "cell_type": "code",
   "execution_count": null,
   "metadata": {},
   "outputs": [],
   "source": [
    "import datetime\n",
    "\n",
    "data_ebola = ebola_data_hot_encoded.copy()\n",
    "data_guinea = data_ebola.iloc[data_ebola.index.get_level_values('country') == 'guinea']\n",
    "for col in data_guinea.columns:\n",
    "    #print(col)\n",
    "    if 'Cumulative' in col:\n",
    "        print(col)\n",
    "data_guinea.reset_index(level=1, inplace=True)\n",
    "#data_guinea.reset_index()\n",
    "#print(data_guinea.head())\n",
    "min_day = 35\n",
    "min_value = 0\n",
    "max_day = 0\n",
    "max_value = 0\n",
    "month = 8\n",
    "for val in data_guinea[['date', 'description_Cumulative (confirmed + probable + suspects)']].values:\n",
    "    date = val[0]\n",
    "    if month == date.month:\n",
    "        if min_day > date.day:\n",
    "            min_day = date.day\n",
    "            min_value = val[1]\n",
    "        if max_day < date.day:\n",
    "            max_day = date.day\n",
    "            max_value = val[1]\n",
    "    else:\n",
    "        print('Average value of new case per day for month %d is %f' % (month, float(max_value - min_value)/float(max_day - min_day)))\n",
    "        month = date.month\n",
    "        min_day = date.day\n",
    "        min_value = val[1]\n",
    "        max_day = 0\n",
    "        max_value = 0\n",
    "#print(data_guinea['description_Total deaths (confirmed + probables + suspects)'])"
   ]
  },
  {
   "cell_type": "markdown",
   "metadata": {},
   "source": [
    "Now we're trying to extract only the columns which are relevant to compute the average number of new cases and of new deaths. To do that, we search for the words 'new' and 'cases' to conclude that it is related to the number of new cases and for the words 'new' and 'deaths' to conclude that it is related to the number of new deaths. We also keep track of the other columns containing the word 'new' which could be relevant to compute new cases. We then look at the different column names which are extracted. \n",
    "\n",
    "We see here that there are some ambiguous columns which could be problematic. First we will look at a file containing the column 'description_total new cases registered so far' to see what this exactly means; indeed, if we use this column we should be careful that it is probably a cumulative value. This value could be used to compute the average number per year but if we can drop it out and replace it by daily count of new cases we will do it so that the type of data is more uniform. \n",
    "\n",
    "The second interesting column is 'description_new cases of confirmed among health workers'. We will also take a look at a file containing this value in order to see if the value is not already taken into account in another column. \n",
    "The same comment can be done for the columns 'description_newly reported cases in hcw', 'description_newly reported deaths in hcw', 'description_newly reported deaths in hcw'.\n",
    "\n",
    "The column 'description_new_noncase' should also probably be removed.\n",
    "\n",
    "Finally in the columns containing only the word 'new' we see some which could correspond to new cases: description_new_confirmed\n",
    "description_new_positive\n",
    "description_new_probable\n",
    "description_new_suspected\n",
    "For each of these columns we will look at the corresponding file to see if the column must be added in the list of new deaths/cases columns.\n",
    "\n",
    "\n",
    "In the data we also notice some percentage value: These are there to tell which percentage of the population has been seen (sampled / screened FIXME). We assume this value can be neglected for our analysis, as this is a survey on the evolution of Ebola we can suppose that almost all the deaths and new cases of ebola are registered in the file even if the whole population has not been seen."
   ]
  },
  {
   "cell_type": "code",
   "execution_count": null,
   "metadata": {},
   "outputs": [],
   "source": [
    "ebola_data_hot_encoded.columns = [col.lower().replace('\\n', '') for col in ebola_data_hot_encoded.columns]\n",
    "\n",
    "cumulative_deaths = ['description_total death/s in confirmed,  probable, suspected cases',  \n",
    "                     'description_total death/s in confirmed, probable, suspected cases',\n",
    "                    'description_total deaths (confirmed + probables + suspects)','cum_death_tmp']\n",
    "\n",
    "death_to_agg = ['description_death_suspected', 'description_death_probable', 'description_death_confirmed']\n",
    "ebola_data_hot_encoded['cum_death_tmp'] = np.sum(ebola_data_hot_encoded[death_to_agg].values, axis=1)\n",
    "\n",
    "cumulative_cases = ['description_cumulative confirmed, probable and suspected cases', \n",
    "                    'description_cumulative (confirmed + probable + suspects)', 'cum_cases_tmp1', 'cum_cases_tmp2']\n",
    "\n",
    "death_to_agg = ['description_total suspected cases', 'description_total probable cases', 'description_total confirmed cases']\n",
    "ebola_data_hot_encoded['cum_cases_tmp1'] = np.sum(ebola_data_hot_encoded[death_to_agg].values, axis=1)\n",
    "\n",
    "death_to_agg = ['description_cum_confirmed', 'description_cum_probable', 'description_cum_suspected']\n",
    "ebola_data_hot_encoded['cum_cases_tmp2'] = np.sum(ebola_data_hot_encoded[death_to_agg].values, axis=1)\n",
    "\n",
    "ebola_data_hot_encoded.columns = [col.lower().replace('\\n', '') for col in ebola_data_hot_encoded.columns]\n",
    "ebola_data_hot_encoded['cum_cases'] = np.max(ebola_data_hot_encoded[cumulative_cases].values, axis=1)\n",
    "print(len(ebola_data_hot_encoded[ebola_data_hot_encoded['cum_cases'] == 0]))\n",
    "print(ebola_data_hot_encoded[ebola_data_hot_encoded['cum_cases'] == 0]['cum_cases'])\n",
    "ebola_data_hot_encoded['cum_deaths'] = np.max(ebola_data_hot_encoded[cumulative_deaths].values, axis=1)\n",
    "print(len(ebola_data_hot_encoded[ebola_data_hot_encoded['cum_deaths'] == 0]))\n",
    "print(ebola_data_hot_encoded[ebola_data_hot_encoded['cum_deaths'] == 0]['cum_deaths'])\n"
   ]
  },
  {
   "cell_type": "markdown",
   "metadata": {},
   "source": [
    "We still have problems in some values for Sierra Leon and Liberia, however as we only use extreme points to estimate the averages per day we can simply drop these data without any impact on our final result."
   ]
  },
  {
   "cell_type": "code",
   "execution_count": null,
   "metadata": {},
   "outputs": [],
   "source": [
    "ebola_data_hot_encoded = ebola_data_hot_encoded[(ebola_data_hot_encoded['cum_deaths'] != 0) & \n",
    "                                                (ebola_data_hot_encoded['cum_cases'] != 0)]"
   ]
  },
  {
   "cell_type": "markdown",
   "metadata": {},
   "source": [
    "Now we plot the evaluation of the cumulative values over the time in the 3 countries."
   ]
  },
  {
   "cell_type": "code",
   "execution_count": null,
   "metadata": {},
   "outputs": [],
   "source": [
    "import matplotlib\n",
    "import matplotlib.pyplot as plt\n",
    "\n",
    "for folder in folders:\n",
    "    print(folder)\n",
    "    data = ebola_data_hot_encoded.iloc[ebola_data_hot_encoded.index.get_level_values('country') == folder]\n",
    "\n",
    "    dates = matplotlib.dates.date2num(list(data.index.get_level_values('date')))\n",
    "    plt.plot_date(dates, data['cum_deaths'])\n",
    "    plt.show()\n",
    "    plt.plot_date(dates, data['cum_cases'])\n",
    "    plt.show()\n"
   ]
  },
  {
   "cell_type": "code",
   "execution_count": null,
   "metadata": {},
   "outputs": [],
   "source": [
    "#print(ebola_data.head())\n",
    "#print(ebola_data_hot_encoded.head())\n",
    "ebola_data_hot_encoded.columns = [col.lower().replace('\\n', '') for col in ebola_data_hot_encoded.columns]\n",
    "new_cases_col = []\n",
    "new_deaths_col = []\n",
    "irrelevant_col = []\n",
    "relevant_col = []\n",
    "for col in ebola_data_hot_encoded.columns:\n",
    "    if ('new' in col) or ('death' in col) or ('case' in col):\n",
    "        relevant_col.append(col)\n",
    "        if 'death' in col:\n",
    "            new_deaths_col.append(col)\n",
    "        elif 'case' in col:\n",
    "            new_cases_col.append(col)\n",
    "    else:\n",
    "        irrelevant_col.append(col)\n",
    "\n",
    "print('cases:')\n",
    "[print('\\t%s' % col) for col in new_cases_col]\n",
    "print('deaths:')\n",
    "[print('\\t%s' % col) for col in new_deaths_col]\n",
    "print('Relevant:')\n",
    "[print('\\t%s' % col) for col in relevant_col]\n",
    "print('Other:')\n",
    "[print('\\t%s' % col) for col in irrelevant_col]\n",
    "''\n",
    "cumulative_deaths = ['description_total death/s in confirmed,  probable, suspected cases',  \n",
    "                     'description_total death/s in confirmed,  probable, suspected cases',\n",
    "                     'description_total death/s in confirmed, probable, suspected cases',\n",
    "                    'description_total deaths (confirmed + probables + suspects)', 'description_etc_cum_deaths']\n",
    "cumulative_cases = ['description_cumulative confirmed, probable and suspected cases', \n",
    "                    'description_cumulative confirmed, probable and suspected cases',\n",
    "                    'description_cumulative (confirmed + probable + suspects)', \n",
    "                    'description_cumulative (confirmed + probable + suspected)', 'description_total suspected cases', \n",
    "                   'description_total probable cases', 'description_total confirmed cases']"
   ]
  },
  {
   "cell_type": "markdown",
   "metadata": {},
   "source": [
    "Now we look at file containing these numbers.\n",
    "We notice that the column 'description_total new cases registered so far' is just the sum of the columns new cases of suspects/probables/confirmed but is not a cumulative value over time. We could therefore use this column instead of the 3 columns new cases of suspects/probables/confirmed.\n",
    "\n",
    "For the values of 'description_newly reported cases/deaths in hcw', we see that they seem to be always much smaller than the values of new cases/deaths and we thus suppose that we can neglect them whether they are already contained in the count of the new cases/deaths or not. However, we will check at the end that it is true that these values can be neglected, if not we won't be able to give a precise answer for the Liberia and in a real case we should ask the dataset creator to explain the exact meaning of the 'newly reported cases/deaths in hcw' values.\n",
    "\n",
    "Finally we notice that the columns 'description_new_confirmed', 'description_new_probable' and 'description_new_suspected' are significant to count the number of new cases in the Sierra Leon files. We also notice that the column '', 'description_new_death', 'description_new_probable' and 'description_new_suspected' (FIXME). During this phase we also notice that the value of 'description_etc_new_deaths' was very often equal to 0. However, since it was given in the FAQ that the other value of death was cumulative, we will as a first step use this value and not the other one. We will further check that the cumulative value give the same answer.\n",
    "\n",
    "We then construct our final new_deaths_col and new_cases_col vectors."
   ]
  },
  {
   "cell_type": "code",
   "execution_count": null,
   "metadata": {},
   "outputs": [],
   "source": [
    "column_to_look_at = ['description_total new cases registered so far', 'description_newly reported cases in hcw', \n",
    "                     'description_newly reported deaths in hcw',\n",
    "                    'description_new_confirmed', 'description_new_positive', 'description_new_probable',\n",
    "                     'description_new_suspected']\n",
    "for col in column_to_look_at:\n",
    "    print(col)\n",
    "    print(ebola_data_hot_encoded[ebola_data_hot_encoded[col] != 0][ebola_data_hot_encoded.columns[:2]].head())\n",
    "    \n",
    "new_cases_col.remove('description_new_noncase')\n",
    "for col in column_to_look_at[:3]:\n",
    "    if 'case' in col:\n",
    "        new_cases_col.remove(col)\n",
    "    else:\n",
    "        new_deaths_col.remove(col)\n",
    "print(new_cases_col)\n",
    "new_cases_col.extend(['description_new_confirmed', 'description_new_probable', 'description_new_suspected'])"
   ]
  },
  {
   "cell_type": "markdown",
   "metadata": {},
   "source": [
    "Now we will aggregate the values of new cases and of new deaths and will also remove the columns not relevant for deaths and cases."
   ]
  },
  {
   "cell_type": "code",
   "execution_count": null,
   "metadata": {},
   "outputs": [],
   "source": [
    "ebola_data_hot_encoded = ebola_data_hot_encoded[relevant_col]\n",
    "t = ebola_data_hot_encoded.copy()\n",
    "t['test'] = 1\n",
    "t['new_cases'] = np.sum(t[new_cases_col].values, axis=1)\n",
    "t['new_deaths'] = np.sum(t[new_deaths_col].values, axis=1)\n",
    "t = t[['new_cases', 'new_deaths']]\n",
    "print(t.head())\n",
    "#print(ebola_data_hot_encoded.head())"
   ]
  },
  {
   "cell_type": "markdown",
   "metadata": {},
   "source": [
    "Looking at the data obtained.\n",
    "Peut etre une bonne idée de mettre les descriptions en forme de columns et puis les aggregate. Une bonne idée serait aussi de à la base regarder le nombre de fichier différents on a(différents dans le sens que les colonnes sont différentes et peut etre aussi que les catégories sont diff) (FIXME)"
   ]
  },
  {
   "cell_type": "code",
   "execution_count": null,
   "metadata": {},
   "outputs": [],
   "source": [
    "print(ebola_data_hot_encoded.head())\n",
    "for country in ebola_data.country.unique():\n",
    "    country_descriptions = ebola_data[ebola_data.country == country].description.unique()\n",
    "    towns = ebola_data[ebola_data.country == country].town.unique()\n",
    "    print('%s: \\n%s\\n%s' % (country, str(country_descriptions), str(towns)))\n",
    "    for town in towns:\n",
    "        town_description_miss = set(country_descriptions) - set(ebola_data[(ebola_data.country == country) \n",
    "                                               & (ebola_data.town == town)].description.unique())\n",
    "        if len(town_description_miss) != 0:\n",
    "            print('%s: %s\\n' % (town, str(town_description_miss)))\n",
    "            "
   ]
  },
  {
   "cell_type": "markdown",
   "metadata": {},
   "source": [
    "We can see some weird values which we will inspect. If they appear to be untrustable and don't have an impact too big on our value of interest we will remove them from the dataframe. Weird towns are: 'Unnamed: 18' in Liberia and ('Western area urban'\n",
    " 'Western area rural' 'National' 'Kenema (IFRC)' '34 Military Hospital'\n",
    " 'Police training School' 'Bo EMC' 'Western area' 'Kenema (KGH)'\n",
    " 'Hastings-F/Town' 'Western area combined'). We therefore look at the National value, if its the sum of the (FIXME)\n"
   ]
  },
  {
   "cell_type": "code",
   "execution_count": null,
   "metadata": {},
   "outputs": [],
   "source": [
    "# First consider the 'Unnamed: 18' town\n",
    "print(ebola_data[(ebola_data.country == 'liberia') & (ebola_data.town == 'Unnamed: 18')])"
   ]
  },
  {
   "cell_type": "markdown",
   "metadata": {},
   "source": [
    "Only one value is not a NaN, so this \"town\" does not seem very trustworthy. Moreover, the only value is probably negligeable over the statistics of the whole country(we will check that). So let's remove this town and evaluate the next weird value."
   ]
  },
  {
   "cell_type": "code",
   "execution_count": null,
   "metadata": {},
   "outputs": [],
   "source": [
    "print(ebola_data_hot_encoded.columns)\n",
    "ebola_data_hot_encoded.columns = [col.lower() for col in ebola_data_hot_encoded.columns]"
   ]
  },
  {
   "cell_type": "code",
   "execution_count": null,
   "metadata": {},
   "outputs": [],
   "source": [
    "a = [(('death' in col) & ('new' in col)) for col in ebola_data_hot_encoded.columns]\n",
    "print(a)\n",
    "ebola_data_hot_encoded.columns[a]"
   ]
  },
  {
   "cell_type": "markdown",
   "metadata": {},
   "source": [
    "## Task 2. RNA Sequences\n",
    "\n",
    "In the `DATA_FOLDER/microbiome` subdirectory, there are 9 spreadsheets of microbiome data that was acquired from high-throughput RNA sequencing procedures, along with a 10<sup>th</sup> file that describes the content of each. \n",
    "\n",
    "Use pandas to import the first 9 spreadsheets into a single `DataFrame`.\n",
    "Then, add the metadata information from the 10<sup>th</sup> spreadsheet as columns in the combined `DataFrame`.\n",
    "Make sure that the final `DataFrame` has a unique index and all the `NaN` values have been replaced by the tag `unknown`."
   ]
  },
  {
   "cell_type": "code",
   "execution_count": null,
   "metadata": {},
   "outputs": [],
   "source": [
    "# Write your answer here\n",
    "datas = pd.DataFrame()\n",
    "\n",
    "for i in range(1, 10):\n",
    "    file_name = '%s/microbiome/MID%d.xls' % (DATA_FOLDER, i)\n",
    "    data = pd.read_excel(open(file_name,'rb'), header=None)\n",
    "    data.columns = ['Subject', 'Value']\n",
    "    data['BARCODE'] = 'MID%d' % i\n",
    "    datas = pd.concat([datas, data], axis=0)\n",
    "\n",
    "data = pd.read_excel(open('%s/microbiome/metadata.xls' % (DATA_FOLDER),'rb'))\n",
    "datas = datas.merge(data, how='left', on='BARCODE')\n",
    "datas = datas.fillna('unknown')\n",
    "datas.set_index(inplace=True, keys=['Subject', 'BARCODE'])\n",
    "\n",
    "print(datas.sample(frac=1).head())\n"
   ]
  },
  {
   "cell_type": "markdown",
   "metadata": {},
   "source": [
    "## Task 3. Class War in Titanic\n",
    "\n",
    "Use pandas to import the data file `Data/titanic.xls`. It contains data on all the passengers that travelled on the Titanic."
   ]
  },
  {
   "cell_type": "code",
   "execution_count": 22,
   "metadata": {},
   "outputs": [],
   "source": [
    "%matplotlib inline\n",
    "import pandas as pd\n",
    "import numpy as np\n",
    "import matplotlib.pyplot as plt\n",
    "from IPython.core.display import HTML"
   ]
  },
  {
   "cell_type": "code",
   "execution_count": 23,
   "metadata": {},
   "outputs": [
    {
     "data": {
      "text/html": [
       "<hr><h2>Data frame:titanic3</h2>1309 observations and 14 variables, maximum # NAs:1188<hr>\n",
       "<TABLE BORDER>\n",
       "<tr><td>Name</td><td>Labels</td><td>Units</td><td>Levels</td><td>Storage</td><td>NAs</td></tr>\n",
       "<tr><td>pclass</td><td></td><td></td><td><a href=\"#pclass\"><div align=right>  3</div></a></td><td>integer</td><td><div align=right>   0</div></td></tr>\n",
       "<tr><td>survived</td><td>Survived</td><td></td><td><div align=right></div></td><td>double</td><td><div align=right>   0</div></td></tr>\n",
       "<tr><td>name</td><td>Name</td><td></td><td><div align=right></div></td><td>character</td><td><div align=right>   0</div></td></tr>\n",
       "<tr><td>sex</td><td></td><td></td><td><a href=\"#sex\"><div align=right>  2</div></a></td><td>integer</td><td><div align=right>   0</div></td></tr>\n",
       "<tr><td>age</td><td>Age</td><td>Year</td><td><div align=right></div></td><td>double</td><td><div align=right> 263</div></td></tr>\n",
       "<tr><td>sibsp</td><td>Number of Siblings/Spouses Aboard</td><td></td><td><div align=right></div></td><td>double</td><td><div align=right>   0</div></td></tr>\n",
       "<tr><td>parch</td><td>Number of Parents/Children Aboard</td><td></td><td><div align=right></div></td><td>double</td><td><div align=right>   0</div></td></tr>\n",
       "<tr><td>ticket</td><td>Ticket Number</td><td></td><td><div align=right></div></td><td>character</td><td><div align=right>   0</div></td></tr>\n",
       "<tr><td>fare</td><td>Passenger Fare</td><td>British Pound (\\243)</td><td><div align=right></div></td><td>double</td><td><div align=right>   1</div></td></tr>\n",
       "<tr><td>cabin</td><td></td><td></td><td><a href=\"#cabin\"><div align=right>187</div></a></td><td>integer</td><td><div align=right>   0</div></td></tr>\n",
       "<tr><td>embarked</td><td></td><td></td><td><a href=\"#embarked\"><div align=right>  3</div></a></td><td>integer</td><td><div align=right>   2</div></td></tr>\n",
       "<tr><td>boat</td><td></td><td></td><td><a href=\"#boat\"><div align=right> 28</div></a></td><td>integer</td><td><div align=right>   0</div></td></tr>\n",
       "<tr><td>body</td><td>Body Identification Number</td><td></td><td><div align=right></div></td><td>double</td><td><div align=right>1188</div></td></tr>\n",
       "<tr><td>home.dest</td><td>Home/Destination</td><td></td><td><div align=right></div></td><td>character</td><td><div align=right>   0</div></td></tr>\n",
       "</TABLE>\n",
       "<hr>\n",
       "<TABLE BORDER>\n",
       "<tr><td>Variable</td><td>Levels</td></tr>\n",
       "<tr><td><a name=\"pclass\">pclass</a></td><td>1st</td></tr>\n",
       "<tr><td></td><td>2nd</td></tr>\n",
       "<tr><td></td><td>3rd</td></tr>\n",
       "<tr><td><a name=\"sex\">sex</a></td><td>female</td></tr>\n",
       "<tr><td></td><td>male</td></tr>\n",
       "<tr><td><a name=\"cabin\">cabin</a></td><td></td></tr>\n",
       "<tr><td></td><td>A10</td></tr>\n",
       "<tr><td></td><td>A11</td></tr>\n",
       "<tr><td></td><td>A14</td></tr>\n",
       "<tr><td></td><td>A16</td></tr>\n",
       "<tr><td></td><td>A18</td></tr>\n",
       "<tr><td></td><td>A19</td></tr>\n",
       "<tr><td></td><td>A20</td></tr>\n",
       "<tr><td></td><td>A21</td></tr>\n",
       "<tr><td></td><td>A23</td></tr>\n",
       "<tr><td></td><td>A24</td></tr>\n",
       "<tr><td></td><td>A26</td></tr>\n",
       "<tr><td></td><td>A29</td></tr>\n",
       "<tr><td></td><td>A31</td></tr>\n",
       "<tr><td></td><td>A32</td></tr>\n",
       "<tr><td></td><td>A34</td></tr>\n",
       "<tr><td></td><td>A36</td></tr>\n",
       "<tr><td></td><td>A5</td></tr>\n",
       "<tr><td></td><td>A6</td></tr>\n",
       "<tr><td></td><td>A7</td></tr>\n",
       "<tr><td></td><td>A9</td></tr>\n",
       "<tr><td></td><td>B10</td></tr>\n",
       "<tr><td></td><td>B101</td></tr>\n",
       "<tr><td></td><td>B102</td></tr>\n",
       "<tr><td></td><td>B11</td></tr>\n",
       "<tr><td></td><td>B18</td></tr>\n",
       "<tr><td></td><td>B19</td></tr>\n",
       "<tr><td></td><td>B20</td></tr>\n",
       "<tr><td></td><td>B22</td></tr>\n",
       "<tr><td></td><td>B24</td></tr>\n",
       "<tr><td></td><td>B26</td></tr>\n",
       "<tr><td></td><td>B28</td></tr>\n",
       "<tr><td></td><td>B3</td></tr>\n",
       "<tr><td></td><td>B30</td></tr>\n",
       "<tr><td></td><td>B35</td></tr>\n",
       "<tr><td></td><td>B36</td></tr>\n",
       "<tr><td></td><td>B37</td></tr>\n",
       "<tr><td></td><td>B38</td></tr>\n",
       "<tr><td></td><td>B39</td></tr>\n",
       "<tr><td></td><td>B4</td></tr>\n",
       "<tr><td></td><td>B41</td></tr>\n",
       "<tr><td></td><td>B42</td></tr>\n",
       "<tr><td></td><td>B45</td></tr>\n",
       "<tr><td></td><td>B49</td></tr>\n",
       "<tr><td></td><td>B5</td></tr>\n",
       "<tr><td></td><td>B50</td></tr>\n",
       "<tr><td></td><td>B51 B53 B55</td></tr>\n",
       "<tr><td></td><td>B52 B54 B56</td></tr>\n",
       "<tr><td></td><td>B57 B59 B63 B66</td></tr>\n",
       "<tr><td></td><td>B58 B60</td></tr>\n",
       "<tr><td></td><td>B61</td></tr>\n",
       "<tr><td></td><td>B69</td></tr>\n",
       "<tr><td></td><td>B71</td></tr>\n",
       "<tr><td></td><td>B73</td></tr>\n",
       "<tr><td></td><td>B77</td></tr>\n",
       "<tr><td></td><td>B78</td></tr>\n",
       "<tr><td></td><td>B79</td></tr>\n",
       "<tr><td></td><td>B80</td></tr>\n",
       "<tr><td></td><td>B82 B84</td></tr>\n",
       "<tr><td></td><td>B86</td></tr>\n",
       "<tr><td></td><td>B94</td></tr>\n",
       "<tr><td></td><td>B96 B98</td></tr>\n",
       "<tr><td></td><td>C101</td></tr>\n",
       "<tr><td></td><td>C103</td></tr>\n",
       "<tr><td></td><td>C104</td></tr>\n",
       "<tr><td></td><td>C105</td></tr>\n",
       "<tr><td></td><td>C106</td></tr>\n",
       "<tr><td></td><td>C110</td></tr>\n",
       "<tr><td></td><td>C111</td></tr>\n",
       "<tr><td></td><td>C116</td></tr>\n",
       "<tr><td></td><td>C118</td></tr>\n",
       "<tr><td></td><td>C123</td></tr>\n",
       "<tr><td></td><td>C124</td></tr>\n",
       "<tr><td></td><td>C125</td></tr>\n",
       "<tr><td></td><td>C126</td></tr>\n",
       "<tr><td></td><td>C128</td></tr>\n",
       "<tr><td></td><td>C130</td></tr>\n",
       "<tr><td></td><td>C132</td></tr>\n",
       "<tr><td></td><td>C148</td></tr>\n",
       "<tr><td></td><td>C2</td></tr>\n",
       "<tr><td></td><td>C22 C26</td></tr>\n",
       "<tr><td></td><td>C23 C25 C27</td></tr>\n",
       "<tr><td></td><td>C28</td></tr>\n",
       "<tr><td></td><td>C30</td></tr>\n",
       "<tr><td></td><td>C31</td></tr>\n",
       "<tr><td></td><td>C32</td></tr>\n",
       "<tr><td></td><td>C39</td></tr>\n",
       "<tr><td></td><td>C45</td></tr>\n",
       "<tr><td></td><td>C46</td></tr>\n",
       "<tr><td></td><td>C47</td></tr>\n",
       "<tr><td></td><td>C49</td></tr>\n",
       "<tr><td></td><td>C50</td></tr>\n",
       "<tr><td></td><td>C51</td></tr>\n",
       "<tr><td></td><td>C52</td></tr>\n",
       "<tr><td></td><td>C53</td></tr>\n",
       "<tr><td></td><td>C54</td></tr>\n",
       "<tr><td></td><td>C55 C57</td></tr>\n",
       "<tr><td></td><td>C6</td></tr>\n",
       "<tr><td></td><td>C62 C64</td></tr>\n",
       "<tr><td></td><td>C65</td></tr>\n",
       "<tr><td></td><td>C68</td></tr>\n",
       "<tr><td></td><td>C7</td></tr>\n",
       "<tr><td></td><td>C70</td></tr>\n",
       "<tr><td></td><td>C78</td></tr>\n",
       "<tr><td></td><td>C80</td></tr>\n",
       "<tr><td></td><td>C82</td></tr>\n",
       "<tr><td></td><td>C83</td></tr>\n",
       "<tr><td></td><td>C85</td></tr>\n",
       "<tr><td></td><td>C86</td></tr>\n",
       "<tr><td></td><td>C87</td></tr>\n",
       "<tr><td></td><td>C89</td></tr>\n",
       "<tr><td></td><td>C90</td></tr>\n",
       "<tr><td></td><td>C91</td></tr>\n",
       "<tr><td></td><td>C92</td></tr>\n",
       "<tr><td></td><td>C93</td></tr>\n",
       "<tr><td></td><td>C95</td></tr>\n",
       "<tr><td></td><td>C97</td></tr>\n",
       "<tr><td></td><td>C99</td></tr>\n",
       "<tr><td></td><td>D</td></tr>\n",
       "<tr><td></td><td>D10 D12</td></tr>\n",
       "<tr><td></td><td>D11</td></tr>\n",
       "<tr><td></td><td>D15</td></tr>\n",
       "<tr><td></td><td>D17</td></tr>\n",
       "<tr><td></td><td>D19</td></tr>\n",
       "<tr><td></td><td>D20</td></tr>\n",
       "<tr><td></td><td>D21</td></tr>\n",
       "<tr><td></td><td>D22</td></tr>\n",
       "<tr><td></td><td>D26</td></tr>\n",
       "<tr><td></td><td>D28</td></tr>\n",
       "<tr><td></td><td>D30</td></tr>\n",
       "<tr><td></td><td>D33</td></tr>\n",
       "<tr><td></td><td>D34</td></tr>\n",
       "<tr><td></td><td>D35</td></tr>\n",
       "<tr><td></td><td>D36</td></tr>\n",
       "<tr><td></td><td>D37</td></tr>\n",
       "<tr><td></td><td>D38</td></tr>\n",
       "<tr><td></td><td>D40</td></tr>\n",
       "<tr><td></td><td>D43</td></tr>\n",
       "<tr><td></td><td>D45</td></tr>\n",
       "<tr><td></td><td>D46</td></tr>\n",
       "<tr><td></td><td>D47</td></tr>\n",
       "<tr><td></td><td>D48</td></tr>\n",
       "<tr><td></td><td>D49</td></tr>\n",
       "<tr><td></td><td>D50</td></tr>\n",
       "<tr><td></td><td>D56</td></tr>\n",
       "<tr><td></td><td>D6</td></tr>\n",
       "<tr><td></td><td>D7</td></tr>\n",
       "<tr><td></td><td>D9</td></tr>\n",
       "<tr><td></td><td>E10</td></tr>\n",
       "<tr><td></td><td>E101</td></tr>\n",
       "<tr><td></td><td>E12</td></tr>\n",
       "<tr><td></td><td>E121</td></tr>\n",
       "<tr><td></td><td>E17</td></tr>\n",
       "<tr><td></td><td>E24</td></tr>\n",
       "<tr><td></td><td>E25</td></tr>\n",
       "<tr><td></td><td>E31</td></tr>\n",
       "<tr><td></td><td>E33</td></tr>\n",
       "<tr><td></td><td>E34</td></tr>\n",
       "<tr><td></td><td>E36</td></tr>\n",
       "<tr><td></td><td>E38</td></tr>\n",
       "<tr><td></td><td>E39 E41</td></tr>\n",
       "<tr><td></td><td>E40</td></tr>\n",
       "<tr><td></td><td>E44</td></tr>\n",
       "<tr><td></td><td>E45</td></tr>\n",
       "<tr><td></td><td>E46</td></tr>\n",
       "<tr><td></td><td>E49</td></tr>\n",
       "<tr><td></td><td>E50</td></tr>\n",
       "<tr><td></td><td>E52</td></tr>\n",
       "<tr><td></td><td>E58</td></tr>\n",
       "<tr><td></td><td>E60</td></tr>\n",
       "<tr><td></td><td>E63</td></tr>\n",
       "<tr><td></td><td>E67</td></tr>\n",
       "<tr><td></td><td>E68</td></tr>\n",
       "<tr><td></td><td>E77</td></tr>\n",
       "<tr><td></td><td>E8</td></tr>\n",
       "<tr><td></td><td>F</td></tr>\n",
       "<tr><td></td><td>F E46</td></tr>\n",
       "<tr><td></td><td>F E57</td></tr>\n",
       "<tr><td></td><td>F E69</td></tr>\n",
       "<tr><td></td><td>F G63</td></tr>\n",
       "<tr><td></td><td>F G73</td></tr>\n",
       "<tr><td></td><td>F2</td></tr>\n",
       "<tr><td></td><td>F33</td></tr>\n",
       "<tr><td></td><td>F38</td></tr>\n",
       "<tr><td></td><td>F4</td></tr>\n",
       "<tr><td></td><td>G6</td></tr>\n",
       "<tr><td></td><td>T</td></tr>\n",
       "<tr><td><a name=\"embarked\">embarked</a></td><td>Cherbourg</td></tr>\n",
       "<tr><td></td><td>Queenstown</td></tr>\n",
       "<tr><td></td><td>Southampton</td></tr>\n",
       "<tr><td><a name=\"boat\">boat</a></td><td></td></tr>\n",
       "<tr><td></td><td>1</td></tr>\n",
       "<tr><td></td><td>10</td></tr>\n",
       "<tr><td></td><td>11</td></tr>\n",
       "<tr><td></td><td>12</td></tr>\n",
       "<tr><td></td><td>13</td></tr>\n",
       "<tr><td></td><td>13 15</td></tr>\n",
       "<tr><td></td><td>13 15 B</td></tr>\n",
       "<tr><td></td><td>14</td></tr>\n",
       "<tr><td></td><td>15</td></tr>\n",
       "<tr><td></td><td>15 16</td></tr>\n",
       "<tr><td></td><td>16</td></tr>\n",
       "<tr><td></td><td>2</td></tr>\n",
       "<tr><td></td><td>3</td></tr>\n",
       "<tr><td></td><td>4</td></tr>\n",
       "<tr><td></td><td>5</td></tr>\n",
       "<tr><td></td><td>5 7</td></tr>\n",
       "<tr><td></td><td>5 9</td></tr>\n",
       "<tr><td></td><td>6</td></tr>\n",
       "<tr><td></td><td>7</td></tr>\n",
       "<tr><td></td><td>8</td></tr>\n",
       "<tr><td></td><td>8 10</td></tr>\n",
       "<tr><td></td><td>9</td></tr>\n",
       "<tr><td></td><td>A</td></tr>\n",
       "<tr><td></td><td>B</td></tr>\n",
       "<tr><td></td><td>C</td></tr>\n",
       "<tr><td></td><td>C D</td></tr>\n",
       "<tr><td></td><td>D</td></tr>\n",
       "</TABLE>\n",
       "<hr>\n"
      ],
      "text/plain": [
       "<IPython.core.display.HTML object>"
      ]
     },
     "execution_count": 23,
     "metadata": {},
     "output_type": "execute_result"
    }
   ],
   "source": [
    "HTML(filename=DATA_FOLDER+'/titanic.html')"
   ]
  },
  {
   "cell_type": "markdown",
   "metadata": {},
   "source": [
    "For each of the following questions state clearly your assumptions and discuss your findings:\n",
    "1. Describe the *type* and the *value range* of each attribute. Indicate and transform the attributes that can be `Categorical`. \n",
    "2. Plot histograms for the *travel class*, *embarkation port*, *sex* and *age* attributes. For the latter one, use *discrete decade intervals*. \n",
    "3. Calculate the proportion of passengers by *cabin floor*. Present your results in a *pie chart*.\n",
    "4. For each *travel class*, calculate the proportion of the passengers that survived. Present your results in *pie charts*.\n",
    "5. Calculate the proportion of the passengers that survived by *travel class* and *sex*. Present your results in *a single histogram*.\n",
    "6. Create 2 equally populated *age categories* and calculate survival proportions by *age category*, *travel class* and *sex*. Present your results in a `DataFrame` with unique index."
   ]
  },
  {
   "cell_type": "code",
   "execution_count": 74,
   "metadata": {},
   "outputs": [],
   "source": [
    "dataf = pd.read_excel('Data/titanic.xls')\n"
   ]
  },
  {
   "cell_type": "markdown",
   "metadata": {},
   "source": [
    "## Question 1\n",
    "\n",
    "The types of each column can easily be obtained using \"dataf.dtypes\" as shown in next cell.\n",
    "We then use the min and max functions on the Series to get the values range. This implies having to make a copy of the DataFrame, as we need to drop the NaN and to convert \"object\" columns to \"string\" columns (otherwise, the functions raise an exception)."
   ]
  },
  {
   "cell_type": "code",
   "execution_count": 75,
   "metadata": {
    "scrolled": true
   },
   "outputs": [
    {
     "name": "stdout",
     "output_type": "stream",
     "text": [
      "Column Name     Column Type     Column Min                          Column Max                         \n",
      "pclass          int64           1                                   3                                  \n",
      "survived        int64           0                                   1                                  \n",
      "name            object          Abbing, Mr. Anthony                 van Melkebeke, Mr. Philemon        \n",
      "sex             object          female                              male                               \n",
      "age             float64         0.1667                              80.0                               \n",
      "sibsp           int64           0                                   8                                  \n",
      "parch           int64           0                                   9                                  \n",
      "ticket          object          110152                              WE/P 5735                          \n",
      "fare            float64         0.0                                 512.3292                           \n",
      "cabin           object          A10                                 T                                  \n",
      "embarked        object          C                                   S                                  \n",
      "boat            object          1                                   D                                  \n",
      "body            float64         1.0                                 328.0                              \n",
      "home.dest       object          ?Havana, Cuba                       Zurich, Switzerland                \n"
     ]
    }
   ],
   "source": [
    "dataf_cp = dataf.copy()\n",
    "\n",
    "print('%-15s %-15s %-35s %-35s' % ('Column Name', 'Column Type', 'Column Min', 'Column Max'))\n",
    "for col in dataf_cp.columns:\n",
    "    tmp = dataf_cp[col].dropna()\n",
    "    if dataf_cp[col].dtypes == 'object':\n",
    "        tmp = tmp.astype(str)\n",
    "    print('%-15s %-15s %-35s %-35s' % (col, str(dataf_cp[col].dtypes), str(tmp.min()), str(tmp.max())))\n"
   ]
  },
  {
   "cell_type": "markdown",
   "metadata": {},
   "source": [
    "We can change in categorical every column that has a limited number of distinct values (i.e. columns that could be implemented with a dictionary), like: pclass, survived, sex, sibsp, parch, embarked, boat and home.dest."
   ]
  },
  {
   "cell_type": "code",
   "execution_count": 76,
   "metadata": {},
   "outputs": [],
   "source": [
    "to_categorical = ['pclass','survived', 'sex', 'sibsp', 'parch', 'embarked', 'boat', 'home.dest']\n",
    "for c in to_categorical:\n",
    "    dataf[c] = dataf[c].astype('category')"
   ]
  },
  {
   "cell_type": "markdown",
   "metadata": {},
   "source": [
    "## Question 2\n",
    "\n",
    "We use the 'bar' kind of plot, as it is better suited than the 'hist' type for frequencies (as we use value_counts()).\n",
    "We also use sort_index to have the values in the right order (where it is relevant, for pclass for example)."
   ]
  },
  {
   "cell_type": "code",
   "execution_count": 77,
   "metadata": {},
   "outputs": [
    {
     "data": {
      "text/plain": [
       "<matplotlib.axes._subplots.AxesSubplot at 0x1f95e94aa58>"
      ]
     },
     "execution_count": 77,
     "metadata": {},
     "output_type": "execute_result"
    },
    {
     "data": {
      "image/png": "[encoded data removed]",
      "text/plain": [
       "<matplotlib.figure.Figure at 0x1f95e94a1d0>"
      ]
     },
     "metadata": {},
     "output_type": "display_data"
    }
   ],
   "source": [
    "dataf.pclass.value_counts().sort_index().plot(kind='bar')"
   ]
  },
  {
   "cell_type": "code",
   "execution_count": 78,
   "metadata": {},
   "outputs": [
    {
     "data": {
      "text/plain": [
       "<matplotlib.axes._subplots.AxesSubplot at 0x1f95e9a1ef0>"
      ]
     },
     "execution_count": 78,
     "metadata": {},
     "output_type": "execute_result"
    },
    {
     "data": {
      "image/png": "[encoded data removed]",
      "text/plain": [
       "<matplotlib.figure.Figure at 0x1f95ceea940>"
      ]
     },
     "metadata": {},
     "output_type": "display_data"
    }
   ],
   "source": [
    "dataf.embarked.value_counts().plot(kind='bar')"
   ]
  },
  {
   "cell_type": "code",
   "execution_count": 79,
   "metadata": {},
   "outputs": [
    {
     "data": {
      "text/plain": [
       "<matplotlib.axes._subplots.AxesSubplot at 0x1f95e92b4a8>"
      ]
     },
     "execution_count": 79,
     "metadata": {},
     "output_type": "execute_result"
    },
    {
     "data": {
      "image/png": "[encoded data removed]",
      "text/plain": [
       "<matplotlib.figure.Figure at 0x1f95d013978>"
      ]
     },
     "metadata": {},
     "output_type": "display_data"
    }
   ],
   "source": [
    "dataf.sex.value_counts().plot(kind='bar')"
   ]
  },
  {
   "cell_type": "code",
   "execution_count": 80,
   "metadata": {},
   "outputs": [
    {
     "data": {
      "text/plain": [
       "<matplotlib.axes._subplots.AxesSubplot at 0x1f95d043048>"
      ]
     },
     "execution_count": 80,
     "metadata": {},
     "output_type": "execute_result"
    },
    {
     "data": {
      "image/png": "[encoded data removed]",
      "text/plain": [
       "<matplotlib.figure.Figure at 0x1f95ea5e0b8>"
      ]
     },
     "metadata": {},
     "output_type": "display_data"
    }
   ],
   "source": [
    "pd.cut(dataf.age, [x for x in range(0, int(dataf.age.max()) + 1, 10)]).value_counts().sort_index().plot(kind='bar')"
   ]
  },
  {
   "cell_type": "markdown",
   "metadata": {},
   "source": [
    "## Question 3"
   ]
  },
  {
   "cell_type": "markdown",
   "metadata": {},
   "source": [
    "As the datas are not clear for the cabin column, we arbitrarily picked the first letter of the first cabin that appears in the cell for the floor. For example, for a cabin with cell \"C22 D26\", we assign the cabin at floor C."
   ]
  },
  {
   "cell_type": "code",
   "execution_count": 81,
   "metadata": {},
   "outputs": [
    {
     "data": {
      "text/plain": [
       "<matplotlib.axes._subplots.AxesSubplot at 0x1f95ea6cdd8>"
      ]
     },
     "execution_count": 81,
     "metadata": {},
     "output_type": "execute_result"
    },
    {
     "data": {
      "image/png": "[encoded data removed]",
      "text/plain": [
       "<matplotlib.figure.Figure at 0x1f95ea57ac8>"
      ]
     },
     "metadata": {},
     "output_type": "display_data"
    }
   ],
   "source": [
    "floor = dataf.cabin.copy().dropna().apply(lambda x : x[0]).astype('category').rename('floor distribution')\n",
    "floor.value_counts().sort_index().plot(kind='pie', autopct='%1.1f%%', figsize=(10,10))"
   ]
  },
  {
   "cell_type": "markdown",
   "metadata": {},
   "source": [
    "## Question 4\n",
    "We simply use a groupBy on pclass, unstack 'survived', transpose and plot"
   ]
  },
  {
   "cell_type": "code",
   "execution_count": 82,
   "metadata": {},
   "outputs": [
    {
     "data": {
      "image/png": "[encoded data removed]",
      "text/plain": [
       "<matplotlib.figure.Figure at 0x1f95ec03da0>"
      ]
     },
     "metadata": {},
     "output_type": "display_data"
    }
   ],
   "source": [
    "\n",
    "fig, axes = plt.subplots(nrows=1, ncols=len(dataf.pclass.unique()))\n",
    "\n",
    "for cl in dataf.pclass.unique():\n",
    "    tmp = dataf[dataf.pclass == cl]\n",
    "    tmp.survived.rename('travel class ' + str(cl) + \" - number of passengers : \" + str(tmp.shape[0])).value_counts().sort_index().plot(kind='pie', \n",
    "                        ax=axes[cl-1], figsize=(18,6), autopct='%1.1f%%', labels=['died', 'survived'])\n",
    "    "
   ]
  },
  {
   "cell_type": "code",
   "execution_count": 93,
   "metadata": {},
   "outputs": [
    {
     "data": {
      "image/png": "[encoded data removed]",
      "text/plain": [
       "<matplotlib.figure.Figure at 0x1f9601a3d68>"
      ]
     },
     "metadata": {},
     "output_type": "display_data"
    }
   ],
   "source": [
    "tmp = dataf.groupby(dataf.pclass).survived\n",
    "ax=tmp.value_counts().unstack('survived').transpose().plot(kind='pie', subplots=True, figsize=(18,6), autopct='%1.1f%%', labels=[\"Died\",\"Survived\"])"
   ]
  },
  {
   "cell_type": "markdown",
   "metadata": {},
   "source": [
    "## Question 5\n",
    "We still use the groupBy function on pclass and sex this time, unstack 'survived' and plot using a barplot."
   ]
  },
  {
   "cell_type": "code",
   "execution_count": 84,
   "metadata": {},
   "outputs": [
    {
     "data": {
      "text/plain": [
       "<matplotlib.axes._subplots.AxesSubplot at 0x1f95f057cc0>"
      ]
     },
     "execution_count": 84,
     "metadata": {},
     "output_type": "execute_result"
    },
    {
     "data": {
      "image/png": "[encoded data removed]",
      "text/plain": [
       "<matplotlib.figure.Figure at 0x1f95efb1a90>"
      ]
     },
     "metadata": {},
     "output_type": "display_data"
    }
   ],
   "source": [
    "dataf_res = pd.Series()\n",
    "\n",
    "tab_survived = ['died', 'survived']\n",
    "\n",
    "for cl in dataf.pclass.unique():\n",
    "    for s in dataf.sex.unique():\n",
    "        tmp = dataf[(dataf.pclass == cl) & (dataf.sex == s)].survived.value_counts().sort_index()\n",
    "        dataf_res.set_value('travel class: ' + str(cl) + ' - sex: ' + str(s) + ' - ' + tab_survived[tmp.index[0]], tmp.values[0])\n",
    "        dataf_res.set_value('travel class: ' + str(cl) + ' - sex: ' + str(s) + ' - ' + tab_survived[tmp.index[1]], tmp.values[1])\n",
    "\n",
    "dataf_res.plot(kind='bar')"
   ]
  },
  {
   "cell_type": "code",
   "execution_count": 86,
   "metadata": {},
   "outputs": [
    {
     "data": {
      "text/plain": [
       "<matplotlib.legend.Legend at 0x1f958166860>"
      ]
     },
     "execution_count": 86,
     "metadata": {},
     "output_type": "execute_result"
    },
    {
     "data": {
      "image/png": "[encoded data removed]",
      "text/plain": [
       "<matplotlib.figure.Figure at 0x1f95eb0ea90>"
      ]
     },
     "metadata": {},
     "output_type": "display_data"
    }
   ],
   "source": [
    "tmp=dataf.groupby([dataf.pclass, dataf.sex]).survived\n",
    "ax=tmp.value_counts().unstack('survived').plot(kind='bar', legend=False)\n",
    "\n",
    "patches, labels = ax.get_legend_handles_labels()\n",
    "\n",
    "ax.legend(patches, ['Died','Survived'], loc='best')"
   ]
  },
  {
   "cell_type": "markdown",
   "metadata": {},
   "source": [
    "## Question 6\n",
    "We group by age, class and sex after having cut the age at the median. We then simply unstack 'survived' to create a DataFrame with three hierarchical indices and two columns."
   ]
  },
  {
   "cell_type": "code",
   "execution_count": 94,
   "metadata": {},
   "outputs": [
    {
     "data": {
      "text/html": [
       "<div>\n",
       "<style>\n",
       "    .dataframe thead tr:only-child th {\n",
       "        text-align: right;\n",
       "    }\n",
       "\n",
       "    .dataframe thead th {\n",
       "        text-align: left;\n",
       "    }\n",
       "\n",
       "    .dataframe tbody tr th {\n",
       "        vertical-align: top;\n",
       "    }\n",
       "</style>\n",
       "<table border=\"1\" class=\"dataframe\">\n",
       "  <thead>\n",
       "    <tr style=\"text-align: right;\">\n",
       "      <th></th>\n",
       "      <th></th>\n",
       "      <th></th>\n",
       "      <th>dead</th>\n",
       "      <th>survived</th>\n",
       "    </tr>\n",
       "    <tr>\n",
       "      <th>grouped_age</th>\n",
       "      <th>pclass</th>\n",
       "      <th>sex</th>\n",
       "      <th></th>\n",
       "      <th></th>\n",
       "    </tr>\n",
       "  </thead>\n",
       "  <tbody>\n",
       "    <tr>\n",
       "      <th rowspan=\"6\" valign=\"top\">(0.166, 28.0]</th>\n",
       "      <th rowspan=\"2\" valign=\"top\">1</th>\n",
       "      <th>female</th>\n",
       "      <td>2</td>\n",
       "      <td>39</td>\n",
       "    </tr>\n",
       "    <tr>\n",
       "      <th>male</th>\n",
       "      <td>15</td>\n",
       "      <td>17</td>\n",
       "    </tr>\n",
       "    <tr>\n",
       "      <th rowspan=\"2\" valign=\"top\">2</th>\n",
       "      <th>female</th>\n",
       "      <td>5</td>\n",
       "      <td>51</td>\n",
       "    </tr>\n",
       "    <tr>\n",
       "      <th>male</th>\n",
       "      <td>58</td>\n",
       "      <td>16</td>\n",
       "    </tr>\n",
       "    <tr>\n",
       "      <th rowspan=\"2\" valign=\"top\">3</th>\n",
       "      <th>female</th>\n",
       "      <td>53</td>\n",
       "      <td>56</td>\n",
       "    </tr>\n",
       "    <tr>\n",
       "      <th>male</th>\n",
       "      <td>183</td>\n",
       "      <td>41</td>\n",
       "    </tr>\n",
       "    <tr>\n",
       "      <th rowspan=\"6\" valign=\"top\">(28.0, 80.0]</th>\n",
       "      <th rowspan=\"2\" valign=\"top\">1</th>\n",
       "      <th>female</th>\n",
       "      <td>3</td>\n",
       "      <td>89</td>\n",
       "    </tr>\n",
       "    <tr>\n",
       "      <th>male</th>\n",
       "      <td>83</td>\n",
       "      <td>36</td>\n",
       "    </tr>\n",
       "    <tr>\n",
       "      <th rowspan=\"2\" valign=\"top\">2</th>\n",
       "      <th>female</th>\n",
       "      <td>6</td>\n",
       "      <td>41</td>\n",
       "    </tr>\n",
       "    <tr>\n",
       "      <th>male</th>\n",
       "      <td>77</td>\n",
       "      <td>7</td>\n",
       "    </tr>\n",
       "    <tr>\n",
       "      <th rowspan=\"2\" valign=\"top\">3</th>\n",
       "      <th>female</th>\n",
       "      <td>27</td>\n",
       "      <td>16</td>\n",
       "    </tr>\n",
       "    <tr>\n",
       "      <th>male</th>\n",
       "      <td>107</td>\n",
       "      <td>18</td>\n",
       "    </tr>\n",
       "  </tbody>\n",
       "</table>\n",
       "</div>"
      ],
      "text/plain": [
       "                             dead  survived\n",
       "grouped_age   pclass sex                   \n",
       "(0.166, 28.0] 1      female     2        39\n",
       "                     male      15        17\n",
       "              2      female     5        51\n",
       "                     male      58        16\n",
       "              3      female    53        56\n",
       "                     male     183        41\n",
       "(28.0, 80.0]  1      female     3        89\n",
       "                     male      83        36\n",
       "              2      female     6        41\n",
       "                     male      77         7\n",
       "              3      female    27        16\n",
       "                     male     107        18"
      ]
     },
     "execution_count": 94,
     "metadata": {},
     "output_type": "execute_result"
    }
   ],
   "source": [
    "dataf6 = dataf.copy()\n",
    "dataf6.age=pd.qcut(dataf6.age, 2).dropna()\n",
    "\n",
    "dataf6.rename(columns={'age':'grouped_age'}, inplace=True)\n",
    "\n",
    "grouped_index = dataf6.groupby([dataf6.grouped_age, dataf6.pclass, dataf6.sex])\n",
    "final_data_frame = grouped_index.survived.value_counts().unstack('survived')\n",
    "\n",
    "final_data_frame.columns = ['dead','survived']\n",
    "final_data_frame\n"
   ]
  },
  {
   "cell_type": "code",
   "execution_count": null,
   "metadata": {},
   "outputs": [],
   "source": []
  }
 ],
 "metadata": {
  "kernelspec": {
   "display_name": "Python [default]",
   "language": "python",
   "name": "python3"
  },
  "language_info": {
   "codemirror_mode": {
    "name": "ipython",
    "version": 3
   },
   "file_extension": ".py",
   "mimetype": "text/x-python",
   "name": "python",
   "nbconvert_exporter": "python",
   "pygments_lexer": "ipython3",
   "version": "3.6.2"
  }
 },
 "nbformat": 4,
 "nbformat_minor": 2
}
